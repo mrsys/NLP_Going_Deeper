{
 "cells": [
  {
   "cell_type": "markdown",
   "id": "hybrid-iraqi",
   "metadata": {},
   "source": [
    "# Going Deeper(NLP)"
   ]
  },
  {
   "cell_type": "markdown",
   "id": "appropriate-killing",
   "metadata": {},
   "source": [
    "# 5. Transformer로 번역기 만들기"
   ]
  },
  {
   "cell_type": "markdown",
   "id": "selective-locator",
   "metadata": {},
   "source": [
    "* Writer :송영석\n",
    "* Date : 2021.12.31"
   ]
  },
  {
   "cell_type": "markdown",
   "id": "separate-indian",
   "metadata": {},
   "source": [
    "## 목차\n",
    "    \n",
    "    Step 1. 서론\n",
    "        \n",
    "    Step 2. Bahdanau Attention 한-영 번역 모델\n",
    "        \n",
    "    Step 3. 데이터 분석     \n",
    "\n",
    "    Step 4. 데이터 전처리\n",
    "      \n",
    "    Step 5. 데이터 토큰화\n",
    "        1. Mecab을 이용한 토큰화\n",
    "        2. SentencePiece를 이용한 토큰화\n",
    "                \n",
    "    Step 6. Transformer 모델 생성\n",
    "    \n",
    "    Step 7. 모델 학습\n",
    "        1. Mecab 기반 모델\n",
    "        2. SentencePiece 기반 모델\n",
    "        \n",
    "    Step 8. 결론"
   ]
  },
  {
   "cell_type": "markdown",
   "id": "electoral-standard",
   "metadata": {},
   "source": [
    "<br><br>\n",
    "\n",
    "#### 초록\n",
    "***\n",
    "<span style=\"font-size:11pt; line-height:1.8;\">\n",
    "    &nbsp; &nbsp; Transformer를 이용하여 한국어-영어 번역 모델을 생성, 평가 하였다. 나아가, (1) Bahadanau Attention과 Transformer 모델의 번역 결과 비교와 (2) Mecab과 SentencePiece를 이용한 토큰화 기법에 따른 번역 결과를 비교 하였다. 데이터셋은 박정열(2017)이 제시한 한국어-영어 쌍 데이터셋을 이용하였으며, 데이터 분석을 통해 94,123개의 레코드로 구성 되어있으며, 15,155개의 중복데이터와 0개의 결측치가 있음을\n",
    "확인 하였다. 또한, 언어별 4분위에 해당하는 문장의 토큰 개수를 확인한 결과, 한국어의 경우에는 약 31개의 토큰으로 이루어져있으며, 영어의 경우에는 약 50개의 토큰으로 이루어져있다. 이를 바탕으로 '중복 데이터 제거', '언어별 문장길이 제한', '정규식을 이용한 문장 전처리' 순으로 데이터 전처리를 수행하였다. 이후 Mecab과 SentencePiece를 이용하여 각각 토큰화를 진행하였다. 두 모델의 공정한 평가를 위해 하이퍼파라미터를 동일하게 설정 하였다. 2층의 인코딩, 디코딩 레이어를 이용하였으며, 임베딩 사이즈는 256, 멀티 헤드의 개수는 8개로 설정 하였다. 또한 학습 옵티마이저는 Adam을 사용하며 배치 사이즈는 64로 설정하고 학습 회수는 10회 진행 하였다. 세 모델의 번역 결과를 확인한 결과, 「오바마는 대통령이다.」라는 문장을 입력하였을 때, Bahdanau Attention의 경우 「obama is a member of us.」로 올바르지 않게 번역이 이루어졌다. Transformer의 경우 「obama is the president.」로 번역이 올바르게 이루어졌다. 또한, Mecab의 경우 「나는 고양이다.」 문장을 「I'm cat.」으로 비교적 올바르게 번역 하였다. 반대로 「일곱 명의 사망자가 발생했다.」의 문장의 경우에는 Transformer에서 「seven of the seven deaths.」와 「seven seven seven deaths seven deaths」로 번역 되어, Bahdanau Attention의 「seven people were killed.」가 비교적 잘 번역된 것이라 볼 수 있다. 「오바마는 대통령이다.」 문장에 대한 각 모델의 Attention을 시각화 하였을 때, Bahdanau Attention의 경우 「오바마」와 「president」의 연관성이 높지 않게 출력되었다. 하지만 Transformer의 경우에는 Mecab과 SentencePiece 모두 연관성이 높게 출력되어 모델이 이를 잘 학습 되어진 것을 확인할 수 있었다.\n",
    "</span>\n",
    "\n",
    "***"
   ]
  },
  {
   "cell_type": "markdown",
   "id": "annual-trainer",
   "metadata": {},
   "source": [
    "<br>\n",
    "\n",
    "## 1. 서론\n",
    "***\n",
    "<span style=\"font-size:12pt; line-height:1.7; font-family:Serif;\">\n",
    "    &nbsp; &nbsp; 'aiffel_going_deeper' 저장소(Repository) 중 going_deeper 08에서는 Bahdanau Attention을 이용하여 한·영 번역 모델을 생성하고 이를 학습하는 예제를 진행하였습니다. 본 에제에서는 'going_deeper 08'의 연장선으로 트랜스포머 모델을 이용하여 동일한 데이터를 학습하고 앞선 Bahdanau Attention 모델의 번역 결과와 비교하여 성능 향상을 확인하고자 합니다.\n",
    "</span><br><br>\n",
    "\n",
    "<span style=\"font-size:12pt; line-height:1.7; font-family:Serif;\">\n",
    "    &nbsp; &nbsp; 나아가, 한-영 데이터의 토큰화 시, Mecab 형태소 분석기와 SentencePiece 모델을 사용하여 토크나이저에 따른 번역 결과의 차이도 살펴 봅니다. 따라서, 바다나우 어텐션 모델의 번역 결과를 베이스라인으로 사용하고 Mecab과 SentencePiece의 번역 결과를 확인 하고자 합니다. [표 1]은 비교 모델을 제시한 것입니다. 다음은 예제의 진행 순서를 제시한 것입니다.\n",
    "\n",
    "    \n",
    "|Index|Test Model|\n",
    "|:--------:|:--------:|\n",
    "|1|**Bahdanau Attention(Base Line)**|\n",
    "|2|**Transformer(Mecab)**|\n",
    "|3|**Transformer(SentencePiece)**|\n",
    "\n",
    "[표 1] 한-영 번역 모델 제시\n",
    "\n",
    "***"
   ]
  },
  {
   "cell_type": "markdown",
   "id": "third-pulse",
   "metadata": {},
   "source": [
    "#### ___예제 진행에 앞서...___\n",
    "***\n",
    "+ 예제에서 사용하는 한국어 형태소 분석기 Mecab을 이용하기 위해 미리 설치 하여 줍니다.\n",
    "\n",
    "> `$ sudo apt-get install g++ openjdk-8-jdk`   _#jdk 설치_\n",
    ">\n",
    "> `$ bash <(curl -s https://raw.githubusercontent.com/konlpy/konlpy/master/scripts/mecab.sh)`   #_curl을 이용한 Mecab 설치_\n",
    ">\n",
    "> `$ pip install konlpy`   #_konlpy 설치_\n",
    "***"
   ]
  },
  {
   "cell_type": "markdown",
   "id": "rough-somerset",
   "metadata": {},
   "source": [
    "<br>\n",
    "\n",
    "## 2. Bahdanau Attention 한-영 번역 모델\n",
    "***\n",
    "<span style=\"font-size:12pt; line-height:1.7; font-family:Serif;\">\n",
    "    &nbsp; &nbsp; <a href=\"https://nbviewer.org/github/YAGI0423/aiffel_going_deeper/blob/main/going_deeper_08/GD08_v3_1.ipynb\">[going_deeper 08]</a>에서는 Bahdanau Attention 한-영 번역 모델을 생성하여 번역 결과를 확인 하였습니다. Attention은 seq2seq의 장기의존성 문제를 해결하기 위해 제시된 것으로 다양한 Attention이 존재 하며, 해당 에제에서는 Bahdanau Attention을 이용하였습니다. 모델의 번역 결과를 확인한 결과 번역이 올바르지 않게 이루어 졌지만, 주어나 명사에 대해 올바르게 번역 되었습니다. 다음은 going_deeper 08의 초록과 [표 2]는 바다나우 어텐션 모델의 한국어-영어 번역 결과를 제시한 것입니다.\n",
    "</span>\n",
    "\n",
    "\n",
    "><b>초록</b><br>\n",
    "&nbsp; &nbsp; 바다나우 어텐션을 이용하여 한국어-영어 번역 모델을 생성하고 이를 평가 하였다. 데이터셋은 박정열(2017)이 제시한 한국어-영어 쌍으로 이루어진 데이터셋을 이용하였으며, 총94,123개의 레코드로 이루어져 있다. 분석 결과, 15,155개의 중복데이터가 존재하고 결측치는 존재하지 않았다. 한, 영 각 언어의 문장의 길이를 공백 기준으로 분석 하였다. 각 언어의 4분위에 해당하는 문장을 중심으로 한국어의 경우 약 31개의 토큰으로 이루어져 있으며, 영어의 경우 약 50개의 토큰으로 이루어져 있다. 데이터 전처리는 '중복 데이터 제거', '언어별 문장 길이 제한', '정규식을 이용한 문장 전처리', '문장 토큰화' 순으로 진행하여 최종 77,223개의 데이터를 모델 학습에 사용하였다. 모델의 경우 GRU 유닛 256개를 사용하였으며 임베딩 사이즈는 256으로 설정 하였다. 학습 옵티마이저는 Adam을 이용하고 배치 사이즈는 64, 학습 회수는 20회로 설정하였다. 최종 손실값은 1.545이다. 8개의 한국어 문장을 바다나우 어텐션 모델에 입력하여 번역 결과를 출력 한 결과, '오바마는 대통령이다.', '나는 고양이다' 등의 한국어 문장이 'obama is member of us.', 'i don't have a lot of the cat.'과 같이 문법에는 문제가 없지만, 입력 문장과 다른 내용의 번역문이 출력 되어, 번역이 올바르지 않게 이루어진 것을 확인 하였다. 이는 학습 데이터가 불충분 한 것이 원인으로 예상 되며, 그럼에도 불구하고 주어와 명사에 대해서 잘 예측하는 것을 확인 하였다.\n",
    "\n",
    "<br>\n",
    "\n",
    "|한국어 문장|영어 번역 결과|\n",
    "|:--------:|:--------:|\n",
    "|오바마는 대통령이다.|obama is a member of us.|\n",
    "|시민들은 도시 속에 산다.|the city of the city of the city.|\n",
    "|커피는 필요 없다.|the coffee is to be|\n",
    "|일곱 명의 사망자가 발생했다.|seven people were killed.|\n",
    "|나는 고양이다.|i don t have a lot of the cat.|\n",
    "|아버지가 방에 들어가신다.|the father was a.|\n",
    "|아버지 가방에 들어가신다.|the boy s father s|\n",
    "|오늘은 크리스마스다.|today is a day|\n",
    "\n",
    "[표 2] 바다나우 어텐션 모델의 한국어-영어 번역 결과\n",
    "\n",
    "***"
   ]
  },
  {
   "cell_type": "markdown",
   "id": "sticky-handy",
   "metadata": {},
   "source": [
    "<br>\n",
    "\n",
    "## 3. 데이터 분석\n",
    "***\n",
    "<span style=\"font-size:12pt; line-height:1.7; font-family:Serif;\">\n",
    "    &nbsp; &nbsp; Bahdanau Attention 모델에 사용한 데이터셋과 동일한 데이터셋을 사용합니다. 예제에서는 박정열(2017)이 제시한 한국어-영어 쌍의 데이터셋을 이용 합니다. 총 94,123개의 레코드로 이루어져 있으며, 15,155개의 중복 데이터가 존재하고 결측치는 없었습니다. 각 언어별 문장의 공백 기준 토큰의 개수를 확인 하였습니다. 한국어 데이터의 경우, 문장이 평균 약 14개의 토큰으로 이루어져 있고 4분위 문장의 경우 약 31개의 토큰으로 이루어져 있습니다. 영어 데이터의 경우, 문장이 평균 약 20개의 토큰으로 이루어져 있고 4분위 문장의 경우 약 50개의 토큰으로 이루어져 있습니다.\n",
    "</span>\n",
    "\n",
    "***"
   ]
  },
  {
   "cell_type": "markdown",
   "id": "intelligent-questionnaire",
   "metadata": {},
   "source": [
    "#### 필요 라이브러리 호출\n",
    "***\n",
    "+ 예제 진행에 필요한 라이브러리를 호출 합니다.\n",
    "***"
   ]
  },
  {
   "cell_type": "code",
   "execution_count": 1,
   "id": "spectacular-magic",
   "metadata": {},
   "outputs": [],
   "source": [
    "import re   #정규식\n",
    "import os   #디렉토리 관리\n",
    "import io\n",
    "import random   #학습 데이터 섞기\n",
    "import tarfile #gz 압축 풀기\n",
    "\n",
    "\n",
    "import numpy as np   #행렬 연산\n",
    "import pandas as pd   #데이터프레임\n",
    "import tensorflow as tf   #신경망\n",
    "\n",
    "\n",
    "from konlpy.tag import Mecab   #형태소 분석\n",
    "import sentencepiece as spm   #SentencePiece\n",
    "\n",
    "\n",
    "from tqdm.notebook import tqdm   #학습과정 시각화\n",
    "from tqdm import tqdm_notebook   #학습과정 시각화\n",
    "\n",
    "\n",
    "import seaborn   #데이터 시각화\n",
    "import matplotlib as mpl   #폰트\n",
    "import matplotlib.pyplot as plt   #데이터 시각화\n",
    "import matplotlib.font_manager as fm   #폰트\n",
    "\n",
    "\n",
    "fontpath = '/usr/share/fonts/truetype/nanum/NanumBarunGothic.ttf'\n",
    "font = fm.FontProperties(fname=fontpath, size=9)\n",
    "plt.rc('font', family='NanumBarunGothic') \n",
    "mpl.font_manager.findfont(font)\n",
    "%config InlineBackend.figure_format = 'retina'"
   ]
  },
  {
   "cell_type": "markdown",
   "id": "least-worth",
   "metadata": {},
   "source": [
    "<br>\n",
    "\n",
    "#### 데이터셋 압축 풀기\n",
    "***\n",
    "+ 데이터셋 압축파일 `korean-english-park.train.tar.gz`의 압축을 해제 합니다.\n",
    "***"
   ]
  },
  {
   "cell_type": "code",
   "execution_count": 2,
   "id": "fleet-accordance",
   "metadata": {},
   "outputs": [],
   "source": [
    "ap = tarfile.open(\"./dataset/korean-english-park.train.tar.gz\")\n",
    "ap.extractall(\"./dataset/\")\n",
    "ap.close()"
   ]
  },
  {
   "cell_type": "markdown",
   "id": "regulated-runner",
   "metadata": {},
   "source": [
    "#### 학습 데이터 출처\n",
    "***\n",
    "+ Jungyeul Park, korean-parallel-corpora(2017), https://github.com/jungyeul/korean-parallel-corpora/tree/master/korean-english-news-v1\n",
    "***"
   ]
  },
  {
   "cell_type": "markdown",
   "id": "needed-toilet",
   "metadata": {},
   "source": [
    "<br>\n",
    "\n",
    "#### 데이터셋 불러오기\n",
    "***\n",
    "+ 한국어 문장 데이터와 그 쌍에 해당하는 영어 문장 데이터를 불러옵니다.\n",
    "\n",
    "\n",
    "+ 한국어 문장과 영어 문장을 쌍으로 하는 데이터 프레임을 생성 합니다.\n",
    "***"
   ]
  },
  {
   "cell_type": "code",
   "execution_count": 3,
   "id": "disciplinary-johnston",
   "metadata": {},
   "outputs": [],
   "source": [
    "path_to_ko = \"./dataset/korean-english-park.train.ko\"\n",
    "path_to_en = \"./dataset/korean-english-park.train.en\"\n",
    "\n",
    "with open(path_to_ko, \"r\") as f:\n",
    "    kor_raw = f.read().splitlines()\n",
    "    \n",
    "with open(path_to_en, \"r\") as f:\n",
    "    eng_raw = f.read().splitlines()\n",
    "    \n",
    "dataset = pd.DataFrame(zip(kor_raw, eng_raw), columns=[\"kor\", \"eng\"])"
   ]
  },
  {
   "cell_type": "markdown",
   "id": "increasing-greenhouse",
   "metadata": {},
   "source": [
    "<br>\n",
    "\n",
    "#### 데이터셋 샘플 출력\n",
    "***\n",
    "데이터셋 샘플 5개 레코드를 출력 합니다.\n",
    "***"
   ]
  },
  {
   "cell_type": "code",
   "execution_count": 4,
   "id": "noble-flooring",
   "metadata": {},
   "outputs": [
    {
     "data": {
      "text/html": [
       "<div>\n",
       "<style scoped>\n",
       "    .dataframe tbody tr th:only-of-type {\n",
       "        vertical-align: middle;\n",
       "    }\n",
       "\n",
       "    .dataframe tbody tr th {\n",
       "        vertical-align: top;\n",
       "    }\n",
       "\n",
       "    .dataframe thead th {\n",
       "        text-align: right;\n",
       "    }\n",
       "</style>\n",
       "<table border=\"1\" class=\"dataframe\">\n",
       "  <thead>\n",
       "    <tr style=\"text-align: right;\">\n",
       "      <th></th>\n",
       "      <th>kor</th>\n",
       "      <th>eng</th>\n",
       "    </tr>\n",
       "  </thead>\n",
       "  <tbody>\n",
       "    <tr>\n",
       "      <th>4651</th>\n",
       "      <td>(그 가게는 그런 상품은 취급하지 않는다.) 블름스베리 출판사도 이 강도 사건을 이...</td>\n",
       "      <td>Bloomsbury also used the robbery to remind the...</td>\n",
       "    </tr>\n",
       "    <tr>\n",
       "      <th>76625</th>\n",
       "      <td>The document deals with the use of American fo...</td>\n",
       "      <td>The Blue House announced yesterday that it had...</td>\n",
       "    </tr>\n",
       "    <tr>\n",
       "      <th>71810</th>\n",
       "      <td>오바마 당선인은 ABC 방송 ‘디스 위크(This Week)’에서 “팔레스타인 국민...</td>\n",
       "      <td>Rejecting criticism that he has been relativel...</td>\n",
       "    </tr>\n",
       "    <tr>\n",
       "      <th>957</th>\n",
       "      <td>맥도날드의 대변인 척 에벨링은 한숨을 쉬며 말한다.</td>\n",
       "      <td>Sighs McDonald's spokesman Chuck Ebeling:</td>\n",
       "    </tr>\n",
       "    <tr>\n",
       "      <th>11121</th>\n",
       "      <td>템펠호프 공항은 1948년 6월부터 1949년 5월까지 옛 소련이 베를린에 대한 봉...</td>\n",
       "      <td>The airport's backers have been appealing to B...</td>\n",
       "    </tr>\n",
       "  </tbody>\n",
       "</table>\n",
       "</div>"
      ],
      "text/plain": [
       "                                                     kor  \\\n",
       "4651   (그 가게는 그런 상품은 취급하지 않는다.) 블름스베리 출판사도 이 강도 사건을 이...   \n",
       "76625  The document deals with the use of American fo...   \n",
       "71810  오바마 당선인은 ABC 방송 ‘디스 위크(This Week)’에서 “팔레스타인 국민...   \n",
       "957                         맥도날드의 대변인 척 에벨링은 한숨을 쉬며 말한다.   \n",
       "11121  템펠호프 공항은 1948년 6월부터 1949년 5월까지 옛 소련이 베를린에 대한 봉...   \n",
       "\n",
       "                                                     eng  \n",
       "4651   Bloomsbury also used the robbery to remind the...  \n",
       "76625  The Blue House announced yesterday that it had...  \n",
       "71810  Rejecting criticism that he has been relativel...  \n",
       "957            Sighs McDonald's spokesman Chuck Ebeling:  \n",
       "11121  The airport's backers have been appealing to B...  "
      ]
     },
     "execution_count": 4,
     "metadata": {},
     "output_type": "execute_result"
    }
   ],
   "source": [
    "dataset.sample(5)"
   ]
  },
  {
   "cell_type": "markdown",
   "id": "chronic-fetish",
   "metadata": {},
   "source": [
    "<br>\n",
    "\n",
    "#### 데이터셋 기본 정보 확인\n",
    "***\n",
    "+ 총 94,123개 레코드가 존재하며 15,155개의 중복 데이터와 0개의 결측 데이터가 존재 합니다.\n",
    "***"
   ]
  },
  {
   "cell_type": "code",
   "execution_count": 5,
   "id": "interpreted-hayes",
   "metadata": {},
   "outputs": [
    {
     "name": "stdout",
     "output_type": "stream",
     "text": [
      "<class 'pandas.core.frame.DataFrame'>\n",
      "RangeIndex: 94123 entries, 0 to 94122\n",
      "Data columns (total 2 columns):\n",
      " #   Column  Non-Null Count  Dtype \n",
      "---  ------  --------------  ----- \n",
      " 0   kor     94123 non-null  object\n",
      " 1   eng     94123 non-null  object\n",
      "dtypes: object(2)\n",
      "memory usage: 1.4+ MB\n",
      "Dupliacted Data Num: 15,155\n"
     ]
    }
   ],
   "source": [
    "dataset.info()\n",
    "\n",
    "dup = dataset.duplicated()\n",
    "dup = dup.value_counts()[True]\n",
    "\n",
    "print(f\"Dupliacted Data Num: {dup:,}\")"
   ]
  },
  {
   "cell_type": "markdown",
   "id": "australian-cotton",
   "metadata": {},
   "source": [
    "<br>\n",
    "\n",
    "#### 데이터 빈도 시각화 및 출력 함수 생성\n",
    "***\n",
    "+ 데이터 빈도 시각화 및 출력하는 함수를 생성 합니다.\n",
    "\n",
    "\n",
    "+ 데이터 토큰화 이후, 문장의 길이와 단어 사용 빈도를 확인하기 위해 사용 합니다.\n",
    "***"
   ]
  },
  {
   "cell_type": "code",
   "execution_count": 6,
   "id": "usual-private",
   "metadata": {},
   "outputs": [],
   "source": [
    "#데이터 길이 시각화 함수=========================\n",
    "def show_sentence_length(sentence_num, title, range_=[0, 500]):\n",
    "    plt.figure(figsize=(13, 5))\n",
    "    plt.suptitle(title, fontsize=14)\n",
    "    \n",
    "    plt.subplot(1, 2, 1)\n",
    "    plt.hist(sentence_num, bins=range_[1], range=range_, facecolor='b', label='train')\n",
    "    plt.xlabel('Number of question')\n",
    "    plt.ylabel('Count of question')\n",
    "    \n",
    "    plt.subplot(1, 2, 2)\n",
    "    plt.boxplot(sentence_num, labels=['token counts'], showmeans=True)\n",
    "\n",
    "    plt.show()\n",
    "    \n",
    "    print(\"< Sentence Info >\".center(100, \"=\"))\n",
    "    print(f\"길이 최대:    {np.max(sentence_num):4d}\")\n",
    "    print(f\"길이 최소:    {np.min(sentence_num):4d}\")\n",
    "    print(f\"길이 평균:    {np.mean(sentence_num):7.3f}\")\n",
    "    print(f\"길이 표준편차: {np.std(sentence_num):7.3f}\", end=\"\\n\\n\")\n",
    "    \n",
    "    percentile25 = np.percentile(sentence_num, 25)\n",
    "    percentile50 = np.percentile(sentence_num, 50)\n",
    "    percentile75 = np.percentile(sentence_num, 75)\n",
    "    percentileIQR = percentile75 - percentile25\n",
    "    percentileMAX = percentile75 + percentileIQR * 1.5\n",
    "    \n",
    "    print(f\" 25/100분위:  {percentile25:7.3f}\")\n",
    "    print(f\" 50/100분위:  {percentile50:7.3f}\")\n",
    "    print(f\" 75/100분위:  {percentile75:7.3f}\")\n",
    "    print(f\" MAX/100분위: {percentileMAX:7.3f}\")\n",
    "    print(f\" IQR: {percentileIQR:7.3f}\")\n",
    "    print(\"=\" * 100)\n",
    "#End==========================================="
   ]
  },
  {
   "cell_type": "markdown",
   "id": "latest-credits",
   "metadata": {},
   "source": [
    "<br>\n",
    "\n",
    "#### 데이터 문장 길이 확인\n",
    "***\n",
    "+ 한국어 데이터의 경우, 문장이 평균 약 14개의 단어로 이루어져 있으며, 4분위의 경우 약 31개의 단어로 이루어져 있습니다.\n",
    "\n",
    "\n",
    "+ 영어 데이터의 경우, 문장이 평균 약 20개의 단어로 이루어져 있으며, 4분위의 경우 약 50개의 단어로 이루어져 있습니다.\n",
    "\n",
    "***"
   ]
  },
  {
   "cell_type": "code",
   "execution_count": 7,
   "id": "armed-mistake",
   "metadata": {},
   "outputs": [
    {
     "data": {
      "image/png": "[encoded data removed]",
      "text/plain": [
       "<Figure size 936x360 with 2 Axes>"
      ]
     },
     "metadata": {
      "image/png": {
       "height": 355,
       "width": 785
      },
      "needs_background": "light"
     },
     "output_type": "display_data"
    },
    {
     "name": "stdout",
     "output_type": "stream",
     "text": [
      "=========================================< Sentence Info >==========================================\n",
      "길이 최대:      82\n",
      "길이 최소:       1\n",
      "길이 평균:     14.047\n",
      "길이 표준편차:   6.813\n",
      "\n",
      " 25/100분위:    9.000\n",
      " 50/100분위:   14.000\n",
      " 75/100분위:   18.000\n",
      " MAX/100분위:  31.500\n",
      " IQR:   9.000\n",
      "====================================================================================================\n"
     ]
    },
    {
     "data": {
      "image/png": "[encoded data removed]",
      "text/plain": [
       "<Figure size 936x360 with 2 Axes>"
      ]
     },
     "metadata": {
      "image/png": {
       "height": 355,
       "width": 785
      },
      "needs_background": "light"
     },
     "output_type": "display_data"
    },
    {
     "name": "stdout",
     "output_type": "stream",
     "text": [
      "=========================================< Sentence Info >==========================================\n",
      "길이 최대:      90\n",
      "길이 최소:       1\n",
      "길이 평균:     20.897\n",
      "길이 표준편차:  10.471\n",
      "\n",
      " 25/100분위:   13.000\n",
      " 50/100분위:   20.000\n",
      " 75/100분위:   28.000\n",
      " MAX/100분위:  50.500\n",
      " IQR:  15.000\n",
      "====================================================================================================\n"
     ]
    }
   ],
   "source": [
    "kor_counts = [len(text.split()) for text in dataset[\"kor\"]]\n",
    "eng_counts = [len(text.split()) for text in dataset[\"eng\"]]\n",
    "\n",
    "show_sentence_length(kor_counts, \"<Fig 1>. Korean Sentence Infomation\", [0, 50])\n",
    "show_sentence_length(eng_counts, \"<Fig 2>. English Sentence Infomation\", [0, 70])"
   ]
  },
  {
   "cell_type": "markdown",
   "id": "balanced-processor",
   "metadata": {},
   "source": [
    "<br>\n",
    "\n",
    "## 4. 데이터 전처리\n",
    "***\n",
    "<span style=\"font-size:12pt; line-height:1.7; font-family:Serif;\">\n",
    "    &nbsp; &nbsp; 앞서 수행한 데이터 분석을 바탕으로 전처리를 수행 합니다. 전처리 수행 과정은 '중복 데이터 제거', '언어별 문장 길이 제한', '정규식을 이용한 문장 전처리' 순으로 진행하였습니다. 우선, 15,155개의 중복 데이터를 제거하고 한국어의 경우 31개 초과 토큰으로 구성된 문장과 영어의 경우 50개 초과 토큰으로 구성된 문장을 제외하여 줍니다. 정규식을 이용하여 특수문자 제거 및 공백 추가를 시행 합니다.\n",
    "</span>\n",
    "\n",
    "***"
   ]
  },
  {
   "cell_type": "markdown",
   "id": "actual-clearing",
   "metadata": {},
   "source": [
    "#### 중복 데이터 제거\n",
    "***\n",
    "+ 중복 데이터를 제거하여 총 78,968개의 데이터를 획득 합니다.\n",
    "***"
   ]
  },
  {
   "cell_type": "code",
   "execution_count": 8,
   "id": "civil-slope",
   "metadata": {},
   "outputs": [
    {
     "name": "stdout",
     "output_type": "stream",
     "text": [
      "Data Num: 78,968\n"
     ]
    }
   ],
   "source": [
    "dataset.drop_duplicates(inplace=True)\n",
    "print(f\"Data Num: {len(dataset):,}\")"
   ]
  },
  {
   "cell_type": "markdown",
   "id": "resident-cornell",
   "metadata": {},
   "source": [
    "<br>\n",
    "\n",
    "#### 문장 길이 기준 데이터 필터링\n",
    "***\n",
    "+ 문장 길이를 설정하고 해당 길이 이상의 문장은 제외 하여 줍니다.\n",
    "\n",
    "\n",
    "+ 한국어의 경우 31개 초과의 단어로 이루어진 문장을, 영어의 경우 50개 초과의 단어로 이루어진 문장을 제외 합니다.\n",
    "***"
   ]
  },
  {
   "cell_type": "code",
   "execution_count": 9,
   "id": "mechanical-stevens",
   "metadata": {},
   "outputs": [],
   "source": [
    "def filt_sentence_length(df, col, sentence_len):\n",
    "    df = df.copy()\n",
    "    df[\"len\"] = df[col].apply(lambda x: len(x.split()))\n",
    "    df = df.loc[df[\"len\"] < sentence_len]\n",
    "    df.drop([\"len\"], axis=\"columns\", inplace=True)\n",
    "    return df\n",
    "    \n",
    "dataset = filt_sentence_length(dataset, \"kor\", 31)\n",
    "dataset = filt_sentence_length(dataset, \"eng\", 50)"
   ]
  },
  {
   "cell_type": "markdown",
   "id": "hearing-fence",
   "metadata": {},
   "source": [
    "<br>\n",
    "\n",
    "#### 정규식을 이용한 문장 전처리\n",
    "***\n",
    "+ 정규식을 이용하여 특수문자 제거 및 공백 추가 등의 작업을 수행 합니다.\n",
    "\n",
    "\n",
    "+ 영어의 경우 디코더에 입력되므로 <sos>, <eos> 토큰을 문장의 앞, 뒤에 추가 하여 줍니다.\n",
    "    \n",
    "<br>\n",
    "\n",
    "> + _모든 입력을 소문자로 변환_\n",
    ">\n",
    ">\n",
    "> + _알파벳, 문장부호, 한글만 남기고 모두 제거_\n",
    ">\n",
    ">\n",
    "> + _문장부호 양옆에 공백을 추가_\n",
    ">\n",
    ">\n",
    "> + _문장 앞뒤의 불필요한 공백을 제거_\n",
    "***"
   ]
  },
  {
   "cell_type": "code",
   "execution_count": 10,
   "id": "theoretical-technician",
   "metadata": {
    "scrolled": true
   },
   "outputs": [
    {
     "data": {
      "text/html": [
       "<div>\n",
       "<style scoped>\n",
       "    .dataframe tbody tr th:only-of-type {\n",
       "        vertical-align: middle;\n",
       "    }\n",
       "\n",
       "    .dataframe tbody tr th {\n",
       "        vertical-align: top;\n",
       "    }\n",
       "\n",
       "    .dataframe thead th {\n",
       "        text-align: right;\n",
       "    }\n",
       "</style>\n",
       "<table border=\"1\" class=\"dataframe\">\n",
       "  <thead>\n",
       "    <tr style=\"text-align: right;\">\n",
       "      <th></th>\n",
       "      <th>kor</th>\n",
       "      <th>eng</th>\n",
       "    </tr>\n",
       "  </thead>\n",
       "  <tbody>\n",
       "    <tr>\n",
       "      <th>44584</th>\n",
       "      <td>홀츠맨은 인터뷰를 통해 일렉트라는 비전을 갖고 있기 때문에 중요한 것 이라고 말했다 .</td>\n",
       "      <td>elektra mattered , holzman says in a phone int...</td>\n",
       "    </tr>\n",
       "    <tr>\n",
       "      <th>38526</th>\n",
       "      <td>헨슬리 하사와 산도발 병장 모두 알래스카주 포트 리차드슨의 미 육군 1 대대 5 0...</td>\n",
       "      <td>both are assigned to the u . s . army s 1 st b...</td>\n",
       "    </tr>\n",
       "    <tr>\n",
       "      <th>84495</th>\n",
       "      <td>석유생산국의 1 4 개 회원국은 이달 말 회담을 갖게 됩니다 .</td>\n",
       "      <td>1 4 members of the oil producing nations will ...</td>\n",
       "    </tr>\n",
       "    <tr>\n",
       "      <th>47233</th>\n",
       "      <td>지난달 2 1 일자 성명에서 알 말리키 총리는 의료 진단을 통해 그 여성이 성폭행을...</td>\n",
       "      <td>in a statement february 2 1 , al maliki said m...</td>\n",
       "    </tr>\n",
       "    <tr>\n",
       "      <th>42003</th>\n",
       "      <td>사건은 국제 안보 박람회 행사가 열리고 있는 울러스에서 교통이 혼잡한 러시아 워에 ...</td>\n",
       "      <td>the rush hour explosion went off in a busy sho...</td>\n",
       "    </tr>\n",
       "  </tbody>\n",
       "</table>\n",
       "</div>"
      ],
      "text/plain": [
       "                                                     kor  \\\n",
       "44584   홀츠맨은 인터뷰를 통해 일렉트라는 비전을 갖고 있기 때문에 중요한 것 이라고 말했다 .   \n",
       "38526  헨슬리 하사와 산도발 병장 모두 알래스카주 포트 리차드슨의 미 육군 1 대대 5 0...   \n",
       "84495                석유생산국의 1 4 개 회원국은 이달 말 회담을 갖게 됩니다 .   \n",
       "47233  지난달 2 1 일자 성명에서 알 말리키 총리는 의료 진단을 통해 그 여성이 성폭행을...   \n",
       "42003  사건은 국제 안보 박람회 행사가 열리고 있는 울러스에서 교통이 혼잡한 러시아 워에 ...   \n",
       "\n",
       "                                                     eng  \n",
       "44584  elektra mattered , holzman says in a phone int...  \n",
       "38526  both are assigned to the u . s . army s 1 st b...  \n",
       "84495  1 4 members of the oil producing nations will ...  \n",
       "47233  in a statement february 2 1 , al maliki said m...  \n",
       "42003  the rush hour explosion went off in a busy sho...  "
      ]
     },
     "execution_count": 10,
     "metadata": {},
     "output_type": "execute_result"
    }
   ],
   "source": [
    "#전처리 함수===========================\n",
    "def preprocess_sentence(sentence):\n",
    "    sentence = sentence.lower().strip()\n",
    "    sentence = re.sub(r\"([0-9?.!,])\", r\" \\1 \", sentence)\n",
    "    sentence = re.sub(r'[\" \"]+', \" \", sentence)\n",
    "    sentence = re.sub(r\"[^a-zA-Zㄱ-ㅎ가-힣0-9?.!,]+\", \" \", sentence)\n",
    "    sentence = sentence.strip()\n",
    "    return sentence\n",
    "#End===================================\n",
    "\n",
    "\n",
    "dataset[\"kor\"] = dataset[\"kor\"].apply(preprocess_sentence)\n",
    "dataset[\"eng\"] = dataset[\"eng\"].apply(preprocess_sentence)\n",
    "\n",
    "dataset.sample(5)"
   ]
  },
  {
   "cell_type": "markdown",
   "id": "alive-center",
   "metadata": {},
   "source": [
    "<br>\n",
    "\n",
    "## 5. 데이터 토큰화\n",
    "***\n",
    "<span style=\"font-size:12pt; line-height:1.7; font-family:Serif;\">\n",
    "    &nbsp; &nbsp; 본 예제에서는 'Attention 모델'과 'Transformer 모델'의 번역 결과와 함께 'Mecab'과 'SentencePiece' 토크나이저에 따른 번역 결과도 확인하고자 합니다. 따라서, 전처리를 시행한 데이터를 이용하여 각기의 토큰화를 수행할 것입니다. Mecab은 한국어 형태소 분석기로 한국어는 Mecab을 이용하여 형태소 기준으로 토큰화를 시행하고 영어는 공백을 기준으로 토큰화 합니다. SentencePiece은 문자의 빈도를 바탕으로 토큰화를 실시하기 때문에 다양한 언어에 적용할 수 있다는 장점이 있습니다. 따라서, 한국어와 영어 데이터 모두 SentencePiece를 이용하여 토큰화를 시행 할 것입니다.\n",
    "</span>\n",
    "\n",
    "***"
   ]
  },
  {
   "cell_type": "markdown",
   "id": "working-boost",
   "metadata": {},
   "source": [
    "### 5.1. Mecab을 이용한 토큰화\n",
    "***\n",
    "<span style=\"font-size:12pt; line-height:1.7; font-family:Serif;\">\n",
    "    &nbsp; &nbsp; Mecab을 이용한 토큰화는 한국어의 경우 Mecab 형태소 분석기를 이용하여 토큰화를 진행하고 영어의 경우 공백을 기준으로 토큰화를 진행합니다. 단어사전의 크기는 한국어의 경우 4분위에 해당하는 토큰이 18회 사용되는 것을 근거로 18회 이하로 사용된 토큰 42,627개를 이용 합니다. 영어의 경우 4분위에 해당하는 토큰이 21회 사용된 것을 근거로 21회 이하로 사용된 토큰 37,591개를 이용 합니다. 최종 77,223개의 한-영 데이터 쌍을 획득 합니다.\n",
    "</span>\n",
    "\n",
    "***"
   ]
  },
  {
   "cell_type": "markdown",
   "id": "informal-valuation",
   "metadata": {},
   "source": [
    "#### 디코더 입력 데이터 &lt;SOS>, &lt;EOS> 토큰 추가 하기\n",
    "***\n",
    "+ 디코더에 입력할 영어 데이터 문장 앞, 뒤에 &lt;SOS> 및 &lt;EOS> 토큰을 추가하여 줍니다.\n",
    "***"
   ]
  },
  {
   "cell_type": "code",
   "execution_count": 11,
   "id": "legitimate-hebrew",
   "metadata": {},
   "outputs": [
    {
     "data": {
      "text/html": [
       "<div>\n",
       "<style scoped>\n",
       "    .dataframe tbody tr th:only-of-type {\n",
       "        vertical-align: middle;\n",
       "    }\n",
       "\n",
       "    .dataframe tbody tr th {\n",
       "        vertical-align: top;\n",
       "    }\n",
       "\n",
       "    .dataframe thead th {\n",
       "        text-align: right;\n",
       "    }\n",
       "</style>\n",
       "<table border=\"1\" class=\"dataframe\">\n",
       "  <thead>\n",
       "    <tr style=\"text-align: right;\">\n",
       "      <th></th>\n",
       "      <th>kor</th>\n",
       "      <th>eng</th>\n",
       "    </tr>\n",
       "  </thead>\n",
       "  <tbody>\n",
       "    <tr>\n",
       "      <th>39218</th>\n",
       "      <td>폴 l . 프리드먼 미국 지방 법원 판사는 그러나 그의 요청을 기각했다 .</td>\n",
       "      <td>&lt;sos&gt; u . s . district judge paul l . friedman...</td>\n",
       "    </tr>\n",
       "    <tr>\n",
       "      <th>54336</th>\n",
       "      <td>과학기술에 진보한 집단이 온라인 검색을 하는 동안 이를 거의 경험하지 못한 다른 집...</td>\n",
       "      <td>&lt;sos&gt; members of the technologically advanced ...</td>\n",
       "    </tr>\n",
       "    <tr>\n",
       "      <th>2290</th>\n",
       "      <td>북한의 조국 평화통일 위원회 사무국은 mgm 히트작은 미국이 변칙 , 타락 , 폭력...</td>\n",
       "      <td>&lt;sos&gt; the mgm hit proves that the united state...</td>\n",
       "    </tr>\n",
       "    <tr>\n",
       "      <th>79604</th>\n",
       "      <td>저명한 민주화 운동 지도자인 민꼬나잉 min ko naing 을 포함한 활동가들은 ...</td>\n",
       "      <td>&lt;sos&gt; the activists including prominent pro de...</td>\n",
       "    </tr>\n",
       "    <tr>\n",
       "      <th>57319</th>\n",
       "      <td>이번 에 개발된 인공심장은 수백명의 생명을 구할 수 있으며 심박동수와 혈류를 조절하...</td>\n",
       "      <td>&lt;sos&gt; the device could save millions of lives ...</td>\n",
       "    </tr>\n",
       "  </tbody>\n",
       "</table>\n",
       "</div>"
      ],
      "text/plain": [
       "                                                     kor  \\\n",
       "39218          폴 l . 프리드먼 미국 지방 법원 판사는 그러나 그의 요청을 기각했다 .   \n",
       "54336  과학기술에 진보한 집단이 온라인 검색을 하는 동안 이를 거의 경험하지 못한 다른 집...   \n",
       "2290   북한의 조국 평화통일 위원회 사무국은 mgm 히트작은 미국이 변칙 , 타락 , 폭력...   \n",
       "79604  저명한 민주화 운동 지도자인 민꼬나잉 min ko naing 을 포함한 활동가들은 ...   \n",
       "57319  이번 에 개발된 인공심장은 수백명의 생명을 구할 수 있으며 심박동수와 혈류를 조절하...   \n",
       "\n",
       "                                                     eng  \n",
       "39218  <sos> u . s . district judge paul l . friedman...  \n",
       "54336  <sos> members of the technologically advanced ...  \n",
       "2290   <sos> the mgm hit proves that the united state...  \n",
       "79604  <sos> the activists including prominent pro de...  \n",
       "57319  <sos> the device could save millions of lives ...  "
      ]
     },
     "execution_count": 11,
     "metadata": {},
     "output_type": "execute_result"
    }
   ],
   "source": [
    "#sos 및 eos 토큰 추가==================\n",
    "def append_os_token(sentence):\n",
    "    sentence = \"<sos> \" + sentence + \" <eos>\"\n",
    "    return sentence\n",
    "#End===================================\n",
    "\n",
    "mecab_dataset = dataset.copy()\n",
    "mecab_dataset[\"eng\"] = dataset[\"eng\"].apply(append_os_token)\n",
    "mecab_dataset.sample(5)"
   ]
  },
  {
   "cell_type": "markdown",
   "id": "canadian-belarus",
   "metadata": {},
   "source": [
    "<br>\n",
    "\n",
    "#### Mecab을 이용한 문장 토큰화 함수 생성\n",
    "***\n",
    "+ Mecab 형태소 분석기를 이용하여 토큰화를 수행하는 함수를 생성 합니다.\n",
    "\n",
    "\n",
    "+ seq2seq 모델에 입력할 한국어 데이터와 영어 데이터를 토큰화 합니다.\n",
    "\n",
    "\n",
    "+ 한국어의 경우 인코더에 입력되며, Mecab을 이용하여 형태소 단위로 토큰화를 진행 합니다.\n",
    "\n",
    "\n",
    "+ 영어의 경우 디코더에 입력되며, 공백을 단위로 토큰화를 진행 합니다.\n",
    "***"
   ]
  },
  {
   "cell_type": "code",
   "execution_count": 12,
   "id": "oriented-tumor",
   "metadata": {},
   "outputs": [],
   "source": [
    "def mecab_tokenize(corpus, vocab_size, maxlen, encoder_TF=True):\n",
    "    tokenizer = tf.keras.preprocessing.text.Tokenizer(\n",
    "        filters='',\n",
    "        oov_token=\"<UNK>\",\n",
    "        num_words=vocab_size\n",
    "    )\n",
    "    corpus_input = corpus\n",
    "    \n",
    "    if encoder_TF:   #encoder data는 '한국어'이므로 mecab 형태소 분석\n",
    "        m = Mecab()\n",
    "    \n",
    "        corpus_input = []\n",
    "        for sentence in corpus:\n",
    "            corpus_input.append(m.morphs(sentence))\n",
    "    \n",
    "    tokenizer.fit_on_texts(corpus_input)\n",
    "    \n",
    "    if vocab_size is not None:\n",
    "        words_frequency = [w for w,c in tokenizer.word_index.items() if c >= vocab_size + 1]\n",
    "        for w in words_frequency:\n",
    "            del tokenizer.word_index[w]\n",
    "            del tokenizer.word_counts[w]\n",
    "    \n",
    "    tensor = tokenizer.texts_to_sequences(corpus_input)\n",
    "    tensor = tf.keras.preprocessing.sequence.pad_sequences(\n",
    "        tensor,\n",
    "        padding='post',\n",
    "        maxlen=maxlen\n",
    "    )\n",
    "    return tensor, tokenizer"
   ]
  },
  {
   "cell_type": "markdown",
   "id": "violent-former",
   "metadata": {},
   "source": [
    "<br>\n",
    "\n",
    "#### Mecab을 이용한 문장 토큰화 진행\n",
    "***\n",
    "+ 모델에 입력하기 위한 언어별 데이터를 토큰화 합니다.\n",
    "\n",
    "\n",
    "+ 해당 토큰화는 좀 더 구체적인 분석을 위해 진행하는 것이므로, 모든 단어를 사용하고 패딩의 경우 최대 길이로 설정 합니다.\n",
    "\n",
    "\n",
    "+ 한국어의 경우 49,702개의 토큰이, 영어의 경우 43,830개의 토큰이 생성 되었습니다.\n",
    "\n",
    "***"
   ]
  },
  {
   "cell_type": "code",
   "execution_count": 13,
   "id": "assumed-purpose",
   "metadata": {},
   "outputs": [
    {
     "name": "stdout",
     "output_type": "stream",
     "text": [
      "Korean Vocab Size: 49,702\n",
      "English Vocab Size: 43,830\n"
     ]
    }
   ],
   "source": [
    "mecab_enc_tensor, mecab_enc_tokenizer = mecab_tokenize(mecab_dataset[\"kor\"], None, None, encoder_TF=True)\n",
    "mecab_dec_tensor, mecab_dec_tokenizer = mecab_tokenize(mecab_dataset[\"eng\"], None, None, encoder_TF=False)\n",
    "\n",
    "print(\"Korean Vocab Size:\", f\"{len(mecab_enc_tokenizer.word_index):,}\")\n",
    "print(\"English Vocab Size:\", f\"{len(mecab_dec_tokenizer.word_index):,}\")"
   ]
  },
  {
   "cell_type": "markdown",
   "id": "southern-place",
   "metadata": {},
   "source": [
    "<br>\n",
    "\n",
    "#### 토큰별 사용 빈도 확인\n",
    "***\n",
    "+ 추후 단어사전 크기를 설정하기 위해, 한국어와 영어 토큰별 사용 빈도를 확인 합니다.\n",
    "\n",
    "\n",
    "+ 한국어의 경우 토큰은 평균 약 46회 사용 되었고 4분위의 토큰은 약 18회 사용 되었습니다.\n",
    "\n",
    "\n",
    "+ 영어의 경우 토큰은 평균 약 48회 사용 되었고 4분위의 토큰은 약 21회 사용 되었습니다.\n",
    "***"
   ]
  },
  {
   "cell_type": "code",
   "execution_count": 14,
   "id": "worldwide-bronze",
   "metadata": {},
   "outputs": [
    {
     "data": {
      "image/png": "[encoded data removed]",
      "text/plain": [
       "<Figure size 936x360 with 2 Axes>"
      ]
     },
     "metadata": {
      "image/png": {
       "height": 355,
       "width": 791
      },
      "needs_background": "light"
     },
     "output_type": "display_data"
    },
    {
     "name": "stdout",
     "output_type": "stream",
     "text": [
      "=========================================< Sentence Info >==========================================\n",
      "길이 최대:    78266\n",
      "길이 최소:       1\n",
      "길이 평균:     46.053\n",
      "길이 표준편차: 920.852\n",
      "\n",
      " 25/100분위:    1.000\n",
      " 50/100분위:    2.000\n",
      " 75/100분위:    8.000\n",
      " MAX/100분위:  18.500\n",
      " IQR:   7.000\n",
      "====================================================================================================\n"
     ]
    },
    {
     "data": {
      "image/png": "[encoded data removed]",
      "text/plain": [
       "<Figure size 936x360 with 2 Axes>"
      ]
     },
     "metadata": {
      "image/png": {
       "height": 355,
       "width": 791
      },
      "needs_background": "light"
     },
     "output_type": "display_data"
    },
    {
     "name": "stdout",
     "output_type": "stream",
     "text": [
      "=========================================< Sentence Info >==========================================\n",
      "길이 최대:    111106\n",
      "길이 최소:       1\n",
      "길이 평균:     48.212\n",
      "길이 표준편차: 1107.312\n",
      "\n",
      " 25/100분위:    1.000\n",
      " 50/100분위:    3.000\n",
      " 75/100분위:    9.000\n",
      " MAX/100분위:  21.000\n",
      " IQR:   8.000\n",
      "====================================================================================================\n"
     ]
    }
   ],
   "source": [
    "enc_freq = [value for value in mecab_enc_tokenizer.word_counts.values()]\n",
    "dec_freq = [value for value in mecab_dec_tokenizer.word_counts.values()]\n",
    "\n",
    "show_sentence_length(enc_freq, \"<Fig 3>. Korean Word Frequency\", [0, 100])\n",
    "show_sentence_length(dec_freq, \"<Fig 4>. English Word Frequency\", [0, 100])"
   ]
  },
  {
   "cell_type": "markdown",
   "id": "therapeutic-approach",
   "metadata": {},
   "source": [
    "<br>\n",
    "\n",
    "#### 토큰별 사용 빈도 확인\n",
    "***\n",
    "+ 사용빈도 4분위에 해당하는 토큰의 수를 확인 합니다.\n",
    "\n",
    "\n",
    "+ 한국어의 경우 18회 이하로 사용된 토큰은 총 43,271개 입니다.\n",
    "\n",
    "\n",
    "+ 영어어의 경우 21회 이하로 사용된 토큰은 총 38,050개 입니다.\n",
    "***"
   ]
  },
  {
   "cell_type": "code",
   "execution_count": 15,
   "id": "dense-married",
   "metadata": {},
   "outputs": [
    {
     "name": "stdout",
     "output_type": "stream",
     "text": [
      "Korean Words Used Under 18: 42,516\n",
      "English Words Used Under 21: 37,506\n"
     ]
    }
   ],
   "source": [
    "def wordNumByFreq(tokenizer, freq_num):\n",
    "    sorted_freq = sorted(tokenizer.word_counts.items(), key=lambda x: x[1])\n",
    "    for idx, (_, freq) in enumerate(sorted_freq):\n",
    "        if freq > freq_num: break;\n",
    "    return idx\n",
    "\n",
    "\n",
    "print(f\"Korean Words Used Under {18}: {wordNumByFreq(mecab_enc_tokenizer, 18):,}\")\n",
    "print(f\"English Words Used Under {21}: {wordNumByFreq(mecab_dec_tokenizer, 21):,}\")"
   ]
  },
  {
   "cell_type": "markdown",
   "id": "decreased-massage",
   "metadata": {},
   "source": [
    "<br>\n",
    "\n",
    "#### 최종 토큰화 진행\n",
    "***\n",
    "+ 앞서 확인한 문장의 길이, 토큰 사용 빈도를 바탕으로, 토큰화를 진행 합니다.\n",
    "\n",
    "\n",
    "+ 단어 사전의 크기는 한국어의 경우 42,516개로 설정 하고, 영어의 경우 37,506개로 설정 합니다.\n",
    "\n",
    "\n",
    "+ 최종 데이터는 총 77,223개 입니다.\n",
    "***"
   ]
  },
  {
   "cell_type": "code",
   "execution_count": 16,
   "id": "about-twins",
   "metadata": {},
   "outputs": [
    {
     "name": "stdout",
     "output_type": "stream",
     "text": [
      "Dataset num: 77,223\n"
     ]
    }
   ],
   "source": [
    "mecab_enc_tensor, mecab_enc_tokenizer = mecab_tokenize(mecab_dataset[\"kor\"], 42516, None, encoder_TF=True)\n",
    "mecab_dec_tensor, mecab_dec_tokenizer = mecab_tokenize(mecab_dataset[\"eng\"], 37506, None, encoder_TF=False)\n",
    "\n",
    "print(f\"Dataset num: {len(mecab_enc_tensor):,}\")"
   ]
  },
  {
   "cell_type": "markdown",
   "id": "medical-carry",
   "metadata": {},
   "source": [
    "<br>\n",
    "\n",
    "### 5.2.SentencePiece를 이용한 토큰화\n",
    "***\n",
    "<span style=\"font-size:12pt; line-height:1.7; font-family:Serif;\">\n",
    "    &nbsp; &nbsp; SentencePiece를 이용한 토큰화는 Mecab과 다르게 한국어와 영어 모두 Sentence 모델을 이용합니다. 언어별 토크나이저를 생성하고 이를 바탕으로 토큰화를 실시 합니다. 한국어의 경우 32,000개의 토큰을 사용하고 영어의 경우 24,938개의 토큰을 사용 합니다.\n",
    "</span>\n",
    "\n",
    "***"
   ]
  },
  {
   "cell_type": "markdown",
   "id": "limited-finland",
   "metadata": {},
   "source": [
    "#### SentencePiece를 이용한 문장 토큰화 함수 생성\n",
    "***\n",
    "+ SentencePiece를 이용하여 한국어, 영어 데이터 토큰화 함수를 생성 합니다.\n",
    "***"
   ]
  },
  {
   "cell_type": "code",
   "execution_count": 17,
   "id": "other-amplifier",
   "metadata": {},
   "outputs": [],
   "source": [
    "#Get tokenizer==================================\n",
    "def generate_tokenizer(corpus, model_type='unigram', vocab_size=32000, lang=\"ko\"): \n",
    "    input_file = f'./dataset/{lang}_spm_input.txt'\n",
    "\n",
    "    with open(input_file, 'w', encoding='utf-8') as f:\n",
    "        for sent in corpus:\n",
    "            f.write('{}\\n'.format(sent))\n",
    "        \n",
    "    sp_model_root='sentencepiece'\n",
    "    if not os.path.isdir(sp_model_root): os.mkdir(sp_model_root)\n",
    "    \n",
    "    prefix = 'tokenizer_%s_%s' % (lang,model_type+str(vocab_size))\n",
    "    prefix = os.path.join(sp_model_root, prefix) # 저장될 tokenizer 모델에 붙는 이름\n",
    "    pad_id=0\n",
    "    bos_id=1 #<start> token을 1으로 설정\n",
    "    eos_id=2 #<end> token을 2으로 설정\n",
    "    unk_id=3 #<unknown> token을 3으로 설정\n",
    "    character_coverage = 1.0 # to reduce character set \n",
    "    \n",
    "    # model_type = model_type # Choose from unigram (default), bpe, char, or word\n",
    "    input_argument = '--input=%s --pad_id=%s --bos_id=%s --eos_id=%s --unk_id=%s '\n",
    "    input_argument += '--model_prefix=%s --vocab_size=%s --character_coverage=%s --model_type=%s'\n",
    "    \n",
    "    cmd = input_argument%(input_file, pad_id, bos_id, eos_id, unk_id, prefix, vocab_size, character_coverage, model_type)\n",
    "                      \n",
    "    spm.SentencePieceTrainer.Train(cmd)\n",
    "    tokenizer = spm.SentencePieceProcessor()\n",
    "    tokenizer.Load(f'{prefix}.model')\n",
    "    \n",
    "    return tokenizer\n",
    "#End============================================\n",
    "\n",
    "\n",
    "#Get tokenizer & tensor=========================\n",
    "def sentence_tokenize(data, vocab_size, langue):\n",
    "    tokenizer = generate_tokenizer(data, 'unigram', vocab_size, langue)\n",
    "    if langue == \"en\":\n",
    "        tokenizer.set_encode_extra_options(\"bos:eos\")\n",
    "    \n",
    "    tensor = data.apply(tokenizer.EncodeAsIds).tolist()\n",
    "    tensor = tf.keras.preprocessing.sequence.pad_sequences(\n",
    "        tensor,\n",
    "        padding='post',\n",
    "        maxlen=None\n",
    "    )\n",
    "    return tensor, tokenizer\n",
    "#End============================================"
   ]
  },
  {
   "cell_type": "markdown",
   "id": "civic-cricket",
   "metadata": {},
   "source": [
    "<br>\n",
    "\n",
    "#### SentencePiece를 이용한 문장 토큰화 시행\n",
    "***\n",
    "+ 앞서 생성한 함수를 이용하여 문장 토큰화를 시행 합니다.\n",
    "***"
   ]
  },
  {
   "cell_type": "code",
   "execution_count": 18,
   "id": "removable-seeking",
   "metadata": {},
   "outputs": [],
   "source": [
    "sen_enc_tensor, sen_enc_tokenizer = sentence_tokenize(dataset[\"kor\"], 32000, \"ko\")\n",
    "sen_dec_tensor, sen_dec_tokenizer  = sentence_tokenize(dataset[\"eng\"], 24938, \"en\")"
   ]
  },
  {
   "cell_type": "markdown",
   "id": "applied-wesley",
   "metadata": {},
   "source": [
    "<br>\n",
    "\n",
    "## 6. Transformer 모델 생성\n",
    "***\n",
    "<span style=\"font-size:12pt; line-height:1.7; font-family:Serif;\">\n",
    "    &nbsp; &nbsp; 트랜스포머 모델은 크게 인코더 부분과 디코더 부분으로 이루어져 있습니다. 모델의 목표는 'seq2seq'의 '시계열 데이터를 입력하여 시계열 데이터를 얻는 것'과 동일합니다. 기본적인 아이디어는 'Attention'만을 이용하여 'seq2seq'를 수행 하는 것입니다. 또한, 기존의 'Attention'은 RNN을 이용하여 데이터의 입력이 '순차적'으로 수행되었지만, 트랜스포머의 데이터 입력은 '동시에' 혹은 '병렬적'으로 수행된다는 특징이 있습니다. Transformer의 작동 방식과 각 레이어의 역할에 대한 설명은 'aiffel_exploration' 저장소((Repository)의 <a href=\"https://nbviewer.org/github/YAGI0423/aiffel_exploration/blob/master/exploration_15/EX15_v3_1.ipynb\">[Exploration 15]</a>에서 자세히 다루고 있습니다. \n",
    "</span>\n",
    "\n",
    "***"
   ]
  },
  {
   "cell_type": "markdown",
   "id": "international-platinum",
   "metadata": {},
   "source": [
    "#### Positional 인코딩 레이어 및 멀티 헤드 어텐션 레이어 함수 정의\n",
    "***\n",
    "+ Positional 인코딩 레이어 및 멀티 헤드 어텐션 레이어 함수를 정의 합니다."
   ]
  },
  {
   "cell_type": "code",
   "execution_count": 19,
   "id": "desirable-performance",
   "metadata": {},
   "outputs": [],
   "source": [
    "#Positional Encoding==================================================\n",
    "def positional_encoding(pos, d_model):\n",
    "    def cal_angle(position, i):\n",
    "        return position / np.power(10000, int(i)/d_model)\n",
    "    \n",
    "    def get_posi_angle_vec(position):\n",
    "        return [cal_angle(position, i) for i in range(d_model)]\n",
    "    \n",
    "    sinusoid_table = np.array([get_posi_angle_vec(pos_i) for pos_i in range(pos)])\n",
    "    \n",
    "    sinusoid_table[:, 0::2] = np.sin(sinusoid_table[:, 0::2])\n",
    "    sinusoid_table[:, 1::2] = np.cos(sinusoid_table[:, 1::2])\n",
    "    \n",
    "    return sinusoid_table\n",
    "#End==================================================================\n",
    "\n",
    "\n",
    "#MultiHeadAttention====================================================\n",
    "class MultiHeadAttention(tf.keras.layers.Layer):\n",
    "    def __init__(self, d_model, num_heads):\n",
    "        super(MultiHeadAttention, self).__init__()\n",
    "        self.num_heads = num_heads\n",
    "        self.d_model = d_model\n",
    "            \n",
    "        self.depth = d_model // self.num_heads\n",
    "            \n",
    "        self.W_q = tf.keras.layers.Dense(d_model)\n",
    "        self.W_k = tf.keras.layers.Dense(d_model)\n",
    "        self.W_v = tf.keras.layers.Dense(d_model)\n",
    "            \n",
    "        self.linear = tf.keras.layers.Dense(d_model)\n",
    "\n",
    "    def scaled_dot_product_attention(self, Q, K, V, mask):\n",
    "        d_k = tf.cast(K.shape[-1], tf.float32)\n",
    "        QK = tf.matmul(Q, K, transpose_b=True)\n",
    "\n",
    "        scaled_qk = QK / tf.math.sqrt(d_k)\n",
    "\n",
    "        if mask is not None: scaled_qk += (mask * -1e9)  \n",
    "\n",
    "        attentions = tf.nn.softmax(scaled_qk, axis=-1)\n",
    "        out = tf.matmul(attentions, V)\n",
    "\n",
    "        return out, attentions\n",
    "            \n",
    "\n",
    "    def split_heads(self, x):\n",
    "        batch_size = x.shape[0]\n",
    "        split_x = tf.reshape(x, (batch_size, -1, self.num_heads, self.depth))\n",
    "        split_x = tf.transpose(split_x, perm=[0, 2, 1, 3])\n",
    "\n",
    "        return split_x\n",
    "\n",
    "    def combine_heads(self, x):\n",
    "        batch_size = x.shape[0]\n",
    "        combined_x = tf.transpose(x, perm=[0, 2, 1, 3])\n",
    "        combined_x = tf.reshape(combined_x, (batch_size, -1, self.d_model))\n",
    "\n",
    "        return combined_x\n",
    "\n",
    "        \n",
    "    def call(self, Q, K, V, mask):\n",
    "        WQ = self.W_q(Q)\n",
    "        WK = self.W_k(K)\n",
    "        WV = self.W_v(V)\n",
    "        \n",
    "        WQ_splits = self.split_heads(WQ)\n",
    "        WK_splits = self.split_heads(WK)\n",
    "        WV_splits = self.split_heads(WV)\n",
    "            \n",
    "        out, attention_weights = self.scaled_dot_product_attention(\n",
    "            WQ_splits, WK_splits, WV_splits, mask\n",
    "        )\n",
    "        out = self.combine_heads(out)\n",
    "        out = self.linear(out)\n",
    "                \n",
    "        return out, attention_weights\n",
    "#End==================================================================\n",
    "\n",
    "    \n",
    "#Position-wise Feed-Forward Network===================================\n",
    "class PoswiseFeedForwardNet(tf.keras.layers.Layer):\n",
    "    def __init__(self, d_model, d_ff):\n",
    "        super(PoswiseFeedForwardNet, self).__init__()\n",
    "        self.w_1 = tf.keras.layers.Dense(d_ff, activation='relu')\n",
    "        self.w_2 = tf.keras.layers.Dense(d_model)\n",
    "\n",
    "    def call(self, x):\n",
    "        out = self.w_1(x)\n",
    "        out = self.w_2(out)\n",
    "            \n",
    "        return out\n",
    "#End==================================================================\n",
    "\n",
    "\n",
    "#Mask 레이어==========================================================\n",
    "def generate_padding_mask(seq):\n",
    "    seq = tf.cast(tf.math.equal(seq, 0), tf.float32)\n",
    "    return seq[:, tf.newaxis, tf.newaxis, :]\n",
    "\n",
    "def generate_causality_mask(src_len, tgt_len):\n",
    "    mask = 1 - np.cumsum(np.eye(src_len, tgt_len), 0)\n",
    "    return tf.cast(mask, tf.float32)\n",
    "\n",
    "def generate_masks(src, tgt):\n",
    "    enc_mask = generate_padding_mask(src)\n",
    "    dec_mask = generate_padding_mask(tgt)\n",
    "\n",
    "    dec_enc_causality_mask = generate_causality_mask(tgt.shape[1], src.shape[1])\n",
    "    dec_enc_mask = tf.maximum(enc_mask, dec_enc_causality_mask)\n",
    "\n",
    "    dec_causality_mask = generate_causality_mask(tgt.shape[1], tgt.shape[1])\n",
    "    dec_mask = tf.maximum(dec_mask, dec_causality_mask)\n",
    "\n",
    "    return enc_mask, dec_enc_mask, dec_mask\n",
    "#End=================================================================="
   ]
  },
  {
   "cell_type": "markdown",
   "id": "focused-mystery",
   "metadata": {},
   "source": [
    "<br>\n",
    "\n",
    "#### 인코더 레이어 및 디코더 레이어 함수 정의\n",
    "***\n",
    "+ 인코더 레이어 및 디코더 레이어 함수를 정의 생성합니다."
   ]
  },
  {
   "cell_type": "code",
   "execution_count": 20,
   "id": "constitutional-sample",
   "metadata": {},
   "outputs": [],
   "source": [
    "#Encoder 레이어=======================================================\n",
    "class EncoderLayer(tf.keras.layers.Layer):\n",
    "    def __init__(self, d_model, n_heads, d_ff, dropout):\n",
    "        super(EncoderLayer, self).__init__()\n",
    "\n",
    "        self.enc_self_attn = MultiHeadAttention(d_model, n_heads)\n",
    "        self.ffn = PoswiseFeedForwardNet(d_model, d_ff)\n",
    "\n",
    "        self.norm_1 = tf.keras.layers.LayerNormalization(epsilon=1e-6)\n",
    "        self.norm_2 = tf.keras.layers.LayerNormalization(epsilon=1e-6)\n",
    "\n",
    "        self.dropout = tf.keras.layers.Dropout(dropout)\n",
    "        \n",
    "    def call(self, x, mask):\n",
    "        residual = x\n",
    "        out = self.norm_1(x)\n",
    "        out, enc_attn = self.enc_self_attn(out, out, out, mask)\n",
    "        out = self.dropout(out)\n",
    "        out += residual\n",
    "        \n",
    "        residual = out\n",
    "        out = self.norm_2(out)\n",
    "        out = self.ffn(out)\n",
    "        out = self.dropout(out)\n",
    "        out += residual\n",
    "        \n",
    "        return out, enc_attn\n",
    "#End==================================================================\n",
    "\n",
    "\n",
    "#Decoder 레이어=======================================================\n",
    "class DecoderLayer(tf.keras.layers.Layer):\n",
    "    def __init__(self, d_model, num_heads, d_ff, dropout):\n",
    "        super(DecoderLayer, self).__init__()\n",
    "\n",
    "        self.dec_self_attn = MultiHeadAttention(d_model, num_heads)\n",
    "        self.enc_dec_attn = MultiHeadAttention(d_model, num_heads)\n",
    "\n",
    "        self.ffn = PoswiseFeedForwardNet(d_model, d_ff)\n",
    "\n",
    "        self.norm_1 = tf.keras.layers.LayerNormalization(epsilon=1e-6)\n",
    "        self.norm_2 = tf.keras.layers.LayerNormalization(epsilon=1e-6)\n",
    "        self.norm_3 = tf.keras.layers.LayerNormalization(epsilon=1e-6)\n",
    "\n",
    "        self.dropout = tf.keras.layers.Dropout(dropout)\n",
    "    \n",
    "    def call(self, x, enc_out, causality_mask, padding_mask):\n",
    "        residual = x\n",
    "        out = self.norm_1(x)\n",
    "        out, dec_attn = self.dec_self_attn(out, out, out, padding_mask)\n",
    "        out = self.dropout(out)\n",
    "        out += residual\n",
    "\n",
    "        residual = out\n",
    "        out = self.norm_2(out)\n",
    "        out, dec_enc_attn = self.enc_dec_attn(out, enc_out, enc_out, causality_mask)\n",
    "        out = self.dropout(out)\n",
    "        out += residual\n",
    "       \n",
    "        residual = out\n",
    "        out = self.norm_3(out)\n",
    "        out = self.ffn(out)\n",
    "        out = self.dropout(out)\n",
    "        out += residual\n",
    "\n",
    "        return out, dec_attn, dec_enc_attn\n",
    "#End=================================================================="
   ]
  },
  {
   "cell_type": "markdown",
   "id": "governmental-mauritius",
   "metadata": {},
   "source": [
    "<br>\n",
    "\n",
    "#### 인코더 및 디코더 함수 정의\n",
    "***\n",
    "+ 인코더 및 디코더 함수를 정의 생성합니다."
   ]
  },
  {
   "cell_type": "code",
   "execution_count": 21,
   "id": "satisfactory-color",
   "metadata": {},
   "outputs": [],
   "source": [
    "#Encoder==============================================================\n",
    "class Encoder(tf.keras.Model):\n",
    "    def __init__(self,\n",
    "                 n_layers,\n",
    "                 d_model,\n",
    "                 n_heads,\n",
    "                 d_ff,\n",
    "                 dropout):\n",
    "        super(Encoder, self).__init__()\n",
    "        self.n_layers = n_layers\n",
    "        self.enc_layers = [EncoderLayer(d_model, n_heads, d_ff, dropout) \n",
    "                        for _ in range(n_layers)]\n",
    "        \n",
    "    def call(self, x, mask):\n",
    "        out = x\n",
    "    \n",
    "        enc_attns = list()\n",
    "        for i in range(self.n_layers):\n",
    "            out, enc_attn = self.enc_layers[i](out, mask)\n",
    "            enc_attns.append(enc_attn)\n",
    "        \n",
    "        return out, enc_attns\n",
    "#End==================================================================\n",
    "\n",
    "\n",
    "#Decoder==============================================================\n",
    "class Decoder(tf.keras.Model):\n",
    "    def __init__(self,\n",
    "                 n_layers,\n",
    "                 d_model,\n",
    "                 n_heads,\n",
    "                 d_ff,\n",
    "                 dropout):\n",
    "        super(Decoder, self).__init__()\n",
    "        self.n_layers = n_layers\n",
    "        self.dec_layers = [DecoderLayer(d_model, n_heads, d_ff, dropout) \n",
    "                            for _ in range(n_layers)]\n",
    "                            \n",
    "                            \n",
    "    def call(self, x, enc_out, causality_mask, padding_mask):\n",
    "        out = x\n",
    "    \n",
    "        dec_attns = list()\n",
    "        dec_enc_attns = list()\n",
    "        for i in range(self.n_layers):\n",
    "            out, dec_attn, dec_enc_attn = \\\n",
    "            self.dec_layers[i](out, enc_out, causality_mask, padding_mask)\n",
    "\n",
    "            dec_attns.append(dec_attn)\n",
    "            dec_enc_attns.append(dec_enc_attn)\n",
    "\n",
    "        return out, dec_attns, dec_enc_attns\n",
    "#End=================================================================="
   ]
  },
  {
   "cell_type": "markdown",
   "id": "cardiovascular-majority",
   "metadata": {},
   "source": [
    "<br>\n",
    "\n",
    "#### 트랜스포머 함수 정의\n",
    "***\n",
    "+ 트랜스포머 생성 함수를 정의합니다."
   ]
  },
  {
   "cell_type": "code",
   "execution_count": 22,
   "id": "passing-dimension",
   "metadata": {},
   "outputs": [],
   "source": [
    "class Transformer(tf.keras.Model):\n",
    "    def __init__(self,\n",
    "                    n_layers,\n",
    "                    d_model,\n",
    "                    n_heads,\n",
    "                    d_ff,\n",
    "                    src_vocab_size,\n",
    "                    tgt_vocab_size,\n",
    "                    pos_len,\n",
    "                    dropout=0.2,\n",
    "                    shared=True):\n",
    "        super(Transformer, self).__init__()\n",
    "        self.d_model = tf.cast(d_model, tf.float32)\n",
    "\n",
    "        self.enc_emb = tf.keras.layers.Embedding(src_vocab_size, d_model)\n",
    "        self.dec_emb = tf.keras.layers.Embedding(tgt_vocab_size, d_model)\n",
    "\n",
    "        self.pos_encoding = positional_encoding(pos_len, d_model)\n",
    "        self.dropout = tf.keras.layers.Dropout(dropout)\n",
    "\n",
    "        self.encoder = Encoder(n_layers, d_model, n_heads, d_ff, dropout)\n",
    "        self.decoder = Decoder(n_layers, d_model, n_heads, d_ff, dropout)\n",
    "\n",
    "        self.fc = tf.keras.layers.Dense(tgt_vocab_size)\n",
    "\n",
    "        self.shared = shared\n",
    "\n",
    "        if shared: self.fc.set_weights(tf.transpose(self.dec_emb.weights))\n",
    "\n",
    "            \n",
    "    def embedding(self, emb, x):\n",
    "        seq_len = x.shape[1]\n",
    "        out = emb(x)\n",
    "\n",
    "        if self.shared: out *= tf.math.sqrt(self.d_model)\n",
    "\n",
    "        out += self.pos_encoding[np.newaxis, ...][:, :seq_len, :]\n",
    "        out = self.dropout(out)\n",
    "\n",
    "        return out\n",
    "\n",
    "        \n",
    "    def call(self, enc_in, dec_in, enc_mask, causality_mask, dec_mask):\n",
    "        enc_in = self.embedding(self.enc_emb, enc_in)\n",
    "        dec_in = self.embedding(self.dec_emb, dec_in)\n",
    "\n",
    "        enc_out, enc_attns = self.encoder(enc_in, enc_mask)\n",
    "        \n",
    "        dec_out, dec_attns, dec_enc_attns = \\\n",
    "        self.decoder(dec_in, enc_out, causality_mask, dec_mask)\n",
    "        \n",
    "        logits = self.fc(dec_out)\n",
    "        \n",
    "        return logits, enc_attns, dec_attns, dec_enc_attns"
   ]
  },
  {
   "cell_type": "markdown",
   "id": "suffering-transcription",
   "metadata": {},
   "source": [
    "<br>\n",
    "\n",
    "## 7. 모델 학습\n",
    "***\n",
    "<span style=\"font-size:12pt; line-height:1.7; font-family:Serif;\">\n",
    "    &nbsp; &nbsp; Mecab 데이터와 SentencePiece 데이터를 학습할 각 모델을 생성 합니다. 두 모델은 공정한 평가를 위해 동일한 하이퍼파라미터로 설정 합니다. 트랜스포머 모델은 두 층의 인코딩, 디코딩 레이어를 사용 합니다. 임베딩 사이즈는 256이며 멀티 헤드의 개수는 8개로 설정 하였습니다. 또한 학습 옵티마이저는 Adam을 사용하며 배치 사이즈는 64로 설정하고 5epoch 마다 한국어 예제 문장을 모델에 입력하여 번역 결과를 출력하고 최종 epoch에서는 Attention Map을 시각화 합니다. [표 3]은 테스트 시 입력되는 한국어 문장을 제시한 것입니다.\n",
    "</span>\n",
    "\n",
    "|Index|입력 한국어 문장|\n",
    "|:--------:|:--------:|\n",
    "|1|오바마는 대통령이다.|\n",
    "|2|시민들은 도시 속에 산다.|\n",
    "|3|커피는 필요 없다.|\n",
    "|4|일곱 명의 사망자가 발생했다.|\n",
    "|5|나는 고양이다.|\n",
    "|6|아버지가 방에 들어가신다.|\n",
    "|7|아버지 가방에 들어가신다.|\n",
    "|8|오늘은 크리스마스다.|\n",
    "\n",
    "[표 3] 테스트 한국어 문장\n",
    "\n",
    "***"
   ]
  },
  {
   "cell_type": "markdown",
   "id": "fundamental-coffee",
   "metadata": {},
   "source": [
    "#### 학습 옵티마이저 설정\n",
    "***\n",
    "+ 학습률의 경우 고정된 값을 이용하지 않고 `LearningRateScheduler`를 이용하여, 높은 학습률로부터 점차 낮추는 방식을 사용 합니다.\n",
    "\n",
    "\n",
    "+ 옵티마이저는 Adam을 이용합니다.\n",
    "***"
   ]
  },
  {
   "cell_type": "code",
   "execution_count": 23,
   "id": "static-momentum",
   "metadata": {},
   "outputs": [],
   "source": [
    "#LearningRateScheduler=====================\n",
    "class LearningRateScheduler(tf.keras.optimizers.schedules.LearningRateSchedule):\n",
    "    def __init__(self, d_model, warmup_steps=4000):\n",
    "        super(LearningRateScheduler, self).__init__()\n",
    "        self.d_model = d_model\n",
    "        self.warmup_steps = warmup_steps\n",
    "    \n",
    "    def __call__(self, step):\n",
    "        arg1 = step ** -0.5\n",
    "        arg2 = step * (self.warmup_steps ** -1.5)\n",
    "        \n",
    "        return (self.d_model ** -0.5) * tf.math.minimum(arg1, arg2)\n",
    "#End=======================================\n",
    "\n",
    "\n",
    "#손실 함수=================================  \n",
    "def loss_function(real, pred):\n",
    "    mask = tf.math.logical_not(tf.math.equal(real, 0))\n",
    "    loss_ = loss_object(real, pred)\n",
    "    mask = tf.cast(mask, dtype=loss_.dtype)\n",
    "    loss_ *= mask\n",
    "    return tf.reduce_sum(loss_)/tf.reduce_sum(mask)    \n",
    "#End=======================================\n",
    "\n",
    "    \n",
    "learning_rate = LearningRateScheduler(512)\n",
    "optimizer = tf.keras.optimizers.Adam(\n",
    "    learning_rate, beta_1=0.9, beta_2=0.98, epsilon=1e-9\n",
    ")\n",
    "\n",
    "loss_object = tf.keras.losses.SparseCategoricalCrossentropy(\n",
    "    from_logits=True, reduction='none')"
   ]
  },
  {
   "cell_type": "markdown",
   "id": "motivated-naples",
   "metadata": {},
   "source": [
    "<br>\n",
    "\n",
    "#### 학습 함수 정의\n",
    "***\n",
    "+ 'GradientTape'를 이용하여 학습 함수를 정의 합니다.\n",
    "***"
   ]
  },
  {
   "cell_type": "code",
   "execution_count": 24,
   "id": "minor-destiny",
   "metadata": {},
   "outputs": [],
   "source": [
    "# Train Step 함수======================================\n",
    "\n",
    "@tf.function()\n",
    "def train_step(src, tgt, model, optimizer):\n",
    "    gold = tgt[:, 1:]\n",
    "        \n",
    "    enc_mask, dec_enc_mask, dec_mask = generate_masks(src, tgt)\n",
    "\n",
    "    with tf.GradientTape() as tape:\n",
    "        predictions, enc_attns, dec_attns, dec_enc_attns = \\\n",
    "        model(src, tgt, enc_mask, dec_enc_mask, dec_mask)\n",
    "        loss = loss_function(gold, predictions[:, :-1])\n",
    "\n",
    "    # 최종적으로 optimizer.apply_gradients()가 사용됩니다. \n",
    "    gradients = tape.gradient(loss, model.trainable_variables)    \n",
    "    optimizer.apply_gradients(zip(gradients, model.trainable_variables))\n",
    "    \n",
    "    return loss, enc_attns, dec_attns, dec_enc_attns\n",
    "#End==================================================="
   ]
  },
  {
   "cell_type": "markdown",
   "id": "atlantic-drill",
   "metadata": {},
   "source": [
    "<br>\n",
    "\n",
    "#### 학습 과정 출력 함수 정의\n",
    "***\n",
    "+ 학습 과정 중, 모델에 한국어 문장을 입력하여 변역 결과를 출력 합니다.\n",
    "***"
   ]
  },
  {
   "cell_type": "code",
   "execution_count": 25,
   "id": "hungry-carpet",
   "metadata": {},
   "outputs": [],
   "source": [
    "# Attention 시각화 함수================================\n",
    "def visualize_attention(src, tgt, enc_attns, dec_attns, dec_enc_attns):\n",
    "    def draw(data, ax, x=\"auto\", y=\"auto\"):\n",
    "        seaborn.heatmap(\n",
    "            data, \n",
    "            square=True,\n",
    "            vmin=0.0, vmax=1.0, \n",
    "            cbar=False, ax=ax,\n",
    "            xticklabels=x, yticklabels=y\n",
    "        )\n",
    "        \n",
    "    for layer in range(0, 2, 1):\n",
    "        fig, axs = plt.subplots(1, 4, figsize=(20, 10))\n",
    "        print(f\"< Encoder Layer(=Self Attention) {layer + 1} >\".center(100, \"=\"))\n",
    "        for h in range(4):\n",
    "            draw(enc_attns[layer][0, h, :len(src), :len(src)], axs[h], src, src)\n",
    "        plt.show()\n",
    "        print(\"=\" * 100, end=\"\\n\\n\\n\")\n",
    "        \n",
    "    for layer in range(0, 2, 1):\n",
    "        fig, axs = plt.subplots(1, 4, figsize=(20, 10))\n",
    "        print(f\"< Decoder Self Layer {layer + 1} >\".center(100, \"=\"))\n",
    "        for h in range(4):\n",
    "            draw(dec_attns[layer][0, h, :len(tgt), :len(tgt)], axs[h], tgt, tgt)\n",
    "        plt.show()\n",
    "        print(\"=\" * 100, end=\"\\n\\n\\n\")\n",
    "\n",
    "        print(f\"< Decoder Layer(Context Vector By Decoder Input) {layer + 1} >\".center(100, \"=\"))\n",
    "        fig, axs = plt.subplots(1, 4, figsize=(20, 10))\n",
    "        for h in range(4):\n",
    "            draw(dec_enc_attns[layer][0, h, :len(tgt), :len(src)], axs[h], src, tgt)\n",
    "        plt.show()\n",
    "        print(\"=\" * 100, end=\"\\n\\n\\n\")\n",
    "#End===================================================\n",
    "\n",
    "\n",
    "#번역 함수=============================================\n",
    "def evaluate(\n",
    "    sentence,\n",
    "    model,\n",
    "    src_tokenizer, tgt_tokenizer,\n",
    "    enc_maxlen, dec_maxlen,\n",
    "    tokenizer_type\n",
    "):\n",
    "    #tokenizer_type = True: Mecab, False: SentencePiece\n",
    "    \n",
    "    def idx_to_text(idx, tokenizer_type):\n",
    "        if tokenizer_type:\n",
    "            return tgt_tokenizer.sequences_to_texts([idx])\n",
    "        else:\n",
    "            return tgt_tokenizer.decode_ids(idx)\n",
    "        \n",
    "    sentence = preprocess_sentence(sentence)\n",
    "    \n",
    "    if tokenizer_type:\n",
    "        m = Mecab()\n",
    "        sentence = m.morphs(sentence)\n",
    "        pieces = sentence\n",
    "        _input = src_tokenizer.texts_to_sequences([sentence])\n",
    "        \n",
    "        sos_idx = tgt_tokenizer.word_index['<sos>']\n",
    "        eos_idx = tgt_tokenizer.word_index['<eos>']\n",
    "    else:\n",
    "        pieces = src_tokenizer.encode_as_pieces(sentence)\n",
    "        _input = [src_tokenizer.encode_as_ids(sentence)]\n",
    "        \n",
    "        sos_idx = tgt_tokenizer.bos_id()\n",
    "        eos_idx = tgt_tokenizer.eos_id()\n",
    "        \n",
    "    _input = tf.keras.preprocessing.sequence.pad_sequences(\n",
    "        _input,\n",
    "        maxlen=enc_maxlen,\n",
    "        padding='post'\n",
    "    )\n",
    "    \n",
    "    ids = []\n",
    "    output = tf.expand_dims([sos_idx], 0)\n",
    "    \n",
    "    for i in range(dec_maxlen):\n",
    "        enc_padding_mask, combined_mask, dec_padding_mask = \\\n",
    "        generate_masks(_input, output)\n",
    "        \n",
    "        predictions, enc_attns, dec_attns, dec_enc_attns =\\\n",
    "        model(_input, output, enc_padding_mask, combined_mask, dec_padding_mask)\n",
    "        \n",
    "        predicted_id = tf.argmax(\n",
    "            tf.math.softmax(predictions, axis=-1)[0, -1]\n",
    "        ).numpy().item()\n",
    "        \n",
    "        if predicted_id == eos_idx:\n",
    "            result = idx_to_text(ids, tokenizer_type)\n",
    "            return pieces, result, enc_attns, dec_attns, dec_enc_attns\n",
    "        \n",
    "        ids.append(predicted_id)\n",
    "        output = tf.concat([output, tf.expand_dims([predicted_id], 0)], axis=-1)\n",
    "    result = idx_to_text(ids, tokenizer_type)\n",
    "    return pieces, result, enc_attns, dec_attns, dec_enc_attns\n",
    "#End===================================================\n",
    "\n",
    "\n",
    "#번역 함수2============================================\n",
    "def translate(\n",
    "    sentence,\n",
    "    model,\n",
    "    src_tokenizer, tgt_tokenizer,\n",
    "    enc_maxlen, dec_maxlen,\n",
    "    plot_attention=False,\n",
    "    tokenizer_type=True\n",
    "):\n",
    "    pieces, result, enc_attns, dec_attns, dec_enc_attns = \\\n",
    "    evaluate(\n",
    "        sentence,\n",
    "        model,\n",
    "        src_tokenizer, tgt_tokenizer,\n",
    "        enc_maxlen, dec_maxlen,\n",
    "        tokenizer_type=tokenizer_type\n",
    "    )\n",
    "    if tokenizer_type:\n",
    "        result = \" \".join(result) \n",
    "    if plot_attention:\n",
    "        visualize_attention(pieces, result.split(), enc_attns, dec_attns, dec_enc_attns)\n",
    "    else:\n",
    "        print(\"Korean Sentence:\".rjust(18), sentence)\n",
    "        print(\"English Sentence:\".rjust(18), result, end=\"\\n\\n\")\n",
    "#End==================================================="
   ]
  },
  {
   "cell_type": "markdown",
   "id": "detected-gravity",
   "metadata": {},
   "source": [
    "<br>\n",
    "\n",
    "#### 최종 학습 함수 정의\n",
    "***\n",
    "+ 배치 사이즈는 64로 설정하고 학습 회수는 10회로 설정합니다.\n",
    "\n",
    "\n",
    "+ 5 epoch 마다 한국어 예제 문장을 입력하여 번역 결과를 출력하고 마지막 epoch에서는 Attention Map을 시각화 합니다.\n",
    "***"
   ]
  },
  {
   "cell_type": "code",
   "execution_count": 26,
   "id": "basic-james",
   "metadata": {
    "scrolled": false
   },
   "outputs": [],
   "source": [
    "BATCH_SIZE = 64\n",
    "EPOCHS = 10\n",
    "\n",
    "examples = [\n",
    "    \"오바마는 대통령이다.\", \"시민들은 도시 속에 산다.\",\n",
    "    \"커피는 필요 없다.\", \"일곱 명의 사망자가 발생했다.\",\n",
    "    \"나는 고양이다.\", \"아버지가 방에 들어가신다.\",\n",
    "    \"아버지 가방에 들어가신다.\", \"오늘은 크리스마스다.\"\n",
    "]\n",
    "\n",
    "def fit(enc_train, dec_train, enc_tokenizer, dec_tokenizer, tokenizer_type=True):\n",
    "    enc_maxlen, dec_maxlen = enc_train.shape[-1], dec_train.shape[-1]\n",
    "    \n",
    "    for epoch in range(EPOCHS):\n",
    "        total_loss = 0\n",
    "\n",
    "        idx_list = list(range(0, enc_train.shape[0], BATCH_SIZE))\n",
    "        random.shuffle(idx_list)\n",
    "        t = tqdm_notebook(idx_list)\n",
    "\n",
    "        for (batch, idx) in enumerate(t):\n",
    "            batch_loss, enc_attns, dec_attns, dec_enc_attns = \\\n",
    "            train_step(\n",
    "                enc_train[idx:idx+BATCH_SIZE],\n",
    "                dec_train[idx:idx+BATCH_SIZE],\n",
    "                transformer,\n",
    "                optimizer\n",
    "            )\n",
    "\n",
    "            total_loss += batch_loss\n",
    "\n",
    "            t.set_description_str('Epoch %2d' % (epoch + 1))\n",
    "            t.set_postfix_str('Loss %.3f' % (total_loss.numpy() / (batch + 1)))\n",
    "        \n",
    "        if (epoch+1) % 5 == 0:\n",
    "            print(f\"< EPOCH {epoch} >\".center(100, \"=\")) \n",
    "            for example in examples: \n",
    "                translate(\n",
    "                    example,\n",
    "                    transformer,\n",
    "                    enc_tokenizer, dec_tokenizer,\n",
    "                    enc_maxlen, dec_maxlen,\n",
    "                    tokenizer_type=tokenizer_type,\n",
    "                    plot_attention=False\n",
    "                )\n",
    "            print(\"=\" * 100, end=\"\\n\\n\\n\")\n",
    "        \n",
    "        if (epoch+1) == EPOCHS:\n",
    "            translate(\n",
    "                examples[0],\n",
    "                transformer,\n",
    "                enc_tokenizer, dec_tokenizer,\n",
    "                enc_maxlen, dec_maxlen,\n",
    "                tokenizer_type=tokenizer_type,\n",
    "                plot_attention=True\n",
    "            )\n"
   ]
  },
  {
   "cell_type": "markdown",
   "id": "vulnerable-dubai",
   "metadata": {},
   "source": [
    "<br>\n",
    "\n",
    "### 7.1. Mecab 기반 모델\n",
    "***\n",
    "<span style=\"font-size:12pt; line-height:1.7; font-family:Serif;\">\n",
    "    &nbsp; &nbsp; 한국어 문장의 경우 Mecab을 이용하여 형태소 기준으로 토큰화를 수행하고 영어의 경우 공백을 기준으로 토큰화를 수행하였습니다. 그 결과 한국어의 단어사전 크기는 42,516개 이고 영어의 경우 37,506개 입니다. 따라서 Mecab 기반 모델의 단어 사이즈는 이를 기반으로 설정 하고 그외의 하이퍼파라미터는 동일하게 설정 합니다. 최종 손실값은 2.350 입니다.\n",
    "</span><br><br>\n",
    "\n",
    "<span style=\"font-size:12pt; line-height:1.7; font-family:Serif;\">\n",
    "    &nbsp; &nbsp; 8개의 한국어 문장을 입력하여 모델이 출력한 번역 문장을 확인한 결과, '오바마는 대통령이다.', '시민들은 도시 속에산다' 등의 한국어 문장을 'obama is the president.', 'citizens are generally much in cities.'로 올바르게 번역하였습니다. 그러나, 'seven of the seven deaths.', 'today's christmas is today.'와 같이 의미는 이해할 수 있지만 문법이 잘 못된 번역이 이루어진 경우도 존재 합니다.\n",
    "</span><br><br>\n",
    "\n",
    "<span style=\"font-size:12pt; line-height:1.7; font-family:Serif;\">\n",
    "    &nbsp; &nbsp; 인코더와 디코더의 셀프 어텐션과 인코더-디코더 어텐션을 시각화 하였습니다. 인코더-디코더 어텐션 시각화 결과를 확인하였을 때, '오바마'와 'obama' 그리고 '오바마'와 'president'의 연관도가 높음을 알 수 있습니다. 이는 Transformer 모델이 'obama'가 'president'인 것을 올바르게 학습한 것이라 할 수 있습니다.\n",
    "</span>\n",
    "\n",
    "***"
   ]
  },
  {
   "cell_type": "markdown",
   "id": "infinite-desperate",
   "metadata": {},
   "source": [
    "#### 모델 생성 및 학습\n",
    "***\n",
    "+ Mecab 데이터를 학습할 모델을 생성하고 학습 합니다.\n",
    "\n",
    "\n",
    "+ 인코더 단어사전의 크기는 42,516이며, 디코더 단어사전의 크기는 37,506으로 설정 합니다.\n",
    "***"
   ]
  },
  {
   "cell_type": "code",
   "execution_count": 27,
   "id": "south-companion",
   "metadata": {
    "scrolled": false
   },
   "outputs": [
    {
     "name": "stderr",
     "output_type": "stream",
     "text": [
      "/opt/conda/lib/python3.7/site-packages/ipykernel_launcher.py:19: TqdmDeprecationWarning: This function will be removed in tqdm==5.0.0\n",
      "Please use `tqdm.notebook.tqdm` instead of `tqdm.tqdm_notebook`\n"
     ]
    },
    {
     "data": {
      "application/vnd.jupyter.widget-view+json": {
       "model_id": "70bcf074ba254214a532999d6f54f28a",
       "version_major": 2,
       "version_minor": 0
      },
      "text/plain": [
       "  0%|          | 0/1207 [00:00<?, ?it/s]"
      ]
     },
     "metadata": {},
     "output_type": "display_data"
    },
    {
     "data": {
      "application/vnd.jupyter.widget-view+json": {
       "model_id": "a63f2d03d4ca46a598024847eef59b09",
       "version_major": 2,
       "version_minor": 0
      },
      "text/plain": [
       "  0%|          | 0/1207 [00:00<?, ?it/s]"
      ]
     },
     "metadata": {},
     "output_type": "display_data"
    },
    {
     "data": {
      "application/vnd.jupyter.widget-view+json": {
       "model_id": "ae2c041ec50b46c08108bd4810d5526f",
       "version_major": 2,
       "version_minor": 0
      },
      "text/plain": [
       "  0%|          | 0/1207 [00:00<?, ?it/s]"
      ]
     },
     "metadata": {},
     "output_type": "display_data"
    },
    {
     "data": {
      "application/vnd.jupyter.widget-view+json": {
       "model_id": "0f4935bfdae34554bfd2bbad89723aba",
       "version_major": 2,
       "version_minor": 0
      },
      "text/plain": [
       "  0%|          | 0/1207 [00:00<?, ?it/s]"
      ]
     },
     "metadata": {},
     "output_type": "display_data"
    },
    {
     "data": {
      "application/vnd.jupyter.widget-view+json": {
       "model_id": "dfe7ee644a5a46f1b6e8a3a3ce7472a6",
       "version_major": 2,
       "version_minor": 0
      },
      "text/plain": [
       "  0%|          | 0/1207 [00:00<?, ?it/s]"
      ]
     },
     "metadata": {},
     "output_type": "display_data"
    },
    {
     "name": "stdout",
     "output_type": "stream",
     "text": [
      "============================================< EPOCH 4 >=============================================\n",
      "  Korean Sentence: 오바마는 대통령이다.\n",
      " English Sentence: obama s president is a kind of american .\n",
      "\n",
      "  Korean Sentence: 시민들은 도시 속에 산다.\n",
      " English Sentence: citizens are citizens of the cities of the cities .\n",
      "\n",
      "  Korean Sentence: 커피는 필요 없다.\n",
      " English Sentence: coffee is not a coffee coffee\n",
      "\n",
      "  Korean Sentence: 일곱 명의 사망자가 발생했다.\n",
      " English Sentence: seven people were killed .\n",
      "\n",
      "  Korean Sentence: 나는 고양이다.\n",
      " English Sentence: i m cat .\n",
      "\n",
      "  Korean Sentence: 아버지가 방에 들어가신다.\n",
      " English Sentence: father father and father of the father of the room , which was sent to the room to the room .\n",
      "\n",
      "  Korean Sentence: 아버지 가방에 들어가신다.\n",
      " English Sentence: the bag bag to bag , the bag .\n",
      "\n",
      "  Korean Sentence: 오늘은 크리스마스다.\n",
      " English Sentence: this christmas christmas shoppers are christmas .\n",
      "\n",
      "====================================================================================================\n",
      "\n",
      "\n"
     ]
    },
    {
     "data": {
      "application/vnd.jupyter.widget-view+json": {
       "model_id": "e0cffe63e81b4107beaf4fc53682d61e",
       "version_major": 2,
       "version_minor": 0
      },
      "text/plain": [
       "  0%|          | 0/1207 [00:00<?, ?it/s]"
      ]
     },
     "metadata": {},
     "output_type": "display_data"
    },
    {
     "data": {
      "application/vnd.jupyter.widget-view+json": {
       "model_id": "6a1e1e5e9083463bb30490b7c5db0f9e",
       "version_major": 2,
       "version_minor": 0
      },
      "text/plain": [
       "  0%|          | 0/1207 [00:00<?, ?it/s]"
      ]
     },
     "metadata": {},
     "output_type": "display_data"
    },
    {
     "data": {
      "application/vnd.jupyter.widget-view+json": {
       "model_id": "6e9203ccc6db4e9d96d7ef12e2108058",
       "version_major": 2,
       "version_minor": 0
      },
      "text/plain": [
       "  0%|          | 0/1207 [00:00<?, ?it/s]"
      ]
     },
     "metadata": {},
     "output_type": "display_data"
    },
    {
     "data": {
      "application/vnd.jupyter.widget-view+json": {
       "model_id": "0fbe44a7f5c64f40af9e8e430a869843",
       "version_major": 2,
       "version_minor": 0
      },
      "text/plain": [
       "  0%|          | 0/1207 [00:00<?, ?it/s]"
      ]
     },
     "metadata": {},
     "output_type": "display_data"
    },
    {
     "data": {
      "application/vnd.jupyter.widget-view+json": {
       "model_id": "42ce3933f5d142249c4cff25c9dd0c4a",
       "version_major": 2,
       "version_minor": 0
      },
      "text/plain": [
       "  0%|          | 0/1207 [00:00<?, ?it/s]"
      ]
     },
     "metadata": {},
     "output_type": "display_data"
    },
    {
     "name": "stdout",
     "output_type": "stream",
     "text": [
      "============================================< EPOCH 9 >=============================================\n",
      "  Korean Sentence: 오바마는 대통령이다.\n",
      " English Sentence: obama is the president .\n",
      "\n",
      "  Korean Sentence: 시민들은 도시 속에 산다.\n",
      " English Sentence: citizens are generally much in cities .\n",
      "\n",
      "  Korean Sentence: 커피는 필요 없다.\n",
      " English Sentence: why don t take advantage of the coffee .\n",
      "\n",
      "  Korean Sentence: 일곱 명의 사망자가 발생했다.\n",
      " English Sentence: seven of the seven deaths .\n",
      "\n",
      "  Korean Sentence: 나는 고양이다.\n",
      " English Sentence: i m cat .\n",
      "\n",
      "  Korean Sentence: 아버지가 방에 들어가신다.\n",
      " English Sentence: father and brother husband , like he was taken to a room .\n",
      "\n",
      "  Korean Sentence: 아버지 가방에 들어가신다.\n",
      " English Sentence: then bag contained bag bag , and bag .\n",
      "\n",
      "  Korean Sentence: 오늘은 크리스마스다.\n",
      " English Sentence: today s christmas is today .\n",
      "\n",
      "====================================================================================================\n",
      "\n",
      "\n",
      "================================< Encoder Layer(=Self Attention) 1 >================================\n"
     ]
    },
    {
     "data": {
      "image/png": "[encoded data removed]",
      "text/plain": [
       "<Figure size 1440x720 with 4 Axes>"
      ]
     },
     "metadata": {
      "image/png": {
       "height": 275,
       "width": 1148
      },
      "needs_background": "light"
     },
     "output_type": "display_data"
    },
    {
     "name": "stdout",
     "output_type": "stream",
     "text": [
      "====================================================================================================\n",
      "\n",
      "\n",
      "================================< Encoder Layer(=Self Attention) 2 >================================\n"
     ]
    },
    {
     "data": {
      "image/png": "[encoded data removed]",
      "text/plain": [
       "<Figure size 1440x720 with 4 Axes>"
      ]
     },
     "metadata": {
      "image/png": {
       "height": 275,
       "width": 1148
      },
      "needs_background": "light"
     },
     "output_type": "display_data"
    },
    {
     "name": "stdout",
     "output_type": "stream",
     "text": [
      "====================================================================================================\n",
      "\n",
      "\n",
      "======================================< Decoder Self Layer 1 >======================================\n"
     ]
    },
    {
     "data": {
      "image/png": "[encoded data removed]",
      "text/plain": [
       "<Figure size 1440x720 with 4 Axes>"
      ]
     },
     "metadata": {
      "image/png": {
       "height": 275,
       "width": 1148
      },
      "needs_background": "light"
     },
     "output_type": "display_data"
    },
    {
     "name": "stdout",
     "output_type": "stream",
     "text": [
      "====================================================================================================\n",
      "\n",
      "\n",
      "========================< Decoder Layer(Context Vector By Decoder Input) 1 >========================\n"
     ]
    },
    {
     "data": {
      "image/png": "[encoded data removed]",
      "text/plain": [
       "<Figure size 1440x720 with 4 Axes>"
      ]
     },
     "metadata": {
      "image/png": {
       "height": 234,
       "width": 1181
      },
      "needs_background": "light"
     },
     "output_type": "display_data"
    },
    {
     "name": "stdout",
     "output_type": "stream",
     "text": [
      "====================================================================================================\n",
      "\n",
      "\n",
      "======================================< Decoder Self Layer 2 >======================================\n"
     ]
    },
    {
     "data": {
      "image/png": "[encoded data removed]",
      "text/plain": [
       "<Figure size 1440x720 with 4 Axes>"
      ]
     },
     "metadata": {
      "image/png": {
       "height": 275,
       "width": 1148
      },
      "needs_background": "light"
     },
     "output_type": "display_data"
    },
    {
     "name": "stdout",
     "output_type": "stream",
     "text": [
      "====================================================================================================\n",
      "\n",
      "\n",
      "========================< Decoder Layer(Context Vector By Decoder Input) 2 >========================\n"
     ]
    },
    {
     "data": {
      "image/png": "[encoded data removed]",
      "text/plain": [
       "<Figure size 1440x720 with 4 Axes>"
      ]
     },
     "metadata": {
      "image/png": {
       "height": 234,
       "width": 1181
      },
      "needs_background": "light"
     },
     "output_type": "display_data"
    },
    {
     "name": "stdout",
     "output_type": "stream",
     "text": [
      "====================================================================================================\n",
      "\n",
      "\n"
     ]
    }
   ],
   "source": [
    "transformer = Transformer(\n",
    "    n_layers=2,\n",
    "    d_model=256,\n",
    "    n_heads=8,\n",
    "    d_ff=128,\n",
    "    dropout=0.2,\n",
    "    pos_len=200,\n",
    "    shared=True,\n",
    "    src_vocab_size=42516, tgt_vocab_size=37506\n",
    ")\n",
    "\n",
    "fit(mecab_enc_tensor, mecab_dec_tensor,mecab_enc_tokenizer, mecab_dec_tokenizer, tokenizer_type=True)   #mecab"
   ]
  },
  {
   "cell_type": "markdown",
   "id": "wound-hunter",
   "metadata": {},
   "source": [
    "<br>\n",
    "\n",
    "### 7.2. SentencePiece 기반 모델\n",
    "***\n",
    "<span style=\"font-size:12pt; line-height:1.7; font-family:Serif;\">\n",
    "    &nbsp; &nbsp; SentencePiece는 문자의 빈도에 따라 토큰화를 진행하여 다양한 언어를 적용할 수 있다는 점과 OOV 문제를 해소할 수 있다는 장점이 있습니다. 따라서, 한국어와 영어 모두 SentencePiece를 이용하여 토큰화를 진행 하였습니다. 한국어의 단어사전 크기는 32,000개 이고 영어의 경우 24938개 입니다.\n",
    "</span><br><br>\n",
    "\n",
    "<span style=\"font-size:12pt; line-height:1.7; font-family:Serif;\">\n",
    "    &nbsp; &nbsp; 8개의 한국어 문장을 입력하여 모델이 출력한 번역 문장을 확인한 결과, '오바마는 대통령이다.' 한국어 문장을 'obama is the president.'로 올바르게 번역하였습니다. 그러나, 'seven seven seven deaths seven deaths.', 'i was a cat to be cat cat cat cat cat cat cat cat cat cat cat cat cat cat cat cat cat.'과 같이 동일한 단어를 반복하고 번역이 올바르게 번역되지 않은 경우가 'Mecab'을 이용한 경우보다 잦습니다. 이러한 현상은 학습 초기에 발생하며, 학습이 지속될 수록 개선 됩니다. 본 예제에서는 Mecab과 SentencePiece의 공정한 비교를 위해 학습 회수를 동일하게 설정 하였습니다. 실제 한국어에 대해서는 Mecab이 SentencePiece에 비해 성능이 좋은 경우가 많습니다. 그럼에도 불구하고 SentencePiece가 주로 사용되는 이유는 대부분의 언어에 적용되는 토크나이저로 BaseLine과 같이 사용되기 때문 입니다.\n",
    "</span><br><br>\n",
    "\n",
    "<span style=\"font-size:12pt; line-height:1.7; font-family:Serif;\">\n",
    "    &nbsp; &nbsp; 인코더와 디코더의 셀프 어텐션과 인코더-디코더 어텐션을 시각화 하였습니다. 인코더-디코더 어텐션 시각화 결과를 확인하였을 때, '오바마'와 'obama' 그리고 '오바마'와 'president'의 연관도가 높음을 알 수 있습니다. SentencePiece 모델 또한, Transformer 모델이 'obama'가 'president'인 것을 올바르게 학습한 것이라 할 수 있습니다.\n",
    "</span>\n",
    "\n",
    "***"
   ]
  },
  {
   "cell_type": "markdown",
   "id": "several-birthday",
   "metadata": {},
   "source": [
    "#### 모델 생성 및 학습\n",
    "***\n",
    "+ SentencePiece 데이터를 학습할 모델을 생성하고 학습 합니다.\n",
    "\n",
    "\n",
    "+ 인코더 단어사전의 크기는 32,000이며, 디코더 단어사전의 크기는 24,938으로 설정 합니다.\n",
    "***"
   ]
  },
  {
   "cell_type": "code",
   "execution_count": 29,
   "id": "secret-subscriber",
   "metadata": {
    "scrolled": false
   },
   "outputs": [
    {
     "name": "stderr",
     "output_type": "stream",
     "text": [
      "/opt/conda/lib/python3.7/site-packages/ipykernel_launcher.py:19: TqdmDeprecationWarning: This function will be removed in tqdm==5.0.0\n",
      "Please use `tqdm.notebook.tqdm` instead of `tqdm.tqdm_notebook`\n"
     ]
    },
    {
     "data": {
      "application/vnd.jupyter.widget-view+json": {
       "model_id": "bef814c503714e97bce3de4296358658",
       "version_major": 2,
       "version_minor": 0
      },
      "text/plain": [
       "  0%|          | 0/1207 [00:00<?, ?it/s]"
      ]
     },
     "metadata": {},
     "output_type": "display_data"
    },
    {
     "data": {
      "application/vnd.jupyter.widget-view+json": {
       "model_id": "314dca474d59417eba0cab0df924211d",
       "version_major": 2,
       "version_minor": 0
      },
      "text/plain": [
       "  0%|          | 0/1207 [00:00<?, ?it/s]"
      ]
     },
     "metadata": {},
     "output_type": "display_data"
    },
    {
     "data": {
      "application/vnd.jupyter.widget-view+json": {
       "model_id": "85291ee8f17748158f98e5b19526b820",
       "version_major": 2,
       "version_minor": 0
      },
      "text/plain": [
       "  0%|          | 0/1207 [00:00<?, ?it/s]"
      ]
     },
     "metadata": {},
     "output_type": "display_data"
    },
    {
     "data": {
      "application/vnd.jupyter.widget-view+json": {
       "model_id": "1abceaa5a9c24e66a85ff38593405cb4",
       "version_major": 2,
       "version_minor": 0
      },
      "text/plain": [
       "  0%|          | 0/1207 [00:00<?, ?it/s]"
      ]
     },
     "metadata": {},
     "output_type": "display_data"
    },
    {
     "data": {
      "application/vnd.jupyter.widget-view+json": {
       "model_id": "8b6a029a6fc646c4b79972ebc820bc71",
       "version_major": 2,
       "version_minor": 0
      },
      "text/plain": [
       "  0%|          | 0/1207 [00:00<?, ?it/s]"
      ]
     },
     "metadata": {},
     "output_type": "display_data"
    },
    {
     "name": "stdout",
     "output_type": "stream",
     "text": [
      "============================================< EPOCH 4 >=============================================\n",
      "  Korean Sentence: 오바마는 대통령이다.\n",
      " English Sentence: obama is very president .\n",
      "\n",
      "  Korean Sentence: 시민들은 도시 속에 산다.\n",
      " English Sentence: relatives of the city s largest city .\n",
      "\n",
      "  Korean Sentence: 커피는 필요 없다.\n",
      " English Sentence: coffee needed to be free .\n",
      "\n",
      "  Korean Sentence: 일곱 명의 사망자가 발생했다.\n",
      " English Sentence: seven seven seven seven seven seven people were killed .\n",
      "\n",
      "  Korean Sentence: 나는 고양이다.\n",
      " English Sentence: i don t enjoy my cat .\n",
      "\n",
      "  Korean Sentence: 아버지가 방에 들어가신다.\n",
      " English Sentence: dad s room is being a room .\n",
      "\n",
      "  Korean Sentence: 아버지 가방에 들어가신다.\n",
      " English Sentence: father , the father of daddy .\n",
      "\n",
      "  Korean Sentence: 오늘은 크리스마스다.\n",
      " English Sentence: christmas . christmas .\n",
      "\n",
      "====================================================================================================\n",
      "\n",
      "\n"
     ]
    },
    {
     "data": {
      "application/vnd.jupyter.widget-view+json": {
       "model_id": "a30b50cb0ff648a8bb5f92b9e3eb0bf9",
       "version_major": 2,
       "version_minor": 0
      },
      "text/plain": [
       "  0%|          | 0/1207 [00:00<?, ?it/s]"
      ]
     },
     "metadata": {},
     "output_type": "display_data"
    },
    {
     "data": {
      "application/vnd.jupyter.widget-view+json": {
       "model_id": "1de3015573d14446af1a866143ff43e8",
       "version_major": 2,
       "version_minor": 0
      },
      "text/plain": [
       "  0%|          | 0/1207 [00:00<?, ?it/s]"
      ]
     },
     "metadata": {},
     "output_type": "display_data"
    },
    {
     "data": {
      "application/vnd.jupyter.widget-view+json": {
       "model_id": "08f97bedf1e64436a64fade771176d93",
       "version_major": 2,
       "version_minor": 0
      },
      "text/plain": [
       "  0%|          | 0/1207 [00:00<?, ?it/s]"
      ]
     },
     "metadata": {},
     "output_type": "display_data"
    },
    {
     "data": {
      "application/vnd.jupyter.widget-view+json": {
       "model_id": "31fc1526d29f47a397c777eb969b8ff7",
       "version_major": 2,
       "version_minor": 0
      },
      "text/plain": [
       "  0%|          | 0/1207 [00:00<?, ?it/s]"
      ]
     },
     "metadata": {},
     "output_type": "display_data"
    },
    {
     "data": {
      "application/vnd.jupyter.widget-view+json": {
       "model_id": "cd718e302ba34cd49dcc7ddb306bca53",
       "version_major": 2,
       "version_minor": 0
      },
      "text/plain": [
       "  0%|          | 0/1207 [00:00<?, ?it/s]"
      ]
     },
     "metadata": {},
     "output_type": "display_data"
    },
    {
     "name": "stdout",
     "output_type": "stream",
     "text": [
      "============================================< EPOCH 9 >=============================================\n",
      "  Korean Sentence: 오바마는 대통령이다.\n",
      " English Sentence: obama is the president .\n",
      "\n",
      "  Korean Sentence: 시민들은 도시 속에 산다.\n",
      " English Sentence: they re in the city of small town .\n",
      "\n",
      "  Korean Sentence: 커피는 필요 없다.\n",
      " English Sentence: no need for a perfect .\n",
      "\n",
      "  Korean Sentence: 일곱 명의 사망자가 발생했다.\n",
      " English Sentence: seven seven seven deaths seven deaths\n",
      "\n",
      "  Korean Sentence: 나는 고양이다.\n",
      " English Sentence: i was a cat to be cat cat cat cat cat cat cat cat cat cat cat cat cat cat cat cat cat .\n",
      "\n",
      "  Korean Sentence: 아버지가 방에 들어가신다.\n",
      " English Sentence: as father , mouth is a room .\n",
      "\n",
      "  Korean Sentence: 아버지 가방에 들어가신다.\n",
      " English Sentence: the boys , chased by friends .\n",
      "\n",
      "  Korean Sentence: 오늘은 크리스마스다.\n",
      " English Sentence: day is today .\n",
      "\n",
      "====================================================================================================\n",
      "\n",
      "\n",
      "================================< Encoder Layer(=Self Attention) 1 >================================\n"
     ]
    },
    {
     "name": "stderr",
     "output_type": "stream",
     "text": [
      "/opt/conda/lib/python3.7/site-packages/matplotlib/backends/backend_agg.py:238: RuntimeWarning: Glyph 9601 missing from current font.\n",
      "  font.set_text(s, 0.0, flags=flags)\n",
      "/opt/conda/lib/python3.7/site-packages/matplotlib/backends/backend_agg.py:201: RuntimeWarning: Glyph 9601 missing from current font.\n",
      "  font.set_text(s, 0, flags=flags)\n"
     ]
    },
    {
     "data": {
      "image/png": "[encoded data removed]",
      "text/plain": [
       "<Figure size 1440x720 with 4 Axes>"
      ]
     },
     "metadata": {
      "image/png": {
       "height": 275,
       "width": 1148
      },
      "needs_background": "light"
     },
     "output_type": "display_data"
    },
    {
     "name": "stdout",
     "output_type": "stream",
     "text": [
      "====================================================================================================\n",
      "\n",
      "\n",
      "================================< Encoder Layer(=Self Attention) 2 >================================\n"
     ]
    },
    {
     "data": {
      "image/png": "[encoded data removed]",
      "text/plain": [
       "<Figure size 1440x720 with 4 Axes>"
      ]
     },
     "metadata": {
      "image/png": {
       "height": 275,
       "width": 1148
      },
      "needs_background": "light"
     },
     "output_type": "display_data"
    },
    {
     "name": "stdout",
     "output_type": "stream",
     "text": [
      "====================================================================================================\n",
      "\n",
      "\n",
      "======================================< Decoder Self Layer 1 >======================================\n"
     ]
    },
    {
     "data": {
      "image/png": "[encoded data removed]",
      "text/plain": [
       "<Figure size 1440x720 with 4 Axes>"
      ]
     },
     "metadata": {
      "image/png": {
       "height": 275,
       "width": 1148
      },
      "needs_background": "light"
     },
     "output_type": "display_data"
    },
    {
     "name": "stdout",
     "output_type": "stream",
     "text": [
      "====================================================================================================\n",
      "\n",
      "\n",
      "========================< Decoder Layer(Context Vector By Decoder Input) 1 >========================\n"
     ]
    },
    {
     "data": {
      "image/png": "[encoded data removed]",
      "text/plain": [
       "<Figure size 1440x720 with 4 Axes>"
      ]
     },
     "metadata": {
      "image/png": {
       "height": 275,
       "width": 1148
      },
      "needs_background": "light"
     },
     "output_type": "display_data"
    },
    {
     "name": "stdout",
     "output_type": "stream",
     "text": [
      "====================================================================================================\n",
      "\n",
      "\n",
      "======================================< Decoder Self Layer 2 >======================================\n"
     ]
    },
    {
     "data": {
      "image/png": "[encoded data removed]",
      "text/plain": [
       "<Figure size 1440x720 with 4 Axes>"
      ]
     },
     "metadata": {
      "image/png": {
       "height": 275,
       "width": 1148
      },
      "needs_background": "light"
     },
     "output_type": "display_data"
    },
    {
     "name": "stdout",
     "output_type": "stream",
     "text": [
      "====================================================================================================\n",
      "\n",
      "\n",
      "========================< Decoder Layer(Context Vector By Decoder Input) 2 >========================\n"
     ]
    },
    {
     "data": {
      "image/png": "[encoded data removed]",
      "text/plain": [
       "<Figure size 1440x720 with 4 Axes>"
      ]
     },
     "metadata": {
      "image/png": {
       "height": 275,
       "width": 1148
      },
      "needs_background": "light"
     },
     "output_type": "display_data"
    },
    {
     "name": "stdout",
     "output_type": "stream",
     "text": [
      "====================================================================================================\n",
      "\n",
      "\n"
     ]
    }
   ],
   "source": [
    "transformer = Transformer(\n",
    "    n_layers=2,\n",
    "    d_model=256,\n",
    "    n_heads=8,\n",
    "    d_ff=128,\n",
    "    dropout=0.2,\n",
    "    pos_len=200,\n",
    "    shared=True,\n",
    "    src_vocab_size=32000, tgt_vocab_size=24938\n",
    ")\n",
    "\n",
    "fit(sen_enc_tensor, sen_dec_tensor,sen_enc_tokenizer, sen_dec_tokenizer, tokenizer_type=False)   #SentencePiece"
   ]
  },
  {
   "cell_type": "markdown",
   "id": "periodic-affair",
   "metadata": {},
   "source": [
    "<br>\n",
    "\n",
    "## 8. 결론\n",
    "***\n",
    "<span style=\"font-size:12pt; line-height:1.7; font-family:Serif;\">\n",
    "    &nbsp; &nbsp; 본 예제에서는 Transformer를 이용하여 한국어-영어 번역 모델을 생성, 학습하였습니다. 이전 going_deeper 08의 Bahadanau Attention의 번역 결과 그리고 Mecab과 SentencePiece에 따른 번역 결과를 비교 하고자 합니다. 총 세 개의 모델로, 'Bahadanau Attention 모델'과 'Mecab을 이용한 Transformer 모델', 'SentencePiece를 이용한 Transformer 모델'의 번역 결과를 확인 합니다. 세 모델 모두 임베딩 사이즈를 동일하게 적용하였으며, Transformer 모델의 경우, 인코딩 및 디코딩 레이어를 두 층으로 설정하고 피드 포워드 레이어의 유닛 수를 128개로 하여 Bahadanau Attention과 학습 시간을 비슷하게 맞추어 모델 간의 크기를 동일하게 설정하고자 하였습니다. [표 4]는 모델별 하이퍼파라미터를 제시한 것입니다.\n",
    "</span><br><br>\n",
    "\n",
    "<span style=\"font-size:12pt; line-height:1.7; font-family:Serif;\">\n",
    "    &nbsp; &nbsp; 세 모델의 번역 결과를 확인 하였습니다. '오바마는 대통령이다.'라는 문장을 입력하였을 때, Bahdanau Attention의 경우 'obama is a member of us.'로 올바르지 않게 번역이 이루어졌습니다. Transformer의 경우 'obama is the president.'로 번역이 올바르게 이루어졌습니다. 또한, Mecab의 경우 '나는 고양이다.' 문장을 'I'm cat.'으로 비교적 올바르게 번역 하였습니다. 반대로 '일곱 명의 사망자가 발생했다.'의 문장의 경우에는 Transformer에서 'seven of the seven deaths.'와 'seven seven seven deaths seven deaths'로 번역 되어, Bahdanau Attention의 'seven people were killed.'가 비교적 잘 번역된 것이라 할 수 있습니다. '오바마는 대통령이다.' 문장에 대한 각 모델의 Attention을 시각화 하였을 때, Bahdanau Attention의 경우 '오바마'와 'president'의 연관성이 높지 않게 출력되었습니다. 하지만 Transformer의 경우에는 Mecab과 SentencePiece 모두 연관성이 높게 출력되어 모델이 이를 잘 학습 되어진 것을 확인할 수 있었습니다. [표 5]는 모델별 한국어-영어 번역 결과를 제시한 것입니다.\n",
    "</span><br><br>\n",
    "\n",
    "|Model|Embedding size|Epochs|Epoch /sec|\n",
    "|:--------:|:--------:|:--------:|:--------:|\n",
    "|**Bahdanau Attention(Base Line)**|256|20|약 10 minute|\n",
    "|**Transformer(Mecab)**|256|10|약 10 minute|\n",
    "|**Transformer(SentencePiece)**|256|10|약 10 minute|\n",
    "\n",
    "[표 4] 모델별 하이퍼파라미터 및 학습 속도\n",
    "\n",
    "<br><br>\n",
    "\n",
    "|한국어 문장|Bahdanau Attention(Base Line)|Transformer(Mecab)|Transformer(SentencePiece)|\n",
    "|:--------:|:--------:|:--------:|:--------:|\n",
    "|오바마는 대통령이다.|obama is a member of us.|obama is the president.|obama is the president.|\n",
    "|시민들은 도시 속에 산다.|the city of the city of the city.|citizens are generally much in cities.|they're in the city of small town.|\n",
    "|커피는 필요 없다.|the coffee is to be|why don't take advantage of the coffee.|no need for a perfect.|\n",
    "|일곱 명의 사망자가 발생했다.|seven people were killed.|seven of the seven deaths.|seven seven seven deaths seven deaths|\n",
    "|나는 고양이다.|i don t have a lot of the cat.|i'm cat.|i was a cat to be cat cat cat cat cat cat cat cat cat cat cat cat cat cat cat cat cat.|\n",
    "|아버지가 방에 들어가신다.|the father was a.|father and brother husband, like he was taken to a room.|as father, mouth is a room.|\n",
    "|아버지 가방에 들어가신다.|the boy s father s|then bag contained bag bag , and bag.|the boys, chased by friends.|\n",
    "|오늘은 크리스마스다.|today is a day|today's christmas is today.|day is today.|\n",
    "\n",
    "[표 5] 모델별 한국어-영어 번역 결과\n",
    "\n",
    "***"
   ]
  }
 ],
 "metadata": {
  "kernelspec": {
   "display_name": "Python 3",
   "language": "python",
   "name": "python3"
  },
  "language_info": {
   "codemirror_mode": {
    "name": "ipython",
    "version": 3
   },
   "file_extension": ".py",
   "mimetype": "text/x-python",
   "name": "python",
   "nbconvert_exporter": "python",
   "pygments_lexer": "ipython3",
   "version": "3.7.9"
  }
 },
 "nbformat": 4,
 "nbformat_minor": 5
}
