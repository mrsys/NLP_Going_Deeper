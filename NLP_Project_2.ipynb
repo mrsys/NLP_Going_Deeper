{
 "cells": [
  {
   "cell_type": "markdown",
   "id": "capable-tuition",
   "metadata": {},
   "source": [
    "# Going Deeper(NLP)"
   ]
  },
  {
   "cell_type": "markdown",
   "id": "compound-pepper",
   "metadata": {},
   "source": [
    "# 2. 뉴스 카테고리 다중분류"
   ]
  },
  {
   "cell_type": "markdown",
   "id": "controlling-metropolitan",
   "metadata": {},
   "source": [
    "## Vocabulary Size (5000,10000, 모든단어) 를 변경해서 시도해보기  \n"
   ]
  },
  {
   "cell_type": "markdown",
   "id": "likely-allah",
   "metadata": {},
   "source": [
    "* Writer :송영석\n",
    "* Date : 2021.12.23"
   ]
  },
  {
   "cell_type": "markdown",
   "id": "colonial-fitting",
   "metadata": {},
   "source": [
    "# 목차\n",
    "    \n",
    "    Step 1. 로이터 뉴스 데이터 확인   \n",
    "        1) 데이터 로드\n",
    "        2) 데이터 분포 확인해보기\n",
    "        3) 원본 뉴스 데이터 복원\n",
    "        4) 벡터화\n",
    "        \n",
    "    Step 2. 8가지의 머신러닝 모델들 적용 \n",
    "        1) 머신러닝 모델들 가져오기\n",
    "        2) Vocab_size에 따른 Accuracy\n",
    "        \n",
    "        \n",
    "    Step 3. F1 Score 측정\n",
    "        1) Classification Report 와 Confusion Matrix\n",
    "        2) f1 score 란\n",
    "    \n",
    "    Step 4. 딥러닝(1-D CNN) 적용\n",
    "        1) 데이터 로드 및 전처리\n",
    "        2) 모델 학습 & 테스트\n",
    "        3) 딥러닝 결과\n",
    "\n",
    "    Step 5. 회고\n",
    "        1) 전체 결과 정리\n",
    "        2) 주의할 점들 정리"
   ]
  },
  {
   "cell_type": "markdown",
   "id": "mysterious-details",
   "metadata": {},
   "source": [
    "# step 1. 로이터 뉴스 데이터 확인"
   ]
  },
  {
   "cell_type": "code",
   "execution_count": 2,
   "id": "embedded-standard",
   "metadata": {},
   "outputs": [],
   "source": [
    "from tensorflow.keras.datasets import reuters\n",
    "import matplotlib.pyplot as plt\n",
    "import seaborn as sns\n",
    "import numpy as np\n",
    "import pandas as pd\n"
   ]
  },
  {
   "cell_type": "markdown",
   "id": "peaceful-marshall",
   "metadata": {},
   "source": [
    "## 1) 데이터 로드\n",
    "텐서플로우 데이터셋으로부터 로이터 뉴스 데이터를 받아옵니다."
   ]
  },
  {
   "cell_type": "code",
   "execution_count": 5,
   "id": "technical-hamilton",
   "metadata": {},
   "outputs": [],
   "source": [
    "(x_train_5000, y_train_5000), (x_test_5000, y_test_5000) = reuters.load_data(num_words=5000, test_split=0.2)\n",
    "(x_train_10000, y_train_10000), (x_test_10000, y_test_10000) = reuters.load_data(num_words=10000, test_split=0.2)\n",
    "(x_train_n, y_train_n), (x_test_n, y_test_n) = reuters.load_data(num_words=None, test_split=0.2)"
   ]
  },
  {
   "cell_type": "markdown",
   "id": "popular-december",
   "metadata": {},
   "source": [
    "### !샘플의 수는 동일!\n",
    "여기서 num_words의 개념을 한 번더 짚고 넘어가게 되었는데, 빈도수가 많은 순서대로 나열했을 때, num_words의 인자로 준 정숫값만큼의 단어를 사용하고 나머지 단어는 전부 <unk>로 처리하는 원리여서 가져오는 양은 같은데 나머지를 <unk>로 처리하냐 마냐의 차이였다.\n"
   ]
  },
  {
   "cell_type": "code",
   "execution_count": 6,
   "id": "independent-entrepreneur",
   "metadata": {},
   "outputs": [
    {
     "name": "stdout",
     "output_type": "stream",
     "text": [
      "훈련 샘플의 수(5000): 8982\n",
      "테스트 샘플의 수(5000): 2246\n",
      "=====================================\n",
      "훈련 샘플의 수(10000): 8982\n",
      "테스트 샘플의 수(10000): 2246\n",
      "=====================================\n",
      "훈련 샘플의 수(None): 8982\n",
      "테스트 샘플의 수(None): 2246\n"
     ]
    }
   ],
   "source": [
    "print('훈련 샘플의 수(5000): {}'.format(len(x_train_5000)))\n",
    "print('테스트 샘플의 수(5000): {}'.format(len(x_test_5000)))\n",
    "print(\"=====================================\")\n",
    "print('훈련 샘플의 수(10000): {}'.format(len(x_train_10000)))\n",
    "print('테스트 샘플의 수(10000): {}'.format(len(x_test_10000)))\n",
    "print(\"=====================================\")\n",
    "print('훈련 샘플의 수(None): {}'.format(len(x_train_n)))\n",
    "print('테스트 샘플의 수(None): {}'.format(len(x_test_n)))"
   ]
  },
  {
   "cell_type": "markdown",
   "id": "encouraging-convertible",
   "metadata": {},
   "source": [
    "### 데이터 출력해보기"
   ]
  },
  {
   "cell_type": "code",
   "execution_count": 7,
   "id": "alpha-hybrid",
   "metadata": {},
   "outputs": [
    {
     "name": "stdout",
     "output_type": "stream",
     "text": [
      "[1, 27595, 28842, 8, 43, 10, 447, 5, 25, 207, 270, 5, 3095, 111, 16, 369, 186, 90, 67, 7, 89, 5, 19, 102, 6, 19, 124, 15, 90, 67, 84, 22, 482, 26, 7, 48, 4, 49, 8, 864, 39, 209, 154, 6, 151, 6, 83, 11, 15, 22, 155, 11, 15, 7, 48, 9, 4579, 1005, 504, 6, 258, 6, 272, 11, 15, 22, 134, 44, 11, 15, 16, 8, 197, 1245, 90, 67, 52, 29, 209, 30, 32, 132, 6, 109, 15, 17, 12]\n",
      "[1, 4, 1378, 2025, 9, 697, 4622, 111, 8, 25, 109, 29, 3650, 11, 150, 244, 364, 33, 30, 30, 1398, 333, 6, 18292, 159, 9, 1084, 363, 13, 19231, 71, 9, 16273, 71, 117, 4, 225, 78, 206, 10, 9, 1214, 8, 4, 270, 5, 16273, 7, 748, 48, 9, 19231, 7, 207, 1451, 966, 1864, 793, 97, 133, 336, 7, 4, 493, 98, 273, 104, 284, 25, 39, 338, 22, 905, 220, 3465, 644, 59, 20, 6, 119, 61, 11, 15, 58, 579, 26, 10, 67, 7, 4, 738, 98, 43, 88, 333, 722, 12, 20, 6, 19, 746, 35, 15, 10, 9, 1214, 855, 129, 783, 21, 4, 2280, 244, 364, 51, 16, 299, 452, 16, 515, 4, 99, 29, 5, 4, 364, 281, 48, 10, 9, 1214, 23, 644, 47, 20, 324, 27, 56, 23406, 28185, 5, 192, 510, 17, 12]\n"
     ]
    }
   ],
   "source": [
    "print(x_train_n[0])\n",
    "print(x_test_n[0])"
   ]
  },
  {
   "cell_type": "code",
   "execution_count": 8,
   "id": "smart-hunter",
   "metadata": {},
   "outputs": [
    {
     "name": "stdout",
     "output_type": "stream",
     "text": [
      "3\n",
      "3\n"
     ]
    }
   ],
   "source": [
    "print(y_train_n[0])\n",
    "print(y_test_n[0])"
   ]
  },
  {
   "cell_type": "code",
   "execution_count": 9,
   "id": "stuck-therapy",
   "metadata": {},
   "outputs": [
    {
     "name": "stdout",
     "output_type": "stream",
     "text": [
      "클래스의 수 : 46\n"
     ]
    }
   ],
   "source": [
    "num_classes = max(y_train_n) + 1\n",
    "print('클래스의 수 : {}'.format(num_classes))"
   ]
  },
  {
   "cell_type": "markdown",
   "id": "coastal-visitor",
   "metadata": {},
   "source": [
    "## 2) 데이터 분포 확인해보기"
   ]
  },
  {
   "cell_type": "code",
   "execution_count": 12,
   "id": "magnetic-soccer",
   "metadata": {},
   "outputs": [
    {
     "name": "stdout",
     "output_type": "stream",
     "text": [
      "훈련용 뉴스의 최대 길이 :2376\n",
      "훈련용 뉴스의 평균 길이 :145.5398574927633\n"
     ]
    },
    {
     "data": {
      "image/png": "[encoded data removed]",
      "text/plain": [
       "<Figure size 432x288 with 1 Axes>"
      ]
     },
     "metadata": {
      "needs_background": "light"
     },
     "output_type": "display_data"
    }
   ],
   "source": [
    "print('훈련용 뉴스의 최대 길이 :{}'.format(max(len(l) for l in x_train_n)))\n",
    "print('훈련용 뉴스의 평균 길이 :{}'.format(sum(map(len, x_train_n))/len(x_train_n)))\n",
    "\n",
    "plt.hist([len(s) for s in x_train_n], bins=50)\n",
    "plt.xlabel('length of samples')\n",
    "plt.ylabel('number of samples')\n",
    "plt.show()"
   ]
  },
  {
   "cell_type": "code",
   "execution_count": 13,
   "id": "korean-specialist",
   "metadata": {},
   "outputs": [
    {
     "data": {
      "image/png": "[encoded data removed]",
      "text/plain": [
       "<Figure size 792x360 with 1 Axes>"
      ]
     },
     "metadata": {
      "needs_background": "light"
     },
     "output_type": "display_data"
    }
   ],
   "source": [
    "fig, axe = plt.subplots(ncols=1)\n",
    "fig.set_size_inches(11,5)\n",
    "sns.countplot(x=y_train_n)\n",
    "plt.show()"
   ]
  },
  {
   "cell_type": "code",
   "execution_count": 14,
   "id": "mysterious-diana",
   "metadata": {},
   "outputs": [
    {
     "name": "stdout",
     "output_type": "stream",
     "text": [
      "각 클래스 빈도수:\n",
      "[[   0    1    2    3    4    5    6    7    8    9   10   11   12   13\n",
      "    14   15   16   17   18   19   20   21   22   23   24   25   26   27\n",
      "    28   29   30   31   32   33   34   35   36   37   38   39   40   41\n",
      "    42   43   44   45]\n",
      " [  55  432   74 3159 1949   17   48   16  139  101  124  390   49  172\n",
      "    26   20  444   39   66  549  269  100   15   41   62   92   24   15\n",
      "    48   19   45   39   32   11   50   10   49   19   19   24   36   30\n",
      "    13   21   12   18]]\n"
     ]
    }
   ],
   "source": [
    "unique_elements, counts_elements = np.unique(y_train_n, return_counts=True)\n",
    "print(\"각 클래스 빈도수:\")\n",
    "print(np.asarray((unique_elements, counts_elements)))"
   ]
  },
  {
   "cell_type": "markdown",
   "id": "corporate-remedy",
   "metadata": {},
   "source": [
    "## 3) 원본 뉴스 데이터 복원"
   ]
  },
  {
   "cell_type": "code",
   "execution_count": 15,
   "id": "arranged-adjustment",
   "metadata": {},
   "outputs": [
    {
     "name": "stdout",
     "output_type": "stream",
     "text": [
      "Downloading data from https://storage.googleapis.com/tensorflow/tf-keras-datasets/reuters_word_index.json\n",
      "557056/550378 [==============================] - 0s 0us/step\n"
     ]
    }
   ],
   "source": [
    "word_index = reuters.get_word_index(path=\"reuters_word_index.json\")"
   ]
  },
  {
   "cell_type": "code",
   "execution_count": 16,
   "id": "compatible-selling",
   "metadata": {},
   "outputs": [
    {
     "data": {
      "text/plain": [
       "1"
      ]
     },
     "execution_count": 16,
     "metadata": {},
     "output_type": "execute_result"
    }
   ],
   "source": [
    "word_index['the']"
   ]
  },
  {
   "cell_type": "code",
   "execution_count": 17,
   "id": "charitable-copyright",
   "metadata": {},
   "outputs": [
    {
     "data": {
      "text/plain": [
       "13"
      ]
     },
     "execution_count": 17,
     "metadata": {},
     "output_type": "execute_result"
    }
   ],
   "source": [
    "word_index['it']"
   ]
  },
  {
   "cell_type": "code",
   "execution_count": 18,
   "id": "hidden-calibration",
   "metadata": {},
   "outputs": [
    {
     "name": "stdout",
     "output_type": "stream",
     "text": [
      "the\n",
      "it\n"
     ]
    }
   ],
   "source": [
    "index_to_word = { index+3 : word for word, index in word_index.items() }\n",
    "print(index_to_word[4])\n",
    "print(index_to_word[16])"
   ]
  },
  {
   "cell_type": "code",
   "execution_count": 19,
   "id": "driving-freeze",
   "metadata": {},
   "outputs": [
    {
     "name": "stdout",
     "output_type": "stream",
     "text": [
      "<sos> mcgrath rentcorp said as a result of its december acquisition of space co it expects earnings per share in 1987 of 1 15 to 1 30 dlrs per share up from 70 cts in 1986 the company said pretax net should rise to nine to 10 mln dlrs from six mln dlrs in 1986 and rental operation revenues to 19 to 22 mln dlrs from 12 5 mln dlrs it said cash flow per share this year should be 2 50 to three dlrs reuter 3\n"
     ]
    }
   ],
   "source": [
    "# index_to_word에 숫자 0은 <pad>, 숫자 1은 <sos>, 숫자 2는 <unk>를 넣어줍니다.\n",
    "for index, token in enumerate((\"<pad>\", \"<sos>\", \"<unk>\")):\n",
    "    index_to_word[index]=token\n",
    "    \n",
    "print(' '.join([index_to_word[index] for index in x_train_n[0]]))"
   ]
  },
  {
   "cell_type": "code",
   "execution_count": 20,
   "id": "marine-association",
   "metadata": {},
   "outputs": [
    {
     "name": "stdout",
     "output_type": "stream",
     "text": [
      "the transaction is expected to be completed\n"
     ]
    }
   ],
   "source": [
    "print(' '.join([index_to_word[index] for index in [4, 587, 23, 133, 6, 30, 515]]))"
   ]
  },
  {
   "cell_type": "code",
   "execution_count": 21,
   "id": "conscious-corpus",
   "metadata": {},
   "outputs": [],
   "source": [
    "def data_decode(x_train,x_test):\n",
    "    decoded = []\n",
    "    for i in range(len(x_train)):\n",
    "        t = ' '.join([index_to_word[index] for index in x_train[i]])\n",
    "        decoded.append(t)\n",
    "\n",
    "    x_train = decoded\n",
    "\n",
    "\n",
    "    decoded = []\n",
    "    for i in range(len(x_test)):\n",
    "        t = ' '.join([index_to_word[index] for index in x_test[i]])\n",
    "        decoded.append(t)\n",
    "    x_test = decoded\n",
    "    print(len(x_train))\n",
    "    print(len(x_test))\n",
    "    print(\"===================\")\n",
    "    \n",
    "    return x_train,x_test\n",
    " "
   ]
  },
  {
   "cell_type": "code",
   "execution_count": 22,
   "id": "japanese-constitutional",
   "metadata": {},
   "outputs": [
    {
     "name": "stdout",
     "output_type": "stream",
     "text": [
      "8982\n",
      "2246\n",
      "===================\n",
      "8982\n",
      "2246\n",
      "===================\n",
      "8982\n",
      "2246\n",
      "===================\n"
     ]
    }
   ],
   "source": [
    "x_train_5000,x_test_5000 = data_decode(x_train_5000,x_test_5000)\n",
    "x_train_10000,x_test_10000 = data_decode(x_train_10000,x_test_10000)\n",
    "x_train_n,x_test_n = data_decode(x_train_n,x_test_n)"
   ]
  },
  {
   "cell_type": "markdown",
   "id": "hairy-baptist",
   "metadata": {},
   "source": [
    "### 데이터 출력\n",
    "train data를 보면 위에서 부터 전체단어, 빈도수 높은 10000단어, 5000단어를 사용한 출력값인데, 그래서 밑으로 갈수록 <unk>가 늘어나는 것을 알 수 있습니다."
   ]
  },
  {
   "cell_type": "code",
   "execution_count": 139,
   "id": "compliant-causing",
   "metadata": {},
   "outputs": [
    {
     "data": {
      "text/plain": [
       "'<sos> seton co said its board has received a proposal from chairman and chief executive officer philip d kaltenbacher to acquire seton for 15 75 dlrs per share in cash seton said the acquisition bid is subject to kaltenbacher arranging the necessary financing it said he intends to ask other members of senior management to participate the company said kaltenbacher owns 30 pct of seton stock and other management members another 7 5 pct seton said it has formed an independent board committee to consider the offer and has deferred the annual meeting it had scheduled for march 31 reuter 3'"
      ]
     },
     "execution_count": 139,
     "metadata": {},
     "output_type": "execute_result"
    }
   ],
   "source": [
    "x_train_n[4]"
   ]
  },
  {
   "cell_type": "code",
   "execution_count": 137,
   "id": "instrumental-bloom",
   "metadata": {},
   "outputs": [
    {
     "data": {
      "text/plain": [
       "'<sos> seton co said its board has received a proposal from chairman and chief executive officer philip d <unk> to acquire seton for 15 75 dlrs per share in cash seton said the acquisition bid is subject to <unk> arranging the necessary financing it said he intends to ask other members of senior management to participate the company said <unk> owns 30 pct of seton stock and other management members another 7 5 pct seton said it has formed an independent board committee to consider the offer and has deferred the annual meeting it had scheduled for march 31 reuter 3'"
      ]
     },
     "execution_count": 137,
     "metadata": {},
     "output_type": "execute_result"
    }
   ],
   "source": [
    "x_train_10000[4]"
   ]
  },
  {
   "cell_type": "code",
   "execution_count": 138,
   "id": "cathedral-zambia",
   "metadata": {},
   "outputs": [
    {
     "data": {
      "text/plain": [
       "'<sos> <unk> co said its board has received a proposal from chairman and chief executive officer philip d <unk> to acquire <unk> for 15 75 dlrs per share in cash <unk> said the acquisition bid is subject to <unk> arranging the necessary financing it said he intends to ask other members of senior management to participate the company said <unk> owns 30 pct of <unk> stock and other management members another 7 5 pct <unk> said it has formed an independent board committee to consider the offer and has deferred the annual meeting it had scheduled for march 31 reuter 3'"
      ]
     },
     "execution_count": 138,
     "metadata": {},
     "output_type": "execute_result"
    }
   ],
   "source": [
    "x_train_5000[4]"
   ]
  },
  {
   "cell_type": "markdown",
   "id": "coral-veteran",
   "metadata": {},
   "source": [
    "## 4) 벡터화"
   ]
  },
  {
   "cell_type": "markdown",
   "id": "competent-feeding",
   "metadata": {},
   "source": [
    "### !fit_ transform 문제!\n",
    "tfidf_transformer를 사용하고 test 데이터 역시 변형해줘야한다는 점에서 한번 실수를 하였는데 이후에 또 동작이 잘 안되어서 어려움을 겪었다. 살펴보니 fit_transform을 통해 전체단어 transformer,10000단어 transformer, 5000 transformer를 각각 만들어 주지 않아서 그런 것이었지만 여기선 transformer 학습 후 바로 test를 변형하는 것으로 해결하였다."
   ]
  },
  {
   "cell_type": "code",
   "execution_count": 151,
   "id": "precious-shell",
   "metadata": {},
   "outputs": [
    {
     "name": "stdout",
     "output_type": "stream",
     "text": [
      "===========  Shape of matrix  ========== \n",
      "========================================\n",
      "Whole words of train :  (8982, 26506)\n",
      "Whole words of train:  (8982, 26506)\n",
      "Whole words of test:  (2246, 26506)\n",
      "Whole words of test:  (2246, 26506)\n",
      "========================================\n",
      "10000 words of train:  (8982, 9670)\n",
      "10000 words of train:  (8982, 9670)\n",
      "10000 words of test:  (2246, 9670)\n",
      "10000 words of test:  (2246, 9670)\n",
      "========================================\n",
      "5000 words of train:  (8982, 4867)\n",
      "5000 words of train:  (8982, 4867)\n",
      "5000 words of test:  (2246, 4867)\n",
      "5000 words of test:  (2246, 4867)\n"
     ]
    }
   ],
   "source": [
    "from sklearn.feature_extraction.text import CountVectorizer\n",
    "from sklearn.feature_extraction.text import TfidfTransformer\n",
    "\n",
    "\n",
    "dtmvector = CountVectorizer()\n",
    "tfidf_transformer = TfidfTransformer()\n",
    "print(\"===========  Shape of matrix  ========== \")\n",
    "print(\"========================================\")\n",
    "x_train_dtm_n = dtmvector.fit_transform(x_train_n)\n",
    "print(\"Whole words of train : \" ,x_train_dtm_n.shape)\n",
    "tfidfv_n = tfidf_transformer.fit_transform(x_train_dtm_n)\n",
    "print(\"Whole words of train: \" , tfidfv_n.shape)\n",
    "x_test_dtm_n = dtmvector.transform(x_test_n) #테스트 데이터를 DTM으로 변환\n",
    "tfidfv_test_n = tfidf_transformer.transform(x_test_dtm_n) #DTM을 TF-IDF 행렬로 변환\n",
    "print(\"Whole words of test: \" ,x_test_dtm_n.shape)\n",
    "print(\"Whole words of test: \" , tfidfv_test_n.shape)\n",
    "print(\"========================================\")\n",
    "x_train_dtm_10000 = dtmvector.fit_transform(x_train_10000)\n",
    "print(\"10000 words of train: \", x_train_dtm_10000.shape)\n",
    "tfidfv_10000 = tfidf_transformer.fit_transform(x_train_dtm_10000)\n",
    "print(\"10000 words of train: \" ,tfidfv_10000.shape)\n",
    "x_test_dtm_10000 = dtmvector.transform(x_test_10000) \n",
    "tfidfv_test_10000 = tfidf_transformer.transform(x_test_dtm_10000) \n",
    "print(\"10000 words of test: \" ,x_test_dtm_10000.shape)\n",
    "print(\"10000 words of test: \" , tfidfv_test_10000.shape)\n",
    "print(\"========================================\")\n",
    "x_train_dtm_5000 = dtmvector.fit_transform(x_train_5000)\n",
    "print(\"5000 words of train: \" ,x_train_dtm_5000.shape)\n",
    "tfidfv_5000 = tfidf_transformer.fit_transform(x_train_dtm_5000)\n",
    "print(\"5000 words of train: \" , tfidfv_5000.shape)\n",
    "x_test_dtm_5000 = dtmvector.transform(x_test_5000) \n",
    "tfidfv_test_5000 = tfidf_transformer.transform(x_test_dtm_5000)\n",
    "print(\"5000 words of test: \" ,x_test_dtm_5000.shape)\n",
    "print(\"5000 words of test: \" , tfidfv_test_5000.shape)\n"
   ]
  },
  {
   "cell_type": "markdown",
   "id": "damaged-drove",
   "metadata": {},
   "source": [
    "# step 2. 8가지의 머신러닝 모델들 적용 "
   ]
  },
  {
   "cell_type": "code",
   "execution_count": 152,
   "id": "biblical-double",
   "metadata": {},
   "outputs": [],
   "source": [
    "from sklearn.naive_bayes import MultinomialNB #다항분포 나이브 베이즈 모델\n",
    "from sklearn.linear_model import LogisticRegression, SGDClassifier\n",
    "from sklearn.naive_bayes import ComplementNB\n",
    "from sklearn.tree import DecisionTreeClassifier\n",
    "from sklearn.ensemble import RandomForestClassifier\n",
    "from sklearn.ensemble import GradientBoostingClassifier\n",
    "from sklearn.ensemble import VotingClassifier\n",
    "from sklearn.svm import LinearSVC\n",
    "from sklearn.metrics import accuracy_score #정확도 계산"
   ]
  },
  {
   "cell_type": "markdown",
   "id": "trained-daniel",
   "metadata": {},
   "source": [
    "## 1) 머신러닝 모델들 가져오기"
   ]
  },
  {
   "cell_type": "code",
   "execution_count": 153,
   "id": "cardiovascular-transaction",
   "metadata": {},
   "outputs": [],
   "source": [
    "def ml_models(tfidfv,y_train,tfidfv_test,y_test):\n",
    "    mn = MultinomialNB() # 나이브 베이즈 분류기\n",
    "    mn.fit(tfidfv, y_train)\n",
    "\n",
    "    mn_predicted = mn.predict(tfidfv_test) #테스트 데이터에 대한 예측\n",
    "    print(\"나이브베이즈의 정확도:\", accuracy_score(y_test, mn_predicted)) #예측값과 실제값 비교\n",
    "    \n",
    "    cb = ComplementNB()\n",
    "    cb.fit(tfidfv, y_train)\n",
    "    cb_predicted = cb.predict(tfidfv_test) #테스트 데이터에 대한 예측\n",
    "    print(\"컴플리먼트 나이즈 베이즈의 정확도:\", accuracy_score(y_test, cb_predicted)) #예측값과 실제값 비교\n",
    "    \n",
    "    lr = LogisticRegression(C=10000, penalty='l2')\n",
    "    lr.fit(tfidfv, y_train)\n",
    "\n",
    "    lr_predicted = lr.predict(tfidfv_test) #테스트 데이터에 대한 예측\n",
    "    print(\"로지스틱 회귀의 정확도:\", accuracy_score(y_test, lr_predicted)) #예측값과 실제값 비교\n",
    "    \n",
    "    lsvc = LinearSVC(C=1000, penalty='l1', max_iter=500, dual=False)\n",
    "    lsvc.fit(tfidfv, y_train)\n",
    "\n",
    "    lsvc_predicted = lsvc.predict(tfidfv_test) #테스트 데이터에 대한 예측\n",
    "    print(\"선형 서포트 벡터 머신의 정확도:\", accuracy_score(y_test, lsvc_predicted)) #예측값과 실제값 비교\n",
    "    \n",
    "    tree = DecisionTreeClassifier(max_depth=10, random_state=0)\n",
    "    tree.fit(tfidfv, y_train)\n",
    "\n",
    "    tree_predicted = tree.predict(tfidfv_test) #테스트 데이터에 대한 예측\n",
    "    print(\"Tree의 정확도:\", accuracy_score(y_test, tree_predicted)) #예측값과 실제값 비교\n",
    "    \n",
    "    forest = RandomForestClassifier(n_estimators=5, random_state=0)\n",
    "    forest.fit(tfidfv, y_train)\n",
    "\n",
    "    forest_predicted = forest.predict(tfidfv_test) #테스트 데이터에 대한 예측\n",
    "    print(\"forest의 정확도:\", accuracy_score(y_test, forest_predicted)) #예측값과 실제값 비교\n",
    "    '''\n",
    "    grbt = GradientBoostingClassifier(random_state=0) # verbose=3\n",
    "    grbt.fit(tfidfv, y_train)\n",
    "    grbt_predicted = grbt.predict(tfidfv_test) #테스트 데이터에 대한 예측\n",
    "    print(\"grbt의 정확도:\", accuracy_score(y_test, grbi_predicted)) #예측값과 실제값 비교\n",
    "\n",
    "    voting_classifier = VotingClassifier(estimators=[('lr', LogisticRegression(C=10000, penalty='l2')),\n",
    "                                                     ('cb', ComplementNB()),('grbt', GradientBoostingClassifier(random_state=0))],\n",
    "                                         voting='soft', n_jobs=-1)\n",
    "    voting_classifier.fit(tfidfv, y_train)\n",
    "\n",
    "    voting_predicted = voting_classifier.predict(tfidfv_test) #테스트 데이터에 대한 예측\n",
    "    print(\"voting_classifier의 정확도:\", accuracy_score(y_test, voting_predicted)) #예측값과 실제값 비교\n",
    "'''\n",
    "    return mn,cb,lr,lsvc,tree,forest"
   ]
  },
  {
   "cell_type": "markdown",
   "id": "suffering-dinner",
   "metadata": {},
   "source": [
    "## 2) Vocab_size에 따른 Accuracy"
   ]
  },
  {
   "cell_type": "code",
   "execution_count": 177,
   "id": "dried-reporter",
   "metadata": {},
   "outputs": [
    {
     "name": "stdout",
     "output_type": "stream",
     "text": [
      "========== ML of whole words==========\n",
      "나이브베이즈의 정확도: 0.5997328584149599\n",
      "컴플리먼트 나이즈 베이즈의 정확도: 0.7649154051647373\n",
      "로지스틱 회귀의 정확도: 0.813446126447017\n",
      "선형 서포트 벡터 머신의 정확도: 0.784060552092609\n",
      "Tree의 정확도: 0.6211041852181657\n",
      "forest의 정확도: 0.6544968833481746\n",
      "========== ML of 10000 words==========\n",
      "나이브베이즈의 정확도: 0.6567230632235085\n",
      "컴플리먼트 나이즈 베이즈의 정확도: 0.7707034728406055\n",
      "로지스틱 회귀의 정확도: 0.8076580587711487\n",
      "선형 서포트 벡터 머신의 정확도: 0.7742653606411398\n",
      "Tree의 정확도: 0.6202137132680321\n",
      "forest의 정확도: 0.674087266251113\n",
      "========== ML of 5000 words==========\n",
      "나이브베이즈의 정확도: 0.6731967943009796\n",
      "컴플리먼트 나이즈 베이즈의 정확도: 0.7707034728406055\n",
      "로지스틱 회귀의 정확도: 0.8058771148708815\n",
      "선형 서포트 벡터 머신의 정확도: 0.767586821015138\n",
      "Tree의 정확도: 0.6179875333926982\n",
      "forest의 정확도: 0.701246660730187\n"
     ]
    }
   ],
   "source": [
    "import warnings\n",
    "warnings.filterwarnings('ignore')\n",
    "\n",
    "print ( \"========== ML of whole words==========\")\n",
    "mn_n,cb_n,lr_n,lsvc_n,tree_n,forest_n=ml_models(tfidfv_n,y_train_n,tfidfv_test_n,y_test_n)\n",
    "print ( \"========== ML of 10000 words==========\")\n",
    "mn_10000,cb_10000,lr_10000,lsvc_10000,tree_10000,forest_10000=ml_models(tfidfv_10000,y_train_10000,tfidfv_test_10000,y_test_10000)\n",
    "print ( \"========== ML of 5000 words==========\")\n",
    "mn_5000,cb_5000,lr_5000,lsvc_5000,tree_5000,forest_5000=ml_models(tfidfv_5000,y_train_5000,tfidfv_test_5000,y_test_5000)"
   ]
  },
  {
   "cell_type": "markdown",
   "id": "gross-execution",
   "metadata": {},
   "source": [
    "### Gradient boosting\n",
    "#### 특징\n",
    "부스팅 계열의 대부분 computational cost는 각 단계에서 약한 학습자인 최적의 tree를 찾는데 쓰인다. 따라서 백만 개의 데이터를 Boosting으로 iteration=1000을 학습시킨 경우, 각 단계에서 tree를 fit하기위해 백만개 데이터를 전부 확인해야 한다. 해당 과정을 1000번 반복하니 computational cost가 너무 많이 들고 시간이 오래 걸린다.  \n",
    "Gradient boosting은 모델 학습 시간도 측정하기 위해 위의 함수안에 정의하지 않고 따로 학습하였다."
   ]
  },
  {
   "cell_type": "code",
   "execution_count": 156,
   "id": "operational-color",
   "metadata": {},
   "outputs": [
    {
     "name": "stdout",
     "output_type": "stream",
     "text": [
      "========== ML of whole words==========\n",
      "grbt의 정확도: 0.7702582368655387\n",
      "GBM 수행 시간 :1206.5초\n",
      "========== ML of 10000 words==========\n",
      "grbt의 정확도: 0.7666963490650045\n",
      "GBM 수행 시간 :1109.1초\n",
      "========== ML of 5000 words==========\n",
      "grbt의 정확도: 0.767586821015138\n",
      "GBM 수행 시간 :1054.1초\n"
     ]
    }
   ],
   "source": [
    "import time \n",
    "print ( \"========== ML of whole words==========\")\n",
    "start_time = time.time()\n",
    "grbt_n = GradientBoostingClassifier(random_state=0) # verbose=3\n",
    "grbt_n.fit(tfidfv_n, y_train_n)\n",
    "grbt_predicted_n = grbt_n.predict(tfidfv_test_n) #테스트 데이터에 대한 예측\n",
    "print(\"grbt의 정확도:\", accuracy_score(y_test_n, grbt_predicted_n)) #예측값과 실제값 비교\n",
    "print('GBM 수행 시간 :{:.1f}초'.format(time.time() - start_time))\n",
    "print ( \"========== ML of 10000 words==========\")\n",
    "start_time = time.time()\n",
    "grbt_10000 = GradientBoostingClassifier(random_state=0) # verbose=3\n",
    "grbt_10000.fit(tfidfv_10000, y_train_10000)\n",
    "grbt_predicted_10000 = grbt_10000.predict(tfidfv_test_10000) #테스트 데이터에 대한 예측\n",
    "print(\"grbt의 정확도:\", accuracy_score(y_test_10000, grbt_predicted_10000)) #예측값과 실제값 비교\n",
    "print('GBM 수행 시간 :{:.1f}초'.format(time.time() - start_time))\n",
    "print ( \"========== ML of 5000 words==========\")\n",
    "start_time = time.time()\n",
    "grbt_5000 = GradientBoostingClassifier(random_state=0) # verbose=3\n",
    "grbt_5000.fit(tfidfv_5000, y_train_5000)\n",
    "grbt_predicted_5000 = grbt_5000.predict(tfidfv_test_5000) #테스트 데이터에 대한 예측\n",
    "print(\"grbt의 정확도:\", accuracy_score(y_test_5000, grbt_predicted_5000)) #예측값과 실제값 비교\n",
    "print('GBM 수행 시간 :{:.1f}초'.format(time.time() - start_time))"
   ]
  },
  {
   "cell_type": "markdown",
   "id": "united-external",
   "metadata": {},
   "source": [
    "### voting_classifier\n",
    "#### 특징\n",
    "Hard voting은 다수의 classifier의 예측 결과값을 다수결로 최종 class를 결정하고,soft voting은 다수의 classifier의 예측 결과값간 확률을 평균하여 최종 class를 결정한다. 여기서는 soft를 사용하여 예측 성능을 높여보고자 하였다.  \n",
    "voting classifier 역시 내부에 Gradient boosting을 사용하기에 시간이 오래걸릴것으로 보고 함수내에 정의하지 않고 따로 확인하였다."
   ]
  },
  {
   "cell_type": "code",
   "execution_count": 157,
   "id": "steady-delight",
   "metadata": {},
   "outputs": [
    {
     "name": "stdout",
     "output_type": "stream",
     "text": [
      "========== ML of whole words==========\n",
      "voting_classifier의 정확도: 0.8187889581478184\n",
      "voting의 수행 시간 :1227.0초\n",
      "========== ML of 10000 words==========\n",
      "voting_classifier의 정확도: 0.8116651825467498\n",
      "voting의 수행 시간 :1116.6초\n",
      "========== ML of 5000 words==========\n",
      "voting_classifier의 정확도: 0.8161175422974176\n",
      "voting의 수행 시간 :1045.8초\n"
     ]
    }
   ],
   "source": [
    "print ( \"========== ML of whole words==========\")\n",
    "start_time = time.time()\n",
    "voting_classifier_n = VotingClassifier(estimators=[('lr', LogisticRegression(C=10000, penalty='l2')),('cb', ComplementNB()),('grbt', GradientBoostingClassifier(random_state=0))],\n",
    "                                     voting='soft', n_jobs=-1)\n",
    "voting_classifier_n.fit(tfidfv_n, y_train_n)\n",
    "\n",
    "voting_predicted_n = voting_classifier_n.predict(tfidfv_test_n) #테스트 데이터에 대한 예측\n",
    "print(\"voting_classifier의 정확도:\", accuracy_score(y_test_n, voting_predicted_n)) #예측값과 실제값 비교\n",
    "print('voting의 수행 시간 :{:.1f}초'.format(time.time() - start_time))\n",
    "print ( \"========== ML of 10000 words==========\")\n",
    "start_time = time.time()\n",
    "voting_classifier_10000 = VotingClassifier(estimators=[('lr', LogisticRegression(C=10000, penalty='l2')),('cb', ComplementNB()),('grbt', GradientBoostingClassifier(random_state=0))],\n",
    "                                     voting='soft', n_jobs=-1)\n",
    "voting_classifier_10000.fit(tfidfv_10000, y_train_10000)\n",
    "\n",
    "voting_predicted_10000 = voting_classifier_10000.predict(tfidfv_test_10000) #테스트 데이터에 대한 예측\n",
    "print(\"voting_classifier의 정확도:\", accuracy_score(y_test_10000, voting_predicted_10000)) #예측값과 실제값 비교\n",
    "print('voting의 수행 시간 :{:.1f}초'.format(time.time() - start_time))\n",
    "\n",
    "print ( \"========== ML of 5000 words==========\")\n",
    "start_time = time.time()\n",
    "voting_classifier_5000 = VotingClassifier(estimators=[('lr', LogisticRegression(C=10000, penalty='l2')),('cb', ComplementNB()),('grbt', GradientBoostingClassifier(random_state=0))],\n",
    "                                     voting='soft', n_jobs=-1)\n",
    "voting_classifier_5000.fit(tfidfv_5000, y_train_5000)\n",
    "\n",
    "voting_predicted_5000 = voting_classifier_5000.predict(tfidfv_test_5000) #테스트 데이터에 대한 예측\n",
    "print(\"voting_classifier의 정확도:\", accuracy_score(y_test_5000, voting_predicted_5000)) #예측값과 실제값 비교\n",
    "print('voting의 수행 시간 :{:.1f}초'.format(time.time() - start_time))"
   ]
  },
  {
   "cell_type": "markdown",
   "id": "social-front",
   "metadata": {},
   "source": [
    "### Accuracy of ML models  \n",
    "머신러닝 8가지 모델의 수행결과 accuracy는 모두 voting classifier가 모든 vocab_size에서 우수하였고, 로지스틱 회귀 역시 비슷하게 좋았습니다.   \n",
    "그 뒤로 Gradient boosting, SVM, CNB 등이 비교적 괜찮은 성능을 보였습니다.\n",
    "\n",
    "\n",
    "||Whole words|10000 words|5000 words|\n",
    "|------|---|---|---|\n",
    "|Multinomial NB|0.60 |0.65|0.67\n",
    "|ComplementNB|0.76|0.77|0.77\n",
    "|LogisticRegression|0.813|0.807|0.805\n",
    "| LinearSVC|0.78|0.77|0.77\n",
    "|DecisionTree|0.62|0.62|0.62\n",
    "|RandomForest|0.65|0.67|0.70\n",
    "|GradientBoosting|0.770|0.766|0.766\n",
    "|VotingClassifier|**0.818**|**0.811**|**0.816**\n"
   ]
  },
  {
   "cell_type": "markdown",
   "id": "green-cradle",
   "metadata": {},
   "source": [
    "# step 3. F1 Score 측정"
   ]
  },
  {
   "cell_type": "code",
   "execution_count": 158,
   "id": "mysterious-grocery",
   "metadata": {},
   "outputs": [],
   "source": [
    "from sklearn.metrics import classification_report\n",
    "from sklearn.metrics import confusion_matrix\n",
    "from sklearn.metrics import f1_score"
   ]
  },
  {
   "cell_type": "markdown",
   "id": "settled-galaxy",
   "metadata": {},
   "source": [
    "## 1) Classification Report 와 Confusion Matrix\n",
    "사이킷런의 metrics 패키지에서는 정밀도, 재현율, F1점수를 구하는 classification_report() 함수를 제공합니다.  \n",
    "이 함수는 각각의 클래스를 양성(positive) 클래스로 보았을 때의 정밀도, 재현율, F1점수를 각각 구하고 그 평균값으로 전체 모델의 성능을 평가"
   ]
  },
  {
   "cell_type": "markdown",
   "id": "national-david",
   "metadata": {},
   "source": [
    "### Voting_classifier의 classification_report"
   ]
  },
  {
   "cell_type": "code",
   "execution_count": 159,
   "id": "fleet-wiring",
   "metadata": {},
   "outputs": [
    {
     "name": "stdout",
     "output_type": "stream",
     "text": [
      "              precision    recall  f1-score   support\n",
      "\n",
      "           0       0.75      0.75      0.75        12\n",
      "           1       0.80      0.77      0.79       105\n",
      "           2       0.67      0.80      0.73        20\n",
      "           3       0.93      0.94      0.93       813\n",
      "           4       0.82      0.88      0.85       474\n",
      "           5       1.00      0.20      0.33         5\n",
      "           6       0.87      0.93      0.90        14\n",
      "           7       1.00      0.33      0.50         3\n",
      "           8       0.69      0.71      0.70        38\n",
      "           9       0.80      0.80      0.80        25\n",
      "          10       0.90      0.90      0.90        30\n",
      "          11       0.67      0.71      0.69        83\n",
      "          12       0.60      0.46      0.52        13\n",
      "          13       0.69      0.65      0.67        37\n",
      "          14       0.29      1.00      0.44         2\n",
      "          15       0.40      0.22      0.29         9\n",
      "          16       0.73      0.76      0.74        99\n",
      "          17       0.75      0.50      0.60        12\n",
      "          18       0.73      0.55      0.63        20\n",
      "          19       0.71      0.71      0.71       133\n",
      "          20       0.66      0.50      0.57        70\n",
      "          21       0.63      0.81      0.71        27\n",
      "          22       1.00      0.14      0.25         7\n",
      "          23       0.62      0.67      0.64        12\n",
      "          24       0.73      0.58      0.65        19\n",
      "          25       0.92      0.77      0.84        31\n",
      "          26       1.00      1.00      1.00         8\n",
      "          27       0.67      0.50      0.57         4\n",
      "          28       0.33      0.30      0.32        10\n",
      "          29       0.50      1.00      0.67         4\n",
      "          30       0.54      0.58      0.56        12\n",
      "          31       0.82      0.69      0.75        13\n",
      "          32       1.00      1.00      1.00        10\n",
      "          33       0.83      1.00      0.91         5\n",
      "          34       0.80      0.57      0.67         7\n",
      "          35       1.00      0.33      0.50         6\n",
      "          36       0.54      0.64      0.58        11\n",
      "          37       0.50      0.50      0.50         2\n",
      "          38       0.50      0.33      0.40         3\n",
      "          39       0.25      0.20      0.22         5\n",
      "          40       1.00      0.40      0.57        10\n",
      "          41       0.80      0.50      0.62         8\n",
      "          42       1.00      1.00      1.00         3\n",
      "          43       0.83      0.83      0.83         6\n",
      "          44       0.80      0.80      0.80         5\n",
      "          45       0.50      1.00      0.67         1\n",
      "\n",
      "    accuracy                           0.82      2246\n",
      "   macro avg       0.73      0.66      0.66      2246\n",
      "weighted avg       0.82      0.82      0.81      2246\n",
      "\n"
     ]
    }
   ],
   "source": [
    "print(classification_report(y_test_n, voting_classifier_n.predict(tfidfv_test_n), zero_division=0))"
   ]
  },
  {
   "cell_type": "code",
   "execution_count": 160,
   "id": "flexible-norway",
   "metadata": {},
   "outputs": [],
   "source": [
    "def graph_confusion_matrix(model, x_test, y_test):#, classes_name):\n",
    "    df_cm = pd.DataFrame(confusion_matrix(y_test, model.predict(x_test)))#, index=classes_name, columns=classes_name)\n",
    "    fig = plt.figure(figsize=(12,12))\n",
    "    heatmap = sns.heatmap(df_cm, annot=True, fmt=\"d\")\n",
    "    heatmap.yaxis.set_ticklabels(heatmap.yaxis.get_ticklabels(), rotation=0, ha='right', fontsize=12)\n",
    "    heatmap.xaxis.set_ticklabels(heatmap.xaxis.get_ticklabels(), rotation=45, ha='right', fontsize=12)\n",
    "    plt.ylabel('label')\n",
    "    plt.xlabel('predicted value')"
   ]
  },
  {
   "cell_type": "code",
   "execution_count": 162,
   "id": "spoken-lewis",
   "metadata": {},
   "outputs": [
    {
     "data": {
      "image/png": "[encoded data removed]",
      "text/plain": [
       "<Figure size 864x864 with 2 Axes>"
      ]
     },
     "metadata": {
      "needs_background": "light"
     },
     "output_type": "display_data"
    }
   ],
   "source": [
    "graph_confusion_matrix(voting_classifier_n, tfidfv_test_n, y_test_n)"
   ]
  },
  {
   "cell_type": "markdown",
   "id": "under-march",
   "metadata": {},
   "source": [
    "## 2) f1 score 란\n",
    "F1 score는 Precision과 Recall의 조화평균입니다.  \n",
    "F1 score는 데이터 label이 불균형 구조일 때, 모델의 성능을 정확하게 평가할 수 있으며, 성능을 하나의 숫자로 표현할 수 있습니다. \n",
    "\n",
    "### 이 중 사용할 f1 score는?\n",
    "Micro : 평균을 계산할 때 각 클래스의 샘플 수를 고려하여 평균을 취하는 방식이다.  \n",
    "\n",
    "Macro : 각 클래스의 샘플 수에 상관없이 평균을 취하는 방식입니다.  \n",
    "\n",
    "Weighted : 각 클래스에 대한 f1-score를 계산한 뒤 각 클래스 별 데이터 비율에 따른 가중 평균을 내어 f1-score를 계산합니다.\n",
    "\n",
    "정리하면 Micro는 클래스의 불균형 등에 민감하게 반응할 수 있는 평가지표이고 Macro는 모델의 전반적인 성능에 대해 평가할 수 있는 지표입니다.  \n",
    "따라서,이번 프로젝트에서는 최종 표 작성에 **micro**를 사용하겠습니다."
   ]
  },
  {
   "cell_type": "code",
   "execution_count": 178,
   "id": "confident-housing",
   "metadata": {},
   "outputs": [],
   "source": [
    "def get_score(model,tfidfv_test, y_test):\n",
    "    print(\"=========================================================\")\n",
    "    print(\"f1 socre of \",model)\n",
    "    print(\"\\n\")\n",
    "    print(\"f1_score(macro) : \",f1_score(y_test, model.predict(tfidfv_test), average='macro'))\n",
    "    print(\"f1_score(micro) : \",f1_score(y_test, model.predict(tfidfv_test), average='micro'))\n",
    "    print(\"f1_score(weighted) : \",f1_score(y_test, model.predict(tfidfv_test), average='weighted'))    "
   ]
  },
  {
   "cell_type": "code",
   "execution_count": 179,
   "id": "previous-module",
   "metadata": {},
   "outputs": [],
   "source": [
    "def models_get_score_n(tfidfv_test,y_test):\n",
    "    get_score(mn_n, tfidfv_test, y_test)\n",
    "    get_score(cb_n, tfidfv_test, y_test)\n",
    "    get_score(lr_n, tfidfv_test, y_test)\n",
    "    get_score(lsvc_n, tfidfv_test, y_test)\n",
    "    get_score(tree_n, tfidfv_test, y_test)\n",
    "    get_score(forest_n, tfidfv_test, y_test)\n",
    "    get_score(grbt_n, tfidfv_test, y_test)\n",
    "    get_score(voting_classifier_n, tfidfv_test, y_test)    "
   ]
  },
  {
   "cell_type": "code",
   "execution_count": 180,
   "id": "unlimited-cornwall",
   "metadata": {},
   "outputs": [],
   "source": [
    "def models_get_score_10000(tfidfv_test,y_test):\n",
    "    get_score(mn_10000, tfidfv_test, y_test)\n",
    "    get_score(cb_10000, tfidfv_test, y_test)\n",
    "    get_score(lr_10000, tfidfv_test, y_test)\n",
    "    get_score(lsvc_10000, tfidfv_test, y_test)\n",
    "    get_score(tree_10000, tfidfv_test, y_test)\n",
    "    get_score(forest_10000, tfidfv_test, y_test)\n",
    "    get_score(grbt_10000, tfidfv_test, y_test)\n",
    "    get_score(voting_classifier_10000, tfidfv_test, y_test)    "
   ]
  },
  {
   "cell_type": "code",
   "execution_count": 181,
   "id": "cardiac-botswana",
   "metadata": {},
   "outputs": [],
   "source": [
    "def models_get_score_5000(tfidfv_test,y_test):\n",
    "    get_score(mn_5000, tfidfv_test, y_test)\n",
    "    get_score(cb_5000, tfidfv_test, y_test)\n",
    "    get_score(lr_5000, tfidfv_test, y_test)\n",
    "    get_score(lsvc_5000, tfidfv_test, y_test)\n",
    "    get_score(tree_5000, tfidfv_test, y_test)\n",
    "    get_score(forest_5000, tfidfv_test, y_test)\n",
    "    get_score(grbt_5000, tfidfv_test, y_test)\n",
    "    get_score(voting_classifier_5000, tfidfv_test, y_test)    "
   ]
  },
  {
   "cell_type": "markdown",
   "id": "typical-progressive",
   "metadata": {},
   "source": [
    "### Whole words"
   ]
  },
  {
   "cell_type": "code",
   "execution_count": 182,
   "id": "addressed-identifier",
   "metadata": {},
   "outputs": [
    {
     "name": "stdout",
     "output_type": "stream",
     "text": [
      "=========================================================\n",
      "f1 socre of  MultinomialNB()\n",
      "\n",
      "\n",
      "f1_score(macro) :  0.06767886443611608\n",
      "f1_score(micro) :  0.5997328584149599\n",
      "f1_score(weighted) :  0.5045670886188423\n",
      "=========================================================\n",
      "f1 socre of  ComplementNB()\n",
      "\n",
      "\n",
      "f1_score(macro) :  0.4639854358945848\n",
      "f1_score(micro) :  0.7649154051647373\n",
      "f1_score(weighted) :  0.7346534179503126\n",
      "=========================================================\n",
      "f1 socre of  LogisticRegression(C=10000)\n",
      "\n",
      "\n",
      "f1_score(macro) :  0.669532685925375\n",
      "f1_score(micro) :  0.813446126447017\n",
      "f1_score(weighted) :  0.8079349566211766\n",
      "=========================================================\n",
      "f1 socre of  LinearSVC(C=1000, dual=False, max_iter=500, penalty='l1')\n",
      "\n",
      "\n",
      "f1_score(macro) :  0.5960600615754225\n",
      "f1_score(micro) :  0.7840605520926089\n",
      "f1_score(weighted) :  0.7768064901785215\n",
      "=========================================================\n",
      "f1 socre of  DecisionTreeClassifier(max_depth=10, random_state=0)\n",
      "\n",
      "\n",
      "f1_score(macro) :  0.15450055404800783\n",
      "f1_score(micro) :  0.6211041852181657\n",
      "f1_score(weighted) :  0.5769283128518846\n",
      "=========================================================\n",
      "f1 socre of  RandomForestClassifier(n_estimators=5, random_state=0)\n",
      "\n",
      "\n",
      "f1_score(macro) :  0.2794631711818573\n",
      "f1_score(micro) :  0.6544968833481746\n",
      "f1_score(weighted) :  0.6225909375608356\n",
      "=========================================================\n",
      "f1 socre of  GradientBoostingClassifier(random_state=0)\n",
      "\n",
      "\n",
      "f1_score(macro) :  0.572792648567258\n",
      "f1_score(micro) :  0.7702582368655387\n",
      "f1_score(weighted) :  0.7641672650539437\n",
      "=========================================================\n",
      "f1 socre of  VotingClassifier(estimators=[('lr', LogisticRegression(C=10000)),\n",
      "                             ('cb', ComplementNB()),\n",
      "                             ('grbt',\n",
      "                              GradientBoostingClassifier(random_state=0))],\n",
      "                 n_jobs=-1, voting='soft')\n",
      "\n",
      "\n",
      "f1_score(macro) :  0.6577141879659247\n",
      "f1_score(micro) :  0.8187889581478184\n",
      "f1_score(weighted) :  0.8147231278247327\n"
     ]
    }
   ],
   "source": [
    "models_get_score_n(tfidfv_test_n,y_test_n)"
   ]
  },
  {
   "cell_type": "markdown",
   "id": "cellular-explorer",
   "metadata": {},
   "source": [
    "### 10000 words"
   ]
  },
  {
   "cell_type": "code",
   "execution_count": 184,
   "id": "superb-terminal",
   "metadata": {},
   "outputs": [
    {
     "name": "stdout",
     "output_type": "stream",
     "text": [
      "=========================================================\n",
      "f1 socre of  MultinomialNB()\n",
      "\n",
      "\n",
      "f1_score(macro) :  0.09672807335440754\n",
      "f1_score(micro) :  0.6567230632235085\n",
      "f1_score(weighted) :  0.5764467518778252\n",
      "=========================================================\n",
      "f1 socre of  ComplementNB()\n",
      "\n",
      "\n",
      "f1_score(macro) :  0.47835757543524193\n",
      "f1_score(micro) :  0.7707034728406055\n",
      "f1_score(weighted) :  0.7456682614453047\n",
      "=========================================================\n",
      "f1 socre of  LogisticRegression(C=10000)\n",
      "\n",
      "\n",
      "f1_score(macro) :  0.6425870381948257\n",
      "f1_score(micro) :  0.8076580587711487\n",
      "f1_score(weighted) :  0.8014651882605348\n",
      "=========================================================\n",
      "f1 socre of  LinearSVC(C=1000, dual=False, max_iter=500, penalty='l1')\n",
      "\n",
      "\n",
      "f1_score(macro) :  0.6090095922819593\n",
      "f1_score(micro) :  0.7742653606411398\n",
      "f1_score(weighted) :  0.7697631549372804\n",
      "=========================================================\n",
      "f1 socre of  DecisionTreeClassifier(max_depth=10, random_state=0)\n",
      "\n",
      "\n",
      "f1_score(macro) :  0.1840533373860316\n",
      "f1_score(micro) :  0.6202137132680321\n",
      "f1_score(weighted) :  0.5776398779280149\n",
      "=========================================================\n",
      "f1 socre of  RandomForestClassifier(n_estimators=5, random_state=0)\n",
      "\n",
      "\n",
      "f1_score(macro) :  0.30931816900485903\n",
      "f1_score(micro) :  0.674087266251113\n",
      "f1_score(weighted) :  0.6429484177284822\n",
      "=========================================================\n",
      "f1 socre of  GradientBoostingClassifier(random_state=0)\n",
      "\n",
      "\n",
      "f1_score(macro) :  0.5766140484206129\n",
      "f1_score(micro) :  0.7666963490650045\n",
      "f1_score(weighted) :  0.7625990588567523\n",
      "=========================================================\n",
      "f1 socre of  VotingClassifier(estimators=[('lr', LogisticRegression(C=10000)),\n",
      "                             ('cb', ComplementNB()),\n",
      "                             ('grbt',\n",
      "                              GradientBoostingClassifier(random_state=0))],\n",
      "                 n_jobs=-1, voting='soft')\n",
      "\n",
      "\n",
      "f1_score(macro) :  0.6557577874564621\n",
      "f1_score(micro) :  0.8116651825467498\n",
      "f1_score(weighted) :  0.8082216149049796\n"
     ]
    }
   ],
   "source": [
    "models_get_score_10000(tfidfv_test_10000,y_test_10000)"
   ]
  },
  {
   "cell_type": "markdown",
   "id": "abstract-glory",
   "metadata": {},
   "source": [
    "### 5000 words"
   ]
  },
  {
   "cell_type": "code",
   "execution_count": 185,
   "id": "proud-heather",
   "metadata": {
    "scrolled": true
   },
   "outputs": [
    {
     "name": "stdout",
     "output_type": "stream",
     "text": [
      "=========================================================\n",
      "f1 socre of  MultinomialNB()\n",
      "\n",
      "\n",
      "f1_score(macro) :  0.11017286132336847\n",
      "f1_score(micro) :  0.6731967943009796\n",
      "f1_score(weighted) :  0.6012501291711391\n",
      "=========================================================\n",
      "f1 socre of  ComplementNB()\n",
      "\n",
      "\n",
      "f1_score(macro) :  0.48203488372044917\n",
      "f1_score(micro) :  0.7707034728406055\n",
      "f1_score(weighted) :  0.7458990404916549\n",
      "=========================================================\n",
      "f1 socre of  LogisticRegression(C=10000)\n",
      "\n",
      "\n",
      "f1_score(macro) :  0.6427529674429183\n",
      "f1_score(micro) :  0.8058771148708815\n",
      "f1_score(weighted) :  0.7994583667437475\n",
      "=========================================================\n",
      "f1 socre of  LinearSVC(C=1000, dual=False, max_iter=500, penalty='l1')\n",
      "\n",
      "\n",
      "f1_score(macro) :  0.5809650285468163\n",
      "f1_score(micro) :  0.767586821015138\n",
      "f1_score(weighted) :  0.7629206373635372\n",
      "=========================================================\n",
      "f1 socre of  DecisionTreeClassifier(max_depth=10, random_state=0)\n",
      "\n",
      "\n",
      "f1_score(macro) :  0.17794649395239356\n",
      "f1_score(micro) :  0.6179875333926982\n",
      "f1_score(weighted) :  0.5729970881280324\n",
      "=========================================================\n",
      "f1 socre of  RandomForestClassifier(n_estimators=5, random_state=0)\n",
      "\n",
      "\n",
      "f1_score(macro) :  0.35960899933378104\n",
      "f1_score(micro) :  0.701246660730187\n",
      "f1_score(weighted) :  0.6770217603524399\n",
      "=========================================================\n",
      "f1 socre of  GradientBoostingClassifier(random_state=0)\n",
      "\n",
      "\n",
      "f1_score(macro) :  0.5791898381470704\n",
      "f1_score(micro) :  0.767586821015138\n",
      "f1_score(weighted) :  0.7662475269931749\n",
      "=========================================================\n",
      "f1 socre of  VotingClassifier(estimators=[('lr', LogisticRegression(C=10000)),\n",
      "                             ('cb', ComplementNB()),\n",
      "                             ('grbt',\n",
      "                              GradientBoostingClassifier(random_state=0))],\n",
      "                 n_jobs=-1, voting='soft')\n",
      "\n",
      "\n",
      "f1_score(macro) :  0.6642429726937643\n",
      "f1_score(micro) :  0.8161175422974176\n",
      "f1_score(weighted) :  0.8126712904613167\n"
     ]
    }
   ],
   "source": [
    "models_get_score_5000(tfidfv_test_5000,y_test_5000)"
   ]
  },
  {
   "cell_type": "markdown",
   "id": "recent-circulation",
   "metadata": {},
   "source": [
    "## F1 - Score\n",
    "\n",
    "F1 - score를 계산 한 결과로 average = micro 설정한 값만을 표로 나타내었습니다. 클래스간 불균형이 있는 데이터여서 micro를 사용하였고, Voting classifier가 가장 우수하고 로지스틱 회귀가 그와 비슷하며 그 뒤를 이어 SVC, GB ,CNB 등이 우수하였습니다.\n",
    "\n",
    "||Whole words|10000 words|5000 words|\n",
    "|------|---|---|---|\n",
    "|Multinomial NB|0.599|0.656|0.673\n",
    "|ComplementNB|0.764|0.770|0.770\n",
    "|LogisticRegression|0.813|0.807|0.805\n",
    "| LinearSVC|0.784|0.774|0.767\n",
    "|DecisionTree|0.621|0.620|0.617  \n",
    "|RandomForest|0.654|0.674|0.701\n",
    "|GradientBoosting|0.770|0.766|0.767\n",
    "|VotingClassifier|**0.818**|**0.811**|**0.816**\n"
   ]
  },
  {
   "cell_type": "markdown",
   "id": "dominant-convert",
   "metadata": {},
   "source": [
    "# step 4. 딥러닝(1-D CNN) 적용"
   ]
  },
  {
   "cell_type": "markdown",
   "id": "internal-shelf",
   "metadata": {},
   "source": [
    "## 1) 데이터 로드 및 전처리"
   ]
  },
  {
   "cell_type": "code",
   "execution_count": 25,
   "id": "weird-cocktail",
   "metadata": {},
   "outputs": [
    {
     "name": "stderr",
     "output_type": "stream",
     "text": [
      "/opt/conda/lib/python3.7/site-packages/tensorflow/python/keras/datasets/reuters.py:148: VisibleDeprecationWarning: Creating an ndarray from ragged nested sequences (which is a list-or-tuple of lists-or-tuples-or ndarrays with different lengths or shapes) is deprecated. If you meant to do this, you must specify 'dtype=object' when creating the ndarray\n",
      "  x_train, y_train = np.array(xs[:idx]), np.array(labels[:idx])\n",
      "/opt/conda/lib/python3.7/site-packages/tensorflow/python/keras/datasets/reuters.py:149: VisibleDeprecationWarning: Creating an ndarray from ragged nested sequences (which is a list-or-tuple of lists-or-tuples-or ndarrays with different lengths or shapes) is deprecated. If you meant to do this, you must specify 'dtype=object' when creating the ndarray\n",
      "  x_test, y_test = np.array(xs[idx:]), np.array(labels[idx:])\n"
     ]
    }
   ],
   "source": [
    "(x_train_5000, y_train_5000), (x_test_5000, y_test_5000) = reuters.load_data(num_words=5000, test_split=0.2)\n",
    "(x_train_10000, y_train_10000), (x_test_10000, y_test_10000) = reuters.load_data(num_words=10000, test_split=0.2)\n",
    "(x_train_n, y_train_n), (x_test_n, y_test_n) = reuters.load_data(num_words=None, test_split=0.2)"
   ]
  },
  {
   "cell_type": "code",
   "execution_count": 26,
   "id": "beneficial-football",
   "metadata": {},
   "outputs": [
    {
     "name": "stdout",
     "output_type": "stream",
     "text": [
      "최대길이 :  2376\n",
      "훈련용 뉴스의 평균 길이 :145.5398574927633\n"
     ]
    }
   ],
   "source": [
    "word_to_index = { word : index for index, word in index_to_word.items() }\n",
    "maxlen=max(len(l) for l in x_train_n)\n",
    "print(\"최대길이 : \",maxlen)\n",
    "print('훈련용 뉴스의 평균 길이 :{}'.format(sum(map(len, x_train_n))/len(x_train_n)))\n"
   ]
  },
  {
   "cell_type": "markdown",
   "id": "acceptable-inspiration",
   "metadata": {},
   "source": [
    "### padding\n",
    "데이터들을 각각 최대길이 500 정도로 지정하고 'pre' 로 padding 해주었다."
   ]
  },
  {
   "cell_type": "code",
   "execution_count": 32,
   "id": "modified-sally",
   "metadata": {},
   "outputs": [
    {
     "name": "stdout",
     "output_type": "stream",
     "text": [
      "Original x_train shape :  (8982, 500)\n",
      "Original y_train shape :  (8982, 46)\n",
      "Partial x_train shape :  (7982, 500)\n",
      "Partial y_train shape :  (7982, 46)\n"
     ]
    }
   ],
   "source": [
    "import tensorflow as tf  \n",
    "from tensorflow import keras \n",
    "maxlen = 500\n",
    "x_train_n = keras.preprocessing.sequence.pad_sequences(x_train_n,\n",
    "                                                        value=word_to_index[\"<pad>\"],\n",
    "                                                        padding='pre', # 혹은 'pre'\n",
    "                                                        maxlen=maxlen)\n",
    "x_test_n = keras.preprocessing.sequence.pad_sequences(x_test_n,\n",
    "                                                       value=word_to_index[\"<pad>\"],\n",
    "                                                       padding='pre', # 혹은 'pre'\n",
    "                                                       maxlen=maxlen)\n",
    "y_train_n = tf.one_hot(y_train_n, depth=46)\n",
    "y_test_n = tf.one_hot(y_test_n, depth=46)\n",
    "\n",
    "print(\"Original x_train shape : \",x_train_n.shape)\n",
    "print(\"Original y_train shape : \",y_train_n.shape)\n",
    "# validation set 1000건 분리\n",
    "x_val_n = x_train_n[:1000]   \n",
    "y_val_n = y_train_n[:1000]\n",
    "# validation set을 제외한 나머지 \n",
    "partial_x_train_n= x_train_n[1000:]  \n",
    "partial_y_train_n = y_train_n[1000:]\n",
    "print(\"Partial x_train shape : \" ,partial_x_train_n.shape)\n",
    "print(\"Partial y_train shape : \" ,partial_y_train_n.shape)"
   ]
  },
  {
   "cell_type": "code",
   "execution_count": 28,
   "id": "bottom-trance",
   "metadata": {},
   "outputs": [
    {
     "name": "stdout",
     "output_type": "stream",
     "text": [
      "Original x_train shape :  (8982, 500)\n",
      "Original y_train shape :  (8982, 46)\n",
      "Partial x_train shape :  (7982, 500)\n",
      "Partial y_train shape :  (7982, 46)\n"
     ]
    }
   ],
   "source": [
    "x_train_10000 = keras.preprocessing.sequence.pad_sequences(x_train_10000,\n",
    "                                                        value=word_to_index[\"<pad>\"],\n",
    "                                                        padding='pre', # 혹은 'pre'\n",
    "                                                        maxlen=maxlen)\n",
    "x_test_10000 = keras.preprocessing.sequence.pad_sequences(x_test_10000,\n",
    "                                                       value=word_to_index[\"<pad>\"],\n",
    "                                                       padding='pre', # 혹은 'pre'\n",
    "                                                       maxlen=maxlen)\n",
    "y_train_10000 = tf.one_hot(y_train_10000, depth=46)\n",
    "y_test_10000 = tf.one_hot(y_test_10000, depth=46)\n",
    "\n",
    "print(\"Original x_train shape : \",x_train_10000.shape)\n",
    "print(\"Original y_train shape : \",y_train_10000.shape)\n",
    "# validation set 1000건 분리\n",
    "x_val_10000 = x_train_10000[:1000]   \n",
    "y_val_10000 = y_train_10000[:1000]\n",
    "# validation set을 제외한 나머지 \n",
    "partial_x_train_10000= x_train_10000[1000:]  \n",
    "partial_y_train_10000 = y_train_10000[1000:]\n",
    "print(\"Partial x_train shape : \" ,partial_x_train_10000.shape)\n",
    "print(\"Partial y_train shape : \" ,partial_y_train_10000.shape)"
   ]
  },
  {
   "cell_type": "code",
   "execution_count": 29,
   "id": "miniature-favor",
   "metadata": {},
   "outputs": [
    {
     "name": "stdout",
     "output_type": "stream",
     "text": [
      "Original x_train shape :  (8982, 500)\n",
      "Original y_train shape :  (8982, 46)\n",
      "Partial x_train shape :  (7982, 500)\n",
      "Partial y_train shape :  (7982, 46)\n"
     ]
    }
   ],
   "source": [
    "x_train_5000= keras.preprocessing.sequence.pad_sequences(x_train_5000,\n",
    "                                                        value=word_to_index[\"<pad>\"],\n",
    "                                                        padding='pre', # 혹은 'pre'\n",
    "                                                        maxlen=maxlen)\n",
    "x_test_5000 = keras.preprocessing.sequence.pad_sequences(x_test_5000,\n",
    "                                                       value=word_to_index[\"<pad>\"],\n",
    "                                                       padding='pre', # 혹은 'pre'\n",
    "                                                       maxlen=maxlen)\n",
    "y_train_5000 = tf.one_hot(y_train_5000, depth=46)\n",
    "y_test_5000 = tf.one_hot(y_test_5000, depth=46)\n",
    "\n",
    "print(\"Original x_train shape : \",x_train_5000.shape)\n",
    "print(\"Original y_train shape : \",y_train_5000.shape)\n",
    "# validation set 1000건 분리\n",
    "x_val_5000 = x_train_5000[:1000]   \n",
    "y_val_5000 = y_train_5000[:1000]\n",
    "# validation set을 제외한 나머지 \n",
    "partial_x_train_5000= x_train_5000[1000:]  \n",
    "partial_y_train_5000 = y_train_5000[1000:]\n",
    "print(\"Partial x_train shape : \" ,partial_x_train_5000.shape)\n",
    "print(\"Partial y_train shape : \" ,partial_y_train_5000.shape)"
   ]
  },
  {
   "cell_type": "markdown",
   "id": "ranging-haiti",
   "metadata": {},
   "source": [
    "## 2) 모델 학습 & 테스트"
   ]
  },
  {
   "cell_type": "code",
   "execution_count": 30,
   "id": "copyrighted-evaluation",
   "metadata": {},
   "outputs": [
    {
     "name": "stdout",
     "output_type": "stream",
     "text": [
      "30982\n",
      "30970\n"
     ]
    }
   ],
   "source": [
    "# 모든 vocab_size를 구하기 위함\n",
    "print(x_train_n.max()+1)\n",
    "print(x_test_n.max()+1)"
   ]
  },
  {
   "cell_type": "markdown",
   "id": "ultimate-devon",
   "metadata": {},
   "source": [
    "### f1-score\n",
    "f1-score를 딥러닝 compile 과정에서 구하기 위해 f1_m 함수를 정의 해줍니다. f1-score는 recall과 precision의 조화평균값이므로 두 가지 경우 역시 함수를 정의해줍니다."
   ]
  },
  {
   "cell_type": "code",
   "execution_count": 200,
   "id": "chronic-humidity",
   "metadata": {},
   "outputs": [],
   "source": [
    "from keras import backend as K\n",
    "\n",
    "def recall_m(y_true, y_pred):\n",
    "    true_positives = K.sum(K.round(K.clip(y_true * y_pred, 0, 1)))\n",
    "    possible_positives = K.sum(K.round(K.clip(y_true, 0, 1)))\n",
    "    recall = true_positives / (possible_positives + K.epsilon())\n",
    "    return recall\n",
    "\n",
    "def precision_m(y_true, y_pred):\n",
    "    true_positives = K.sum(K.round(K.clip(y_true * y_pred, 0, 1)))\n",
    "    predicted_positives = K.sum(K.round(K.clip(y_pred, 0, 1)))\n",
    "    precision = true_positives / (predicted_positives + K.epsilon())\n",
    "    return precision\n",
    "\n",
    "def f1_m(y_true, y_pred):\n",
    "    precision = precision_m(y_true, y_pred)\n",
    "    recall = recall_m(y_true, y_pred)\n",
    "    return 2*((precision*recall)/(precision+recall+K.epsilon()))"
   ]
  },
  {
   "cell_type": "markdown",
   "id": "optional-realtor",
   "metadata": {},
   "source": [
    "### 1-D CNN\n",
    "1-D CNN 모델을 생성해줍니다. 클래스가 46가지 이므로 마지막 Dense 값에 46을 주고, 여러 카테고리가 있으므로 categorical_crossentropy를 loss로 사용한 모델을 만들었습니다."
   ]
  },
  {
   "cell_type": "code",
   "execution_count": 201,
   "id": "increased-exemption",
   "metadata": {},
   "outputs": [],
   "source": [
    "def dnn_vocab(vocab_size):\n",
    "    word_vector_dim =128 # 단어 하나를 표현하는 임베딩 벡터의 차원수 (변경가능)\n",
    "    model_cnn = keras.Sequential()\n",
    "    model_cnn.add(keras.layers.Embedding(vocab_size,word_vector_dim, input_shape=(None,)))\n",
    "    model_cnn.add(keras.layers.Conv1D(256, 32, activation='relu'))\n",
    "    model_cnn.add(keras.layers.MaxPooling1D(5))\n",
    "    model_cnn.add(keras.layers.Conv1D(256, 32, activation='relu'))\n",
    "    model_cnn.add(keras.layers.GlobalMaxPooling1D())\n",
    "    model_cnn.add(keras.layers.Dense(64, activation='relu'))\n",
    "    model_cnn.add(keras.layers.Dense(46, activation='softmax'))  \n",
    "\n",
    "    model_cnn.summary()\n",
    "    model_cnn.compile(optimizer='adam',loss='categorical_crossentropy',metrics=['accuracy',f1_m])\n",
    "            \n",
    "    return model_cnn"
   ]
  },
  {
   "cell_type": "markdown",
   "id": "another-graham",
   "metadata": {},
   "source": [
    "전체 단어, 10000개,5000개의 단어를 각각 사용하는 1-D CNN모델을 생성합니다."
   ]
  },
  {
   "cell_type": "code",
   "execution_count": 202,
   "id": "secondary-findings",
   "metadata": {},
   "outputs": [
    {
     "name": "stdout",
     "output_type": "stream",
     "text": [
      "Model: \"sequential_4\"\n",
      "_________________________________________________________________\n",
      "Layer (type)                 Output Shape              Param #   \n",
      "=================================================================\n",
      "embedding_3 (Embedding)      (None, None, 128)         3965696   \n",
      "_________________________________________________________________\n",
      "conv1d_6 (Conv1D)            (None, None, 256)         1048832   \n",
      "_________________________________________________________________\n",
      "max_pooling1d_3 (MaxPooling1 (None, None, 256)         0         \n",
      "_________________________________________________________________\n",
      "conv1d_7 (Conv1D)            (None, None, 256)         2097408   \n",
      "_________________________________________________________________\n",
      "global_max_pooling1d_3 (Glob (None, 256)               0         \n",
      "_________________________________________________________________\n",
      "dense_6 (Dense)              (None, 64)                16448     \n",
      "_________________________________________________________________\n",
      "dense_7 (Dense)              (None, 46)                2990      \n",
      "=================================================================\n",
      "Total params: 7,131,374\n",
      "Trainable params: 7,131,374\n",
      "Non-trainable params: 0\n",
      "_________________________________________________________________\n",
      "Model: \"sequential_5\"\n",
      "_________________________________________________________________\n",
      "Layer (type)                 Output Shape              Param #   \n",
      "=================================================================\n",
      "embedding_4 (Embedding)      (None, None, 128)         1280000   \n",
      "_________________________________________________________________\n",
      "conv1d_8 (Conv1D)            (None, None, 256)         1048832   \n",
      "_________________________________________________________________\n",
      "max_pooling1d_4 (MaxPooling1 (None, None, 256)         0         \n",
      "_________________________________________________________________\n",
      "conv1d_9 (Conv1D)            (None, None, 256)         2097408   \n",
      "_________________________________________________________________\n",
      "global_max_pooling1d_4 (Glob (None, 256)               0         \n",
      "_________________________________________________________________\n",
      "dense_8 (Dense)              (None, 64)                16448     \n",
      "_________________________________________________________________\n",
      "dense_9 (Dense)              (None, 46)                2990      \n",
      "=================================================================\n",
      "Total params: 4,445,678\n",
      "Trainable params: 4,445,678\n",
      "Non-trainable params: 0\n",
      "_________________________________________________________________\n",
      "Model: \"sequential_6\"\n",
      "_________________________________________________________________\n",
      "Layer (type)                 Output Shape              Param #   \n",
      "=================================================================\n",
      "embedding_5 (Embedding)      (None, None, 128)         640000    \n",
      "_________________________________________________________________\n",
      "conv1d_10 (Conv1D)           (None, None, 256)         1048832   \n",
      "_________________________________________________________________\n",
      "max_pooling1d_5 (MaxPooling1 (None, None, 256)         0         \n",
      "_________________________________________________________________\n",
      "conv1d_11 (Conv1D)           (None, None, 256)         2097408   \n",
      "_________________________________________________________________\n",
      "global_max_pooling1d_5 (Glob (None, 256)               0         \n",
      "_________________________________________________________________\n",
      "dense_10 (Dense)             (None, 64)                16448     \n",
      "_________________________________________________________________\n",
      "dense_11 (Dense)             (None, 46)                2990      \n",
      "=================================================================\n",
      "Total params: 3,805,678\n",
      "Trainable params: 3,805,678\n",
      "Non-trainable params: 0\n",
      "_________________________________________________________________\n"
     ]
    }
   ],
   "source": [
    "dnn_n = dnn_vocab(30982)\n",
    "dnn_10000 = dnn_vocab(10000)\n",
    "dnn_5000 = dnn_vocab(5000)"
   ]
  },
  {
   "cell_type": "code",
   "execution_count": 203,
   "id": "considerable-housing",
   "metadata": {},
   "outputs": [
    {
     "name": "stdout",
     "output_type": "stream",
     "text": [
      "Epoch 1/20\n",
      "16/16 [==============================] - 28s 1s/step - loss: 3.0465 - accuracy: 0.2668 - f1_m: 0.0702 - val_loss: 2.2336 - val_accuracy: 0.4350 - val_f1_m: 0.3062\n",
      "Epoch 2/20\n",
      "16/16 [==============================] - 10s 634ms/step - loss: 2.1537 - accuracy: 0.4684 - f1_m: 0.3560 - val_loss: 1.8698 - val_accuracy: 0.5700 - val_f1_m: 0.4667\n",
      "Epoch 3/20\n",
      "16/16 [==============================] - 10s 645ms/step - loss: 1.7135 - accuracy: 0.5932 - f1_m: 0.5477 - val_loss: 1.5160 - val_accuracy: 0.6200 - val_f1_m: 0.6712\n",
      "Epoch 4/20\n",
      "16/16 [==============================] - 10s 632ms/step - loss: 1.4067 - accuracy: 0.6591 - f1_m: 0.7054 - val_loss: 1.4178 - val_accuracy: 0.6610 - val_f1_m: 0.6815\n",
      "Epoch 5/20\n",
      "16/16 [==============================] - 10s 631ms/step - loss: 1.1740 - accuracy: 0.7108 - f1_m: 0.7441 - val_loss: 1.3925 - val_accuracy: 0.6690 - val_f1_m: 0.6974\n",
      "Epoch 6/20\n",
      "16/16 [==============================] - 10s 633ms/step - loss: 0.9965 - accuracy: 0.7573 - f1_m: 0.7881 - val_loss: 1.3657 - val_accuracy: 0.6820 - val_f1_m: 0.7182\n",
      "Epoch 7/20\n",
      "16/16 [==============================] - 10s 633ms/step - loss: 0.8276 - accuracy: 0.7817 - f1_m: 0.8209 - val_loss: 1.4082 - val_accuracy: 0.6860 - val_f1_m: 0.7159\n",
      "Epoch 8/20\n",
      "16/16 [==============================] - 10s 634ms/step - loss: 0.7306 - accuracy: 0.8026 - f1_m: 0.8428 - val_loss: 1.4088 - val_accuracy: 0.7110 - val_f1_m: 0.7352\n",
      "Epoch 9/20\n",
      "16/16 [==============================] - 10s 633ms/step - loss: 0.5783 - accuracy: 0.8426 - f1_m: 0.8661 - val_loss: 1.4440 - val_accuracy: 0.7160 - val_f1_m: 0.7370\n",
      "Epoch 10/20\n",
      "16/16 [==============================] - 10s 635ms/step - loss: 0.4786 - accuracy: 0.8627 - f1_m: 0.8834 - val_loss: 1.5702 - val_accuracy: 0.7160 - val_f1_m: 0.7330\n",
      "Epoch 11/20\n",
      "16/16 [==============================] - 10s 635ms/step - loss: 0.3843 - accuracy: 0.8931 - f1_m: 0.9023 - val_loss: 1.6046 - val_accuracy: 0.7400 - val_f1_m: 0.7477\n",
      "Epoch 12/20\n",
      "16/16 [==============================] - 10s 633ms/step - loss: 0.3320 - accuracy: 0.9088 - f1_m: 0.9132 - val_loss: 1.6035 - val_accuracy: 0.7340 - val_f1_m: 0.7485\n",
      "Epoch 13/20\n",
      "16/16 [==============================] - 10s 634ms/step - loss: 0.2702 - accuracy: 0.9314 - f1_m: 0.9302 - val_loss: 1.7251 - val_accuracy: 0.7180 - val_f1_m: 0.7376\n",
      "Epoch 14/20\n",
      "16/16 [==============================] - 10s 636ms/step - loss: 0.2318 - accuracy: 0.9399 - f1_m: 0.9394 - val_loss: 1.6998 - val_accuracy: 0.7330 - val_f1_m: 0.7501\n",
      "Epoch 15/20\n",
      "16/16 [==============================] - 10s 634ms/step - loss: 0.1918 - accuracy: 0.9504 - f1_m: 0.9478 - val_loss: 1.7657 - val_accuracy: 0.7320 - val_f1_m: 0.7440\n",
      "Epoch 16/20\n",
      "16/16 [==============================] - 10s 637ms/step - loss: 0.1703 - accuracy: 0.9531 - f1_m: 0.9512 - val_loss: 1.7137 - val_accuracy: 0.7360 - val_f1_m: 0.7466\n",
      "Epoch 17/20\n",
      "16/16 [==============================] - 10s 635ms/step - loss: 0.1534 - accuracy: 0.9561 - f1_m: 0.9558 - val_loss: 1.8450 - val_accuracy: 0.7210 - val_f1_m: 0.7370\n",
      "Epoch 18/20\n",
      "16/16 [==============================] - 10s 636ms/step - loss: 0.1486 - accuracy: 0.9594 - f1_m: 0.9587 - val_loss: 1.7208 - val_accuracy: 0.7420 - val_f1_m: 0.7482\n",
      "Epoch 19/20\n",
      "16/16 [==============================] - 10s 637ms/step - loss: 0.1354 - accuracy: 0.9630 - f1_m: 0.9636 - val_loss: 1.7639 - val_accuracy: 0.7460 - val_f1_m: 0.7488\n",
      "Epoch 20/20\n",
      "16/16 [==============================] - 10s 634ms/step - loss: 0.1369 - accuracy: 0.9602 - f1_m: 0.9607 - val_loss: 1.7197 - val_accuracy: 0.7450 - val_f1_m: 0.7558\n",
      "71/71 - 4s - loss: 1.8772 - accuracy: 0.7320 - f1_m: 0.7429\n",
      "[1.877202033996582, 0.7319679260253906, 0.7428632974624634]\n"
     ]
    }
   ],
   "source": [
    "epochs=20 # 몇 epoch를 훈련하면 좋을지 결과를 보면서 바꾸어 봅시다. \n",
    "history_dnn_n = dnn_n.fit(partial_x_train_n,partial_y_train_n,epochs=epochs,batch_size=512,validation_data=(x_val_n, y_val_n),verbose=1)\n",
    "results_n = dnn_n.evaluate(x_test_n,  y_test_n, verbose=2)\n",
    "print(results_n)"
   ]
  },
  {
   "cell_type": "code",
   "execution_count": 208,
   "id": "authentic-hayes",
   "metadata": {},
   "outputs": [
    {
     "name": "stdout",
     "output_type": "stream",
     "text": [
      "Epoch 1/20\n",
      "16/16 [==============================] - 10s 621ms/step - loss: 2.2821 - accuracy: 0.4724 - f1_m: 0.3847 - val_loss: 1.9551 - val_accuracy: 0.5360 - val_f1_m: 0.5642\n",
      "Epoch 2/20\n",
      "16/16 [==============================] - 10s 620ms/step - loss: 1.7755 - accuracy: 0.5654 - f1_m: 0.6134 - val_loss: 1.6678 - val_accuracy: 0.5890 - val_f1_m: 0.6367\n",
      "Epoch 3/20\n",
      "16/16 [==============================] - 10s 620ms/step - loss: 1.4993 - accuracy: 0.6332 - f1_m: 0.6728 - val_loss: 1.4964 - val_accuracy: 0.6390 - val_f1_m: 0.6758\n",
      "Epoch 4/20\n",
      "16/16 [==============================] - 10s 621ms/step - loss: 1.3258 - accuracy: 0.6759 - f1_m: 0.7091 - val_loss: 1.4151 - val_accuracy: 0.6600 - val_f1_m: 0.6949\n",
      "Epoch 5/20\n",
      "16/16 [==============================] - 10s 623ms/step - loss: 1.1599 - accuracy: 0.7160 - f1_m: 0.7360 - val_loss: 1.3608 - val_accuracy: 0.6790 - val_f1_m: 0.7114\n",
      "Epoch 6/20\n",
      "16/16 [==============================] - 10s 622ms/step - loss: 1.0093 - accuracy: 0.7427 - f1_m: 0.7740 - val_loss: 1.3288 - val_accuracy: 0.6930 - val_f1_m: 0.7289\n",
      "Epoch 7/20\n",
      "16/16 [==============================] - 10s 623ms/step - loss: 0.8724 - accuracy: 0.7731 - f1_m: 0.8062 - val_loss: 1.3119 - val_accuracy: 0.7090 - val_f1_m: 0.7332\n",
      "Epoch 8/20\n",
      "16/16 [==============================] - 10s 635ms/step - loss: 0.7405 - accuracy: 0.8059 - f1_m: 0.8350 - val_loss: 1.3327 - val_accuracy: 0.7190 - val_f1_m: 0.7444\n",
      "Epoch 9/20\n",
      "16/16 [==============================] - 10s 624ms/step - loss: 0.6248 - accuracy: 0.8355 - f1_m: 0.8556 - val_loss: 1.3925 - val_accuracy: 0.7200 - val_f1_m: 0.7499\n",
      "Epoch 10/20\n",
      "16/16 [==============================] - 10s 624ms/step - loss: 0.5258 - accuracy: 0.8618 - f1_m: 0.8781 - val_loss: 1.3983 - val_accuracy: 0.7220 - val_f1_m: 0.7487\n",
      "Epoch 11/20\n",
      "16/16 [==============================] - 10s 624ms/step - loss: 0.4406 - accuracy: 0.8875 - f1_m: 0.8923 - val_loss: 1.4888 - val_accuracy: 0.7380 - val_f1_m: 0.7458\n",
      "Epoch 12/20\n",
      "16/16 [==============================] - 10s 624ms/step - loss: 0.3754 - accuracy: 0.9058 - f1_m: 0.9067 - val_loss: 1.5273 - val_accuracy: 0.7330 - val_f1_m: 0.7466\n",
      "Epoch 13/20\n",
      "16/16 [==============================] - 10s 625ms/step - loss: 0.3235 - accuracy: 0.9208 - f1_m: 0.9179 - val_loss: 1.5894 - val_accuracy: 0.7290 - val_f1_m: 0.7411\n",
      "Epoch 14/20\n",
      "16/16 [==============================] - 10s 625ms/step - loss: 0.2992 - accuracy: 0.9302 - f1_m: 0.9245 - val_loss: 1.7318 - val_accuracy: 0.7340 - val_f1_m: 0.7544\n",
      "Epoch 15/20\n",
      "16/16 [==============================] - 10s 625ms/step - loss: 0.2651 - accuracy: 0.9382 - f1_m: 0.9346 - val_loss: 1.6825 - val_accuracy: 0.7280 - val_f1_m: 0.7401\n",
      "Epoch 16/20\n",
      "16/16 [==============================] - 10s 625ms/step - loss: 0.2408 - accuracy: 0.9431 - f1_m: 0.9405 - val_loss: 1.7319 - val_accuracy: 0.7170 - val_f1_m: 0.7346\n",
      "Epoch 17/20\n",
      "16/16 [==============================] - 10s 629ms/step - loss: 0.2131 - accuracy: 0.9476 - f1_m: 0.9460 - val_loss: 1.7460 - val_accuracy: 0.7250 - val_f1_m: 0.7466\n",
      "Epoch 18/20\n",
      "16/16 [==============================] - 10s 647ms/step - loss: 0.1966 - accuracy: 0.9533 - f1_m: 0.9535 - val_loss: 1.7752 - val_accuracy: 0.7420 - val_f1_m: 0.7536\n",
      "Epoch 19/20\n",
      "16/16 [==============================] - 11s 662ms/step - loss: 0.1660 - accuracy: 0.9563 - f1_m: 0.9569 - val_loss: 1.8887 - val_accuracy: 0.7220 - val_f1_m: 0.7368\n",
      "Epoch 20/20\n",
      "16/16 [==============================] - 10s 647ms/step - loss: 0.1547 - accuracy: 0.9574 - f1_m: 0.9583 - val_loss: 1.8842 - val_accuracy: 0.7380 - val_f1_m: 0.7469\n",
      "71/71 - 1s - loss: 2.4002 - accuracy: 0.6999 - f1_m: 0.7098\n",
      "[2.400207042694092, 0.6999109387397766, 0.7097973823547363]\n"
     ]
    }
   ],
   "source": [
    "history_dnn_10000 = dnn_10000.fit(partial_x_train_10000,partial_y_train_10000,epochs=epochs,batch_size=512,validation_data=(x_val_10000, y_val_10000),verbose=1)\n",
    "results_10000 = dnn_10000.evaluate(x_test_10000,  y_test_10000, verbose=2)\n",
    "print(results_10000)"
   ]
  },
  {
   "cell_type": "code",
   "execution_count": 205,
   "id": "accepting-celtic",
   "metadata": {},
   "outputs": [
    {
     "name": "stdout",
     "output_type": "stream",
     "text": [
      "Epoch 1/20\n",
      "16/16 [==============================] - 11s 641ms/step - loss: 3.0448 - accuracy: 0.2562 - f1_m: 0.0589 - val_loss: 2.2226 - val_accuracy: 0.4290 - val_f1_m: 0.3181\n",
      "Epoch 2/20\n",
      "16/16 [==============================] - 10s 622ms/step - loss: 2.0667 - accuracy: 0.4700 - f1_m: 0.4436 - val_loss: 1.7590 - val_accuracy: 0.5420 - val_f1_m: 0.6275\n",
      "Epoch 3/20\n",
      "16/16 [==============================] - 10s 620ms/step - loss: 1.6759 - accuracy: 0.5717 - f1_m: 0.6473 - val_loss: 1.5741 - val_accuracy: 0.5930 - val_f1_m: 0.6609\n",
      "Epoch 4/20\n",
      "16/16 [==============================] - 10s 618ms/step - loss: 1.4959 - accuracy: 0.6109 - f1_m: 0.6712 - val_loss: 1.4961 - val_accuracy: 0.6140 - val_f1_m: 0.6754\n",
      "Epoch 5/20\n",
      "16/16 [==============================] - 10s 617ms/step - loss: 1.2931 - accuracy: 0.6634 - f1_m: 0.7153 - val_loss: 1.4083 - val_accuracy: 0.6690 - val_f1_m: 0.7006\n",
      "Epoch 6/20\n",
      "16/16 [==============================] - 10s 618ms/step - loss: 1.1392 - accuracy: 0.7126 - f1_m: 0.7456 - val_loss: 1.3309 - val_accuracy: 0.6990 - val_f1_m: 0.7215\n",
      "Epoch 7/20\n",
      "16/16 [==============================] - 10s 617ms/step - loss: 0.9469 - accuracy: 0.7595 - f1_m: 0.8020 - val_loss: 1.2718 - val_accuracy: 0.7040 - val_f1_m: 0.7497\n",
      "Epoch 8/20\n",
      "16/16 [==============================] - 10s 617ms/step - loss: 0.8203 - accuracy: 0.7831 - f1_m: 0.8246 - val_loss: 1.3445 - val_accuracy: 0.7010 - val_f1_m: 0.7295\n",
      "Epoch 9/20\n",
      "16/16 [==============================] - 10s 617ms/step - loss: 0.7124 - accuracy: 0.8185 - f1_m: 0.8424 - val_loss: 1.3426 - val_accuracy: 0.7280 - val_f1_m: 0.7442\n",
      "Epoch 10/20\n",
      "16/16 [==============================] - 10s 618ms/step - loss: 0.5747 - accuracy: 0.8470 - f1_m: 0.8651 - val_loss: 1.4354 - val_accuracy: 0.7190 - val_f1_m: 0.7353\n",
      "Epoch 11/20\n",
      "16/16 [==============================] - 10s 618ms/step - loss: 0.5102 - accuracy: 0.8694 - f1_m: 0.8769 - val_loss: 1.4652 - val_accuracy: 0.7300 - val_f1_m: 0.7426\n",
      "Epoch 12/20\n",
      "16/16 [==============================] - 10s 618ms/step - loss: 0.4345 - accuracy: 0.8856 - f1_m: 0.8911 - val_loss: 1.5177 - val_accuracy: 0.7270 - val_f1_m: 0.7421\n",
      "Epoch 13/20\n",
      "16/16 [==============================] - 10s 618ms/step - loss: 0.3469 - accuracy: 0.9012 - f1_m: 0.9058 - val_loss: 1.5810 - val_accuracy: 0.7350 - val_f1_m: 0.7467\n",
      "Epoch 14/20\n",
      "16/16 [==============================] - 10s 618ms/step - loss: 0.2844 - accuracy: 0.9212 - f1_m: 0.9199 - val_loss: 1.6434 - val_accuracy: 0.7260 - val_f1_m: 0.7403\n",
      "Epoch 15/20\n",
      "16/16 [==============================] - 10s 618ms/step - loss: 0.2542 - accuracy: 0.9365 - f1_m: 0.9299 - val_loss: 1.6956 - val_accuracy: 0.7390 - val_f1_m: 0.7476\n",
      "Epoch 16/20\n",
      "16/16 [==============================] - 10s 619ms/step - loss: 0.2301 - accuracy: 0.9395 - f1_m: 0.9383 - val_loss: 1.7500 - val_accuracy: 0.7510 - val_f1_m: 0.7553\n",
      "Epoch 17/20\n",
      "16/16 [==============================] - 10s 618ms/step - loss: 0.1898 - accuracy: 0.9508 - f1_m: 0.9477 - val_loss: 1.7721 - val_accuracy: 0.7450 - val_f1_m: 0.7576\n",
      "Epoch 18/20\n",
      "16/16 [==============================] - 10s 619ms/step - loss: 0.1583 - accuracy: 0.9557 - f1_m: 0.9553 - val_loss: 1.7625 - val_accuracy: 0.7430 - val_f1_m: 0.7554\n",
      "Epoch 19/20\n",
      "16/16 [==============================] - 10s 619ms/step - loss: 0.1538 - accuracy: 0.9592 - f1_m: 0.9577 - val_loss: 1.7983 - val_accuracy: 0.7340 - val_f1_m: 0.7499\n",
      "Epoch 20/20\n",
      "16/16 [==============================] - 10s 618ms/step - loss: 0.1691 - accuracy: 0.9536 - f1_m: 0.9513 - val_loss: 1.8873 - val_accuracy: 0.7500 - val_f1_m: 0.7574\n",
      "71/71 - 1s - loss: 2.0818 - accuracy: 0.7177 - f1_m: 0.7232\n",
      "[2.0818450450897217, 0.7177203893661499, 0.7231589555740356]\n"
     ]
    }
   ],
   "source": [
    "history_dnn_5000 = dnn_5000.fit(partial_x_train_5000,partial_y_train_5000,epochs=epochs,batch_size=512,validation_data=(x_val_5000, y_val_5000),verbose=1)\n",
    "results_5000 = dnn_5000.evaluate(x_test_5000,  y_test_5000, verbose=2)\n",
    "print(results_5000)"
   ]
  },
  {
   "cell_type": "markdown",
   "id": "ongoing-watershed",
   "metadata": {},
   "source": [
    "## 3) 딥러닝 결과"
   ]
  },
  {
   "cell_type": "markdown",
   "id": "extended-timer",
   "metadata": {},
   "source": [
    "학습 결과 전체단어를 사용한 것이 성능이 가장 좋았고 그 다음은 5000단어, 10000단어 순이었습니다. 아예 쓸거면 다쓰고 간단히 할거면 확 줄이는게 좋다고 해석해볼수 있을거 같습니다.\n",
    "\n",
    "\n",
    "||Whole words|10000 words|5000 words| \n",
    "|------|---|---|---|\n",
    "|Accuracy|**0.732**|0.699|0.717\n",
    "|f1_score|**0.742**|0.709|0.723"
   ]
  },
  {
   "cell_type": "markdown",
   "id": "obvious-brain",
   "metadata": {},
   "source": [
    "# step 5. 회고"
   ]
  },
  {
   "cell_type": "markdown",
   "id": "sensitive-calendar",
   "metadata": {},
   "source": [
    "## 1) 전체 결과 정리 "
   ]
  },
  {
   "cell_type": "markdown",
   "id": "spiritual-implementation",
   "metadata": {},
   "source": [
    "### Accuracy & F1 - Score of All models\n",
    "\n",
    "이로써 8가지 머신러닝 모델들과 1-D CNN의 모든 accuracy와 f1-score를 비교 할 수 있게 되었습니다. 전체적으로 봐도 각 모델들의 평균을 구한 Voting classifier 방법이 제일 성능이 좋습니다. 1-D CNN은 중간정도의 성능인것 같군요. 로이터 뉴스 데이터에 한에서는 머신러닝 모델들중에서 더 좋은 성능을 내는 모델들이 많이 있었습니다. 밑에 표를 통해 순위를 한번 더 정리 해보았습니다.                                                                                                                      \n",
    "                                                                                                                      \n",
    "||Whole words|10000 words|5000 words|Whole words|10000 words|5000 words|\n",
    "|------|-----|-----|-----|------|---|---|\n",
    "|[||Accuracy|] [||F1-Score|]|\n",
    "|Multinomial NB|0.60 |0.65|0.67|0.599|0.656|0.673\n",
    "|ComplementNB|0.76|0.77|0.77|0.764|0.770|0.770\n",
    "|LogisticRegression|0.813|0.807|0.805|0.813|0.807|0.805\n",
    "| LinearSVC|0.78|0.77|0.77|0.784|0.774|0.767\n",
    "|DecisionTree|0.62|0.62|0.62|0.621|0.620|0.617  \n",
    "|RandomForest|0.65|0.67|0.70|0.654|0.674|0.701\n",
    "|GradientBoosting|0.770|0.766|0.766|0.770|0.766|0.767\n",
    "|VotingClassifier|**0.818**|**0.811**|**0.816**|**0.818**|**0.811**|**0.816**\n",
    "|1-D CNN|**0.732**|0.699|0.717|**0.742**|0.709|0.723"
   ]
  },
  {
   "cell_type": "markdown",
   "id": "level-reset",
   "metadata": {},
   "source": [
    "### 순위 정리\n",
    " Multinomial NB < Tree < Randomforest < **1-D CNN** < CompletmentNB = GradientBoosting = SVC < Logistic regression < VotingClassifier  "
   ]
  },
  {
   "cell_type": "markdown",
   "id": "golden-tourism",
   "metadata": {},
   "source": [
    "## 2) 주의할 점들 정리"
   ]
  },
  {
   "cell_type": "markdown",
   "id": "packed-commercial",
   "metadata": {},
   "source": [
    "### 궁금한 점 \n",
    " #### * gradientboost는 얼마나 걸리는 건가?\n",
    "첫 타임을 측정하고 모델을 학습 후에 시간의 차를 이용해 학습 시간을 계산하였습니다. 3가지 측정의 시간이 1200초(20분) ~ 1050초 (약 17분) 사이의 시간이 걸렸습니다. 평균적으로 18분 정도 걸린것인데요. 단어의 수가 많을 수록 오래걸렸습니다. \n",
    "####  * 왜 굳이 다시 벡터화를 해주는가?\n",
    "이미 전처리가 되어서 각 단어가 정수 시퀀스로 변환된 채 제공되어져서 일반적인 상황에서 텍스트를 숫자로 처음부터 바꿔줘야 하는 과정을 처음부터 해야하지만 여기서는 그러지 않고 get_word_index를 이용해 다시 텍스트로 변환합니다. 그렇게 되면 이미 어느정도 전처리 되어진 자료에 <pad, sos, unk> 라는 자연어 처리를 위한 특별한 토큰들을 넣어주기 위합입니다. "
   ]
  },
  {
   "cell_type": "markdown",
   "id": "wireless-incentive",
   "metadata": {},
   "source": [
    "### 역경을 겪은 점\n",
    "* 샘플의 수는 동일!  \n",
    "\n",
    "여기서 num_words의 개념을 한 번더 짚고 넘어가게 되었는데, 빈도수가 많은 순서대로 나열했을 때, num_words의 인자로 준 정숫값만큼의 단어를 사용하고 나머지 단어는 전부 로 처리하는 원리여서 가져오는 양은 같은데 나머지를 로 처리하냐 마냐의 차이였다.  \n",
    "\n",
    "* fit_ transform  \n",
    "\n",
    "tfidf_transformer를 사용하고 test 데이터 역시 변형해줘야한다는 점에서 한번 실수를 하였는데 이후에 또 동작이 잘 안되어서 어려움을 겪었다. 살펴보니 fit_transform을 통해 전체단어 transformer,10000단어 transformer, 5000 transformer를 각각 만들어 주지 않아서 그런 것이었지만 여기선 transformer 학습 후 바로 test를 변형하는 것으로 해결하였다.  \n",
    "\n",
    "* y data의 변환  \n",
    "\n",
    "1-D CNN에서 y_train을 그대로 사용해주면 shpae이 맞지 않는다는 오류가 뜨게 됩니다. one_hot을 통해 형태를 맞춰주어야 모델에 적용할 수 있었습니다. \n",
    "y_train_n = tf.one_hot(y_train_n, depth=46)\n",
    "y_test_n = tf.one_hot(y_test_n, depth=46)\n"
   ]
  }
 ],
 "metadata": {
  "kernelspec": {
   "display_name": "Python 3",
   "language": "python",
   "name": "python3"
  },
  "language_info": {
   "codemirror_mode": {
    "name": "ipython",
    "version": 3
   },
   "file_extension": ".py",
   "mimetype": "text/x-python",
   "name": "python",
   "nbconvert_exporter": "python",
   "pygments_lexer": "ipython3",
   "version": "3.7.9"
  }
 },
 "nbformat": 4,
 "nbformat_minor": 5
}
