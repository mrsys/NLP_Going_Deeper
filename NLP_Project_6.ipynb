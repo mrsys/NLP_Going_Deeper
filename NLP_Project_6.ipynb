{
 "cells": [
  {
   "cell_type": "markdown",
   "id": "armed-detail",
   "metadata": {},
   "source": [
    "# Going Deeper(NLP)"
   ]
  },
  {
   "cell_type": "markdown",
   "id": "mexican-asian",
   "metadata": {},
   "source": [
    "# 6. 번역가는 대화에도 능하다"
   ]
  },
  {
   "cell_type": "markdown",
   "id": "associate-assessment",
   "metadata": {},
   "source": [
    "# 멋진 챗봇 만들기"
   ]
  },
  {
   "cell_type": "markdown",
   "id": "informational-helen",
   "metadata": {},
   "source": [
    "* Writer :송영석\n",
    "* Date : 2022.01.17"
   ]
  },
  {
   "cell_type": "markdown",
   "id": "selective-basin",
   "metadata": {},
   "source": [
    "## 목차\n",
    "    \n",
    "    Step 1. 서론  \n",
    "\n",
    "    Step 2. 데이터 분석 \n",
    "\n",
    "    Step 3. 데이터 전처리\n",
    "\n",
    "    Step 4. 데이터 토큰화\n",
    "        - Lexical Substitution\n",
    "        \n",
    "    Step 6. Transformer 모델 생성\n",
    "        - 토큰추가\n",
    "        - 벡터화\n",
    "        \n",
    "    Step 7. 모델 학습\n",
    "        - Transformer 사용\n",
    "   \n",
    "     Step 8. 모델 평가\n",
    "        - BLEU Score 사용  \n",
    "     \n",
    "     Step 9. 결론"
   ]
  },
  {
   "cell_type": "markdown",
   "id": "legendary-target",
   "metadata": {},
   "source": [
    "<br><br>\n",
    "\n",
    "#### 초록\n",
    "***\n",
    "<span style=\"font-size:11pt; line-height:1.8;\">\n",
    "    &nbsp; &nbsp; Transformer 한국어 챗봇 모델을 생성하고 BLEU를 이용하여 모델을 평가하였다. 송영숙(2018)이 제시한 『Chatbot data for Korean v1』을 학습 데이터셋으로 사용 하였다. 데이터 분석 결과 총 레코드 수는 11,823개이며, 결측치 0개, 중복 데이터 73개가 존재하였다. 따라서, '중복 데이터 제거' ,'정규식을 이용한 문장 전처리', '형태소 기준 문장 분할'을 수행하여 총 11,750개의 데이터를 확보하고 테스트 데이터 100개, 학습 데이터 11,650개로 분할 하였다. 문장 길이와 토큰 사용 빈도를 분석하여, 질문 데이터의 경우 토큰이 15개 이하로 사용되고 대답 데이터의 경우에는 토큰이 18개 이하로 사용된 문장만을 추출하였다. 또한 토크나이저의 단어사전 크기는 5,872개로 설정하였다. 이후, 이미 학습된 Word2Vec을 이용하여 데이터 증강을 수행하였으며, 최종 29,951개의 학습 데이터를 확보 하였다. 모델 생성 시, 인코더와 디코더 레이어는 2층을 쌓았으며, 학습 데이터 수가 적기 때문에 벡터 사이즈와 피드포워드 레이어의 유닛 수를 128로 설정 하였다. 학습 옵티마이저는 Adam을 사용하며 배치 사이즈는 64로 설정하고 총 10회 학습 하였다. 「지루하다, 놀러가고 싶어.」, 「오늘 일찍 일어났더니 피곤하다.」 등의 총 4개의 문장을 입력한 결과, 「시간이 필요한가 봐요.」, 「아침 일이 많았나 봅니다.」 등의 문장을 출력하였다. 앞서 분할한 100개의 테스트 데이터에 대한 모델의 BLEU score는 0.419임을 확인하였다. 이는 '이해할 수 있는 양호한 문장'으로 Transformer 한국어 챗봇 모델의 성능은 양호한 수준이라 평가할 수 있다.\n",
    "</span>\n",
    "\n",
    "***"
   ]
  },
  {
   "cell_type": "markdown",
   "id": "sitting-insight",
   "metadata": {},
   "source": [
    "#### _예제 진행에 앞서..._\n",
    "***\n",
    "+ 예제에서 사용하는 한국어 형태소 분석기 Mecab을 이용하기 위해 미리 설치 하여 줍니다.\n",
    "\n",
    "> `$ sudo apt-get install g++ openjdk-8-jdk` #jdk 설치\n",
    ">\n",
    "> `$ bash <(curl -s https://raw.githubusercontent.com/konlpy/konlpy/master/scripts/mecab.sh)` #curl을 이용한 Mecab 설치\n",
    ">\n",
    "> `$ pip install konlpy` #konlpy 설치\n",
    "***"
   ]
  },
  {
   "cell_type": "markdown",
   "id": "iraqi-techno",
   "metadata": {},
   "source": [
    "<br>\n",
    "\n",
    "## 2. 데이터 분석\n",
    "***\n",
    "<span style=\"font-size:12pt; line-height:1.7; font-family:Serif;\">\n",
    "    &nbsp; &nbsp; 예제에서 사용하는 데이터는 송영숙(2018)이 제시한 『Chatbot data for Korean v1』을 이용합니다. 데이터는 질문과 대답 그리고 질문의 평상, 긍정, 부정에 대한 0에서 2사이의 값으로 이루어져 있습니다. 예제에서는 질문(Question)과 대답(Answer) 데이터만을 이용합니다.  레코드 수는 총 11,823개이며 결측치는 0개, 중복 데이터 73개가 존재 합니다.\n",
    "</span>\n",
    "\n",
    "***"
   ]
  },
  {
   "cell_type": "markdown",
   "id": "incoming-phone",
   "metadata": {},
   "source": [
    "#### 필요 라이브러리 호출\n",
    "***\n",
    "+ 예제에 필요한 라이브러리를 호출 합니다.\n",
    "***"
   ]
  },
  {
   "cell_type": "code",
   "execution_count": 1,
   "id": "conservative-spell",
   "metadata": {},
   "outputs": [],
   "source": [
    "import re   #정규식\n",
    "import random   #데이터 증강용 난수\n",
    "import numpy as np   #행렬 연산\n",
    "import pandas as pd   #데이터프레임\n",
    "import tensorflow as tf   #신경망\n",
    "import matplotlib.pyplot as plt   #데이터 시각화\n",
    "from tqdm.notebook import tqdm   #학습 과정 출력\n",
    "\n",
    "\n",
    "import gensim   #Word2Vec\n",
    "from konlpy.tag import Mecab   #형태소 분석\n",
    "\n",
    "\n",
    "from nltk.translate.bleu_score import sentence_bleu   #bleu 연산\n",
    "from nltk.translate.bleu_score import SmoothingFunction   #bleu 연산"
   ]
  },
  {
   "cell_type": "markdown",
   "id": "flexible-settlement",
   "metadata": {},
   "source": [
    "<br>\n",
    "\n",
    "#### 데이터셋 불러오기\n",
    "***\n",
    "+ 질문(Q)과 대답(A) 그리고 일상(0), 부정(1), 긍정(2)의 도메인을 가지는 label로 구성되어 있으며 본 예제에서는 질문(Q)과 대답(A) 데이터만 이용합니다.\n",
    "***"
   ]
  },
  {
   "cell_type": "code",
   "execution_count": 2,
   "id": "compliant-sleep",
   "metadata": {},
   "outputs": [
    {
     "data": {
      "text/html": [
       "<div>\n",
       "<style scoped>\n",
       "    .dataframe tbody tr th:only-of-type {\n",
       "        vertical-align: middle;\n",
       "    }\n",
       "\n",
       "    .dataframe tbody tr th {\n",
       "        vertical-align: top;\n",
       "    }\n",
       "\n",
       "    .dataframe thead th {\n",
       "        text-align: right;\n",
       "    }\n",
       "</style>\n",
       "<table border=\"1\" class=\"dataframe\">\n",
       "  <thead>\n",
       "    <tr style=\"text-align: right;\">\n",
       "      <th></th>\n",
       "      <th>Q</th>\n",
       "      <th>A</th>\n",
       "    </tr>\n",
       "  </thead>\n",
       "  <tbody>\n",
       "    <tr>\n",
       "      <th>8725</th>\n",
       "      <td>헤이진지 이제 딱 한달</td>\n",
       "      <td>후폭풍이 지나갔길 바랄게요.</td>\n",
       "    </tr>\n",
       "    <tr>\n",
       "      <th>11697</th>\n",
       "      <td>친구들이 짝녀를 별로라고 하네요.</td>\n",
       "      <td>무슨 이유에서 그랬을까요.</td>\n",
       "    </tr>\n",
       "    <tr>\n",
       "      <th>4928</th>\n",
       "      <td>피자 막막 먹고 싶어.</td>\n",
       "      <td>배달 시키세요.</td>\n",
       "    </tr>\n",
       "    <tr>\n",
       "      <th>2172</th>\n",
       "      <td>불 날 뻔했어</td>\n",
       "      <td>조심하세요.</td>\n",
       "    </tr>\n",
       "    <tr>\n",
       "      <th>11707</th>\n",
       "      <td>친구의 남친 좋아하게 된 거 같아</td>\n",
       "      <td>사랑은 쟁취하는 거예요.</td>\n",
       "    </tr>\n",
       "  </tbody>\n",
       "</table>\n",
       "</div>"
      ],
      "text/plain": [
       "                        Q                A\n",
       "8725         헤이진지 이제 딱 한달  후폭풍이 지나갔길 바랄게요.\n",
       "11697  친구들이 짝녀를 별로라고 하네요.   무슨 이유에서 그랬을까요.\n",
       "4928         피자 막막 먹고 싶어.         배달 시키세요.\n",
       "2172              불 날 뻔했어           조심하세요.\n",
       "11707  친구의 남친 좋아하게 된 거 같아    사랑은 쟁취하는 거예요."
      ]
     },
     "metadata": {},
     "output_type": "display_data"
    }
   ],
   "source": [
    "dataset = pd.read_csv(\"./dataset/ChatbotData.csv\")\n",
    "dataset.drop((\"label\"), axis=\"columns\", inplace=True)\n",
    "\n",
    "display(dataset.sample(5))"
   ]
  },
  {
   "cell_type": "markdown",
   "id": "blocked-ceramic",
   "metadata": {},
   "source": [
    "#### 학습 데이터 출처\n",
    "***\n",
    "+ YeongSook Song, Chatbot_data_for_Korean v1.0(2018), https://github.com/songys/Chatbot_data\n",
    "***"
   ]
  },
  {
   "cell_type": "markdown",
   "id": "complete-upset",
   "metadata": {},
   "source": [
    "<br>\n",
    "\n",
    "#### 레코드 수, 결측치, 중복 데이터 확인\n",
    "***\n",
    "+ 레코드 수는 총 11,823개 이며, 0개의 결측치, 73개의 중복 데이터가 존재합니다.\n",
    "***"
   ]
  },
  {
   "cell_type": "code",
   "execution_count": 3,
   "id": "meaningful-reach",
   "metadata": {},
   "outputs": [
    {
     "name": "stdout",
     "output_type": "stream",
     "text": [
      "<class 'pandas.core.frame.DataFrame'>\n",
      "RangeIndex: 11823 entries, 0 to 11822\n",
      "Data columns (total 2 columns):\n",
      " #   Column  Non-Null Count  Dtype \n",
      "---  ------  --------------  ----- \n",
      " 0   Q       11823 non-null  object\n",
      " 1   A       11823 non-null  object\n",
      "dtypes: object(2)\n",
      "memory usage: 184.9+ KB\n",
      "Dupliacted Data Num: 73\n"
     ]
    }
   ],
   "source": [
    "dataset.info()\n",
    "dup = dataset.duplicated()\n",
    "dup = dup.value_counts()[True]\n",
    "\n",
    "print(f\"Dupliacted Data Num: {dup:,}\")"
   ]
  },
  {
   "cell_type": "markdown",
   "id": "atomic-being",
   "metadata": {},
   "source": [
    "<br>\n",
    "\n",
    "## 3. 데이터 전처리\n",
    "***\n",
    "<span style=\"font-size:12pt; line-height:1.7; font-family:Serif;\">\n",
    "    &nbsp; &nbsp; 데이터 전처리는 '중복 데이터 제거', '정규식을 이용한 문장 전처리', 'Mecab을 이용한 형태소 기준 문장 분할' 순으로 진행 합니다. 중복 데이터 제거를 통해 총 11,750개의 데이터를 확보한 후, 숫자, 한글, 영어, 필요 특수기호를 제외한 문자는 제거하고 각 문자 간 공백을 추가 하여 줍니다. 그 후, Mecab을 이용하여 형태소를 기준으로 문장을 구분하여 주고 디코더 문장 즉, Answer 문장에는 &lt;sos>와 &lt;eos> 토큰을 추가하여 줍니다.\n",
    "</span>\n",
    "\n",
    "***"
   ]
  },
  {
   "cell_type": "markdown",
   "id": "stunning-deployment",
   "metadata": {},
   "source": [
    "#### 중복 데이터 제거\n",
    "***\n",
    "+ 중복 데이터를 제거하여 총 11,750개의 데이터를 획득합니다.\n",
    "***"
   ]
  },
  {
   "cell_type": "code",
   "execution_count": 4,
   "id": "electoral-default",
   "metadata": {},
   "outputs": [
    {
     "name": "stdout",
     "output_type": "stream",
     "text": [
      "Data Num: 11,750\n"
     ]
    }
   ],
   "source": [
    "dataset.drop_duplicates(inplace=True)\n",
    "print(f\"Data Num: {len(dataset):,}\")"
   ]
  },
  {
   "cell_type": "markdown",
   "id": "floppy-archive",
   "metadata": {},
   "source": [
    "<br>\n",
    "\n",
    "#### 정규식을 이용한 문장 전처리\n",
    "***\n",
    "+ 정규식을 이용하여 특수문자 제거 및 공백 추가 등의 작업을 수행 합니다.\n",
    "***"
   ]
  },
  {
   "cell_type": "code",
   "execution_count": 5,
   "id": "therapeutic-exercise",
   "metadata": {},
   "outputs": [
    {
     "data": {
      "text/html": [
       "<div>\n",
       "<style scoped>\n",
       "    .dataframe tbody tr th:only-of-type {\n",
       "        vertical-align: middle;\n",
       "    }\n",
       "\n",
       "    .dataframe tbody tr th {\n",
       "        vertical-align: top;\n",
       "    }\n",
       "\n",
       "    .dataframe thead th {\n",
       "        text-align: right;\n",
       "    }\n",
       "</style>\n",
       "<table border=\"1\" class=\"dataframe\">\n",
       "  <thead>\n",
       "    <tr style=\"text-align: right;\">\n",
       "      <th></th>\n",
       "      <th>Q</th>\n",
       "      <th>A</th>\n",
       "    </tr>\n",
       "  </thead>\n",
       "  <tbody>\n",
       "    <tr>\n",
       "      <th>327</th>\n",
       "      <td>그런 사람인갑다 해야지</td>\n",
       "      <td>대인배시군요 .</td>\n",
       "    </tr>\n",
       "    <tr>\n",
       "      <th>7322</th>\n",
       "      <td>음 . 헤어졌는데 아직 잘 모르겠어</td>\n",
       "      <td>실감이 안날 수 있어요 .</td>\n",
       "    </tr>\n",
       "    <tr>\n",
       "      <th>11551</th>\n",
       "      <td>짝녀한테 여러 번 차였는데 사귈 수 있을까요 .</td>\n",
       "      <td>진심이 언젠간 통할지도 몰라요 .</td>\n",
       "    </tr>\n",
       "    <tr>\n",
       "      <th>3605</th>\n",
       "      <td>유기견 분양 받으려고</td>\n",
       "      <td>좋은 생각입니다 .</td>\n",
       "    </tr>\n",
       "    <tr>\n",
       "      <th>9028</th>\n",
       "      <td>교회 오빠한테 눈이 가</td>\n",
       "      <td>성경 공부는 안하고 연애 공부하나봅니다 .</td>\n",
       "    </tr>\n",
       "  </tbody>\n",
       "</table>\n",
       "</div>"
      ],
      "text/plain": [
       "                                Q                        A\n",
       "327                  그런 사람인갑다 해야지                 대인배시군요 .\n",
       "7322          음 . 헤어졌는데 아직 잘 모르겠어           실감이 안날 수 있어요 .\n",
       "11551  짝녀한테 여러 번 차였는데 사귈 수 있을까요 .       진심이 언젠간 통할지도 몰라요 .\n",
       "3605                  유기견 분양 받으려고               좋은 생각입니다 .\n",
       "9028                 교회 오빠한테 눈이 가  성경 공부는 안하고 연애 공부하나봅니다 ."
      ]
     },
     "metadata": {},
     "output_type": "display_data"
    }
   ],
   "source": [
    "#전처리 함수===========================\n",
    "def preprocess_sentence(sentence):\n",
    "    sentence = sentence.lower().strip()\n",
    "    sentence = re.sub(r\"([0-9?.!,])\", r\" \\1 \", sentence)\n",
    "    sentence = re.sub(r'[\" \"]+', \" \", sentence)\n",
    "    sentence = re.sub(r\"[^a-zA-Zㄱ-ㅎ가-힣0-9?.!,]+\", \" \", sentence)\n",
    "    sentence = sentence.strip()\n",
    "    return sentence\n",
    "#End===================================\n",
    "\n",
    "\n",
    "dataset[\"Q\"] = dataset[\"Q\"].apply(preprocess_sentence)\n",
    "dataset[\"A\"] = dataset[\"A\"].apply(preprocess_sentence)\n",
    "\n",
    "display(dataset.sample(5))"
   ]
  },
  {
   "cell_type": "markdown",
   "id": "grave-monster",
   "metadata": {},
   "source": [
    "<br>\n",
    "\n",
    "#### Mecab을 이용한 형태소 기준 문장 분할\n",
    "***\n",
    "+ Mecab을 이용하여 문장을 형태소 기준으로 분할 합니다.\n",
    "***"
   ]
  },
  {
   "cell_type": "code",
   "execution_count": 6,
   "id": "modern-success",
   "metadata": {},
   "outputs": [
    {
     "data": {
      "text/html": [
       "<div>\n",
       "<style scoped>\n",
       "    .dataframe tbody tr th:only-of-type {\n",
       "        vertical-align: middle;\n",
       "    }\n",
       "\n",
       "    .dataframe tbody tr th {\n",
       "        vertical-align: top;\n",
       "    }\n",
       "\n",
       "    .dataframe thead th {\n",
       "        text-align: right;\n",
       "    }\n",
       "</style>\n",
       "<table border=\"1\" class=\"dataframe\">\n",
       "  <thead>\n",
       "    <tr style=\"text-align: right;\">\n",
       "      <th></th>\n",
       "      <th>Q</th>\n",
       "      <th>A</th>\n",
       "    </tr>\n",
       "  </thead>\n",
       "  <tbody>\n",
       "    <tr>\n",
       "      <th>1771</th>\n",
       "      <td>문 안 열림</td>\n",
       "      <td>힘껏 밀 어 보 세요 .</td>\n",
       "    </tr>\n",
       "    <tr>\n",
       "      <th>6234</th>\n",
       "      <td>마지막 이 겠 죠</td>\n",
       "      <td>마지막 이 아닐 지도 몰라요 .</td>\n",
       "    </tr>\n",
       "    <tr>\n",
       "      <th>4301</th>\n",
       "      <td>직구 로 사 야지</td>\n",
       "      <td>좋 은 거 사 나 봐요 .</td>\n",
       "    </tr>\n",
       "    <tr>\n",
       "      <th>8779</th>\n",
       "      <td>회복 되 는 게 하루하루 가 다른 거 같 아 ! !</td>\n",
       "      <td>회복력 이 좋 으시 군요 .</td>\n",
       "    </tr>\n",
       "    <tr>\n",
       "      <th>9210</th>\n",
       "      <td>나이 먹 고 짝사랑 하 는 내 가 한심 해 .</td>\n",
       "      <td>사랑 에 는 나이 가 상관 없 어요 .</td>\n",
       "    </tr>\n",
       "  </tbody>\n",
       "</table>\n",
       "</div>"
      ],
      "text/plain": [
       "                                 Q                      A\n",
       "1771                        문 안 열림          힘껏 밀 어 보 세요 .\n",
       "6234                     마지막 이 겠 죠      마지막 이 아닐 지도 몰라요 .\n",
       "4301                     직구 로 사 야지         좋 은 거 사 나 봐요 .\n",
       "8779  회복 되 는 게 하루하루 가 다른 거 같 아 ! !        회복력 이 좋 으시 군요 .\n",
       "9210     나이 먹 고 짝사랑 하 는 내 가 한심 해 .  사랑 에 는 나이 가 상관 없 어요 ."
      ]
     },
     "metadata": {},
     "output_type": "display_data"
    }
   ],
   "source": [
    "m = Mecab()\n",
    "\n",
    "dataset[\"Q\"] = dataset[\"Q\"].apply(lambda x: \" \".join(m.morphs(x)))\n",
    "dataset[\"A\"] = dataset[\"A\"].apply(lambda x: \" \".join(m.morphs(x)))\n",
    "\n",
    "display(dataset.sample(5))"
   ]
  },
  {
   "cell_type": "markdown",
   "id": "southwest-district",
   "metadata": {},
   "source": [
    "<br>\n",
    "\n",
    "#### 디코더 문장 &lt;SOS>, &lt;EOS> 토큰 추가\n",
    "***\n",
    "+ 디코더에 입력할 데이터 문장 앞, 뒤에 &lt;SOS> 및 &lt;EOS> 토큰을 추가하여 줍니다.\n",
    "***"
   ]
  },
  {
   "cell_type": "code",
   "execution_count": 7,
   "id": "competent-challenge",
   "metadata": {},
   "outputs": [
    {
     "data": {
      "text/html": [
       "<div>\n",
       "<style scoped>\n",
       "    .dataframe tbody tr th:only-of-type {\n",
       "        vertical-align: middle;\n",
       "    }\n",
       "\n",
       "    .dataframe tbody tr th {\n",
       "        vertical-align: top;\n",
       "    }\n",
       "\n",
       "    .dataframe thead th {\n",
       "        text-align: right;\n",
       "    }\n",
       "</style>\n",
       "<table border=\"1\" class=\"dataframe\">\n",
       "  <thead>\n",
       "    <tr style=\"text-align: right;\">\n",
       "      <th></th>\n",
       "      <th>Q</th>\n",
       "      <th>A</th>\n",
       "    </tr>\n",
       "  </thead>\n",
       "  <tbody>\n",
       "    <tr>\n",
       "      <th>749</th>\n",
       "      <td>남자 친구 는 어디 서 만나</td>\n",
       "      <td>&lt;sos&gt; 원 하 는 사람 이 있 는 장소 에 가 보 세요 . &lt;eos&gt;</td>\n",
       "    </tr>\n",
       "    <tr>\n",
       "      <th>8618</th>\n",
       "      <td>헤어진지 1 년 .</td>\n",
       "      <td>&lt;sos&gt; 아직 도 힘들 지 않 았 으면 좋 겠 어요 . &lt;eos&gt;</td>\n",
       "    </tr>\n",
       "    <tr>\n",
       "      <th>11663</th>\n",
       "      <td>첫 사랑 을 추억 해</td>\n",
       "      <td>&lt;sos&gt; 첫 사랑 은 항상 추억 의 대상 이 죠 . &lt;eos&gt;</td>\n",
       "    </tr>\n",
       "    <tr>\n",
       "      <th>2632</th>\n",
       "      <td>술 좀 그만 마셔야 지</td>\n",
       "      <td>&lt;sos&gt; 술 은 적당히 즐기 세요 . &lt;eos&gt;</td>\n",
       "    </tr>\n",
       "    <tr>\n",
       "      <th>10489</th>\n",
       "      <td>어떻게 여러 명 을 좋아할 수 있 어 ?</td>\n",
       "      <td>&lt;sos&gt; 저 도 이해 는 안 갑니다 . &lt;eos&gt;</td>\n",
       "    </tr>\n",
       "  </tbody>\n",
       "</table>\n",
       "</div>"
      ],
      "text/plain": [
       "                            Q                                         A\n",
       "749           남자 친구 는 어디 서 만나  <sos> 원 하 는 사람 이 있 는 장소 에 가 보 세요 . <eos>\n",
       "8618               헤어진지 1 년 .     <sos> 아직 도 힘들 지 않 았 으면 좋 겠 어요 . <eos>\n",
       "11663             첫 사랑 을 추억 해       <sos> 첫 사랑 은 항상 추억 의 대상 이 죠 . <eos>\n",
       "2632             술 좀 그만 마셔야 지               <sos> 술 은 적당히 즐기 세요 . <eos>\n",
       "10489  어떻게 여러 명 을 좋아할 수 있 어 ?              <sos> 저 도 이해 는 안 갑니다 . <eos>"
      ]
     },
     "metadata": {},
     "output_type": "display_data"
    }
   ],
   "source": [
    "dataset[\"A\"] = dataset[\"A\"].apply(lambda x: \"<sos> \" + x + \" <eos>\")\n",
    "\n",
    "display(dataset.sample(5))"
   ]
  },
  {
   "cell_type": "markdown",
   "id": "stable-recommendation",
   "metadata": {},
   "source": [
    "<br>\n",
    "\n",
    "## 4. 데이터 토큰화\n",
    "***\n",
    "<span style=\"font-size:12pt; line-height:1.7; font-family:Serif;\">\n",
    "    &nbsp; &nbsp; 데이터 토큰화는 앞서, Mecab을 이용하여 형태소 기준으로 문장을 문할 하였기 때문에 이를 바로 토크나이저에 추가하여 사용 합니다. 문장의 길이와 단어사전 크기 설정을 위해, 분석을 진행하였습니다. 4분위에 해당하는 문장의 길이를 확인한 결과, 질문(Question) 데이터의 경우, 약 15개의 토큰으로 이루어져 있습니다. 대답(Answer) 데이터의 경우, 약 18개의 토큰으로 이루어져 있습니다. 총 토큰은 6,810개 이며, 4분위에 해당하는 토큰의 사용 빈도는 약 16회 입니다. 또한, 16회 이하로 사용된 토큰은 총 5,872개 입니다.\n",
    "</span><br><br>\n",
    "\n",
    "<span style=\"font-size:12pt; line-height:1.7; font-family:Serif;\">\n",
    "    &nbsp; &nbsp; 이를 바탕으로 토크나이저를 생성 하였습니다. 질문 데이터의 경우에는 토큰이 15개 이하로 사용되고 대답 데이터의 경우에는 토큰이 18개 이하로 사용된 문장만을 추출 합니다. 또한 토크나이저의 단어사전 크기는 5,872개로 설정 하였습니다.\n",
    "</span>\n",
    "\n",
    "***"
   ]
  },
  {
   "cell_type": "markdown",
   "id": "bright-forty",
   "metadata": {},
   "source": [
    "#### 토크나이저 생성\n",
    "***\n",
    "+ 문장 길이 및 토큰 사용 빈도를 확인하기 위해, 토크나이저를 생성 합니다.\n",
    "\n",
    "\n",
    "+ 인코더 입력 문장과 디코더 입력 문장 모두 한국어 이므로 동일한 토크나이저를 공유 합니다.\n",
    "\n",
    "\n",
    "+ 총 6,810개의 토큰을 획득 하였습니다.\n",
    "***"
   ]
  },
  {
   "cell_type": "code",
   "execution_count": 8,
   "id": "corrected-killing",
   "metadata": {},
   "outputs": [
    {
     "name": "stdout",
     "output_type": "stream",
     "text": [
      "Tokenizer Vocab Size: 6,810\n"
     ]
    }
   ],
   "source": [
    "def get_tokenizer(corpus, vocab_size):\n",
    "    tokenizer = tf.keras.preprocessing.text.Tokenizer(\n",
    "        filters='',\n",
    "        oov_token=\"<UNK>\",\n",
    "        num_words=vocab_size\n",
    "    )\n",
    "    corpus_input = [sentence.split() for sentence in corpus]\n",
    "    tokenizer.fit_on_texts(corpus_input)\n",
    "    \n",
    "    if vocab_size is not None:\n",
    "        words_frequency = [w for w,c in tokenizer.word_index.items() if c >= vocab_size + 1]\n",
    "        for w in words_frequency:\n",
    "            del tokenizer.word_index[w]\n",
    "            del tokenizer.word_counts[w]\n",
    "    \n",
    "    return tokenizer\n",
    "\n",
    "\n",
    "concat = pd.concat([dataset[\"Q\"], dataset[\"A\"]])\n",
    "tokenizer = get_tokenizer(concat, None)\n",
    "\n",
    "print(\"Tokenizer Vocab Size:\", f\"{len(tokenizer.word_index):,}\")"
   ]
  },
  {
   "cell_type": "markdown",
   "id": "ceramic-grill",
   "metadata": {},
   "source": [
    "<br>\n",
    "\n",
    "#### 문장 정수화\n",
    "***\n",
    "+ 앞서 생성한 토크나이저를 바탕으로 자연어 데이터를 정수 형테로 변환 하여 줍니다.\n",
    "***"
   ]
  },
  {
   "cell_type": "code",
   "execution_count": 9,
   "id": "adaptive-humidity",
   "metadata": {},
   "outputs": [],
   "source": [
    "def encoding_sentence(copus, tokenizer):\n",
    "    tensor = tokenizer.texts_to_sequences(copus)\n",
    "    tensor = tf.keras.preprocessing.sequence.pad_sequences(\n",
    "        tensor, padding='post'\n",
    "    )\n",
    "    return tensor\n",
    "\n",
    "\n",
    "enc_tensor = encoding_sentence(dataset[\"Q\"], tokenizer)\n",
    "dec_tensor = encoding_sentence(dataset[\"A\"], tokenizer)"
   ]
  },
  {
   "cell_type": "markdown",
   "id": "genuine-universal",
   "metadata": {},
   "source": [
    "<br>\n",
    "\n",
    "#### 데이터 빈도 시각화 및 출력 함수 생성\n",
    "***\n",
    "+ 데이터 빈도 시각화 및 출력하는 함수를 생성 합니다.\n",
    "\n",
    "\n",
    "+ 문장의 길이와 단어 사용 빈도를 확인하기 위해 사용 합니다.\n",
    "***"
   ]
  },
  {
   "cell_type": "code",
   "execution_count": 10,
   "id": "strange-income",
   "metadata": {},
   "outputs": [],
   "source": [
    "#데이터 빈도 시각화 함수=========================\n",
    "def show_sentence_length(sentence_num, title, range_=[0, 500]):\n",
    "    plt.figure(figsize=(13, 5))\n",
    "    plt.suptitle(title, fontsize=14)\n",
    "    \n",
    "    plt.subplot(1, 2, 1)\n",
    "    plt.hist(sentence_num, bins=range_[1], range=range_, facecolor='b', label='train')\n",
    "    plt.xlabel('Number of question')\n",
    "    plt.ylabel('Count of question')\n",
    "    \n",
    "    plt.subplot(1, 2, 2)\n",
    "    plt.boxplot(sentence_num, labels=['token counts'], showmeans=True)\n",
    "\n",
    "    plt.show()\n",
    "    \n",
    "    print(\"< Sentence Info >\".center(100, \"=\"))\n",
    "    print(f\"길이 최대:    {np.max(sentence_num):4d}\")\n",
    "    print(f\"길이 최소:    {np.min(sentence_num):4d}\")\n",
    "    print(f\"길이 평균:    {np.mean(sentence_num):7.3f}\")\n",
    "    print(f\"길이 표준편차: {np.std(sentence_num):7.3f}\", end=\"\\n\\n\")\n",
    "    \n",
    "    percentile25 = np.percentile(sentence_num, 25)\n",
    "    percentile50 = np.percentile(sentence_num, 50)\n",
    "    percentile75 = np.percentile(sentence_num, 75)\n",
    "    percentileIQR = percentile75 - percentile25\n",
    "    percentileMAX = percentile75 + percentileIQR * 1.5\n",
    "    \n",
    "    print(f\" 25/100분위:  {percentile25:7.3f}\")\n",
    "    print(f\" 50/100분위:  {percentile50:7.3f}\")\n",
    "    print(f\" 75/100분위:  {percentile75:7.3f}\")\n",
    "    print(f\" MAX/100분위: {percentileMAX:7.3f}\")\n",
    "    print(f\" IQR: {percentileIQR:7.3f}\")\n",
    "    print(\"=\" * 100)\n",
    "#End==========================================="
   ]
  },
  {
   "cell_type": "markdown",
   "id": "metropolitan-vector",
   "metadata": {},
   "source": [
    "<br>\n",
    "\n",
    "#### 데이터 문장 길이 확인\n",
    "***\n",
    "+ 질문(Question) 데이터의 경우, 문장이 평균 약 7개의 토큰으로 이루어져 있으며, 4분위의 경우 약 15개의 토큰으로 이루어져 있습니다.\n",
    "\n",
    "\n",
    "+ 대답(Answer) 데이터의 경우, 문장이 평균 약 10개의 토큰으로 이루어져 있으며, 4분위의 경우 약 18개의 토큰으로 이루어져 있습니다.\n",
    "***"
   ]
  },
  {
   "cell_type": "code",
   "execution_count": 11,
   "id": "tutorial-celtic",
   "metadata": {},
   "outputs": [
    {
     "data": {
      "image/png": "[encoded data removed]",
      "text/plain": [
       "<Figure size 936x360 with 2 Axes>"
      ]
     },
     "metadata": {
      "needs_background": "light"
     },
     "output_type": "display_data"
    },
    {
     "name": "stdout",
     "output_type": "stream",
     "text": [
      "=========================================< Sentence Info >==========================================\n",
      "길이 최대:      32\n",
      "길이 최소:       1\n",
      "길이 평균:      7.035\n",
      "길이 표준편차:   3.524\n",
      "\n",
      " 25/100분위:    5.000\n",
      " 50/100분위:    6.000\n",
      " 75/100분위:    9.000\n",
      " MAX/100분위:  15.000\n",
      " IQR:   4.000\n",
      "====================================================================================================\n"
     ]
    },
    {
     "data": {
      "image/png": "[encoded data removed]",
      "text/plain": [
       "<Figure size 936x360 with 2 Axes>"
      ]
     },
     "metadata": {
      "needs_background": "light"
     },
     "output_type": "display_data"
    },
    {
     "name": "stdout",
     "output_type": "stream",
     "text": [
      "=========================================< Sentence Info >==========================================\n",
      "길이 최대:      42\n",
      "길이 최소:       3\n",
      "길이 평균:     10.377\n",
      "길이 표준편차:   3.575\n",
      "\n",
      " 25/100분위:    8.000\n",
      " 50/100분위:   10.000\n",
      " 75/100분위:   12.000\n",
      " MAX/100분위:  18.000\n",
      " IQR:   4.000\n",
      "====================================================================================================\n"
     ]
    }
   ],
   "source": [
    "def get_sentence_len(tensor):\n",
    "    counts = []\n",
    "    for sentence in tensor.tolist():\n",
    "        try:\n",
    "            idx = sentence.index(0)\n",
    "            counts.append(idx)\n",
    "        except:\n",
    "            counts.append(len(sentence))\n",
    "    return counts\n",
    "\n",
    "\n",
    "enc_counts = get_sentence_len(enc_tensor)\n",
    "dec_counts = get_sentence_len(dec_tensor)\n",
    "\n",
    "show_sentence_length(enc_counts, \"<Fig 1> Question Sentence Infomation\", [0, 20])\n",
    "show_sentence_length(dec_counts, \"<Fig 2> Answer Sentence Infomation\", [0, 30])"
   ]
  },
  {
   "cell_type": "markdown",
   "id": "yellow-geneva",
   "metadata": {},
   "source": [
    "<br>\n",
    "\n",
    "#### 토큰별 사용 빈도 확인\n",
    "***\n",
    "+ 추후 단어사전 크기를 설정하기 위해, 토큰별 사용 빈도를 확인 합니다.\n",
    "\n",
    "\n",
    "+ 평균 약 30회 사용 되었고 4분위의 토큰은 약 16회 사용 되었습니다.\n",
    "***"
   ]
  },
  {
   "cell_type": "code",
   "execution_count": 12,
   "id": "dominican-capital",
   "metadata": {},
   "outputs": [
    {
     "data": {
      "image/png": "[encoded data removed]",
      "text/plain": [
       "<Figure size 936x360 with 2 Axes>"
      ]
     },
     "metadata": {
      "needs_background": "light"
     },
     "output_type": "display_data"
    },
    {
     "name": "stdout",
     "output_type": "stream",
     "text": [
      "=========================================< Sentence Info >==========================================\n",
      "길이 최대:    13870\n",
      "길이 최소:       1\n",
      "길이 평균:     30.048\n",
      "길이 표준편차: 310.114\n",
      "\n",
      " 25/100분위:    1.000\n",
      " 50/100분위:    2.000\n",
      " 75/100분위:    7.000\n",
      " MAX/100분위:  16.000\n",
      " IQR:   6.000\n",
      "====================================================================================================\n"
     ]
    }
   ],
   "source": [
    "freq = [value for value in tokenizer.word_counts.values()]\n",
    "\n",
    "show_sentence_length(freq, \"<Fig 3> Word Frequency\", [0, 100])"
   ]
  },
  {
   "cell_type": "markdown",
   "id": "happy-journalism",
   "metadata": {},
   "source": [
    "<br>\n",
    "\n",
    "#### 사용 빈도 4분위에 해당하는 토큰 개수 확인\n",
    "***\n",
    "+ 사용 빈도 4분위에 해당하는 토큰의 수는 총 5,872개 입니다.\n",
    "***"
   ]
  },
  {
   "cell_type": "code",
   "execution_count": 13,
   "id": "ancient-repair",
   "metadata": {},
   "outputs": [
    {
     "name": "stdout",
     "output_type": "stream",
     "text": [
      "Words Used Under 16: 5,872\n"
     ]
    }
   ],
   "source": [
    "def wordNumByFreq(tokenizer, freq_num):\n",
    "    sorted_freq = sorted(tokenizer.word_counts.items(), key=lambda x: x[1])\n",
    "    for idx, (_, freq) in enumerate(sorted_freq):\n",
    "        if freq > freq_num: break;\n",
    "    return idx\n",
    "\n",
    "\n",
    "print(f\"Words Used Under {16}: {wordNumByFreq(tokenizer, 16):,}\")"
   ]
  },
  {
   "cell_type": "markdown",
   "id": "intensive-dining",
   "metadata": {},
   "source": [
    "<br>\n",
    "\n",
    "#### 최종 토크나이저 생성\n",
    "***\n",
    "+ 사용 빈도 4분위에 해당하는 토큰의 수는 총 5,872개 입니다.\n",
    "\n",
    "\n",
    "+ 또한, 질문(Question) 문장의 길이가 15 이하이고 대답(Answer) 문장의 길이가 18 이하인 문장만 추출 합니다.\n",
    "\n",
    "\n",
    "+ 문장 정수 인코딩은 데이터 증강 후 수행 합니다.\n",
    "***"
   ]
  },
  {
   "cell_type": "code",
   "execution_count": 14,
   "id": "unlimited-facility",
   "metadata": {},
   "outputs": [
    {
     "name": "stdout",
     "output_type": "stream",
     "text": [
      "Tokenizer Vocab Size: 5,872\n"
     ]
    }
   ],
   "source": [
    "#토크나이저 생성===============\n",
    "concat = pd.concat([dataset[\"Q\"], dataset[\"A\"]])\n",
    "tokenizer = get_tokenizer(concat, 5872)\n",
    "#End===========================\n",
    "\n",
    "\n",
    "#문장 길이 정제================\n",
    "q = dataset[\"Q\"].apply(lambda x: len(tokenizer.texts_to_sequences([x])[0]) <= 15)\n",
    "a = dataset[\"A\"].apply(lambda x: len(tokenizer.texts_to_sequences([x])[0]) <= 18)\n",
    "dataset = dataset[q & a]\n",
    "#End===========================\n",
    "\n",
    "\n",
    "print(\"Tokenizer Vocab Size:\", f\"{len(tokenizer.word_index):,}\")"
   ]
  },
  {
   "cell_type": "markdown",
   "id": "insured-empty",
   "metadata": {},
   "source": [
    "<br>\n",
    "\n",
    "#### 테스트 데이터 분할\n",
    "***\n",
    "+ 모델 검증 단계에서 사용할 100개의 테스트 데이터를 분할 합니다.\n",
    "***"
   ]
  },
  {
   "cell_type": "code",
   "execution_count": 15,
   "id": "foster-doctor",
   "metadata": {},
   "outputs": [
    {
     "data": {
      "text/html": [
       "<div>\n",
       "<style scoped>\n",
       "    .dataframe tbody tr th:only-of-type {\n",
       "        vertical-align: middle;\n",
       "    }\n",
       "\n",
       "    .dataframe tbody tr th {\n",
       "        vertical-align: top;\n",
       "    }\n",
       "\n",
       "    .dataframe thead th {\n",
       "        text-align: right;\n",
       "    }\n",
       "</style>\n",
       "<table border=\"1\" class=\"dataframe\">\n",
       "  <thead>\n",
       "    <tr style=\"text-align: right;\">\n",
       "      <th></th>\n",
       "      <th>Q</th>\n",
       "      <th>A</th>\n",
       "    </tr>\n",
       "  </thead>\n",
       "  <tbody>\n",
       "    <tr>\n",
       "      <th>74</th>\n",
       "      <td>같이 놀 러 갈 친구 가 없 어</td>\n",
       "      <td>&lt;sos&gt; 혼자 도 좋 아요 . &lt;eos&gt;</td>\n",
       "    </tr>\n",
       "    <tr>\n",
       "      <th>87</th>\n",
       "      <td>개념 도 놓 고 옴</td>\n",
       "      <td>&lt;sos&gt; 그게 제일 중요 한 건데요 . &lt;eos&gt;</td>\n",
       "    </tr>\n",
       "    <tr>\n",
       "      <th>68</th>\n",
       "      <td>강아지 키우 고 싶 어</td>\n",
       "      <td>&lt;sos&gt; 책임 질 수 있 을 때 키워 보 세요 . &lt;eos&gt;</td>\n",
       "    </tr>\n",
       "    <tr>\n",
       "      <th>79</th>\n",
       "      <td>같이 할 수 있 는 취미 생활 뭐 있 을까</td>\n",
       "      <td>&lt;sos&gt; 함께 하 면 서로 를 더 많이 알 게 될 거 예요 . &lt;eos&gt;</td>\n",
       "    </tr>\n",
       "    <tr>\n",
       "      <th>88</th>\n",
       "      <td>개념 이 없 어</td>\n",
       "      <td>&lt;sos&gt; 그게 제일 중요 한 건데요 . &lt;eos&gt;</td>\n",
       "    </tr>\n",
       "  </tbody>\n",
       "</table>\n",
       "</div>"
      ],
      "text/plain": [
       "                          Q                                          A\n",
       "74        같이 놀 러 갈 친구 가 없 어                    <sos> 혼자 도 좋 아요 . <eos>\n",
       "87               개념 도 놓 고 옴               <sos> 그게 제일 중요 한 건데요 . <eos>\n",
       "68             강아지 키우 고 싶 어         <sos> 책임 질 수 있 을 때 키워 보 세요 . <eos>\n",
       "79  같이 할 수 있 는 취미 생활 뭐 있 을까  <sos> 함께 하 면 서로 를 더 많이 알 게 될 거 예요 . <eos>\n",
       "88                 개념 이 없 어               <sos> 그게 제일 중요 한 건데요 . <eos>"
      ]
     },
     "metadata": {},
     "output_type": "display_data"
    }
   ],
   "source": [
    "test_dataset = dataset[:100]\n",
    "dataset = dataset[100:]\n",
    "\n",
    "display(test_dataset.sample(5))"
   ]
  },
  {
   "cell_type": "markdown",
   "id": "broke-sandwich",
   "metadata": {},
   "source": [
    "<br>\n",
    "\n",
    "## 5. 데이터 증강\n",
    "***\n",
    "<span style=\"font-size:12pt; line-height:1.7; font-family:Serif;\">\n",
    "    &nbsp; &nbsp; 데이터 전처리를 통해 총 11,750개의 데이터를 확보하였습니다. 이는 학습하기 부족한 수로, 데이터 증강을 통해 데이터를 늘립니다. 데이터 증강 방법은 데이터 문장으로부터 무작위로 단어를 선택 합니다. 이미 학습된 Word2Vec을 이용하여 선택한 단어와 비슷한 단어를 추출 합니다. 즉, 임베딩 간 거리가 가까운 단어를 추출하는 것입니다. 선택한 단어를, 추출한 비슷한 단어로 대체 합니다. 해당 문장을 학습 데이터로 사용 합니다. 이러한 방법을 사용하여 질문 데이터와 대답 데이터를 각각 증강 합니다. 최종 29,951개의 학습 데이터를 확보 합니다.\n",
    "</span>\n",
    "\n",
    "***"
   ]
  },
  {
   "cell_type": "markdown",
   "id": "later-mitchell",
   "metadata": {},
   "source": [
    "#### 한국어 Word2Vec 불러오기\n",
    "***\n",
    "+ 한국어로 사전 훈련된 Embedding 모델을 불러옵니다.\n",
    "***"
   ]
  },
  {
   "cell_type": "code",
   "execution_count": 16,
   "id": "funded-running",
   "metadata": {},
   "outputs": [],
   "source": [
    "w2v = gensim.models.Word2Vec.load('./dataset/ko.bin')"
   ]
  },
  {
   "cell_type": "markdown",
   "id": "serial-therapy",
   "metadata": {},
   "source": [
    "#### 학습 데이터 출처\n",
    "***\n",
    "+ Kyubyong Park, Pre-trained word vectors of 30+ languages(2016), https://github.com/Kyubyong/wordvectors\n",
    "***"
   ]
  },
  {
   "cell_type": "markdown",
   "id": "divine-badge",
   "metadata": {},
   "source": [
    "#### _'bin' File Load Error_\n",
    "***\n",
    "+ gensim의 버전으로 인하여 `ko.bin` 파일을 읽을 수 없는 이슈가 존재합니다. 이러한 경우 아래의 코드를 통해 버전을 낮추어 재설치 합니다.\n",
    "\n",
    "> `$ pip install --upgrade gensim==3.8.3`\n",
    "***"
   ]
  },
  {
   "cell_type": "markdown",
   "id": "surprised-dakota",
   "metadata": {},
   "source": [
    "<br>\n",
    "\n",
    "#### 데이터 증강 함수 생성\n",
    "***\n",
    "+ `lexical_sub` 함수는 문장을 입력하면 무작위로 선택한 단어를 wrod2vec에 기반하여 비슷한 단어로 대체하여 문장을 반환 합니다.\n",
    "\n",
    "\n",
    "+ `argument_data` 함수는 `Question`과 `Answer` 데이터에 맞추어 데이터 증강을 실시 합니다.\n",
    "***"
   ]
  },
  {
   "cell_type": "code",
   "execution_count": 17,
   "id": "twelve-munich",
   "metadata": {},
   "outputs": [],
   "source": [
    "#Lexical Substitution=================================\n",
    "def lexical_sub(sentence, word2vec, enc_arg=True):\n",
    "    toks = sentence.split()\n",
    "    if not enc_arg:   #<sos>, <eos> 토큰 제외\n",
    "        toks = toks[1:-1]\n",
    "\n",
    "    _from = random.choice(toks)\n",
    "    \n",
    "    try:\n",
    "        _to = word2vec.most_similar(_from)[0][0]\n",
    "    except:\n",
    "        return \"_\"\n",
    "    \n",
    "    res = \"\"\n",
    "    for tok in sentence.split():\n",
    "        if tok == _from:\n",
    "            res += _to + \" \"\n",
    "        else:\n",
    "            res += tok + \" \"\n",
    "    return res\n",
    "#End==================================================\n",
    "\n",
    "\n",
    "#Question, Answer에 따른 데이터 증강 함수=============\n",
    "def argument_data(dataset, word2vec, enc_arg=True):\n",
    "    qna = \"Q\" if enc_arg else \"A\"\n",
    "    arg = dataset[qna].apply(lambda x: lexical_sub(x, word2vec, enc_arg))\n",
    "    \n",
    "    arg_data = dataset.copy()\n",
    "    arg_data[qna] = arg\n",
    "    \n",
    "    arg_data = arg_data[arg_data[qna] != \"_\"]\n",
    "    return arg_data\n",
    "#End=================================================="
   ]
  },
  {
   "cell_type": "markdown",
   "id": "sitting-appearance",
   "metadata": {},
   "source": [
    "<br>\n",
    "\n",
    "#### 데이터 증강 수행\n",
    "***\n",
    "+ 앞서 정의한 함수를 사용하여 `Quenstion`과 `Answer` 데이터별로 데이터 증강을 수행 합니다.\n",
    "\n",
    "\n",
    "+ `걱정 좀 없이 살고 싶다.` 문장을 바탕으로 `걱정 조금 없이 살고 싶다.`의 문장을 생성 한 것을 확인할 수 있습니다.\n",
    "***"
   ]
  },
  {
   "cell_type": "code",
   "execution_count": 18,
   "id": "australian-congress",
   "metadata": {},
   "outputs": [
    {
     "name": "stderr",
     "output_type": "stream",
     "text": [
      "/opt/conda/lib/python3.7/site-packages/ipykernel_launcher.py:10: DeprecationWarning: Call to deprecated `most_similar` (Method will be removed in 4.0.0, use self.wv.most_similar() instead).\n",
      "  # Remove the CWD from sys.path while we load stuff.\n"
     ]
    },
    {
     "name": "stdout",
     "output_type": "stream",
     "text": [
      "Question Sentence: 걱정 좀 없이 살 고 싶 다 . ======> 걱정 조금 없이 살 고 싶 다 . \n",
      "Answer Sentence: <sos> 누구 나 걱정 은 있 어요 . <eos> ======> <sos> 누구 나 걱정 은 있 는데요 . <eos> \n"
     ]
    }
   ],
   "source": [
    "#데이터 증강==========================================\n",
    "enc_alpha = argument_data(dataset, w2v, True)\n",
    "dec_alpha = argument_data(dataset, w2v, False)\n",
    "#End==================================================\n",
    "\n",
    "\n",
    "#데이터 증강 출력=====================================\n",
    "enc_idx = set(dataset.index)\n",
    "enc_alpha_idx = set(enc_alpha.index)\n",
    "dec_alpha_idx = set(dec_alpha.index)\n",
    "\n",
    "vet = enc_idx & enc_alpha_idx & dec_alpha_idx\n",
    "vet = list(vet)[0]\n",
    "\n",
    "print(f\"Question Sentence: {dataset['Q'][vet]} ======> {enc_alpha['Q'][vet]}\")\n",
    "print(f\"Answer Sentence: {dataset['A'][vet]} ======> {dec_alpha['A'][vet]}\")\n",
    "#End=================================================="
   ]
  },
  {
   "cell_type": "markdown",
   "id": "controlled-force",
   "metadata": {},
   "source": [
    "<br>\n",
    "\n",
    "#### 기존 데이터와 증강 데이터 합치기\n",
    "***\n",
    "+ 기존 11,750개의 데이터로부터 데이터 증강을 수행하여 최종 29,951개의 데이터를 획득 합니다.\n",
    "\n",
    "\n",
    "+ 또한 모델의 올바른 학습을 위하여 데이터를 무작위로 섞어 줍니다.\n",
    "***"
   ]
  },
  {
   "cell_type": "code",
   "execution_count": 19,
   "id": "necessary-applicant",
   "metadata": {},
   "outputs": [
    {
     "name": "stdout",
     "output_type": "stream",
     "text": [
      "Dataset Num: 29,951\n"
     ]
    },
    {
     "data": {
      "text/html": [
       "<div>\n",
       "<style scoped>\n",
       "    .dataframe tbody tr th:only-of-type {\n",
       "        vertical-align: middle;\n",
       "    }\n",
       "\n",
       "    .dataframe tbody tr th {\n",
       "        vertical-align: top;\n",
       "    }\n",
       "\n",
       "    .dataframe thead th {\n",
       "        text-align: right;\n",
       "    }\n",
       "</style>\n",
       "<table border=\"1\" class=\"dataframe\">\n",
       "  <thead>\n",
       "    <tr style=\"text-align: right;\">\n",
       "      <th></th>\n",
       "      <th>Q</th>\n",
       "      <th>A</th>\n",
       "    </tr>\n",
       "  </thead>\n",
       "  <tbody>\n",
       "    <tr>\n",
       "      <th>9539</th>\n",
       "      <td>내일 대관식 이 야</td>\n",
       "      <td>&lt;sos&gt; 떨리 겠 어요 . &lt;eos&gt;</td>\n",
       "    </tr>\n",
       "    <tr>\n",
       "      <th>882</th>\n",
       "      <td>내 사랑 은 어디 있 나</td>\n",
       "      <td>&lt;sos&gt; 같 은 하늘 아래 묻히 에 . &lt;eos&gt;</td>\n",
       "    </tr>\n",
       "    <tr>\n",
       "      <th>2311</th>\n",
       "      <td>산 뛰어넘 어 산 이 네</td>\n",
       "      <td>&lt;sos&gt; 그래도 넘 을 수 있 을 거 예요 . &lt;eos&gt;</td>\n",
       "    </tr>\n",
       "    <tr>\n",
       "      <th>7158</th>\n",
       "      <td>오늘 도 보 고 왔 어서</td>\n",
       "      <td>&lt;sos&gt; 그것 이 최선 의 선택 일거 라 생각 해요 . &lt;eos&gt;</td>\n",
       "    </tr>\n",
       "    <tr>\n",
       "      <th>107</th>\n",
       "      <td>건강 관리</td>\n",
       "      <td>&lt;sos&gt; 운동 을 해의 보 세요 . &lt;eos&gt;</td>\n",
       "    </tr>\n",
       "  </tbody>\n",
       "</table>\n",
       "</div>"
      ],
      "text/plain": [
       "                   Q                                      A\n",
       "9539     내일 대관식 이 야                   <sos> 떨리 겠 어요 . <eos>\n",
       "882    내 사랑 은 어디 있 나          <sos> 같 은 하늘 아래 묻히 에 . <eos> \n",
       "2311  산 뛰어넘 어 산 이 네        <sos> 그래도 넘 을 수 있 을 거 예요 . <eos>\n",
       "7158  오늘 도 보 고 왔 어서   <sos> 그것 이 최선 의 선택 일거 라 생각 해요 . <eos>\n",
       "107            건강 관리            <sos> 운동 을 해의 보 세요 . <eos> "
      ]
     },
     "metadata": {},
     "output_type": "display_data"
    }
   ],
   "source": [
    "dataset = pd.concat([dataset, enc_alpha, dec_alpha])\n",
    "dataset = dataset.sample(frac=1)\n",
    "\n",
    "print(f\"Dataset Num: {len(dataset):,}\")\n",
    "display(dataset[:5])"
   ]
  },
  {
   "cell_type": "markdown",
   "id": "sacred-healing",
   "metadata": {},
   "source": [
    "<br>\n",
    "\n",
    "#### 문장 정수 인코딩 수행\n",
    "***\n",
    "+ 최종적으로 문장의 정수 인코딩을 수행하여 줍니다.\n",
    "\n",
    "\n",
    "+ 증강 데이터를 합하여 최종 29,951개의 학습 데이터를 얻습니다.\n",
    "***"
   ]
  },
  {
   "cell_type": "code",
   "execution_count": 20,
   "id": "split-dialogue",
   "metadata": {},
   "outputs": [
    {
     "name": "stdout",
     "output_type": "stream",
     "text": [
      "Data num: 29,951\n"
     ]
    }
   ],
   "source": [
    "enc_tensor = encoding_sentence(dataset[\"Q\"], tokenizer)\n",
    "dec_tensor = encoding_sentence(dataset[\"A\"], tokenizer)\n",
    "\n",
    "print(\"Data num:\", f\"{len(enc_tensor):,}\")"
   ]
  },
  {
   "cell_type": "markdown",
   "id": "british-webmaster",
   "metadata": {},
   "source": [
    "<br>\n",
    "\n",
    "## 6. Transformer 모델 생성\n",
    "***\n",
    "<span style=\"font-size:12pt; line-height:1.7; font-family:Serif;\">\n",
    "    &nbsp; &nbsp; 트랜스포머 모델은 크게 인코더 부분과 디코더 부분으로 이루어져 있습니다. 모델의 목표는 'seq2seq'의 '시계열 데이터를 입력하여 시계열 데이터를 얻는 것'과 동일합니다. 기본적인 아이디어는 'Attention'만을 이용하여 'seq2seq'를 수행 하는 것입니다. 또한, 기존의 'Attention'은 RNN을 이용하여 데이터의 입력이 '순차적'으로 수행되었지만, 트랜스포머의 데이터 입력은 '동시에' 혹은 '병렬적'으로 수행된다는 특징이 있습니다. Transformer의 작동 방식과 각 레이어의 역할에 대한 설명은 'aiffel_exploration' 저장소((Repository)의 <a href=\"https://nbviewer.org/github/YAGI0423/aiffel_exploration/blob/master/exploration_15/EX15_v3_1.ipynb\">[Exploration 15]</a>에서 자세히 다루고 있습니다. 인코더와 디코더 레이어는 2층을 쌓았으며, 학습 데이터 수가 적기 때문에 벡터 사이즈와 피드포워드 레이어의 유닛 수를 128로 설정 하였습니다.\n",
    "</span>\n",
    "\n",
    "***"
   ]
  },
  {
   "cell_type": "markdown",
   "id": "bulgarian-consistency",
   "metadata": {},
   "source": [
    "#### Positional 인코딩 레이어 및 멀티 헤드 어텐션 레이어 함수 정의\n",
    "***\n",
    "+ Positional 인코딩 레이어 및 멀티 헤드 어텐션 레이어 함수를 정의 합니다.\n",
    "***"
   ]
  },
  {
   "cell_type": "code",
   "execution_count": 21,
   "id": "introductory-joshua",
   "metadata": {},
   "outputs": [],
   "source": [
    "#Positional Encoding==================================================\n",
    "def positional_encoding(pos, d_model):\n",
    "    def cal_angle(position, i):\n",
    "        return position / np.power(10000, int(i)/d_model)\n",
    "    \n",
    "    def get_posi_angle_vec(position):\n",
    "        return [cal_angle(position, i) for i in range(d_model)]\n",
    "    \n",
    "    sinusoid_table = np.array([get_posi_angle_vec(pos_i) for pos_i in range(pos)])\n",
    "    \n",
    "    sinusoid_table[:, 0::2] = np.sin(sinusoid_table[:, 0::2])\n",
    "    sinusoid_table[:, 1::2] = np.cos(sinusoid_table[:, 1::2])\n",
    "    \n",
    "    return sinusoid_table\n",
    "#End==================================================================\n",
    "\n",
    "\n",
    "#MultiHeadAttention====================================================\n",
    "class MultiHeadAttention(tf.keras.layers.Layer):\n",
    "    def __init__(self, d_model, num_heads):\n",
    "        super(MultiHeadAttention, self).__init__()\n",
    "        self.num_heads = num_heads\n",
    "        self.d_model = d_model\n",
    "            \n",
    "        self.depth = d_model // self.num_heads\n",
    "            \n",
    "        self.W_q = tf.keras.layers.Dense(d_model)\n",
    "        self.W_k = tf.keras.layers.Dense(d_model)\n",
    "        self.W_v = tf.keras.layers.Dense(d_model)\n",
    "            \n",
    "        self.linear = tf.keras.layers.Dense(d_model)\n",
    "\n",
    "    def scaled_dot_product_attention(self, Q, K, V, mask):\n",
    "        d_k = tf.cast(K.shape[-1], tf.float32)\n",
    "        QK = tf.matmul(Q, K, transpose_b=True)\n",
    "\n",
    "        scaled_qk = QK / tf.math.sqrt(d_k)\n",
    "\n",
    "        if mask is not None: scaled_qk += (mask * -1e9)  \n",
    "\n",
    "        attentions = tf.nn.softmax(scaled_qk, axis=-1)\n",
    "        out = tf.matmul(attentions, V)\n",
    "\n",
    "        return out, attentions\n",
    "            \n",
    "\n",
    "    def split_heads(self, x):\n",
    "        batch_size = x.shape[0]\n",
    "        split_x = tf.reshape(x, (batch_size, -1, self.num_heads, self.depth))\n",
    "        split_x = tf.transpose(split_x, perm=[0, 2, 1, 3])\n",
    "\n",
    "        return split_x\n",
    "\n",
    "    def combine_heads(self, x):\n",
    "        batch_size = x.shape[0]\n",
    "        combined_x = tf.transpose(x, perm=[0, 2, 1, 3])\n",
    "        combined_x = tf.reshape(combined_x, (batch_size, -1, self.d_model))\n",
    "\n",
    "        return combined_x\n",
    "\n",
    "        \n",
    "    def call(self, Q, K, V, mask):\n",
    "        WQ = self.W_q(Q)\n",
    "        WK = self.W_k(K)\n",
    "        WV = self.W_v(V)\n",
    "        \n",
    "        WQ_splits = self.split_heads(WQ)\n",
    "        WK_splits = self.split_heads(WK)\n",
    "        WV_splits = self.split_heads(WV)\n",
    "            \n",
    "        out, attention_weights = self.scaled_dot_product_attention(\n",
    "            WQ_splits, WK_splits, WV_splits, mask\n",
    "        )\n",
    "        out = self.combine_heads(out)\n",
    "        out = self.linear(out)\n",
    "                \n",
    "        return out, attention_weights\n",
    "#End==================================================================\n",
    "\n",
    "    \n",
    "#Position-wise Feed-Forward Network===================================\n",
    "class PoswiseFeedForwardNet(tf.keras.layers.Layer):\n",
    "    def __init__(self, d_model, d_ff):\n",
    "        super(PoswiseFeedForwardNet, self).__init__()\n",
    "        self.w_1 = tf.keras.layers.Dense(d_ff, activation='relu')\n",
    "        self.w_2 = tf.keras.layers.Dense(d_model)\n",
    "\n",
    "    def call(self, x):\n",
    "        out = self.w_1(x)\n",
    "        out = self.w_2(out)\n",
    "            \n",
    "        return out\n",
    "#End==================================================================\n",
    "\n",
    "\n",
    "#Mask 레이어==========================================================\n",
    "def generate_padding_mask(seq):\n",
    "    seq = tf.cast(tf.math.equal(seq, 0), tf.float32)\n",
    "    return seq[:, tf.newaxis, tf.newaxis, :]\n",
    "\n",
    "def generate_causality_mask(src_len, tgt_len):\n",
    "    mask = 1 - np.cumsum(np.eye(src_len, tgt_len), 0)\n",
    "    return tf.cast(mask, tf.float32)\n",
    "\n",
    "def generate_masks(src, tgt):\n",
    "    enc_mask = generate_padding_mask(src)\n",
    "    dec_mask = generate_padding_mask(tgt)\n",
    "\n",
    "    dec_enc_causality_mask = generate_causality_mask(tgt.shape[1], src.shape[1])\n",
    "    dec_enc_mask = tf.maximum(enc_mask, dec_enc_causality_mask)\n",
    "\n",
    "    dec_causality_mask = generate_causality_mask(tgt.shape[1], tgt.shape[1])\n",
    "    dec_mask = tf.maximum(dec_mask, dec_causality_mask)\n",
    "\n",
    "    return enc_mask, dec_enc_mask, dec_mask\n",
    "\n",
    "#End=================================================================="
   ]
  },
  {
   "cell_type": "markdown",
   "id": "catholic-expense",
   "metadata": {},
   "source": [
    "<br>\n",
    "\n",
    "#### 인코더 레이어 및 디코더 레이어 함수 정의\n",
    "***\n",
    "+ 인코더 레이어 및 디코더 레이어 함수를 정의 생성합니다.\n",
    "***"
   ]
  },
  {
   "cell_type": "code",
   "execution_count": 22,
   "id": "wooden-brown",
   "metadata": {},
   "outputs": [],
   "source": [
    "#Encoder 레이어=======================================================\n",
    "class EncoderLayer(tf.keras.layers.Layer):\n",
    "    def __init__(self, d_model, n_heads, d_ff, dropout):\n",
    "        super(EncoderLayer, self).__init__()\n",
    "\n",
    "        self.enc_self_attn = MultiHeadAttention(d_model, n_heads)\n",
    "        self.ffn = PoswiseFeedForwardNet(d_model, d_ff)\n",
    "\n",
    "        self.norm_1 = tf.keras.layers.LayerNormalization(epsilon=1e-6)\n",
    "        self.norm_2 = tf.keras.layers.LayerNormalization(epsilon=1e-6)\n",
    "\n",
    "        self.dropout = tf.keras.layers.Dropout(dropout)\n",
    "        \n",
    "    def call(self, x, mask):\n",
    "        residual = x\n",
    "        out = self.norm_1(x)\n",
    "        out, enc_attn = self.enc_self_attn(out, out, out, mask)\n",
    "        out = self.dropout(out)\n",
    "        out += residual\n",
    "        \n",
    "        residual = out\n",
    "        out = self.norm_2(out)\n",
    "        out = self.ffn(out)\n",
    "        out = self.dropout(out)\n",
    "        out += residual\n",
    "        \n",
    "        return out, enc_attn\n",
    "#End==================================================================\n",
    "\n",
    "\n",
    "#Decoder 레이어=======================================================\n",
    "class DecoderLayer(tf.keras.layers.Layer):\n",
    "    def __init__(self, d_model, num_heads, d_ff, dropout):\n",
    "        super(DecoderLayer, self).__init__()\n",
    "\n",
    "        self.dec_self_attn = MultiHeadAttention(d_model, num_heads)\n",
    "        self.enc_dec_attn = MultiHeadAttention(d_model, num_heads)\n",
    "\n",
    "        self.ffn = PoswiseFeedForwardNet(d_model, d_ff)\n",
    "\n",
    "        self.norm_1 = tf.keras.layers.LayerNormalization(epsilon=1e-6)\n",
    "        self.norm_2 = tf.keras.layers.LayerNormalization(epsilon=1e-6)\n",
    "        self.norm_3 = tf.keras.layers.LayerNormalization(epsilon=1e-6)\n",
    "\n",
    "        self.dropout = tf.keras.layers.Dropout(dropout)\n",
    "    \n",
    "    def call(self, x, enc_out, causality_mask, padding_mask):\n",
    "        residual = x\n",
    "        out = self.norm_1(x)\n",
    "        out, dec_attn = self.dec_self_attn(out, out, out, padding_mask)\n",
    "        out = self.dropout(out)\n",
    "        out += residual\n",
    "\n",
    "        residual = out\n",
    "        out = self.norm_2(out)\n",
    "        out, dec_enc_attn = self.enc_dec_attn(out, enc_out, enc_out, causality_mask)\n",
    "        out = self.dropout(out)\n",
    "        out += residual\n",
    "       \n",
    "        residual = out\n",
    "        out = self.norm_3(out)\n",
    "        out = self.ffn(out)\n",
    "        out = self.dropout(out)\n",
    "        out += residual\n",
    "\n",
    "        return out, dec_attn, dec_enc_attn\n",
    "#End=================================================================="
   ]
  },
  {
   "cell_type": "markdown",
   "id": "polyphonic-squad",
   "metadata": {},
   "source": [
    "<br>\n",
    "\n",
    "#### 인코더 및 디코더 함수 정의\n",
    "***\n",
    "+ 인코더 및 디코더 함수를 정의 생성합니다.\n",
    "***"
   ]
  },
  {
   "cell_type": "code",
   "execution_count": 23,
   "id": "comic-heading",
   "metadata": {},
   "outputs": [],
   "source": [
    "#Encoder==============================================================\n",
    "class Encoder(tf.keras.Model):\n",
    "    def __init__(self,\n",
    "                 n_layers,\n",
    "                 d_model,\n",
    "                 n_heads,\n",
    "                 d_ff,\n",
    "                 dropout):\n",
    "        super(Encoder, self).__init__()\n",
    "        self.n_layers = n_layers\n",
    "        self.enc_layers = [EncoderLayer(d_model, n_heads, d_ff, dropout) \n",
    "                        for _ in range(n_layers)]\n",
    "        \n",
    "    def call(self, x, mask):\n",
    "        out = x\n",
    "    \n",
    "        enc_attns = list()\n",
    "        for i in range(self.n_layers):\n",
    "            out, enc_attn = self.enc_layers[i](out, mask)\n",
    "            enc_attns.append(enc_attn)\n",
    "        \n",
    "        return out, enc_attns\n",
    "#End==================================================================\n",
    "\n",
    "\n",
    "#Decoder==============================================================\n",
    "class Decoder(tf.keras.Model):\n",
    "    def __init__(self,\n",
    "                 n_layers,\n",
    "                 d_model,\n",
    "                 n_heads,\n",
    "                 d_ff,\n",
    "                 dropout):\n",
    "        super(Decoder, self).__init__()\n",
    "        self.n_layers = n_layers\n",
    "        self.dec_layers = [DecoderLayer(d_model, n_heads, d_ff, dropout) \n",
    "                            for _ in range(n_layers)]\n",
    "                            \n",
    "                            \n",
    "    def call(self, x, enc_out, causality_mask, padding_mask):\n",
    "        out = x\n",
    "    \n",
    "        dec_attns = list()\n",
    "        dec_enc_attns = list()\n",
    "        for i in range(self.n_layers):\n",
    "            out, dec_attn, dec_enc_attn = \\\n",
    "            self.dec_layers[i](out, enc_out, causality_mask, padding_mask)\n",
    "\n",
    "            dec_attns.append(dec_attn)\n",
    "            dec_enc_attns.append(dec_enc_attn)\n",
    "\n",
    "        return out, dec_attns, dec_enc_attns\n",
    "#End=================================================================="
   ]
  },
  {
   "cell_type": "markdown",
   "id": "julian-infection",
   "metadata": {},
   "source": [
    "<br>\n",
    "\n",
    "#### 트랜스포머 함수 정의\n",
    "***\n",
    "+ 트랜스포머 생성 함수를 정의합니다.\n",
    "***"
   ]
  },
  {
   "cell_type": "code",
   "execution_count": 24,
   "id": "beautiful-george",
   "metadata": {},
   "outputs": [],
   "source": [
    "class Transformer(tf.keras.Model):\n",
    "    def __init__(\n",
    "        self,\n",
    "        n_layers, d_model, n_heads, d_ff,\n",
    "        src_vocab_size, tgt_vocab_size,\n",
    "        pos_len,\n",
    "        dropout=0.2,\n",
    "        shared=True\n",
    "    ):\n",
    "        super(Transformer, self).__init__()\n",
    "        self.d_model = tf.cast(d_model, tf.float32)\n",
    "\n",
    "        self.enc_emb = tf.keras.layers.Embedding(src_vocab_size, d_model)\n",
    "        self.dec_emb = tf.keras.layers.Embedding(tgt_vocab_size, d_model)\n",
    "\n",
    "        self.pos_encoding = positional_encoding(pos_len, d_model)\n",
    "        self.dropout = tf.keras.layers.Dropout(dropout)\n",
    "\n",
    "        self.encoder = Encoder(n_layers, d_model, n_heads, d_ff, dropout)\n",
    "        self.decoder = Decoder(n_layers, d_model, n_heads, d_ff, dropout)\n",
    "\n",
    "        self.fc = tf.keras.layers.Dense(tgt_vocab_size)\n",
    "\n",
    "        self.shared = shared\n",
    "\n",
    "        if shared: self.fc.set_weights(tf.transpose(self.dec_emb.weights))\n",
    "\n",
    "            \n",
    "    def embedding(self, emb, x):\n",
    "        seq_len = x.shape[1]\n",
    "        out = emb(x)\n",
    "\n",
    "        if self.shared: out *= tf.math.sqrt(self.d_model)\n",
    "\n",
    "        out += self.pos_encoding[np.newaxis, ...][:, :seq_len, :]\n",
    "        out = self.dropout(out)\n",
    "\n",
    "        return out\n",
    "\n",
    "        \n",
    "    def call(self, enc_in, dec_in, enc_mask, causality_mask, dec_mask):\n",
    "        enc_in = self.embedding(self.enc_emb, enc_in)\n",
    "        dec_in = self.embedding(self.dec_emb, dec_in)\n",
    "\n",
    "        enc_out, enc_attns = self.encoder(enc_in, enc_mask)\n",
    "        \n",
    "        dec_out, dec_attns, dec_enc_attns = \\\n",
    "        self.decoder(dec_in, enc_out, causality_mask, dec_mask)\n",
    "        \n",
    "        logits = self.fc(dec_out)\n",
    "        \n",
    "        return logits, enc_attns, dec_attns, dec_enc_attns"
   ]
  },
  {
   "cell_type": "markdown",
   "id": "advised-termination",
   "metadata": {},
   "source": [
    "<br>\n",
    "\n",
    "#### 모델 생성\n",
    "***\n",
    "+ 인코더와 디코더는 동일한 토크나이저를 공유하고 있으므로 모두 5,872개로 설정 합니다.\n",
    "***"
   ]
  },
  {
   "cell_type": "code",
   "execution_count": 25,
   "id": "cross-subject",
   "metadata": {},
   "outputs": [],
   "source": [
    "transformer = Transformer(\n",
    "    n_layers=2,\n",
    "    d_model=128,\n",
    "    n_heads=8,\n",
    "    d_ff=128,\n",
    "    dropout=0.5,\n",
    "    pos_len=200,\n",
    "    shared=True,\n",
    "    src_vocab_size=5872, tgt_vocab_size=5872\n",
    ")"
   ]
  },
  {
   "cell_type": "markdown",
   "id": "lesser-meeting",
   "metadata": {},
   "source": [
    "<br>\n",
    "\n",
    "## 7. 모델 학습\n",
    "***\n",
    "<span style=\"font-size:12pt; line-height:1.7; font-family:Serif;\">\n",
    "    &nbsp; &nbsp; 학습 옵티마이저는 Adam을 사용하며 배치 사이즈는 64로 설정하고 총 10회 학습 합니다. 최종 손실값은 0.740 입니다. 「지루하다, 놀러가고 싶어.」, 「오늘 일찍 일어났더니 피곤하다.」 등의 총 4개의 문장을 입력한 결과, 「시간이 필요한가 봐요.」, 「아침 일이 많았나 봅니다.」 등의 문장을 출력하였습니다. [표 1]은 입력 문장과 그에 대한 모델의 출력 문장을 제시한 것입니다.\n",
    "</span><br><br>\n",
    "\n",
    "|Index|Question|Answer|\n",
    "|:--------:|:--------:|:--------:|\n",
    "|1|지루하다, 놀러가고 싶어.|시간이 필요한가봐요.|\n",
    "|2|오늘 일찍 일어났더니 피곤하다.|아침 일이 많았나 봅니다 .|\n",
    "|3|간만에 여자친구랑 데이트 하기로 했어.|좋은 친구가 여기가 여기 가길 바랄게요.|\n",
    "|4|집에 있는다는 소리야.|익숙 &lt;UNK>을 &lt;UNK> 군요.|\n",
    "\n",
    "[표 1] Transformer 모델의 생성 문장\n",
    "\n",
    "***"
   ]
  },
  {
   "cell_type": "markdown",
   "id": "manufactured-discovery",
   "metadata": {},
   "source": [
    "#### 학습 옵티마이저 설정\n",
    "***\n",
    "+ 학습률의 경우 고정된 값을 이용하지 않고 LearningRateScheduler를 이용하여, 높은 학습률로부터 점차 낮추는 방식을 사용 합니다.\n",
    "\n",
    "\n",
    "+ 옵티마이저는 Adam을 이용합니다.\n",
    "***"
   ]
  },
  {
   "cell_type": "code",
   "execution_count": 26,
   "id": "union-heath",
   "metadata": {},
   "outputs": [],
   "source": [
    "#LearningRateScheduler=====================\n",
    "class LearningRateScheduler(tf.keras.optimizers.schedules.LearningRateSchedule):\n",
    "    def __init__(self, d_model, warmup_steps=4000):\n",
    "        super(LearningRateScheduler, self).__init__()\n",
    "        self.d_model = d_model\n",
    "        self.warmup_steps = warmup_steps\n",
    "    \n",
    "    def __call__(self, step):\n",
    "        arg1 = step ** -0.5\n",
    "        arg2 = step * (self.warmup_steps ** -1.5)\n",
    "        \n",
    "        return (self.d_model ** -0.5) * tf.math.minimum(arg1, arg2)\n",
    "#End=======================================\n",
    "\n",
    "\n",
    "#손실 함수=================================  \n",
    "def loss_function(real, pred):\n",
    "    mask = tf.math.logical_not(tf.math.equal(real, 0))\n",
    "    loss_ = loss_object(real, pred)\n",
    "    mask = tf.cast(mask, dtype=loss_.dtype)\n",
    "    loss_ *= mask\n",
    "    return tf.reduce_sum(loss_)/tf.reduce_sum(mask)    \n",
    "#End=======================================\n",
    "\n",
    "    \n",
    "learning_rate = LearningRateScheduler(512)\n",
    "optimizer = tf.keras.optimizers.Adam(\n",
    "    learning_rate, beta_1=0.9, beta_2=0.98, epsilon=1e-9\n",
    ")\n",
    "\n",
    "loss_object = tf.keras.losses.SparseCategoricalCrossentropy(\n",
    "    from_logits=True, reduction='none')"
   ]
  },
  {
   "cell_type": "markdown",
   "id": "empirical-detective",
   "metadata": {},
   "source": [
    "<br>\n",
    "\n",
    "#### 학습 함수 정의\n",
    "***\n",
    "+ 'GradientTape'를 이용하여 학습 함수를 정의 합니다.\n",
    "***"
   ]
  },
  {
   "cell_type": "code",
   "execution_count": 27,
   "id": "fresh-shelf",
   "metadata": {},
   "outputs": [],
   "source": [
    "# Train Step 함수======================================\n",
    "@tf.function()\n",
    "def train_step(src, tgt, model, optimizer):\n",
    "    tgt_in = tgt[:, :-1]  # Decoder의 input\n",
    "    gold = tgt[:, 1:]     # Decoder의 output과 비교하기 위해 right shift를 통해 생성한 최종 타겟\n",
    "\n",
    "    enc_mask, dec_enc_mask, dec_mask = generate_masks(src, tgt_in)\n",
    "\n",
    "    with tf.GradientTape() as tape:\n",
    "        predictions, enc_attns, dec_attns, dec_enc_attns = \\\n",
    "        model(src, tgt_in, enc_mask, dec_enc_mask, dec_mask)\n",
    "        loss = loss_function(gold, predictions)\n",
    "\n",
    "    gradients = tape.gradient(loss, model.trainable_variables)    \n",
    "    optimizer.apply_gradients(zip(gradients, model.trainable_variables))\n",
    "\n",
    "    return loss, enc_attns, dec_attns, dec_enc_attns\n",
    "#End==================================================="
   ]
  },
  {
   "cell_type": "markdown",
   "id": "massive-river",
   "metadata": {},
   "source": [
    "<br>\n",
    "\n",
    "#### 모델 학습\n",
    "***\n",
    "+ 앞서 생성한 모델을 학습 합니다.\n",
    "\n",
    "\n",
    "+ 배치 사이즈는 64, 학습 회수는 10회로 설정 합니다.\n",
    "***"
   ]
  },
  {
   "cell_type": "code",
   "execution_count": 28,
   "id": "treated-circus",
   "metadata": {},
   "outputs": [
    {
     "data": {
      "application/vnd.jupyter.widget-view+json": {
       "model_id": "bdc792caaf584f638ea2286a4c7d3d08",
       "version_major": 2,
       "version_minor": 0
      },
      "text/plain": [
       "  0%|          | 0/468 [00:00<?, ?it/s]"
      ]
     },
     "metadata": {},
     "output_type": "display_data"
    },
    {
     "data": {
      "application/vnd.jupyter.widget-view+json": {
       "model_id": "df09fa10320b4c4ba904ca4c8e8359ae",
       "version_major": 2,
       "version_minor": 0
      },
      "text/plain": [
       "  0%|          | 0/468 [00:00<?, ?it/s]"
      ]
     },
     "metadata": {},
     "output_type": "display_data"
    },
    {
     "data": {
      "application/vnd.jupyter.widget-view+json": {
       "model_id": "3dcfd946346142f6ab0c918adaf8a88f",
       "version_major": 2,
       "version_minor": 0
      },
      "text/plain": [
       "  0%|          | 0/468 [00:00<?, ?it/s]"
      ]
     },
     "metadata": {},
     "output_type": "display_data"
    },
    {
     "data": {
      "application/vnd.jupyter.widget-view+json": {
       "model_id": "22399e7264e743a8b9459f0784461b1e",
       "version_major": 2,
       "version_minor": 0
      },
      "text/plain": [
       "  0%|          | 0/468 [00:00<?, ?it/s]"
      ]
     },
     "metadata": {},
     "output_type": "display_data"
    },
    {
     "data": {
      "application/vnd.jupyter.widget-view+json": {
       "model_id": "333f3dbd0eb64f3e947a6512a063e74f",
       "version_major": 2,
       "version_minor": 0
      },
      "text/plain": [
       "  0%|          | 0/468 [00:00<?, ?it/s]"
      ]
     },
     "metadata": {},
     "output_type": "display_data"
    },
    {
     "data": {
      "application/vnd.jupyter.widget-view+json": {
       "model_id": "3320813624874f4facc24ef0a9f4ed25",
       "version_major": 2,
       "version_minor": 0
      },
      "text/plain": [
       "  0%|          | 0/468 [00:00<?, ?it/s]"
      ]
     },
     "metadata": {},
     "output_type": "display_data"
    },
    {
     "data": {
      "application/vnd.jupyter.widget-view+json": {
       "model_id": "35c34a3d606346cea1fab0731098d434",
       "version_major": 2,
       "version_minor": 0
      },
      "text/plain": [
       "  0%|          | 0/468 [00:00<?, ?it/s]"
      ]
     },
     "metadata": {},
     "output_type": "display_data"
    },
    {
     "data": {
      "application/vnd.jupyter.widget-view+json": {
       "model_id": "c396961951544bf4b93f2d80d24286ce",
       "version_major": 2,
       "version_minor": 0
      },
      "text/plain": [
       "  0%|          | 0/468 [00:00<?, ?it/s]"
      ]
     },
     "metadata": {},
     "output_type": "display_data"
    },
    {
     "data": {
      "application/vnd.jupyter.widget-view+json": {
       "model_id": "a8016e57776845afb96d2340a973153f",
       "version_major": 2,
       "version_minor": 0
      },
      "text/plain": [
       "  0%|          | 0/468 [00:00<?, ?it/s]"
      ]
     },
     "metadata": {},
     "output_type": "display_data"
    },
    {
     "data": {
      "application/vnd.jupyter.widget-view+json": {
       "model_id": "d24ee1892c6844399a4d001bc9a58fbf",
       "version_major": 2,
       "version_minor": 0
      },
      "text/plain": [
       "  0%|          | 0/468 [00:00<?, ?it/s]"
      ]
     },
     "metadata": {},
     "output_type": "display_data"
    }
   ],
   "source": [
    "def model_fit(enc_train, dec_train, model, epochs, batch_size):\n",
    "    for epoch in range(epochs):\n",
    "        total_loss = 0\n",
    "\n",
    "        idx_list = list(range(0, enc_train.shape[0], batch_size))\n",
    "        random.shuffle(idx_list)\n",
    "        t = tqdm(idx_list)\n",
    "\n",
    "        for (batch, idx) in enumerate(t):\n",
    "            batch_loss, enc_attns, dec_attns, dec_enc_attns = \\\n",
    "            train_step(\n",
    "                enc_train[idx:idx+batch_size],\n",
    "                dec_train[idx:idx+batch_size],\n",
    "                model,\n",
    "                optimizer\n",
    "            )\n",
    "\n",
    "            total_loss += batch_loss\n",
    "\n",
    "            t.set_description_str('Epoch %2d' % (epoch + 1))\n",
    "            t.set_postfix_str('Loss %.4f' % (total_loss.numpy() / (batch + 1)))\n",
    "            \n",
    "\n",
    "model_fit(enc_tensor, dec_tensor, transformer, epochs=10, batch_size=64)"
   ]
  },
  {
   "cell_type": "markdown",
   "id": "structured-breeding",
   "metadata": {},
   "source": [
    "<br>\n",
    "\n",
    "#### 예문 생성\n",
    "***\n",
    "+ `지루하다, 놀러가고 싶어.`, `오늘 일찍 일어났더니 피곤하다.` 등의 총 4개의 문장을 모델에 입력하여 생성 문장을 확인 합니다.\n",
    "\n",
    "\n",
    "+ 그 결과, `시간이 필요한가봐요.`, `아침 일이 많았나 봅니다.` 등의 예문을 출력하였습니다.\n",
    "***"
   ]
  },
  {
   "cell_type": "code",
   "execution_count": 29,
   "id": "similar-conversation",
   "metadata": {},
   "outputs": [
    {
     "name": "stdout",
     "output_type": "stream",
     "text": [
      "====================================================================================================\n",
      "Quenstion: 지루하다, 놀러가고 싶어.                \tAnswer: 시간 이 필요 한가 봐요 .               \n",
      "Quenstion: 오늘 일찍 일어났더니 피곤하다.             \tAnswer: 아침 일 이 많 았 나 봅니다 .            \n",
      "Quenstion: 간만에 여자친구랑 데이트 하기로 했어.         \tAnswer: 좋 은 친구 가 여기 가 여기 가 길 바랄게요 .   \n",
      "Quenstion: 집에 있는다는 소리야.                  \tAnswer: 익숙 <UNK> 을 <UNK> 군요 .         \n",
      "====================================================================================================\n"
     ]
    }
   ],
   "source": [
    "def translate(sentence, model, tokenizer, enc_tensor, dec_tensor):\n",
    "    enc_maxlen = enc_tensor.shape[-1]\n",
    "    dec_maxlen = dec_tensor.shape[-1]\n",
    "\n",
    "    sos_idx = tokenizer.word_index['<sos>']\n",
    "    eos_idx = tokenizer.word_index['<eos>']\n",
    "\n",
    "    sentence = preprocess_sentence(sentence)\n",
    "\n",
    "    m = Mecab()\n",
    "    sentence = m.morphs(sentence)\n",
    "\n",
    "    _input = tokenizer.texts_to_sequences([sentence])\n",
    "    _input = tf.keras.preprocessing.sequence.pad_sequences(\n",
    "        _input,\n",
    "        maxlen=enc_maxlen,\n",
    "        padding='post'\n",
    "    )\n",
    "\n",
    "    ids = []\n",
    "    output = tf.expand_dims([sos_idx], 0)\n",
    "\n",
    "    for i in range(dec_maxlen):\n",
    "        enc_padding_mask, combined_mask, dec_padding_mask = generate_masks(\n",
    "            _input, output\n",
    "        )\n",
    "\n",
    "        predictions, enc_attns, dec_attns, dec_enc_attns = model(\n",
    "            _input, output, enc_padding_mask, combined_mask, dec_padding_mask\n",
    "        )\n",
    "\n",
    "        predicted_id = tf.argmax(\n",
    "            tf.math.softmax(predictions, axis=-1)[0, -1]\n",
    "        ).numpy().item()\n",
    "\n",
    "        if predicted_id == eos_idx:\n",
    "            result = tokenizer.sequences_to_texts([ids])\n",
    "            return result\n",
    "\n",
    "        ids.append(predicted_id)\n",
    "        output = tf.concat([output, tf.expand_dims([predicted_id], 0)], axis=-1)\n",
    "    result = tokenizer.sequences_to_texts([ids])\n",
    "    return result\n",
    "\n",
    "\n",
    "print(\"=\" * 100)\n",
    "test_sentences = [\n",
    "    \"지루하다, 놀러가고 싶어.\",\n",
    "    \"오늘 일찍 일어났더니 피곤하다.\",\n",
    "    \"간만에 여자친구랑 데이트 하기로 했어.\",\n",
    "    \"집에 있는다는 소리야.\"\n",
    "]\n",
    "\n",
    "for sentence in test_sentences:\n",
    "    ans = translate(sentence, transformer, tokenizer, enc_tensor, dec_tensor)[0]\n",
    "    print(f\"Quenstion: {sentence:<30}\\tAnswer: {ans:<30}\")\n",
    "print(\"=\" * 100)"
   ]
  },
  {
   "cell_type": "markdown",
   "id": "prompt-toilet",
   "metadata": {},
   "source": [
    "<br>\n",
    "\n",
    "## 8. 모델 평가\n",
    "***\n",
    "<span style=\"font-size:12pt; line-height:1.7; font-family:Serif;\">\n",
    "    &nbsp; &nbsp; BLEU를 이용하여 100개의 테스트 데이터를 평가 합니다. BLEU는 0에서 1사이의 값을 가지며, 값이 높을 수록 좋은 문장에 해당 합니다. [표 2]는 BLEU 점수 척도를 제시한 것 입니다.\n",
    "</span><br><br>\n",
    "\n",
    "<span style=\"font-size:12pt; line-height:1.7; font-family:Serif;\">\n",
    "    &nbsp; &nbsp; 예제에서는 Beam search를 이용하여 좀 더 정확한 평가를 도모 합니다. 테스트 데이터 100개에 대한 BLEU는 0.419로, [표 2]를 바탕으로 해석하였을 때, 이는 모델의 대답(Answer)이 양호한 수준이라 할 수 있습니다. \n",
    "</span><br><br>\n",
    "\n",
    "|BLEU score|Answer|\n",
    "|:--------:|:--------:|\n",
    "|10점 미만|거의 의미 없음|\n",
    "|10 ~ 19점|핵심을 파악하기 어려움|\n",
    "|20 ~ 29점|요점은 명확하지만 많은 문법적 오류가 있음|\n",
    "|30 ~ 39점|이해할 수 있는 양호한 번역|\n",
    "|40 ~ 49점|고품질 번역|\n",
    "|50 ~ 60점|매우 우수한 품질의 적절하고 유창한 번역|\n",
    "|60점 초과|대체적으로 사람보다 우수한 품질|\n",
    "\n",
    "[표 2] BLEU 점수 척도(https://cloud.google.com/translate/automl/docs/evaluate?hl=ko#bleu)\n",
    "\n",
    "***"
   ]
  },
  {
   "cell_type": "markdown",
   "id": "false-occasions",
   "metadata": {},
   "source": [
    "#### Beam Search 및 BLEU 계산 함수 정의\n",
    "***\n",
    "+ Beam Search 문장 획득 함수와 BLEU를 구하기 위한 함수를 정의 합니다.\n",
    "***"
   ]
  },
  {
   "cell_type": "code",
   "execution_count": 30,
   "id": "gentle-chancellor",
   "metadata": {},
   "outputs": [],
   "source": [
    "#모델 입력 및 출력 함수======================\n",
    "def calc_prob(src_ids, tgt_ids, model):\n",
    "    enc_padding_mask, combined_mask, dec_padding_mask = generate_masks(\n",
    "        src_ids, tgt_ids\n",
    "    )\n",
    "    \n",
    "    predictions, enc_attns, dec_attns, dec_enc_attns = model(\n",
    "        src_ids, tgt_ids, enc_padding_mask, combined_mask, dec_padding_mask\n",
    "    )\n",
    "    return tf.math.softmax(predictions, axis=-1)\n",
    "#End=========================================\n",
    "\n",
    "\n",
    "#Beam search=================================\n",
    "def beam_search_decoder(\n",
    "    sentence, model, tokenizer,\n",
    "    enc_maxlen, dec_maxlen,\n",
    "    beam_size\n",
    "):\n",
    "    sos_idx = tokenizer.word_index['<sos>']\n",
    "    eos_idx = tokenizer.word_index['<eos>']\n",
    "\n",
    "    tokens = tokenizer.texts_to_sequences([sentence])\n",
    "    src_in = tf.keras.preprocessing.sequence.pad_sequences(\n",
    "        tokens,\n",
    "        maxlen=enc_maxlen,\n",
    "        padding='post'\n",
    "    )\n",
    "\n",
    "    pred_cache = np.zeros((beam_size * beam_size, dec_maxlen), dtype=np.long)\n",
    "    pred = np.zeros((beam_size, dec_maxlen), dtype=np.long)\n",
    "\n",
    "    eos_flag = np.zeros((beam_size, ), dtype=np.long)\n",
    "    scores = np.ones((beam_size, ))\n",
    "\n",
    "    pred[:, 0] = sos_idx\n",
    "\n",
    "    dec_in = tf.expand_dims(pred[0, :1], 0)\n",
    "    prob = calc_prob(src_in, dec_in, model)[0, -1].numpy()\n",
    "    \n",
    "    \n",
    "    for seq_pos in range(1, dec_maxlen):\n",
    "        score_cache = np.ones((beam_size * beam_size, ))\n",
    "\n",
    "        # init\n",
    "        for branch_idx in range(beam_size):\n",
    "            cache_pos = branch_idx*beam_size\n",
    "\n",
    "            score_cache[cache_pos:cache_pos+beam_size] = scores[branch_idx]\n",
    "            pred_cache[cache_pos:cache_pos+beam_size, :seq_pos] = \\\n",
    "            pred[branch_idx, :seq_pos]\n",
    "\n",
    "        for branch_idx in range(beam_size):\n",
    "            cache_pos = branch_idx*beam_size\n",
    "\n",
    "            if seq_pos != 1:   # 모든 Branch를 로 시작하는 경우를 방지\n",
    "                dec_in = pred_cache[branch_idx, :seq_pos]\n",
    "                dec_in = tf.expand_dims(dec_in, 0)\n",
    "\n",
    "                prob = calc_prob(src_in, dec_in, model)[0, -1].numpy()\n",
    "\n",
    "            for beam_idx in range(beam_size):\n",
    "                max_idx = np.argmax(prob)\n",
    "\n",
    "                score_cache[cache_pos+beam_idx] *= prob[max_idx]\n",
    "                pred_cache[cache_pos+beam_idx, seq_pos] = max_idx\n",
    "\n",
    "                prob[max_idx] = -1\n",
    "\n",
    "        for beam_idx in range(beam_size):\n",
    "            if eos_flag[beam_idx] == -1: continue\n",
    "\n",
    "            max_idx = np.argmax(score_cache)\n",
    "            prediction = pred_cache[max_idx, :seq_pos+1]\n",
    "\n",
    "            pred[beam_idx, :seq_pos+1] = prediction\n",
    "            scores[beam_idx] = score_cache[max_idx]\n",
    "            score_cache[max_idx] = -1\n",
    "\n",
    "            if prediction[-1] == eos_idx:\n",
    "                eos_flag[beam_idx] = -1\n",
    "    return pred\n",
    "#End=========================================\n",
    "\n",
    "\n",
    "#bleu 계산 함수==============================\n",
    "def calculate_bleu(reference, candidate, weights=[0.25, 0.25, 0.25, 0.25]):\n",
    "    return sentence_bleu(\n",
    "        [reference],\n",
    "        candidate,\n",
    "        weights=weights,\n",
    "        smoothing_function=SmoothingFunction().method1\n",
    "    )\n",
    "#End=========================================\n",
    "\n",
    "\n",
    "#beam ssearch 및 bleu 계산 함수==============\n",
    "def beam_bleu(reference, ids, tokenizer, verbose=False):\n",
    "    reference = reference.split()\n",
    "\n",
    "    total_score = 0.0\n",
    "    for _id in ids:\n",
    "        seq2text = tokenizer.sequences_to_texts([_id])[0]\n",
    "        _idx =  seq2text.find(\"<eos>\")\n",
    "        seq2text = seq2text[6:_idx]\n",
    "        candidate = seq2text.split()\n",
    "        score = calculate_bleu(reference, candidate)\n",
    "        \n",
    "        if verbose:\n",
    "            print(\"=\" * 100)\n",
    "            print(\"Reference:\".ljust(10), \" \".join(reference))\n",
    "            print(\"Candidate:\".ljust(10), \" \".join(candidate), end=\"\\n\\n\")\n",
    "            print(\"BLEU:\".ljust(10), f\"{calculate_bleu(reference, candidate):.3f}\")\n",
    "            print(\"=\" * 100, end=\"\\n\\n\")\n",
    "        \n",
    "        total_score += score\n",
    "        \n",
    "    return total_score / len(ids)\n",
    "#End========================================="
   ]
  },
  {
   "cell_type": "markdown",
   "id": "billion-aurora",
   "metadata": {},
   "source": [
    "<br>\n",
    "\n",
    "#### 예문의 Beam search 문장과 BLEU 출력하기\n",
    "***\n",
    "+ Reference에 해당하는 `땀을 식혀 주세요.` 문장과 모델이 출력한 5개의 Candidate 문장과 BLEU를 출력 합니다.\n",
    "***"
   ]
  },
  {
   "cell_type": "code",
   "execution_count": 36,
   "id": "subtle-burden",
   "metadata": {},
   "outputs": [
    {
     "name": "stdout",
     "output_type": "stream",
     "text": [
      "====================================================================================================\n",
      "Reference: 땀 을 식혀 주 세요 .\n",
      "Candidate: 잘 하 셨 어요 .\n",
      "\n",
      "BLEU:      0.044\n",
      "====================================================================================================\n",
      "\n",
      "====================================================================================================\n",
      "Reference: 땀 을 식혀 주 세요 .\n",
      "Candidate: 잘 하 셨 어요 는데\n",
      "\n",
      "BLEU:      0.000\n",
      "====================================================================================================\n",
      "\n",
      "====================================================================================================\n",
      "Reference: 땀 을 식혀 주 세요 .\n",
      "Candidate: 잘 하 셨 나 .\n",
      "\n",
      "BLEU:      0.044\n",
      "====================================================================================================\n",
      "\n",
      "====================================================================================================\n",
      "Reference: 땀 을 식혀 주 세요 .\n",
      "Candidate: 잘 <UNK> 셨 어요 .\n",
      "\n",
      "BLEU:      0.044\n",
      "====================================================================================================\n",
      "\n",
      "====================================================================================================\n",
      "Reference: 땀 을 식혀 주 세요 .\n",
      "Candidate: 잘 하 셨 나 는데\n",
      "\n",
      "BLEU:      0.000\n",
      "====================================================================================================\n",
      "\n"
     ]
    }
   ],
   "source": [
    "idx = 15\n",
    "test_enc_sentence = test_dataset[\"Q\"][idx]\n",
    "\n",
    "test_dec_tensor = encoding_sentence(test_dataset[\"A\"], tokenizer)\n",
    "test_dec_sentence = tokenizer.sequences_to_texts([test_dec_tensor[idx]])[0]\n",
    "_idx = test_dec_sentence.find(\"<eos>\")\n",
    "test_dec_sentence = test_dec_sentence[6:_idx]\n",
    "\n",
    "\n",
    "ids = beam_search_decoder(\n",
    "    test_enc_sentence,\n",
    "    transformer, tokenizer,\n",
    "    enc_tensor.shape[-1], dec_tensor.shape[-1],\n",
    "    beam_size=5\n",
    ")\n",
    "\n",
    "bleu = beam_bleu(test_dec_sentence, ids, tokenizer, verbose=True)"
   ]
  },
  {
   "cell_type": "markdown",
   "id": "analyzed-tunnel",
   "metadata": {},
   "source": [
    "<br>\n",
    "\n",
    "#### 테스트 데이터 BLEU 구하기\n",
    "***\n",
    "+ 앞서 정의한 함수를 이용하여 100개의 테스트 데이터의 BLEU를 구합니다.\n",
    "\n",
    "\n",
    "+ 최종 BLEU는 0.419로 매우 준수한 성능에 해당합니다.\n",
    "***"
   ]
  },
  {
   "cell_type": "code",
   "execution_count": 34,
   "id": "psychological-reviewer",
   "metadata": {},
   "outputs": [
    {
     "name": "stdout",
     "output_type": "stream",
     "text": [
      "====================================================================================================\n",
      "Test Data BLEU: 0.419\n",
      "====================================================================================================\n"
     ]
    }
   ],
   "source": [
    "enc_maxlen = enc_tensor.shape[-1]\n",
    "dec_maxlen = dec_tensor.shape[-1]\n",
    "\n",
    "aver_bleu = 0\n",
    "for _, que, ans in test_dataset.itertuples():\n",
    "    ids = beam_search_decoder(\n",
    "        que,\n",
    "        transformer, tokenizer,\n",
    "        enc_maxlen, dec_maxlen,\n",
    "        beam_size=5\n",
    "    )\n",
    "    \n",
    "    test_dec_sentence = tokenizer.sequences_to_texts([que])[0]\n",
    "    _idx = test_dec_sentence.find(\"<eos>\")\n",
    "    test_dec_sentence = test_dec_sentence[6:_idx]\n",
    "    \n",
    "    aver_bleu += beam_bleu(test_dec_sentence, ids, tokenizer, verbose=False)\n",
    "    \n",
    "print(\"=\" * 100)\n",
    "print(f\"Test Data BLEU: {aver_bleu:.3f}\")\n",
    "print(\"=\" * 100)"
   ]
  },
  {
   "cell_type": "markdown",
   "id": "vulnerable-decline",
   "metadata": {},
   "source": [
    "<br>\n",
    "\n",
    "## 9. 결론\n",
    "***\n",
    "<span style=\"font-size:12pt; line-height:1.7; font-family:Serif;\">\n",
    "    &nbsp; &nbsp; Transformer 모델을 이용하여 한국어 챗봇 모델을 생성하고 이를 BLEU를 기준으로 삼아 평가하였습니다. 특히 정확한 평가를 위해 Beam search를 사용하여 Cadidate 문을 5개 생성하고 이를 BLEU로 평가하였습니다. 테스트 데이터는 학습 데이터 11,750개로부터 100개를 분할 한 것입니다. 이후 나머지 11,650개의 데이터를 이용하여 데이터 증강을 실시하여 최종 29,951개의 데이터를 학습 데이터로 이용하였습니다. \n",
    "</span><br><br>  \n",
    "\n",
    "<span style=\"font-size:12pt; line-height:1.7; font-family:Serif;\">\n",
    "    &nbsp; &nbsp; 테스트 데이터에 대한 모델의 BLEU score는 0.419입니다. 0.4의 경우 '이해할 수 있는 양호한 문장'에 해당하므로 모델의 성능이 준수하다고 평가할 수 있습니다. [표 3]은 Transformer 모델의 생성 문장을 제시한 것입니다.\n",
    "</span><br><br>\n",
    "\n",
    "|Index|Question|Answer|\n",
    "|:--------:|:--------:|:--------:|\n",
    "|1|지루하다, 놀러가고 싶어.|시간이 필요한가봐요.|\n",
    "|2|오늘 일찍 일어났더니 피곤하다.|아침 일이 많았나 봅니다 .|\n",
    "|3|간만에 여자친구랑 데이트 하기로 했어.|좋은 친구가 여기가 여기 가길 바랄게요.|\n",
    "|4|집에 있는다는 소리야.|익숙 &lt;UNK>을 &lt;UNK> 군요.|\n",
    "\n",
    "[표 3] Transformer 모델의 생성 문장\n",
    "\n",
    "***"
   ]
  }
 ],
 "metadata": {
  "kernelspec": {
   "display_name": "Python 3",
   "language": "python",
   "name": "python3"
  },
  "language_info": {
   "codemirror_mode": {
    "name": "ipython",
    "version": 3
   },
   "file_extension": ".py",
   "mimetype": "text/x-python",
   "name": "python",
   "nbconvert_exporter": "python",
   "pygments_lexer": "ipython3",
   "version": "3.7.9"
  }
 },
 "nbformat": 4,
 "nbformat_minor": 5
}
