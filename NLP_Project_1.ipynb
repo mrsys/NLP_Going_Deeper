{
 "cells": [
  {
   "cell_type": "markdown",
   "id": "printable-finland",
   "metadata": {},
   "source": [
    "# Going Deeper(NLP)"
   ]
  },
  {
   "cell_type": "markdown",
   "id": "ideal-reset",
   "metadata": {},
   "source": [
    "# 1. SentencePiece 사용하여 리뷰데이터 감정분석"
   ]
  },
  {
   "cell_type": "markdown",
   "id": "unsigned-rugby",
   "metadata": {},
   "source": [
    "* Writer :송영석\n",
    "* Date : 2021.12.18"
   ]
  },
  {
   "cell_type": "markdown",
   "id": "injured-paradise",
   "metadata": {},
   "source": [
    "## 목차\n",
    "    \n",
    "    Step 1. SentencePiece    \n",
    "        1. 데이터 로드\n",
    "        2. SentencePiece 학습\n",
    "        3. 모델 학습\n",
    "        4. 모델 평가\n",
    "    Step 2. 추가 분석 KoNLPy 형태소 분석기를 사용한 모델  \n",
    "        1. 데이터 로드\n",
    "        2. 데이터로더 구성\n",
    "        3. 모델구성을 위한 데이터 분석 및 가공\n",
    "        4. 모델 구성 및 validation set 구성\n",
    "        5. 모델 훈련 개시\n",
    "        6. Loss,Acurracy 그래프 시각화\n",
    "        7. 학습된 Embedding 레이어 분석\n",
    "        8. 한국어 Word2Vec 임베딩 활용하여 성능개선\n",
    "    Step 3. 결과 정리"
   ]
  },
  {
   "cell_type": "markdown",
   "id": "opposed-establishment",
   "metadata": {},
   "source": [
    "## Step 1. SentencePiece"
   ]
  },
  {
   "cell_type": "markdown",
   "id": "twenty-translator",
   "metadata": {},
   "source": [
    "* SentencePiece는 SentencePiece는 Google에서 제공하는 오픈소스 기반 Sentence Tokenizer/Detokenizer이다.\n",
    "* BPE와 unigram 2가지 subword 토크나이징 모델 중 하나를 선택해서 사용할 수 있도록 패키징한 것이다."
   ]
  },
  {
   "cell_type": "markdown",
   "id": "martial-promise",
   "metadata": {},
   "source": [
    "* 앞서 배운 tokenize() 함수"
   ]
  },
  {
   "cell_type": "code",
   "execution_count": null,
   "id": "international-investigation",
   "metadata": {},
   "outputs": [],
   "source": [
    "def tokenize(corpus):  # corpus: Tokenized Sentence's List\n",
    "    tokenizer = tf.keras.preprocessing.text.Tokenizer(filters='')\n",
    "    tokenizer.fit_on_texts(corpus)\n",
    "\n",
    "    tensor = tokenizer.texts_to_sequences(corpus)\n",
    "\n",
    "    tensor = tf.keras.preprocessing.sequence.pad_sequences(tensor, padding='post')\n",
    "\n",
    "    return tensor, tokenizer"
   ]
  },
  {
   "cell_type": "markdown",
   "id": "elementary-vietnamese",
   "metadata": {},
   "source": [
    "위와 같이 tf.keras.preprocessing.text.Tokenizer에 corpus를 주고 tokenizer.fit_on_texts(corpus)을 하면 토크나이저 내부적으로 단어사전과 토크나이저 기능을 corpus에 맞춤형으로 자동 생성해 주는 것입니다.   \n"
   ]
  },
  {
   "cell_type": "markdown",
   "id": "accurate-cookbook",
   "metadata": {},
   "source": [
    "그럼 이를 위해서 SentencePiece 모델을 학습하는 과정을 거쳐야 합니다."
   ]
  },
  {
   "cell_type": "markdown",
   "id": "superb-driving",
   "metadata": {},
   "source": [
    " ### 1) 데이터 다운로드 및 분석"
   ]
  },
  {
   "cell_type": "code",
   "execution_count": 1,
   "id": "broke-commitment",
   "metadata": {},
   "outputs": [],
   "source": [
    "import os\n",
    "\n",
    "import matplotlib.pyplot as plt\n",
    "import tensorflow as tf\n",
    "import numpy as np\n",
    "\n",
    "%matplotlib inline"
   ]
  },
  {
   "cell_type": "markdown",
   "id": "industrial-massage",
   "metadata": {},
   "source": [
    "#### 데이터 다운로드"
   ]
  },
  {
   "cell_type": "code",
   "execution_count": 2,
   "id": "unusual-nutrition",
   "metadata": {},
   "outputs": [
    {
     "name": "stdout",
     "output_type": "stream",
     "text": [
      "Data Size: 149995\n",
      "Example:\n",
      ">> 아 더빙.. 진짜 짜증나네요 목소리\n",
      ">> 나름 심오한 뜻도 있는 듯. 그냥 학생이 선생과 놀아나는 영화는 절대 아님\n",
      ">> 단순하면서 은은한 매력의 영화\n",
      ">> 보는내내 그대로 들어맞는 예측 카리스마 없는 악역\n",
      ">> 뭐냐..시작하고 3분만에 나왔다. 리플릿 사진 보며 불안하더니만..\n",
      "Data Size: 49997\n",
      "Example:\n",
      ">> 굳 ㅋ\n",
      ">> '13일의 금요일', '나이트메어'시리즈와 함께 가장 많은 시리즈를 양산해냈던 헬레이저 시리즈의 첫편. 작가의 상상력이 돋보이는 작품이며, 갈고리로 사지찢는 고어씬은 지금보더라도 상당히 잔인하고 충격적이다.\n",
      ">> EBS 한국영화특선 해서 봤다.Biff 개막작 선정되서 왤까 궁금 했었는데 봐도 이율 모르겠다...\n",
      ">> 콩콩~~~~ㅋㄲㅈㅁ\n",
      ">> 솔직히 이건 C급 그 이하의 영화이긴 함 ㅎㅎ;\n"
     ]
    }
   ],
   "source": [
    "train_data = []\n",
    "test_data = []\n",
    "import pandas as pd\n",
    "import os\n",
    "def get_data(x,data):\n",
    "    path_to_file = os.getenv('HOME')+ x\n",
    "    temp = pd.read_table(path_to_file)\n",
    "    temp=temp.dropna(axis=0)\n",
    "    data = temp['document'].values.tolist()       \n",
    "    print(\"Data Size:\", len(data))\n",
    "\n",
    "    print(\"Example:\")\n",
    "    for sen in data[0:100][::20]: print(\">>\", sen)\n",
    "    \n",
    "    return data        \n",
    "train_data=get_data('/aiffel/GoingDeeper_project/NLP_1/ratings_train.txt',train_data) \n",
    "test_data=get_data('/aiffel/GoingDeeper_project/NLP_1/ratings_test.txt',test_data)\n"
   ]
  },
  {
   "cell_type": "code",
   "execution_count": 3,
   "id": "vital-ladder",
   "metadata": {},
   "outputs": [
    {
     "name": "stdout",
     "output_type": "stream",
     "text": [
      "Data Size: 149995\n",
      "Data Size: 49997\n"
     ]
    }
   ],
   "source": [
    "y_train=[]\n",
    "y_test=[]\n",
    "def get_label (x,data):\n",
    "    path_to_file = os.getenv('HOME')+ x\n",
    "    temp = pd.read_table(path_to_file)\n",
    "    temp=temp.dropna(axis=0)\n",
    "    data = temp['label'].values.tolist()       \n",
    "    print(\"Data Size:\", len(data)) \n",
    "    \n",
    "    return data  \n",
    "y_train = get_label('/aiffel/GoingDeeper_project/NLP_1/ratings_train.txt',y_train)\n",
    "y_test = get_label('/aiffel/GoingDeeper_project/NLP_1/ratings_test.txt',y_test)\n"
   ]
  },
  {
   "cell_type": "code",
   "execution_count": 4,
   "id": "charming-surfing",
   "metadata": {},
   "outputs": [
    {
     "name": "stdout",
     "output_type": "stream",
     "text": [
      "149995\n",
      "49997\n"
     ]
    }
   ],
   "source": [
    "print(len(train_data))\n",
    "print(len(test_data))"
   ]
  },
  {
   "cell_type": "code",
   "execution_count": 5,
   "id": "substantial-laptop",
   "metadata": {},
   "outputs": [
    {
     "name": "stdout",
     "output_type": "stream",
     "text": [
      "149995\n",
      "49997\n"
     ]
    }
   ],
   "source": [
    "print(len(y_train))\n",
    "print(len(y_test))"
   ]
  },
  {
   "cell_type": "markdown",
   "id": "sorted-canberra",
   "metadata": {},
   "source": [
    "#### 문장 길이 분석"
   ]
  },
  {
   "cell_type": "code",
   "execution_count": 6,
   "id": "alien-melbourne",
   "metadata": {},
   "outputs": [
    {
     "name": "stdout",
     "output_type": "stream",
     "text": [
      "Data Size: 149995\n",
      "문장의 최단 길이: 1\n",
      "문장의 최장 길이: 146\n",
      "문장의 평균 길이: 35\n"
     ]
    },
    {
     "data": {
      "image/png": "[encoded data removed]",
      "text/plain": [
       "<Figure size 432x288 with 1 Axes>"
      ]
     },
     "metadata": {
      "needs_background": "light"
     },
     "output_type": "display_data"
    },
    {
     "name": "stdout",
     "output_type": "stream",
     "text": [
      "Data Size: 49997\n",
      "문장의 최단 길이: 1\n",
      "문장의 최장 길이: 144\n",
      "문장의 평균 길이: 35\n"
     ]
    },
    {
     "data": {
      "image/png": "[encoded data removed]",
      "text/plain": [
       "<Figure size 432x288 with 1 Axes>"
      ]
     },
     "metadata": {
      "needs_background": "light"
     },
     "output_type": "display_data"
    }
   ],
   "source": [
    "def sentence_length(raw):\n",
    "    min_len = 999\n",
    "    max_len = 0\n",
    "    sum_len = 0\n",
    "    Data_Size = len(raw)\n",
    "    print(\"Data Size:\", len(raw))\n",
    "\n",
    "    for sen in raw:\n",
    "        \n",
    "        length = len(sen)\n",
    "        if min_len > length: min_len = length\n",
    "        if max_len < length: max_len = length\n",
    "        sum_len += length\n",
    "\n",
    "    print(\"문장의 최단 길이:\", min_len)\n",
    "    print(\"문장의 최장 길이:\", max_len)\n",
    "    print(\"문장의 평균 길이:\", sum_len // Data_Size)\n",
    "\n",
    "    sentence_length = np.zeros((max_len), dtype=np.int)\n",
    "\n",
    "    for sen in raw:\n",
    "        sentence_length[len(sen)-1] += 1\n",
    "\n",
    "    plt.bar(range(max_len), sentence_length, width=1.0)  \n",
    "    plt.title(\"Sentence Length Distribution\")\n",
    "    plt.show()\n",
    "    \n",
    "sentence_length(train_data)\n",
    "sentence_length(test_data)"
   ]
  },
  {
   "cell_type": "markdown",
   "id": "handmade-jewelry",
   "metadata": {},
   "source": [
    "#### 데이터 전처리"
   ]
  },
  {
   "cell_type": "markdown",
   "id": "prepared-purple",
   "metadata": {},
   "source": [
    "1. 짧은 표현의 중복이 많아 제거\n",
    "2. 너무 짧으면 노이즈가 될수 있으므로 10 이상 150이하 사용"
   ]
  },
  {
   "cell_type": "code",
   "execution_count": 7,
   "id": "tropical-balloon",
   "metadata": {
    "scrolled": true
   },
   "outputs": [
    {
     "name": "stdout",
     "output_type": "stream",
     "text": [
      "카밀라벨 발연기\n",
      "내용이 이상해;\n",
      "너무 좋은 영화\n",
      "가발 쓰고 싶다\n",
      "0점은 없나??\n",
      "말랑말랑 ...\n",
      "그냥. 최고다.\n",
      "감동적인 영화다\n",
      "평점 조절...\n",
      "재미없음 -_-\n",
      "전율을 느꼈다.\n",
      "재미잇음매우~~\n",
      "좋네..괜찮고.\n",
      "ㅋㅋㅋ 재미없음\n",
      "파괴된 관객들.\n",
      "나수윤의 발견!\n",
      "너무 배배꼬았다\n",
      "정말 재미있어요\n",
      "그래서 2편은?\n",
      "이건그냥 야동임\n",
      "나에게는 수면제\n",
      "같이울게햇으니까\n",
      "레알 쩐다 ㅇㅇ\n",
      "별반개도 아깝다\n",
      "사랑해요 공효진\n",
      "좋은 로맨스물.\n",
      "개 쌈마이 영화\n",
      "재밌다. 그뿐.\n",
      "빛 좋은 개살구\n",
      "쵝오의 드라마~\n",
      "테러방지법...\n",
      "진정 한심하다.\n",
      "꼭보소 두번보소\n",
      "여지없는 푸념.\n",
      "아 양민수(2)\n",
      "까브리머싯씀ㅎㅎ\n",
      "별반개도 아깝다\n",
      "개연성 개나줘.\n",
      "그냥병맛ㅋㅋㅋㅋ\n",
      "흠 좀 그렇던데\n",
      "기대 이하다..\n",
      "최고의 액션배우\n",
      "명작...ㅎㅎ;\n",
      "추억의 명작만화\n",
      "진리와 평등이제\n",
      "공포영화 맞니?\n",
      "개구쟁이 스머프\n",
      "닥치고 내돈내놔\n",
      "감독의 내공부족\n",
      "이거 꾀 재밌다\n",
      "양요섭 표절논란\n",
      "별로 같은뎅..\n",
      "멋지다 조문탁!\n",
      "인내력 테스트.\n",
      "이건 뭘 까요?\n",
      "저평가된 007\n",
      "어덜트 비디오용\n",
      "박찬욱편의 승리\n",
      "화끈한 액션영화\n",
      "디카프리오, 끝\n",
      "심형래니까 1점\n",
      "쫌 아니다...\n",
      "시간잘때웠습니당\n",
      "희극 또는 비극\n",
      "진부한 재난영화\n",
      "So What?\n",
      "멸망 ㅈㄹ 한다\n",
      "하나의 예술작품\n",
      "완전 재밋습니다\n",
      "zzzzzzzz\n",
      "아프네요 가슴이\n",
      "오자룡은기어갔냐\n",
      "김리나가 이쁘다\n",
      "동영상 안 나와\n",
      "아름다우네요,,\n",
      "안보여요 ///\n",
      "이거 너무 좋아\n",
      "그닥 재미없던데\n",
      "이것도 영화냐?\n",
      "한국영화 참아라\n",
      "흑 부럽다.ㅋㅋ\n",
      "너무 뻔한 전개\n",
      "얘네들 뭐냐;;\n",
      "형식미의 절정.\n",
      "인상적인 영화.\n",
      "전설까지야...\n",
      "휴그랜트만의영화\n",
      "2도 볼만함..\n",
      "헛웃음만 나와.\n",
      "보지마요....\n",
      "사토시가나오니까\n",
      "제목 그대로 ~\n",
      "재밌을것 같아요\n",
      "스토리가 좋네요\n",
      "평점 왜케 낮어\n",
      "영화이해가 안됨\n",
      "ㅡ.,ㅡ; 뭐얌\n",
      "재밌겠당..~~\n",
      "난졸라재밋게봣음\n",
      "0점은 없는건지\n",
      "으헝 재미없겠디\n"
     ]
    }
   ],
   "source": [
    "def check_sentence_with_length(raw, length):\n",
    "    count = 0\n",
    "    \n",
    "    for sen in raw:\n",
    "        if len(sen) == length:\n",
    "            print(sen)\n",
    "            count += 1\n",
    "            if count > 100: return\n",
    "\n",
    "check_sentence_with_length(train_data, 8)"
   ]
  },
  {
   "cell_type": "code",
   "execution_count": 8,
   "id": "emotional-dispatch",
   "metadata": {},
   "outputs": [
    {
     "name": "stdout",
     "output_type": "stream",
     "text": [
      "너무너무 재밌다\n",
      "완전 잼없음..\n",
      "뭘 만든 건가?\n",
      "뭐야이거 무서워\n",
      "역시 팀 버튼.\n",
      "현실은 이러하다\n",
      "좋아요..^.^\n",
      "오리지날이다..\n",
      "숨겨진 명화!!\n",
      "획기적인 영화.\n",
      "짐캐리만의 영화\n",
      "다보고 느낀점수\n",
      "아.......\n",
      "1점도 아깝다.\n",
      "봐도봐도 잼있음\n",
      "난 재밌게 봣네\n",
      "아, 좋은 영화\n",
      "재밌게봤어요^^\n",
      "재밌게 봤어요.\n",
      "꼭봐야할영화~~\n",
      "평점을 올리자~\n",
      "ㅋㅋ 짱재밌어요\n",
      "아름답고 슬프다\n",
      "표적 없는 총질\n",
      "ㅋㅋㅋㅋㅋ재밌당\n",
      "동화같은 드라마\n",
      "키스마스가 쵝오\n",
      "지루해서 잠을잠\n",
      "재미읎다....\n",
      "완전 삼류;;;\n",
      "최고의 드라마.\n",
      "임때문에 별하나\n",
      "크로넨버그 최고\n",
      "그냥......\n",
      "저도 존경합니다\n",
      "포스터봐라 ㅋㅋ\n",
      "최고의순수의영화\n",
      "wow~재밋어요\n",
      "1점이 아깝다.\n",
      "엄청재이있겠네요\n",
      "잘나갔지 콜트~\n",
      "과분한 점수닷.\n",
      "..--;엽기다\n",
      "뭐하자는거야지금\n",
      "이 무슨....\n",
      "박진희 최고 ㅋ\n",
      "지루한 게이물.\n",
      "더럽게 재미없네\n",
      "내 인생의 영화\n",
      "그저 그렇다..\n",
      "역시 서울대였군\n",
      "마음에 듭니다.\n",
      "개 싸이코 영화\n",
      "감상문때문에 봄\n",
      "명작 드래곤볼!\n",
      "진짜.ㅋㅋㅋㅋㅋ\n",
      "환상적인 재미.\n",
      "빼꼼의머그잔여행\n",
      "지루하네요...\n",
      "느낌 좋은 영화\n",
      "재미없어 - -\n",
      "열나게 재미없네\n",
      "따뜻한 영화^^\n",
      "뭐고 이거...\n",
      "최악의 영화였다\n",
      "재밌었어요ㅋㅋㅋ\n",
      "괜찮았는데...\n",
      "아니다 이건..\n",
      "뭔 내용인지??\n",
      "떡밥계의 최고봉\n",
      "소재가 고갈된듯\n",
      "재밌게봤음ㅋㅋㅋ\n",
      "필림이 아깝다.\n",
      "포스터가 드럽다\n",
      "심하게 재미없네\n",
      "전혜진만 이쁘긔\n",
      "졸라게 재미없어\n",
      "전설의 시작..\n",
      "너무 좋앙...\n",
      "잼있게본 영화!\n",
      "선리플 후 감상\n",
      "1보다는 약하다\n",
      "평점 버그 ㄱㄱ\n",
      "숀펜진짜..ㄷㄷ\n",
      "아름다운영화..\n",
      "너무 재미있어요\n",
      "잔잔하다 예쁘다\n",
      "평이 너무 낮음\n",
      "재미있어요 ㅎㅎ\n",
      "이건진짜명작이죠\n",
      "좋은영화....\n",
      "너무 유치하다.\n",
      "깨끗한울음 눈물\n",
      "재밌었어요~^^\n",
      "구렛나루의 압박\n",
      "딱봐도 젬없겠네\n",
      "당황스럽다...\n",
      "완전대박잼있어요\n",
      "시간 떼우기 용\n",
      "이게 뭐지..?\n",
      "평점이 너무낮다\n"
     ]
    }
   ],
   "source": [
    "check_sentence_with_length(test_data, 8)"
   ]
  },
  {
   "cell_type": "code",
   "execution_count": 9,
   "id": "coordinate-import",
   "metadata": {},
   "outputs": [
    {
     "name": "stdout",
     "output_type": "stream",
     "text": [
      "149995\n",
      "49997\n"
     ]
    }
   ],
   "source": [
    "df_train = pd.DataFrame({'x':train_data,'label':y_train})\n",
    "df_test = pd.DataFrame({'x':test_data,'label':y_test})\n",
    "\n",
    "print(len(df_train))\n",
    "print(len(df_test))"
   ]
  },
  {
   "cell_type": "code",
   "execution_count": 10,
   "id": "improved-barcelona",
   "metadata": {},
   "outputs": [
    {
     "name": "stdout",
     "output_type": "stream",
     "text": [
      "146182\n",
      "49157\n"
     ]
    }
   ],
   "source": [
    "df_train.drop_duplicates([\"x\"], inplace=True)\n",
    "df_test.drop_duplicates([\"x\"], inplace=True)\n",
    "\n",
    "print(len(df_train))\n",
    "print(len(df_test))"
   ]
  },
  {
   "cell_type": "code",
   "execution_count": 11,
   "id": "widespread-geography",
   "metadata": {},
   "outputs": [
    {
     "name": "stdout",
     "output_type": "stream",
     "text": [
      "Data Size: 136253\n"
     ]
    },
    {
     "data": {
      "image/png": "[encoded data removed]",
      "text/plain": [
       "<Figure size 432x288 with 1 Axes>"
      ]
     },
     "metadata": {
      "needs_background": "light"
     },
     "output_type": "display_data"
    },
    {
     "name": "stdout",
     "output_type": "stream",
     "text": [
      "Data Size: 45645\n"
     ]
    },
    {
     "data": {
      "image/png": "[encoded data removed]",
      "text/plain": [
       "<Figure size 432x288 with 1 Axes>"
      ]
     },
     "metadata": {
      "needs_background": "light"
     },
     "output_type": "display_data"
    }
   ],
   "source": [
    "def modify_length(cleaned_corpus):\n",
    "    max_len = 150\n",
    "    min_len = 10\n",
    "    # 길이 조건에 맞는 문장만 선택합니다.\n",
    "  \n",
    "    cleaned_corpus[\"len\"] = cleaned_corpus[\"x\"].apply(lambda x: len(x))    \n",
    "    filtered_corpus = cleaned_corpus.loc[(cleaned_corpus[\"len\"] >= min_len) & (cleaned_corpus[\"len\"] <= max_len)]\n",
    "    \n",
    "    \n",
    "    # 분포도를 다시 그려봅니다.\n",
    "    sentence_length = np.zeros((max_len), dtype=np.int)\n",
    "\n",
    "    for sen in filtered_corpus['len']:\n",
    "        sentence_length[sen] += 1\n",
    "    \n",
    "    print(\"Data Size:\", len(filtered_corpus))\n",
    "    plt.bar(range(max_len), sentence_length, width=1.0)\n",
    "    plt.title(\"Sentence Length Distribution\")\n",
    "    plt.show()\n",
    "    return filtered_corpus\n",
    "\n",
    "filtered_train = modify_length(df_train)\n",
    "filtered_test = modify_length(df_test)"
   ]
  },
  {
   "cell_type": "code",
   "execution_count": 12,
   "id": "adjustable-simulation",
   "metadata": {},
   "outputs": [],
   "source": [
    "y_train = filtered_train['label'].values.tolist() \n",
    "y_test = filtered_test['label'].values.tolist() \n",
    "\n",
    "\n",
    "filtered_train = filtered_train['x'].values.tolist() \n",
    "filtered_test = filtered_test['x'].values.tolist() \n"
   ]
  },
  {
   "cell_type": "markdown",
   "id": "rotary-camel",
   "metadata": {},
   "source": [
    "### 2) SentencePiece 학습"
   ]
  },
  {
   "cell_type": "code",
   "execution_count": 13,
   "id": "radical-outdoors",
   "metadata": {},
   "outputs": [
    {
     "name": "stdout",
     "output_type": "stream",
     "text": [
      "-rw-r--r-- 1 root root 374762 Dec 18 13:18 korean_spm.model\r\n",
      "-rw-r--r-- 1 root root 144036 Dec 18 13:18 korean_spm.vocab\r\n"
     ]
    }
   ],
   "source": [
    "import sentencepiece as spm\n",
    "\n",
    "import os\n",
    "temp_file = os.getenv('HOME')+'/aiffel/GoingDeeper_project/NLP_1/sp_tokenizer/data/korean-english-park.train.ko.temp'\n",
    "\n",
    "vocab_size = 8000\n",
    "\n",
    "with open(temp_file, 'w') as f:\n",
    "    for row in filtered_train:   # 이전 스텝에서 정제했던 corpus를 활용합니다.\n",
    "        f.write(str(row) + '\\n')\n",
    "\n",
    "spm.SentencePieceTrainer.Train(\n",
    "    '--input={} --model_prefix=korean_spm --vocab_size={}'.format(temp_file, vocab_size)    \n",
    ")\n",
    "#위 Train에서  --model_type = 'unigram'이 디폴트 적용되어 있습니다. --model_type = 'bpe' 로 옵션을 주어 변경할 수 있습니다.\n",
    "\n",
    "!ls -l korean_spm*"
   ]
  },
  {
   "cell_type": "code",
   "execution_count": 14,
   "id": "behavioral-strap",
   "metadata": {},
   "outputs": [],
   "source": [
    "import tensorflow as tf  \n",
    "from tensorflow import keras \n",
    "\n",
    "def sp_tokenize(s, corpus):\n",
    "\n",
    "    tensor = []\n",
    "\n",
    "    for sen in corpus:\n",
    "        tensor.append(s.EncodeAsIds(sen))\n",
    "\n",
    "    with open(\"./korean_spm.vocab\", 'r') as f:\n",
    "        vocab = f.readlines()\n",
    "\n",
    "    word_index = {}\n",
    "    index_word = {}\n",
    "\n",
    "    for idx, line in enumerate(vocab):\n",
    "        word = line.split(\"\\t\")[0]\n",
    "\n",
    "        word_index.update({idx:word})\n",
    "        index_word.update({word:idx})\n",
    "\n",
    "    tensor = tf.keras.preprocessing.sequence.pad_sequences(tensor, padding='post')\n",
    "\n",
    "    return tensor, word_index, index_word"
   ]
  },
  {
   "cell_type": "code",
   "execution_count": 15,
   "id": "signal-singer",
   "metadata": {},
   "outputs": [
    {
     "data": {
      "text/plain": [
       "(136253, 134)"
      ]
     },
     "execution_count": 15,
     "metadata": {},
     "output_type": "execute_result"
    }
   ],
   "source": [
    "\n",
    "s = spm.SentencePieceProcessor()\n",
    "s.Load('korean_spm.model')\n",
    "\n",
    "X_train_sp, X_train_word_index, X_train_index_word = sp_tokenize(s, filtered_train)\n",
    "X_test_sp, X_test_word_index, X_test_index_word = sp_tokenize(s, filtered_test)\n",
    "\n",
    "X_train_sp.shape"
   ]
  },
  {
   "cell_type": "code",
   "execution_count": 16,
   "id": "above-printer",
   "metadata": {},
   "outputs": [
    {
     "name": "stdout",
     "output_type": "stream",
     "text": [
      "(126253, 134)\n",
      "(126253,)\n"
     ]
    }
   ],
   "source": [
    "# validation set 10000건 분리\n",
    "x_val_sp = X_train_sp[:10000]   \n",
    "y_val = y_train[:10000]\n",
    "\n",
    "# validation set을 제외한 나머지 15000건\n",
    "partial_x_train_sp = X_train_sp[10000:]  \n",
    "partial_y_train = y_train[10000:]\n",
    "\n",
    "print(partial_x_train_sp.shape)\n",
    "print(np.array(partial_y_train).shape)"
   ]
  },
  {
   "cell_type": "markdown",
   "id": "challenging-replica",
   "metadata": {},
   "source": [
    "* label 데이터의 type을 model에 넣을 수 있게 array로 바꿔줍니다."
   ]
  },
  {
   "cell_type": "code",
   "execution_count": 17,
   "id": "coral-crash",
   "metadata": {},
   "outputs": [],
   "source": [
    "y_val = np.array(y_val)\n",
    "partial_y_train = np.array(partial_y_train)\n",
    "y_test=np.array(y_test)"
   ]
  },
  {
   "cell_type": "markdown",
   "id": "cubic-samuel",
   "metadata": {},
   "source": [
    "### 3) 모델 학습 "
   ]
  },
  {
   "cell_type": "markdown",
   "id": "perceived-refrigerator",
   "metadata": {},
   "source": [
    "3가지 모델 사용하여 분석했습니다.  \n",
    "    * LSTM  \n",
    "    * MAXpooling  \n",
    "    * 1-D CNN  "
   ]
  },
  {
   "cell_type": "markdown",
   "id": "opposite-columbus",
   "metadata": {},
   "source": [
    "#### 1) LSTM 설계 & 학습"
   ]
  },
  {
   "cell_type": "code",
   "execution_count": 18,
   "id": "global-birthday",
   "metadata": {},
   "outputs": [
    {
     "name": "stdout",
     "output_type": "stream",
     "text": [
      "Model: \"sequential\"\n",
      "_________________________________________________________________\n",
      "Layer (type)                 Output Shape              Param #   \n",
      "=================================================================\n",
      "embedding (Embedding)        (None, None, 16)          128000    \n",
      "_________________________________________________________________\n",
      "lstm (LSTM)                  (None, 8)                 800       \n",
      "_________________________________________________________________\n",
      "dense (Dense)                (None, 8)                 72        \n",
      "_________________________________________________________________\n",
      "dense_1 (Dense)              (None, 1)                 9         \n",
      "=================================================================\n",
      "Total params: 128,881\n",
      "Trainable params: 128,881\n",
      "Non-trainable params: 0\n",
      "_________________________________________________________________\n"
     ]
    }
   ],
   "source": [
    "vocab_size = 8000  # 어휘 사전의 크기입니다(10개의 단어)\n",
    "word_vector_dim = 16  # 단어 하나를 표현하는 임베딩 벡터의 차원수입니다. \n",
    "\n",
    "s_model_lstm = keras.Sequential()\n",
    "s_model_lstm.add(keras.layers.Embedding(vocab_size, word_vector_dim, input_shape=(None,)))\n",
    "s_model_lstm.add(keras.layers.LSTM(8))   # 가장 널리 쓰이는 RNN인 LSTM 레이어를 사용하였습니다. 이때 LSTM state 벡터의 차원수는 8로 하였습니다. (변경 가능)\n",
    "s_model_lstm.add(keras.layers.Dense(8, activation='relu'))\n",
    "s_model_lstm.add(keras.layers.Dense(1, activation='sigmoid'))  # 최종 출력은 긍정/부정을 나타내는 1dim 입니다.\n",
    "\n",
    "s_model_lstm.summary()"
   ]
  },
  {
   "cell_type": "code",
   "execution_count": 19,
   "id": "terminal-twelve",
   "metadata": {},
   "outputs": [
    {
     "name": "stdout",
     "output_type": "stream",
     "text": [
      "Epoch 1/20\n",
      "247/247 [==============================] - 9s 25ms/step - loss: 0.6932 - accuracy: 0.5016 - val_loss: 0.6932 - val_accuracy: 0.4998\n",
      "Epoch 2/20\n",
      "247/247 [==============================] - 5s 22ms/step - loss: 0.6932 - accuracy: 0.5008 - val_loss: 0.6932 - val_accuracy: 0.4998\n",
      "Epoch 3/20\n",
      "247/247 [==============================] - 5s 22ms/step - loss: 0.6932 - accuracy: 0.4967 - val_loss: 0.6932 - val_accuracy: 0.5002\n",
      "Epoch 4/20\n",
      "247/247 [==============================] - 5s 22ms/step - loss: 0.6931 - accuracy: 0.5028 - val_loss: 0.6931 - val_accuracy: 0.5002\n",
      "Epoch 5/20\n",
      "247/247 [==============================] - 5s 22ms/step - loss: 0.6931 - accuracy: 0.5019 - val_loss: 0.6932 - val_accuracy: 0.5002\n",
      "Epoch 6/20\n",
      "247/247 [==============================] - 5s 22ms/step - loss: 0.6931 - accuracy: 0.5018 - val_loss: 0.6932 - val_accuracy: 0.5002\n",
      "Epoch 7/20\n",
      "247/247 [==============================] - 5s 22ms/step - loss: 0.6931 - accuracy: 0.5004 - val_loss: 0.6932 - val_accuracy: 0.5002\n",
      "Epoch 8/20\n",
      "247/247 [==============================] - 5s 22ms/step - loss: 0.6932 - accuracy: 0.5001 - val_loss: 0.6932 - val_accuracy: 0.5002\n",
      "Epoch 9/20\n",
      "247/247 [==============================] - 5s 22ms/step - loss: 0.6932 - accuracy: 0.5007 - val_loss: 0.6932 - val_accuracy: 0.5002\n",
      "Epoch 10/20\n",
      "247/247 [==============================] - 5s 22ms/step - loss: 0.6931 - accuracy: 0.5011 - val_loss: 0.6932 - val_accuracy: 0.5002\n",
      "Epoch 11/20\n",
      "247/247 [==============================] - 5s 22ms/step - loss: 0.6931 - accuracy: 0.5028 - val_loss: 0.6931 - val_accuracy: 0.5002\n",
      "Epoch 12/20\n",
      "247/247 [==============================] - 5s 22ms/step - loss: 0.6931 - accuracy: 0.5037 - val_loss: 0.6931 - val_accuracy: 0.4998\n",
      "Epoch 13/20\n",
      "247/247 [==============================] - 5s 22ms/step - loss: 0.6931 - accuracy: 0.4998 - val_loss: 0.6932 - val_accuracy: 0.5002\n",
      "Epoch 14/20\n",
      "247/247 [==============================] - 5s 22ms/step - loss: 0.6931 - accuracy: 0.5023 - val_loss: 0.6931 - val_accuracy: 0.5002\n",
      "Epoch 15/20\n",
      "247/247 [==============================] - 5s 22ms/step - loss: 0.6932 - accuracy: 0.5020 - val_loss: 0.6931 - val_accuracy: 0.5002\n",
      "Epoch 16/20\n",
      "247/247 [==============================] - 5s 22ms/step - loss: 0.6931 - accuracy: 0.5018 - val_loss: 0.6931 - val_accuracy: 0.5002\n",
      "Epoch 17/20\n",
      "247/247 [==============================] - 5s 22ms/step - loss: 0.6931 - accuracy: 0.4986 - val_loss: 0.6932 - val_accuracy: 0.5002\n",
      "Epoch 18/20\n",
      "247/247 [==============================] - 5s 22ms/step - loss: 0.6931 - accuracy: 0.5038 - val_loss: 0.6931 - val_accuracy: 0.4998\n",
      "Epoch 19/20\n",
      "247/247 [==============================] - 5s 22ms/step - loss: 0.6931 - accuracy: 0.4988 - val_loss: 0.6932 - val_accuracy: 0.5002\n",
      "Epoch 20/20\n",
      "247/247 [==============================] - 5s 22ms/step - loss: 0.6931 - accuracy: 0.5011 - val_loss: 0.6932 - val_accuracy: 0.5002\n"
     ]
    }
   ],
   "source": [
    "s_model_lstm.compile(optimizer='adam',\n",
    "              loss='binary_crossentropy',\n",
    "              metrics=['accuracy'])\n",
    "              \n",
    "epochs=20  # 몇 epoch를 훈련하면 좋을지 결과를 보면서 바꾸어 봅시다. \n",
    "history_lstm = s_model_lstm.fit(partial_x_train_sp,\n",
    "                   partial_y_train,\n",
    "                    epochs=epochs,\n",
    "                    batch_size=512,\n",
    "                    validation_data=(x_val_sp, y_val),\n",
    "                    verbose=1)"
   ]
  },
  {
   "cell_type": "markdown",
   "id": "ambient-harvard",
   "metadata": {},
   "source": [
    "#### 2) MaxPooling 설계 & 학습"
   ]
  },
  {
   "cell_type": "code",
   "execution_count": 20,
   "id": "bearing-privacy",
   "metadata": {},
   "outputs": [
    {
     "name": "stdout",
     "output_type": "stream",
     "text": [
      "Model: \"sequential_1\"\n",
      "_________________________________________________________________\n",
      "Layer (type)                 Output Shape              Param #   \n",
      "=================================================================\n",
      "embedding_1 (Embedding)      (None, None, 16)          128000    \n",
      "_________________________________________________________________\n",
      "global_max_pooling1d (Global (None, 16)                0         \n",
      "_________________________________________________________________\n",
      "dense_2 (Dense)              (None, 8)                 136       \n",
      "_________________________________________________________________\n",
      "dense_3 (Dense)              (None, 1)                 9         \n",
      "=================================================================\n",
      "Total params: 128,145\n",
      "Trainable params: 128,145\n",
      "Non-trainable params: 0\n",
      "_________________________________________________________________\n"
     ]
    }
   ],
   "source": [
    "vocab_size = 8000 # 어휘 사전의 크기입니다(10개의 단어)\n",
    "word_vector_dim = 16   # 단어 하나를 표현하는 임베딩 벡터의 차원 수입니다. \n",
    "\n",
    "s_model_max = keras.Sequential()\n",
    "s_model_max.add(keras.layers.Embedding(vocab_size, word_vector_dim, input_shape=(None,)))\n",
    "s_model_max.add(keras.layers.GlobalMaxPooling1D())\n",
    "s_model_max.add(keras.layers.Dense(8, activation='relu'))\n",
    "s_model_max.add(keras.layers.Dense(1, activation='sigmoid'))  # 최종 출력은 긍정/부정을 나타내는 1dim 입니다.\n",
    "\n",
    "s_model_max.summary()"
   ]
  },
  {
   "cell_type": "code",
   "execution_count": 21,
   "id": "expressed-radical",
   "metadata": {},
   "outputs": [
    {
     "name": "stdout",
     "output_type": "stream",
     "text": [
      "Epoch 1/20\n",
      "247/247 [==============================] - 3s 8ms/step - loss: 0.6687 - accuracy: 0.6258 - val_loss: 0.4876 - val_accuracy: 0.8154\n",
      "Epoch 2/20\n",
      "247/247 [==============================] - 2s 8ms/step - loss: 0.4337 - accuracy: 0.8334 - val_loss: 0.3542 - val_accuracy: 0.8480\n",
      "Epoch 3/20\n",
      "247/247 [==============================] - 2s 7ms/step - loss: 0.3252 - accuracy: 0.8643 - val_loss: 0.3360 - val_accuracy: 0.8547\n",
      "Epoch 4/20\n",
      "247/247 [==============================] - 2s 7ms/step - loss: 0.2929 - accuracy: 0.8771 - val_loss: 0.3368 - val_accuracy: 0.8568\n",
      "Epoch 5/20\n",
      "247/247 [==============================] - 2s 8ms/step - loss: 0.2710 - accuracy: 0.8871 - val_loss: 0.3404 - val_accuracy: 0.8556\n",
      "Epoch 6/20\n",
      "247/247 [==============================] - 2s 7ms/step - loss: 0.2537 - accuracy: 0.8969 - val_loss: 0.3463 - val_accuracy: 0.8545\n",
      "Epoch 7/20\n",
      "247/247 [==============================] - 2s 8ms/step - loss: 0.2416 - accuracy: 0.9016 - val_loss: 0.3544 - val_accuracy: 0.8520\n",
      "Epoch 8/20\n",
      "247/247 [==============================] - 2s 7ms/step - loss: 0.2284 - accuracy: 0.9082 - val_loss: 0.3619 - val_accuracy: 0.8524\n",
      "Epoch 9/20\n",
      "247/247 [==============================] - 2s 7ms/step - loss: 0.2203 - accuracy: 0.9121 - val_loss: 0.3701 - val_accuracy: 0.8504\n",
      "Epoch 10/20\n",
      "247/247 [==============================] - 2s 7ms/step - loss: 0.2113 - accuracy: 0.9160 - val_loss: 0.3799 - val_accuracy: 0.8486\n",
      "Epoch 11/20\n",
      "247/247 [==============================] - 2s 8ms/step - loss: 0.2019 - accuracy: 0.9219 - val_loss: 0.3901 - val_accuracy: 0.8452\n",
      "Epoch 12/20\n",
      "247/247 [==============================] - 2s 7ms/step - loss: 0.1925 - accuracy: 0.9261 - val_loss: 0.4008 - val_accuracy: 0.8440\n",
      "Epoch 13/20\n",
      "247/247 [==============================] - 2s 8ms/step - loss: 0.1877 - accuracy: 0.9284 - val_loss: 0.4115 - val_accuracy: 0.8422\n",
      "Epoch 14/20\n",
      "247/247 [==============================] - 2s 7ms/step - loss: 0.1777 - accuracy: 0.9336 - val_loss: 0.4238 - val_accuracy: 0.8411\n",
      "Epoch 15/20\n",
      "247/247 [==============================] - 2s 7ms/step - loss: 0.1700 - accuracy: 0.9370 - val_loss: 0.4353 - val_accuracy: 0.8393\n",
      "Epoch 16/20\n",
      "247/247 [==============================] - 2s 7ms/step - loss: 0.1647 - accuracy: 0.9392 - val_loss: 0.4469 - val_accuracy: 0.8390\n",
      "Epoch 17/20\n",
      "247/247 [==============================] - 2s 7ms/step - loss: 0.1586 - accuracy: 0.9422 - val_loss: 0.4601 - val_accuracy: 0.8355\n",
      "Epoch 18/20\n",
      "247/247 [==============================] - 2s 8ms/step - loss: 0.1526 - accuracy: 0.9447 - val_loss: 0.4743 - val_accuracy: 0.8349\n",
      "Epoch 19/20\n",
      "247/247 [==============================] - 2s 7ms/step - loss: 0.1470 - accuracy: 0.9478 - val_loss: 0.4880 - val_accuracy: 0.8357\n",
      "Epoch 20/20\n",
      "247/247 [==============================] - 2s 7ms/step - loss: 0.1438 - accuracy: 0.9485 - val_loss: 0.5014 - val_accuracy: 0.8342\n"
     ]
    }
   ],
   "source": [
    "s_model_max.compile(optimizer='adam',\n",
    "              loss='binary_crossentropy',\n",
    "              metrics=['accuracy'])\n",
    "              \n",
    "epochs=20  # 몇 epoch를 훈련하면 좋을지 결과를 보면서 바꾸어 봅시다. \n",
    "history_max = s_model_max.fit(partial_x_train_sp,\n",
    "                   partial_y_train,\n",
    "                    epochs=epochs,\n",
    "                    batch_size=512,\n",
    "                    validation_data=(x_val_sp, y_val),\n",
    "                    verbose=1)"
   ]
  },
  {
   "cell_type": "markdown",
   "id": "invisible-playing",
   "metadata": {},
   "source": [
    "#### 3) 1-D CNN 살계 및 학습"
   ]
  },
  {
   "cell_type": "code",
   "execution_count": 22,
   "id": "divine-municipality",
   "metadata": {},
   "outputs": [
    {
     "name": "stdout",
     "output_type": "stream",
     "text": [
      "Model: \"sequential_2\"\n",
      "_________________________________________________________________\n",
      "Layer (type)                 Output Shape              Param #   \n",
      "=================================================================\n",
      "embedding_2 (Embedding)      (None, None, 16)          128000    \n",
      "_________________________________________________________________\n",
      "conv1d (Conv1D)              (None, None, 16)          1808      \n",
      "_________________________________________________________________\n",
      "max_pooling1d (MaxPooling1D) (None, None, 16)          0         \n",
      "_________________________________________________________________\n",
      "conv1d_1 (Conv1D)            (None, None, 16)          1808      \n",
      "_________________________________________________________________\n",
      "global_max_pooling1d_1 (Glob (None, 16)                0         \n",
      "_________________________________________________________________\n",
      "dense_4 (Dense)              (None, 8)                 136       \n",
      "_________________________________________________________________\n",
      "dense_5 (Dense)              (None, 1)                 9         \n",
      "=================================================================\n",
      "Total params: 131,761\n",
      "Trainable params: 131,761\n",
      "Non-trainable params: 0\n",
      "_________________________________________________________________\n"
     ]
    }
   ],
   "source": [
    "vocab_size = 8000    # 어휘 사전의 크기(10,000개의 단어)\n",
    "word_vector_dim = 16  # 단어 하나를 표현하는 임베딩 벡터의 차원수 (변경가능)\n",
    "\n",
    "\n",
    "s_model_cnn = keras.Sequential()\n",
    "s_model_cnn.add(keras.layers.Embedding(vocab_size, word_vector_dim, input_shape=(None,)))\n",
    "s_model_cnn.add(keras.layers.Conv1D(16, 7, activation='relu'))\n",
    "s_model_cnn.add(keras.layers.MaxPooling1D(5))\n",
    "s_model_cnn.add(keras.layers.Conv1D(16, 7, activation='relu'))\n",
    "s_model_cnn.add(keras.layers.GlobalMaxPooling1D())\n",
    "s_model_cnn.add(keras.layers.Dense(8, activation='relu'))\n",
    "s_model_cnn.add(keras.layers.Dense(1, activation='sigmoid'))  # 최종 출력은 긍정/부정을 나타내는 1dim 입니다.\n",
    "\n",
    "s_model_cnn.summary()"
   ]
  },
  {
   "cell_type": "code",
   "execution_count": 23,
   "id": "controlling-thumbnail",
   "metadata": {},
   "outputs": [
    {
     "name": "stdout",
     "output_type": "stream",
     "text": [
      "Epoch 1/5\n",
      "247/247 [==============================] - 14s 40ms/step - loss: 0.6260 - accuracy: 0.6436 - val_loss: 0.3395 - val_accuracy: 0.8518\n",
      "Epoch 2/5\n",
      "247/247 [==============================] - 3s 13ms/step - loss: 0.3182 - accuracy: 0.8661 - val_loss: 0.3211 - val_accuracy: 0.8604\n",
      "Epoch 3/5\n",
      "247/247 [==============================] - 3s 12ms/step - loss: 0.2888 - accuracy: 0.8795 - val_loss: 0.3203 - val_accuracy: 0.8612\n",
      "Epoch 4/5\n",
      "247/247 [==============================] - 3s 13ms/step - loss: 0.2631 - accuracy: 0.8926 - val_loss: 0.3237 - val_accuracy: 0.8597\n",
      "Epoch 5/5\n",
      "247/247 [==============================] - 3s 13ms/step - loss: 0.2440 - accuracy: 0.9017 - val_loss: 0.3275 - val_accuracy: 0.8632\n"
     ]
    }
   ],
   "source": [
    "s_model_cnn.compile(optimizer='adam',\n",
    "              loss='binary_crossentropy',\n",
    "              metrics=['accuracy'])\n",
    "              \n",
    "epochs=5  # 몇 epoch를 훈련하면 좋을지 결과를 보면서 바꾸어 봅시다. \n",
    "history_cnn = s_model_cnn.fit(partial_x_train_sp,\n",
    "                   partial_y_train,\n",
    "                    epochs=epochs,\n",
    "                    batch_size=512,\n",
    "                    validation_data=(x_val_sp, y_val),\n",
    "                    verbose=1)"
   ]
  },
  {
   "cell_type": "markdown",
   "id": "minus-contribution",
   "metadata": {},
   "source": [
    "### 4) 모델 평가"
   ]
  },
  {
   "cell_type": "code",
   "execution_count": 24,
   "id": "tropical-moderator",
   "metadata": {},
   "outputs": [
    {
     "name": "stdout",
     "output_type": "stream",
     "text": [
      "1427/1427 [==============================] - 10s 7ms/step - loss: 0.6932 - accuracy: 0.4974\n"
     ]
    },
    {
     "data": {
      "text/plain": [
       "[0.6931812167167664, 0.49738195538520813]"
      ]
     },
     "execution_count": 24,
     "metadata": {},
     "output_type": "execute_result"
    }
   ],
   "source": [
    "s_model_lstm.evaluate(X_test_sp, y_test)"
   ]
  },
  {
   "cell_type": "code",
   "execution_count": 25,
   "id": "eleven-telescope",
   "metadata": {},
   "outputs": [
    {
     "name": "stdout",
     "output_type": "stream",
     "text": [
      "1427/1427 [==============================] - 4s 2ms/step - loss: 0.5291 - accuracy: 0.8282\n"
     ]
    },
    {
     "data": {
      "text/plain": [
       "[0.5291448831558228, 0.828152060508728]"
      ]
     },
     "execution_count": 25,
     "metadata": {},
     "output_type": "execute_result"
    }
   ],
   "source": [
    "s_model_max.evaluate(X_test_sp, y_test)"
   ]
  },
  {
   "cell_type": "code",
   "execution_count": 26,
   "id": "possible-evolution",
   "metadata": {},
   "outputs": [
    {
     "name": "stdout",
     "output_type": "stream",
     "text": [
      "1427/1427 [==============================] - 8s 4ms/step - loss: 0.3468 - accuracy: 0.8525\n"
     ]
    },
    {
     "data": {
      "text/plain": [
       "[0.3468334376811981, 0.8524920344352722]"
      ]
     },
     "execution_count": 26,
     "metadata": {},
     "output_type": "execute_result"
    }
   ],
   "source": [
    "s_model_cnn.evaluate(X_test_sp, y_test)"
   ]
  },
  {
   "cell_type": "markdown",
   "id": "least-matthew",
   "metadata": {},
   "source": [
    " ||LSTM|MaxPooling|1-D CNN\n",
    " |------|-----|:-----:|----\n",
    " |정확도|0.497|0.826|**0.851**\n"
   ]
  },
  {
   "cell_type": "markdown",
   "id": "shaped-thinking",
   "metadata": {},
   "source": [
    "#### 역경을 겪은 점\n",
    "1. LSTM 모델이 정확도가 너무 낮게 나와 parameter 수정을 하였지만 별 차이가 없어서 데이터부터 다시 확인하였었습니다. 결국엔 다른 모델을 도입하고서야 정확도가 정상적으로 (80% 이상) 나오게 되었는데 LSTM모델 연구를 더 해봐야 될 것 같습니다.\n",
    "2. label 있다는 점을 고려하지 않고 처음부터 분리하여 데이터 전처리 과정에서 다시 합쳐줬어야 했고,y 값을 array type으로 바꿔줘야 한다는 점을 고려 못했다는 점 역시 시간을 허비하게 하였었다."
   ]
  },
  {
   "cell_type": "markdown",
   "id": "bibliographic-waste",
   "metadata": {},
   "source": [
    "## step 2 .추가 분석 KoNLPy 형태소 분석기를 사용한 모델"
   ]
  },
  {
   "cell_type": "markdown",
   "id": "quantitative-india",
   "metadata": {},
   "source": [
    "### 1) 데이터 로드"
   ]
  },
  {
   "cell_type": "code",
   "execution_count": 27,
   "id": "informal-action",
   "metadata": {
    "scrolled": true
   },
   "outputs": [
    {
     "data": {
      "text/html": [
       "<div>\n",
       "<style scoped>\n",
       "    .dataframe tbody tr th:only-of-type {\n",
       "        vertical-align: middle;\n",
       "    }\n",
       "\n",
       "    .dataframe tbody tr th {\n",
       "        vertical-align: top;\n",
       "    }\n",
       "\n",
       "    .dataframe thead th {\n",
       "        text-align: right;\n",
       "    }\n",
       "</style>\n",
       "<table border=\"1\" class=\"dataframe\">\n",
       "  <thead>\n",
       "    <tr style=\"text-align: right;\">\n",
       "      <th></th>\n",
       "      <th>id</th>\n",
       "      <th>document</th>\n",
       "      <th>label</th>\n",
       "    </tr>\n",
       "  </thead>\n",
       "  <tbody>\n",
       "    <tr>\n",
       "      <th>0</th>\n",
       "      <td>9976970</td>\n",
       "      <td>아 더빙.. 진짜 짜증나네요 목소리</td>\n",
       "      <td>0</td>\n",
       "    </tr>\n",
       "    <tr>\n",
       "      <th>1</th>\n",
       "      <td>3819312</td>\n",
       "      <td>흠...포스터보고 초딩영화줄....오버연기조차 가볍지 않구나</td>\n",
       "      <td>1</td>\n",
       "    </tr>\n",
       "    <tr>\n",
       "      <th>2</th>\n",
       "      <td>10265843</td>\n",
       "      <td>너무재밓었다그래서보는것을추천한다</td>\n",
       "      <td>0</td>\n",
       "    </tr>\n",
       "    <tr>\n",
       "      <th>3</th>\n",
       "      <td>9045019</td>\n",
       "      <td>교도소 이야기구먼 ..솔직히 재미는 없다..평점 조정</td>\n",
       "      <td>0</td>\n",
       "    </tr>\n",
       "    <tr>\n",
       "      <th>4</th>\n",
       "      <td>6483659</td>\n",
       "      <td>사이몬페그의 익살스런 연기가 돋보였던 영화!스파이더맨에서 늙어보이기만 했던 커스틴 ...</td>\n",
       "      <td>1</td>\n",
       "    </tr>\n",
       "  </tbody>\n",
       "</table>\n",
       "</div>"
      ],
      "text/plain": [
       "         id                                           document  label\n",
       "0   9976970                                아 더빙.. 진짜 짜증나네요 목소리      0\n",
       "1   3819312                  흠...포스터보고 초딩영화줄....오버연기조차 가볍지 않구나      1\n",
       "2  10265843                                  너무재밓었다그래서보는것을추천한다      0\n",
       "3   9045019                      교도소 이야기구먼 ..솔직히 재미는 없다..평점 조정      0\n",
       "4   6483659  사이몬페그의 익살스런 연기가 돋보였던 영화!스파이더맨에서 늙어보이기만 했던 커스틴 ...      1"
      ]
     },
     "execution_count": 27,
     "metadata": {},
     "output_type": "execute_result"
    }
   ],
   "source": [
    "import pandas as pd\n",
    "import urllib.request\n",
    "%matplotlib inline\n",
    "import matplotlib.pyplot as plt\n",
    "import re\n",
    "from konlpy.tag import Okt\n",
    "from tensorflow import keras\n",
    "from tensorflow.keras.preprocessing.text import Tokenizer\n",
    "import numpy as np\n",
    "from tensorflow.keras.preprocessing.sequence import pad_sequences\n",
    "from collections import Counter\n",
    "\n",
    "# 데이터를 읽어봅시다. \n",
    "train_data = pd.read_table('~/aiffel/GoingDeeper_project/NLP_1/ratings_train.txt')\n",
    "test_data = pd.read_table('~/aiffel/GoingDeeper_project/NLP_1/ratings_test.txt')\n",
    "\n",
    "train_data.head()"
   ]
  },
  {
   "cell_type": "markdown",
   "id": "united-project",
   "metadata": {},
   "source": [
    "### 2) 데이터로더 구성"
   ]
  },
  {
   "cell_type": "markdown",
   "id": "circular-monroe",
   "metadata": {},
   "source": [
    "data_loader 안의 기능들\n",
    "\n",
    "* 데이터의 중복 제거\n",
    "* NaN 결측치 제거\n",
    "* 한국어 토크나이저로 토큰화\n",
    "* 불용어(Stopwords) 제거\n",
    "* 사전word_to_index 구성\n",
    "* 텍스트 스트링을 사전 인덱스 스트링으로 변환\n",
    "* X_train, y_train, X_test, y_test, word_to_index 리턴\n"
   ]
  },
  {
   "cell_type": "code",
   "execution_count": 28,
   "id": "persistent-estimate",
   "metadata": {},
   "outputs": [],
   "source": [
    "\n",
    "from konlpy.tag import Mecab\n",
    "tokenizer = Mecab()\n",
    "stopwords = ['의','가','이','은','들','는','좀','잘','걍','과','도','를','으로','자','에','와','한','하다']\n",
    "\n",
    "def load_data(train_data, test_data, num_words=10000):\n",
    "    train_data.drop_duplicates(subset=['document'], inplace=True)\n",
    "    train_data = train_data.dropna(how = 'any') \n",
    "    test_data.drop_duplicates(subset=['document'], inplace=True)\n",
    "    test_data = test_data.dropna(how = 'any') \n",
    "    \n",
    "    X_train = []\n",
    "    for sentence in train_data['document']:\n",
    "        temp_X = tokenizer.morphs(sentence) # 토큰화\n",
    "        temp_X = [word for word in temp_X if not word in stopwords] # 불용어 제거\n",
    "        X_train.append(temp_X)\n",
    "\n",
    "    X_test = []\n",
    "    for sentence in test_data['document']:\n",
    "        temp_X = tokenizer.morphs(sentence) # 토큰화\n",
    "        temp_X = [word for word in temp_X if not word in stopwords] # 불용어 제거\n",
    "        X_test.append(temp_X)\n",
    "    \n",
    "    words = np.concatenate(X_train).tolist()\n",
    "    counter = Counter(words) \n",
    "    #counter 메서드를 이용하여 카운팅\n",
    "    counter = counter.most_common(10000-4)\n",
    "    vocab = ['<PAD>', '<BOS>', '<UNK>', '<UNUSED>'] + [key for key, _ in counter]\n",
    "    word_to_index = {word:index for index, word in enumerate(vocab)}\n",
    "        \n",
    "    def wordlist_to_indexlist(wordlist):\n",
    "        return [word_to_index[word] if word in word_to_index else word_to_index['<UNK>'] for word in wordlist]\n",
    "        \n",
    "    X_train = list(map(wordlist_to_indexlist, X_train))\n",
    "    X_test = list(map(wordlist_to_indexlist, X_test))\n",
    "        \n",
    "    return X_train, np.array(list(train_data['label'])), X_test, np.array(list(test_data['label'])), word_to_index\n"
   ]
  },
  {
   "cell_type": "code",
   "execution_count": 29,
   "id": "martial-worthy",
   "metadata": {},
   "outputs": [
    {
     "name": "stdout",
     "output_type": "stream",
     "text": [
      "train data 개수: 146182, test data 개수: 49157\n"
     ]
    }
   ],
   "source": [
    "X_train, y_train, X_test, y_test, word_to_index = load_data(train_data, test_data) \n",
    "print(f'train data 개수: {len(X_train)}, test data 개수: {len(X_test)}')"
   ]
  },
  {
   "cell_type": "markdown",
   "id": "identical-tampa",
   "metadata": {},
   "source": [
    "{숫자:단어} 의 딕셔너리 index_to_word 생성한다."
   ]
  },
  {
   "cell_type": "code",
   "execution_count": 30,
   "id": "suspended-forty",
   "metadata": {},
   "outputs": [],
   "source": [
    "index_to_word = {index:word for word, index in word_to_index.items()}"
   ]
  },
  {
   "cell_type": "markdown",
   "id": "talented-chorus",
   "metadata": {},
   "source": [
    "다음의 기능을 수행하는 함수들을 정의한다.\n",
    "\n",
    "\n",
    "* get_encoded_sentence : 문장 1개를 활용할 딕셔너리와 함께 주면, 단어 인덱스 리스트 벡터로 변환해 주는 함수\n",
    "* get_encoded_sentences : 여러 개의 문장 리스트를 한꺼번에 단어 인덱스 리스트 벡터로 encode해 주는 함수\n",
    "* get_decoded_sentence : 숫자 벡터로 encode된 문장을 원래대로 decode하는 함수\n",
    "* get_decoded_sentences : 여러 개의 숫자 벡터로 encode된 문장을 한꺼번에 원래대로 decode하는 함수"
   ]
  },
  {
   "cell_type": "code",
   "execution_count": 31,
   "id": "regulation-midnight",
   "metadata": {},
   "outputs": [],
   "source": [
    "# 문장 1개를 활용할 딕셔너리와 함께 주면, 단어 인덱스 리스트 벡터로 변환해 주는 함수입니다. \n",
    "# 단, 모든 문장은 <BOS>로 시작하는 것으로 합니다. \n",
    "def get_encoded_sentence(sentence, word_to_index):\n",
    "    return [word_to_index['<BOS>']]+[word_to_index[word] if word in word_to_index else word_to_index['<UNK>'] for word in sentence.split()]\n",
    "\n",
    "# 여러 개의 문장 리스트를 한꺼번에 단어 인덱스 리스트 벡터로 encode해 주는 함수입니다. \n",
    "def get_encoded_sentences(sentences, word_to_index):\n",
    "    return [get_encoded_sentence(sentence, word_to_index) for sentence in sentences]\n",
    "\n",
    "# 숫자 벡터로 encode된 문장을 원래대로 decode하는 함수입니다. \n",
    "def get_decoded_sentence(encoded_sentence, index_to_word):\n",
    "    return ' '.join(index_to_word[index] if index in index_to_word else '<UNK>' for index in encoded_sentence[1:])  #[1:]를 통해 <BOS>를 제외\n",
    "\n",
    "# 여러 개의 숫자 벡터로 encode된 문장을 한꺼번에 원래대로 decode하는 함수입니다. \n",
    "def get_decoded_sentences(encoded_sentences, index_to_word):\n",
    "    return [get_decoded_sentence(encoded_sentence, index_to_word) for encoded_sentence in encoded_sentences]"
   ]
  },
  {
   "cell_type": "code",
   "execution_count": 32,
   "id": "certain-scheme",
   "metadata": {},
   "outputs": [
    {
     "name": "stdout",
     "output_type": "stream",
     "text": [
      "[32, 74, 919, 4, 4, 39, 228, 20, 33, 748]\n",
      "더 빙 . . 진짜 짜증 나 네요 목소리\n",
      "라벨:  0\n"
     ]
    }
   ],
   "source": [
    "# 1번째 리뷰데이터\n",
    "print(X_train[0])\n",
    "print(get_decoded_sentence(X_train[0], index_to_word))\n",
    "print('라벨: ', y_train[0])  "
   ]
  },
  {
   "cell_type": "markdown",
   "id": "radio-outdoors",
   "metadata": {},
   "source": [
    "### 3) 모델구성을 위한 데이터 분석 및 가공"
   ]
  },
  {
   "cell_type": "code",
   "execution_count": 33,
   "id": "random-cursor",
   "metadata": {},
   "outputs": [
    {
     "name": "stdout",
     "output_type": "stream",
     "text": [
      "문장길이 평균 :  15.96940191154864\n",
      "문장길이 최대 :  116\n",
      "문장길이 표준편차 :  12.843571191092\n",
      "pad_sequences maxlen :  41\n",
      "전체 문장의 0.9342988343341575%가 maxlen 설정값 이내에 포함됩니다. \n"
     ]
    }
   ],
   "source": [
    "total_data_text = list(X_train) + list(X_test)\n",
    "# 텍스트데이터 문장길이의 리스트를 생성한 후\n",
    "num_tokens = [len(tokens) for tokens in total_data_text]\n",
    "num_tokens = np.array(num_tokens)\n",
    "# 문장길이의 평균값, 최대값, 표준편차를 계산해 본다. \n",
    "print('문장길이 평균 : ', np.mean(num_tokens))\n",
    "print('문장길이 최대 : ', np.max(num_tokens))\n",
    "print('문장길이 표준편차 : ', np.std(num_tokens))\n",
    "\n",
    "# 예를들어, 최대 길이를 (평균 + 2*표준편차)로 한다면,  \n",
    "max_tokens = np.mean(num_tokens) + 2 * np.std(num_tokens)\n",
    "maxlen = int(max_tokens)\n",
    "print('pad_sequences maxlen : ', maxlen)\n",
    "print('전체 문장의 {}%가 maxlen 설정값 이내에 포함됩니다. '.format(np.sum(num_tokens < max_tokens) / len(num_tokens)))"
   ]
  },
  {
   "cell_type": "markdown",
   "id": "distant-expense",
   "metadata": {},
   "source": [
    "* keras.preprocessing.sequence.pad_sequences 을 활용하여 패딩을 추가한다."
   ]
  },
  {
   "cell_type": "code",
   "execution_count": 34,
   "id": "considered-underwear",
   "metadata": {},
   "outputs": [
    {
     "name": "stdout",
     "output_type": "stream",
     "text": [
      "(146182, 41)\n"
     ]
    }
   ],
   "source": [
    "X_train = keras.preprocessing.sequence.pad_sequences(X_train,\n",
    "                                                        value=word_to_index[\"<PAD>\"],\n",
    "                                                        padding='post', # 혹은 'pre'\n",
    "                                                        maxlen=maxlen)\n",
    "\n",
    "X_test = keras.preprocessing.sequence.pad_sequences(X_test,\n",
    "                                                       value=word_to_index[\"<PAD>\"],\n",
    "                                                       padding='post', # 혹은 'pre'\n",
    "                                                       maxlen=maxlen)\n",
    "\n",
    "print(X_train.shape)"
   ]
  },
  {
   "cell_type": "markdown",
   "id": "disabled-clothing",
   "metadata": {},
   "source": [
    "### 4) 모델구성 및 validation set 구성"
   ]
  },
  {
   "cell_type": "markdown",
   "id": "altered-chancellor",
   "metadata": {},
   "source": [
    "1) LSTM"
   ]
  },
  {
   "cell_type": "code",
   "execution_count": 35,
   "id": "blank-station",
   "metadata": {},
   "outputs": [
    {
     "name": "stdout",
     "output_type": "stream",
     "text": [
      "Model: \"sequential_3\"\n",
      "_________________________________________________________________\n",
      "Layer (type)                 Output Shape              Param #   \n",
      "=================================================================\n",
      "embedding_3 (Embedding)      (None, None, 16)          160000    \n",
      "_________________________________________________________________\n",
      "lstm_1 (LSTM)                (None, 8)                 800       \n",
      "_________________________________________________________________\n",
      "dense_6 (Dense)              (None, 8)                 72        \n",
      "_________________________________________________________________\n",
      "dense_7 (Dense)              (None, 1)                 9         \n",
      "=================================================================\n",
      "Total params: 160,881\n",
      "Trainable params: 160,881\n",
      "Non-trainable params: 0\n",
      "_________________________________________________________________\n"
     ]
    }
   ],
   "source": [
    "vocab_size = 10000  # 어휘 사전의 크기입니다(10개의 단어)\n",
    "word_vector_dim = 16  # 단어 하나를 표현하는 임베딩 벡터의 차원수입니다. \n",
    "\n",
    "model_lstm = keras.Sequential()\n",
    "model_lstm.add(keras.layers.Embedding(vocab_size, word_vector_dim, input_shape=(None,)))\n",
    "model_lstm.add(keras.layers.LSTM(8))   # 가장 널리 쓰이는 RNN인 LSTM 레이어를 사용하였습니다. 이때 LSTM state 벡터의 차원수는 8로 하였습니다. (변경 가능)\n",
    "model_lstm.add(keras.layers.Dense(8, activation='relu'))\n",
    "model_lstm.add(keras.layers.Dense(1, activation='sigmoid'))  # 최종 출력은 긍정/부정을 나타내는 1dim 입니다.\n",
    "\n",
    "model_lstm.summary()"
   ]
  },
  {
   "cell_type": "markdown",
   "id": "analyzed-anchor",
   "metadata": {},
   "source": [
    "2) 1-D Convolution Neural Network(1-D CNN)"
   ]
  },
  {
   "cell_type": "markdown",
   "id": "driven-lunch",
   "metadata": {},
   "source": [
    "* 텍스트를 처리하기 위해 RNN이 아니라 1-D Convolution Neural Network(1-D CNN)를 사용할 수도 있습니다.\n",
    "*  CNN 계열은 RNN 계열보다 병렬처리가 효율적이기 때문에 학습 속도도 훨씬 빠르게 진행된다는 장점"
   ]
  },
  {
   "cell_type": "code",
   "execution_count": 36,
   "id": "excess-stand",
   "metadata": {},
   "outputs": [
    {
     "name": "stdout",
     "output_type": "stream",
     "text": [
      "Model: \"sequential_4\"\n",
      "_________________________________________________________________\n",
      "Layer (type)                 Output Shape              Param #   \n",
      "=================================================================\n",
      "embedding_4 (Embedding)      (None, None, 16)          160000    \n",
      "_________________________________________________________________\n",
      "conv1d_2 (Conv1D)            (None, None, 16)          1808      \n",
      "_________________________________________________________________\n",
      "max_pooling1d_1 (MaxPooling1 (None, None, 16)          0         \n",
      "_________________________________________________________________\n",
      "conv1d_3 (Conv1D)            (None, None, 16)          1808      \n",
      "_________________________________________________________________\n",
      "global_max_pooling1d_2 (Glob (None, 16)                0         \n",
      "_________________________________________________________________\n",
      "dense_8 (Dense)              (None, 8)                 136       \n",
      "_________________________________________________________________\n",
      "dense_9 (Dense)              (None, 1)                 9         \n",
      "=================================================================\n",
      "Total params: 163,761\n",
      "Trainable params: 163,761\n",
      "Non-trainable params: 0\n",
      "_________________________________________________________________\n"
     ]
    }
   ],
   "source": [
    "vocab_size = 10000    # 어휘 사전의 크기(10,000개의 단어)\n",
    "word_vector_dim = 16  # 단어 하나를 표현하는 임베딩 벡터의 차원수 (변경가능)\n",
    "\n",
    "\n",
    "model_cnn = keras.Sequential()\n",
    "model_cnn.add(keras.layers.Embedding(vocab_size, word_vector_dim, input_shape=(None,)))\n",
    "model_cnn.add(keras.layers.Conv1D(16, 7, activation='relu'))\n",
    "model_cnn.add(keras.layers.MaxPooling1D(5))\n",
    "model_cnn.add(keras.layers.Conv1D(16, 7, activation='relu'))\n",
    "model_cnn.add(keras.layers.GlobalMaxPooling1D())\n",
    "model_cnn.add(keras.layers.Dense(8, activation='relu'))\n",
    "model_cnn.add(keras.layers.Dense(1, activation='sigmoid'))  # 최종 출력은 긍정/부정을 나타내는 1dim 입니다.\n",
    "\n",
    "model_cnn.summary()"
   ]
  },
  {
   "cell_type": "markdown",
   "id": "boolean-judgment",
   "metadata": {},
   "source": [
    "3)  GlobalMaxPooling1D()"
   ]
  },
  {
   "cell_type": "code",
   "execution_count": 37,
   "id": "biological-spiritual",
   "metadata": {},
   "outputs": [
    {
     "name": "stdout",
     "output_type": "stream",
     "text": [
      "Model: \"sequential_5\"\n",
      "_________________________________________________________________\n",
      "Layer (type)                 Output Shape              Param #   \n",
      "=================================================================\n",
      "embedding_5 (Embedding)      (None, None, 16)          160000    \n",
      "_________________________________________________________________\n",
      "global_max_pooling1d_3 (Glob (None, 16)                0         \n",
      "_________________________________________________________________\n",
      "dense_10 (Dense)             (None, 8)                 136       \n",
      "_________________________________________________________________\n",
      "dense_11 (Dense)             (None, 1)                 9         \n",
      "=================================================================\n",
      "Total params: 160,145\n",
      "Trainable params: 160,145\n",
      "Non-trainable params: 0\n",
      "_________________________________________________________________\n"
     ]
    }
   ],
   "source": [
    "vocab_size = 10000 # 어휘 사전의 크기입니다(10개의 단어)\n",
    "word_vector_dim = 16   # 단어 하나를 표현하는 임베딩 벡터의 차원 수입니다. \n",
    "\n",
    "model_max = keras.Sequential()\n",
    "model_max.add(keras.layers.Embedding(vocab_size, word_vector_dim, input_shape=(None,)))\n",
    "model_max.add(keras.layers.GlobalMaxPooling1D())\n",
    "model_max.add(keras.layers.Dense(8, activation='relu'))\n",
    "model_max.add(keras.layers.Dense(1, activation='sigmoid'))  # 최종 출력은 긍정/부정을 나타내는 1dim 입니다.\n",
    "\n",
    "model_max.summary()"
   ]
  },
  {
   "cell_type": "markdown",
   "id": "documented-zealand",
   "metadata": {},
   "source": [
    "### 5) 모델 훈련 개시"
   ]
  },
  {
   "cell_type": "code",
   "execution_count": 38,
   "id": "buried-occasions",
   "metadata": {},
   "outputs": [
    {
     "name": "stdout",
     "output_type": "stream",
     "text": [
      "(136182, 41)\n",
      "(136182,)\n"
     ]
    }
   ],
   "source": [
    "# validation set 10000건 분리\n",
    "x_val = X_train[:10000]   \n",
    "y_val = y_train[:10000]\n",
    "\n",
    "# validation set을 제외한 나머지 15000건\n",
    "partial_x_train = X_train[10000:]  \n",
    "partial_y_train = y_train[10000:]\n",
    "\n",
    "print(partial_x_train.shape)\n",
    "print(partial_y_train.shape)\n"
   ]
  },
  {
   "cell_type": "code",
   "execution_count": 39,
   "id": "statistical-budapest",
   "metadata": {},
   "outputs": [
    {
     "name": "stdout",
     "output_type": "stream",
     "text": [
      "<class 'numpy.ndarray'>\n"
     ]
    }
   ],
   "source": [
    "print(type(x_val))"
   ]
  },
  {
   "cell_type": "markdown",
   "id": "unauthorized-portuguese",
   "metadata": {},
   "source": [
    "1) LSTM 훈련"
   ]
  },
  {
   "cell_type": "code",
   "execution_count": 40,
   "id": "damaged-montreal",
   "metadata": {},
   "outputs": [
    {
     "name": "stdout",
     "output_type": "stream",
     "text": [
      "Epoch 1/20\n",
      "266/266 [==============================] - 5s 12ms/step - loss: 0.6640 - accuracy: 0.5613 - val_loss: 0.3963 - val_accuracy: 0.8281\n",
      "Epoch 2/20\n",
      "266/266 [==============================] - 3s 10ms/step - loss: 0.3633 - accuracy: 0.8462 - val_loss: 0.3434 - val_accuracy: 0.8477\n",
      "Epoch 3/20\n",
      "266/266 [==============================] - 3s 10ms/step - loss: 0.3187 - accuracy: 0.8650 - val_loss: 0.3389 - val_accuracy: 0.8508\n",
      "Epoch 4/20\n",
      "266/266 [==============================] - 3s 10ms/step - loss: 0.3053 - accuracy: 0.8705 - val_loss: 0.3447 - val_accuracy: 0.8519\n",
      "Epoch 5/20\n",
      "266/266 [==============================] - 3s 10ms/step - loss: 0.2880 - accuracy: 0.8779 - val_loss: 0.3508 - val_accuracy: 0.8495\n",
      "Epoch 6/20\n",
      "266/266 [==============================] - 3s 10ms/step - loss: 0.2769 - accuracy: 0.8803 - val_loss: 0.3585 - val_accuracy: 0.8478\n",
      "Epoch 7/20\n",
      "266/266 [==============================] - 3s 10ms/step - loss: 0.2661 - accuracy: 0.8831 - val_loss: 0.3645 - val_accuracy: 0.8459\n",
      "Epoch 8/20\n",
      "266/266 [==============================] - 3s 10ms/step - loss: 0.2611 - accuracy: 0.8833 - val_loss: 0.3736 - val_accuracy: 0.8491\n",
      "Epoch 9/20\n",
      "266/266 [==============================] - 3s 10ms/step - loss: 0.2562 - accuracy: 0.8864 - val_loss: 0.3856 - val_accuracy: 0.8476\n",
      "Epoch 10/20\n",
      "266/266 [==============================] - 3s 10ms/step - loss: 0.2522 - accuracy: 0.8858 - val_loss: 0.4121 - val_accuracy: 0.8461\n",
      "Epoch 11/20\n",
      "266/266 [==============================] - 3s 10ms/step - loss: 0.2458 - accuracy: 0.8878 - val_loss: 0.3998 - val_accuracy: 0.8495\n",
      "Epoch 12/20\n",
      "266/266 [==============================] - 3s 10ms/step - loss: 0.2393 - accuracy: 0.8893 - val_loss: 0.4086 - val_accuracy: 0.8483\n",
      "Epoch 13/20\n",
      "266/266 [==============================] - 3s 10ms/step - loss: 0.2322 - accuracy: 0.8924 - val_loss: 0.4177 - val_accuracy: 0.8494\n",
      "Epoch 14/20\n",
      "266/266 [==============================] - 3s 10ms/step - loss: 0.2295 - accuracy: 0.8923 - val_loss: 0.4301 - val_accuracy: 0.8467\n",
      "Epoch 15/20\n",
      "266/266 [==============================] - 3s 10ms/step - loss: 0.2238 - accuracy: 0.8934 - val_loss: 0.4321 - val_accuracy: 0.8470\n",
      "Epoch 16/20\n",
      "266/266 [==============================] - 3s 10ms/step - loss: 0.2217 - accuracy: 0.8949 - val_loss: 0.4433 - val_accuracy: 0.8462\n",
      "Epoch 17/20\n",
      "266/266 [==============================] - 3s 10ms/step - loss: 0.2175 - accuracy: 0.8962 - val_loss: 0.4461 - val_accuracy: 0.8461\n",
      "Epoch 18/20\n",
      "266/266 [==============================] - 3s 10ms/step - loss: 0.2108 - accuracy: 0.8993 - val_loss: 0.4565 - val_accuracy: 0.8446\n",
      "Epoch 19/20\n",
      "266/266 [==============================] - 3s 10ms/step - loss: 0.2062 - accuracy: 0.9001 - val_loss: 0.4555 - val_accuracy: 0.8447\n",
      "Epoch 20/20\n",
      "266/266 [==============================] - 3s 10ms/step - loss: 0.2043 - accuracy: 0.9018 - val_loss: 0.4564 - val_accuracy: 0.8434\n"
     ]
    }
   ],
   "source": [
    "model_lstm.compile(optimizer='adam',\n",
    "             loss='binary_crossentropy',\n",
    "             metrics=['accuracy'])\n",
    "\n",
    "epochs = 20\n",
    "\n",
    "history_lstm = model_lstm.fit(partial_x_train,\n",
    "                   partial_y_train,\n",
    "                   epochs=epochs,\n",
    "                   batch_size=512,\n",
    "                   validation_data=(x_val, y_val),\n",
    "                   verbose=1)"
   ]
  },
  {
   "cell_type": "code",
   "execution_count": 41,
   "id": "published-garbage",
   "metadata": {},
   "outputs": [
    {
     "name": "stdout",
     "output_type": "stream",
     "text": [
      "1537/1537 - 5s - loss: 0.4614 - accuracy: 0.8406\n",
      "[0.4613687992095947, 0.8405516743659973]\n"
     ]
    }
   ],
   "source": [
    "results_lstm = model_lstm.evaluate(X_test,  y_test, verbose=2)\n",
    "print(results_lstm)"
   ]
  },
  {
   "cell_type": "markdown",
   "id": "subjective-emergency",
   "metadata": {},
   "source": [
    "2) 1-D Convolution Neural Network(1-D CNN) 훈련"
   ]
  },
  {
   "cell_type": "code",
   "execution_count": 42,
   "id": "nonprofit-playlist",
   "metadata": {},
   "outputs": [
    {
     "name": "stdout",
     "output_type": "stream",
     "text": [
      "Epoch 1/20\n",
      "266/266 [==============================] - 14s 33ms/step - loss: 0.6302 - accuracy: 0.6413 - val_loss: 0.4734 - val_accuracy: 0.8389\n",
      "Epoch 2/20\n",
      "266/266 [==============================] - 2s 8ms/step - loss: 0.4476 - accuracy: 0.8549 - val_loss: 0.4326 - val_accuracy: 0.8493\n",
      "Epoch 3/20\n",
      "266/266 [==============================] - 2s 8ms/step - loss: 0.3916 - accuracy: 0.8744 - val_loss: 0.4156 - val_accuracy: 0.8494\n",
      "Epoch 4/20\n",
      "266/266 [==============================] - 2s 8ms/step - loss: 0.3523 - accuracy: 0.8870 - val_loss: 0.4022 - val_accuracy: 0.8505\n",
      "Epoch 5/20\n",
      "266/266 [==============================] - 2s 8ms/step - loss: 0.3119 - accuracy: 0.9033 - val_loss: 0.3992 - val_accuracy: 0.8481\n",
      "Epoch 6/20\n",
      "266/266 [==============================] - 2s 8ms/step - loss: 0.2775 - accuracy: 0.9163 - val_loss: 0.4060 - val_accuracy: 0.8453\n",
      "Epoch 7/20\n",
      "266/266 [==============================] - 2s 8ms/step - loss: 0.2492 - accuracy: 0.9274 - val_loss: 0.4220 - val_accuracy: 0.8437\n",
      "Epoch 8/20\n",
      "266/266 [==============================] - 2s 8ms/step - loss: 0.2255 - accuracy: 0.9353 - val_loss: 0.4382 - val_accuracy: 0.8398\n",
      "Epoch 9/20\n",
      "266/266 [==============================] - 2s 8ms/step - loss: 0.2061 - accuracy: 0.9416 - val_loss: 0.4954 - val_accuracy: 0.8382\n",
      "Epoch 10/20\n",
      "266/266 [==============================] - 2s 8ms/step - loss: 0.1897 - accuracy: 0.9470 - val_loss: 0.4865 - val_accuracy: 0.8368\n",
      "Epoch 11/20\n",
      "266/266 [==============================] - 2s 8ms/step - loss: 0.1782 - accuracy: 0.9507 - val_loss: 0.5239 - val_accuracy: 0.8381\n",
      "Epoch 12/20\n",
      "266/266 [==============================] - 2s 8ms/step - loss: 0.1683 - accuracy: 0.9529 - val_loss: 0.5432 - val_accuracy: 0.8360\n",
      "Epoch 13/20\n",
      "266/266 [==============================] - 2s 8ms/step - loss: 0.1611 - accuracy: 0.9551 - val_loss: 0.5610 - val_accuracy: 0.8339\n",
      "Epoch 14/20\n",
      "266/266 [==============================] - 2s 8ms/step - loss: 0.1551 - accuracy: 0.9566 - val_loss: 0.5892 - val_accuracy: 0.8360\n",
      "Epoch 15/20\n",
      "266/266 [==============================] - 2s 8ms/step - loss: 0.1503 - accuracy: 0.9578 - val_loss: 0.6160 - val_accuracy: 0.8357\n",
      "Epoch 16/20\n",
      "266/266 [==============================] - 2s 8ms/step - loss: 0.1492 - accuracy: 0.9583 - val_loss: 0.6733 - val_accuracy: 0.8354\n",
      "Epoch 17/20\n",
      "266/266 [==============================] - 2s 8ms/step - loss: 0.1462 - accuracy: 0.9588 - val_loss: 0.6618 - val_accuracy: 0.8335\n",
      "Epoch 18/20\n",
      "266/266 [==============================] - 2s 8ms/step - loss: 0.1420 - accuracy: 0.9604 - val_loss: 0.6946 - val_accuracy: 0.8352\n",
      "Epoch 19/20\n",
      "266/266 [==============================] - 2s 8ms/step - loss: 0.1370 - accuracy: 0.9621 - val_loss: 0.6925 - val_accuracy: 0.8328\n",
      "Epoch 20/20\n",
      "266/266 [==============================] - 2s 8ms/step - loss: 0.1368 - accuracy: 0.9618 - val_loss: 0.7310 - val_accuracy: 0.8339\n"
     ]
    }
   ],
   "source": [
    "model_cnn.compile(optimizer='adam',\n",
    "             loss='binary_crossentropy',\n",
    "             metrics=['accuracy'])\n",
    "\n",
    "epochs=20\n",
    "\n",
    "history_cnn = model_cnn.fit(partial_x_train,\n",
    "                   partial_y_train,\n",
    "                   epochs=epochs,\n",
    "                   batch_size=512,\n",
    "                   validation_data=(x_val, y_val),\n",
    "                   verbose=1)"
   ]
  },
  {
   "cell_type": "code",
   "execution_count": 43,
   "id": "dying-asbestos",
   "metadata": {},
   "outputs": [
    {
     "name": "stdout",
     "output_type": "stream",
     "text": [
      "1537/1537 - 6s - loss: 0.7284 - accuracy: 0.8304\n",
      "[0.7283788919448853, 0.8303598761558533]\n"
     ]
    }
   ],
   "source": [
    "results_cnn = model_cnn.evaluate(X_test,  y_test, verbose=2)\n",
    "print(results_cnn)"
   ]
  },
  {
   "cell_type": "markdown",
   "id": "acknowledged-highland",
   "metadata": {},
   "source": [
    "3) GlobalMaxPooling1D() 훈련"
   ]
  },
  {
   "cell_type": "code",
   "execution_count": 44,
   "id": "champion-hunter",
   "metadata": {},
   "outputs": [
    {
     "name": "stdout",
     "output_type": "stream",
     "text": [
      "Epoch 1/20\n",
      "266/266 [==============================] - 2s 6ms/step - loss: 0.6455 - accuracy: 0.7006 - val_loss: 0.4003 - val_accuracy: 0.8301\n",
      "Epoch 2/20\n",
      "266/266 [==============================] - 2s 6ms/step - loss: 0.3760 - accuracy: 0.8395 - val_loss: 0.3522 - val_accuracy: 0.8433\n",
      "Epoch 3/20\n",
      "266/266 [==============================] - 2s 6ms/step - loss: 0.3222 - accuracy: 0.8644 - val_loss: 0.3447 - val_accuracy: 0.8486\n",
      "Epoch 4/20\n",
      "266/266 [==============================] - 2s 6ms/step - loss: 0.2939 - accuracy: 0.8783 - val_loss: 0.3459 - val_accuracy: 0.8496\n",
      "Epoch 5/20\n",
      "266/266 [==============================] - 2s 6ms/step - loss: 0.2698 - accuracy: 0.8902 - val_loss: 0.3502 - val_accuracy: 0.8474\n",
      "Epoch 6/20\n",
      "266/266 [==============================] - 2s 6ms/step - loss: 0.2576 - accuracy: 0.8964 - val_loss: 0.3577 - val_accuracy: 0.8484\n",
      "Epoch 7/20\n",
      "266/266 [==============================] - 2s 6ms/step - loss: 0.2443 - accuracy: 0.9015 - val_loss: 0.3658 - val_accuracy: 0.8479\n",
      "Epoch 8/20\n",
      "266/266 [==============================] - 1s 6ms/step - loss: 0.2302 - accuracy: 0.9084 - val_loss: 0.3757 - val_accuracy: 0.8463\n",
      "Epoch 9/20\n",
      "266/266 [==============================] - 2s 6ms/step - loss: 0.2197 - accuracy: 0.9141 - val_loss: 0.3867 - val_accuracy: 0.8454\n",
      "Epoch 10/20\n",
      "266/266 [==============================] - 2s 6ms/step - loss: 0.2100 - accuracy: 0.9188 - val_loss: 0.3945 - val_accuracy: 0.8448\n",
      "Epoch 11/20\n",
      "266/266 [==============================] - 2s 6ms/step - loss: 0.1969 - accuracy: 0.9250 - val_loss: 0.4052 - val_accuracy: 0.8417\n",
      "Epoch 12/20\n",
      "266/266 [==============================] - 2s 6ms/step - loss: 0.1923 - accuracy: 0.9277 - val_loss: 0.4182 - val_accuracy: 0.8405\n",
      "Epoch 13/20\n",
      "266/266 [==============================] - 2s 6ms/step - loss: 0.1838 - accuracy: 0.9315 - val_loss: 0.4288 - val_accuracy: 0.8399\n",
      "Epoch 14/20\n",
      "266/266 [==============================] - 1s 6ms/step - loss: 0.1759 - accuracy: 0.9356 - val_loss: 0.4406 - val_accuracy: 0.8385\n",
      "Epoch 15/20\n",
      "266/266 [==============================] - 2s 6ms/step - loss: 0.1705 - accuracy: 0.9378 - val_loss: 0.4508 - val_accuracy: 0.8405\n",
      "Epoch 16/20\n",
      "266/266 [==============================] - 2s 6ms/step - loss: 0.1632 - accuracy: 0.9416 - val_loss: 0.4632 - val_accuracy: 0.8365\n",
      "Epoch 17/20\n",
      "266/266 [==============================] - 2s 6ms/step - loss: 0.1612 - accuracy: 0.9427 - val_loss: 0.4751 - val_accuracy: 0.8360\n",
      "Epoch 18/20\n",
      "266/266 [==============================] - 2s 6ms/step - loss: 0.1542 - accuracy: 0.9455 - val_loss: 0.4856 - val_accuracy: 0.8349\n",
      "Epoch 19/20\n",
      "266/266 [==============================] - 2s 6ms/step - loss: 0.1510 - accuracy: 0.9465 - val_loss: 0.4984 - val_accuracy: 0.8352\n",
      "Epoch 20/20\n",
      "266/266 [==============================] - 2s 6ms/step - loss: 0.1448 - accuracy: 0.9494 - val_loss: 0.5097 - val_accuracy: 0.8324\n"
     ]
    }
   ],
   "source": [
    "model_max.compile(optimizer='adam',\n",
    "             loss='binary_crossentropy',\n",
    "             metrics=['accuracy'])\n",
    "\n",
    "epochs=20\n",
    "\n",
    "history_max = model_max.fit(partial_x_train,\n",
    "                   partial_y_train,\n",
    "                   epochs=epochs,\n",
    "                   batch_size=512,\n",
    "                   validation_data=(x_val, y_val),\n",
    "                   verbose=1)"
   ]
  },
  {
   "cell_type": "code",
   "execution_count": 45,
   "id": "loved-investor",
   "metadata": {},
   "outputs": [
    {
     "name": "stdout",
     "output_type": "stream",
     "text": [
      "1537/1537 - 2s - loss: 0.5207 - accuracy: 0.8264\n",
      "[0.5207210183143616, 0.8263522982597351]\n"
     ]
    }
   ],
   "source": [
    "results_max = model_max.evaluate(X_test,  y_test, verbose=2)\n",
    "print(results_max)"
   ]
  },
  {
   "cell_type": "markdown",
   "id": "million-emphasis",
   "metadata": {},
   "source": [
    "### 6) Loss, Accuracy 그래프 시각화"
   ]
  },
  {
   "cell_type": "markdown",
   "id": "mental-receiver",
   "metadata": {},
   "source": [
    "1) LSTM 시각화"
   ]
  },
  {
   "cell_type": "code",
   "execution_count": 46,
   "id": "pleased-sheet",
   "metadata": {},
   "outputs": [
    {
     "data": {
      "image/png": "[encoded data removed]",
      "text/plain": [
       "<Figure size 576x288 with 2 Axes>"
      ]
     },
     "metadata": {
      "needs_background": "light"
     },
     "output_type": "display_data"
    }
   ],
   "source": [
    "history_dict_lstm = history_lstm.history\n",
    "acc = history_dict_lstm['accuracy']\n",
    "val_acc = history_dict_lstm['val_accuracy']\n",
    "loss = history_dict_lstm['loss']\n",
    "val_loss = history_dict_lstm['val_loss']\n",
    "\n",
    "epochs = range(1, len(acc) + 1)\n",
    "\n",
    "plt.figure(figsize=(8, 4))\n",
    "plt.subplot(1, 2, 1)\n",
    "plt.plot(epochs, acc, label='Accuracy')\n",
    "plt.plot(epochs, val_acc, 'red', label='Val_Accuracy')\n",
    "plt.legend(loc='lower right')\n",
    "plt.title('Accuracy')\n",
    "plt.xlabel('Epochs')\n",
    "plt.ylabel('Accuracy')\n",
    "\n",
    "plt.subplot(1, 2, 2)\n",
    "plt.plot(epochs, loss, label='Loss')\n",
    "plt.plot(epochs, val_loss, 'red', label='Val_Loss')\n",
    "plt.legend(loc='upper right')\n",
    "plt.title('Loss')\n",
    "plt.xlabel('Epochs')\n",
    "plt.ylabel('Loss')\n",
    "plt.show()"
   ]
  },
  {
   "cell_type": "markdown",
   "id": "incorporate-accommodation",
   "metadata": {},
   "source": [
    "2) 1-D Conv 시각화"
   ]
  },
  {
   "cell_type": "code",
   "execution_count": 47,
   "id": "handed-joint",
   "metadata": {},
   "outputs": [
    {
     "data": {
      "image/png": "[encoded data removed]",
      "text/plain": [
       "<Figure size 576x288 with 2 Axes>"
      ]
     },
     "metadata": {
      "needs_background": "light"
     },
     "output_type": "display_data"
    }
   ],
   "source": [
    "history_dict_cnn  = history_cnn.history\n",
    "acc = history_dict_cnn ['accuracy']\n",
    "val_acc = history_dict_cnn['val_accuracy']\n",
    "loss = history_dict_cnn['loss']\n",
    "val_loss = history_dict_cnn['val_loss']\n",
    "\n",
    "epochs = range(1, len(acc) + 1)\n",
    "\n",
    "plt.figure(figsize=(8, 4))\n",
    "plt.subplot(1, 2, 1)\n",
    "plt.plot(epochs, acc, label='Accuracy')\n",
    "plt.plot(epochs, val_acc, 'red', label='Val_Accuracy')\n",
    "plt.legend(loc='lower right')\n",
    "plt.title('Accuracy')\n",
    "plt.xlabel('Epochs')\n",
    "plt.ylabel('Accuracy')\n",
    "\n",
    "plt.subplot(1, 2, 2)\n",
    "plt.plot(epochs, loss, label='Loss')\n",
    "plt.plot(epochs, val_loss, 'red', label='Val_Loss')\n",
    "plt.legend(loc='upper right')\n",
    "plt.title('Loss')\n",
    "plt.xlabel('Epochs')\n",
    "plt.ylabel('Loss')\n",
    "plt.show()"
   ]
  },
  {
   "cell_type": "markdown",
   "id": "imperial-balance",
   "metadata": {},
   "source": [
    "3) GlobalMaxPooling 시각화"
   ]
  },
  {
   "cell_type": "code",
   "execution_count": 48,
   "id": "underlying-trace",
   "metadata": {
    "scrolled": false
   },
   "outputs": [
    {
     "data": {
      "image/png": "[encoded data removed]",
      "text/plain": [
       "<Figure size 576x288 with 2 Axes>"
      ]
     },
     "metadata": {
      "needs_background": "light"
     },
     "output_type": "display_data"
    }
   ],
   "source": [
    "history_dict_max = history_max.history\n",
    "acc = history_dict_max['accuracy']\n",
    "val_acc = history_dict_max['val_accuracy']\n",
    "loss = history_dict_max['loss']\n",
    "val_loss = history_dict_max['val_loss']\n",
    "\n",
    "epochs = range(1, len(acc) + 1)\n",
    "\n",
    "plt.figure(figsize=(8, 4))\n",
    "plt.subplot(1, 2, 1)\n",
    "plt.plot(epochs, acc, label='Accuracy')\n",
    "plt.plot(epochs, val_acc, 'red', label='Val_Accuracy')\n",
    "plt.legend(loc='lower right')\n",
    "plt.title('Accuracy')\n",
    "plt.xlabel('Epochs')\n",
    "plt.ylabel('Accuracy')\n",
    "\n",
    "plt.subplot(1, 2, 2)\n",
    "plt.plot(epochs, loss, label='Loss')\n",
    "plt.plot(epochs, val_loss, 'red', label='Val_Loss')\n",
    "plt.legend(loc='upper right')\n",
    "plt.title('Loss')\n",
    "plt.xlabel('Epochs')\n",
    "plt.ylabel('Loss')\n",
    "plt.show()"
   ]
  },
  {
   "cell_type": "markdown",
   "id": "supposed-andorra",
   "metadata": {},
   "source": [
    "#### 훈련 결과\n",
    "epoch을 20으로 주고 확인결과 \n",
    "* LSTM : 0.8406\n",
    "* 1-D CNN : 0.8304 \n",
    "* MaxPooling : 0.8264\n",
    "\n",
    "따라서 accuracy에 의한 성능은 **LSTM이 가장 좋았다.**\n",
    "\n"
   ]
  },
  {
   "cell_type": "markdown",
   "id": "refined-orleans",
   "metadata": {},
   "source": [
    "### 7)  학습된 Embedding 레이어 분석"
   ]
  },
  {
   "cell_type": "code",
   "execution_count": 49,
   "id": "olympic-contributor",
   "metadata": {
    "scrolled": true
   },
   "outputs": [
    {
     "name": "stdout",
     "output_type": "stream",
     "text": [
      "(10000, 16)\n"
     ]
    }
   ],
   "source": [
    "embedding_layer = model_lstm.layers[0]\n",
    "weights = embedding_layer.get_weights()[0]\n",
    "print(weights.shape)    # shape: (vocab_size, embedding_dim)"
   ]
  },
  {
   "cell_type": "code",
   "execution_count": 50,
   "id": "further-barbados",
   "metadata": {},
   "outputs": [],
   "source": [
    "import os\n",
    "\n",
    "# 학습한 Embedding 파라미터를 파일에 써서 저장\n",
    "word2vec_file_path = os.getenv('HOME')+'/aiffel/LMS/sentiment_classification/data/word2vec_project.txt'\n",
    "f = open(word2vec_file_path, 'w')\n",
    "f.write('{} {}\\n'.format(vocab_size-4, word_vector_dim))  # 몇개의 벡터를 얼마 사이즈로 기재할지 타이틀을 씁니다.\n",
    "\n",
    "# 단어 개수(특수문자 4개는 제외)만큼의 워드 벡터를 파일에 기록\n",
    "vectors = model_lstm.get_weights()[0]\n",
    "for i in range(4,vocab_size):\n",
    "    f.write('{} {}\\n'.format(index_to_word[i], ' '.join(map(str, list(vectors[i, :])))))\n",
    "f.close()"
   ]
  },
  {
   "cell_type": "code",
   "execution_count": 51,
   "id": "current-burning",
   "metadata": {},
   "outputs": [
    {
     "data": {
      "text/plain": [
       "[('멋지', 0.9568766355514526),\n",
       " ('베를린', 0.9399263858795166),\n",
       " ('본방', 0.937951922416687),\n",
       " ('맬', 0.9373687505722046),\n",
       " ('은근', 0.9365289211273193),\n",
       " ('H', 0.9320493936538696),\n",
       " ('애절', 0.9319084882736206),\n",
       " ('따뜻', 0.9308945536613464),\n",
       " ('뛰어났', 0.9291821122169495),\n",
       " ('유쾌', 0.929126501083374)]"
      ]
     },
     "execution_count": 51,
     "metadata": {},
     "output_type": "execute_result"
    }
   ],
   "source": [
    "from gensim.models.keyedvectors import Word2VecKeyedVectors\n",
    "\n",
    "word_vectors = Word2VecKeyedVectors.load_word2vec_format(word2vec_file_path, binary=False)\n",
    "\n",
    "word_vectors.similar_by_word(\"사랑\")"
   ]
  },
  {
   "cell_type": "code",
   "execution_count": 52,
   "id": "handmade-prototype",
   "metadata": {},
   "outputs": [
    {
     "data": {
      "text/plain": [
       "[('저리', 0.8268165588378906),\n",
       " ('묘사', 0.7915400266647339),\n",
       " ('전해', 0.7848656177520752),\n",
       " ('인칭', 0.7789567112922668),\n",
       " ('아름다움', 0.7789373397827148),\n",
       " ('선언', 0.770919919013977),\n",
       " ('특수', 0.7617721557617188),\n",
       " ('넘어선', 0.7590972781181335),\n",
       " ('로멘', 0.7585985064506531),\n",
       " ('건물', 0.7527547478675842)]"
      ]
     },
     "execution_count": 52,
     "metadata": {},
     "output_type": "execute_result"
    }
   ],
   "source": [
    "word_vectors.similar_by_word(\"액션\")"
   ]
  },
  {
   "cell_type": "markdown",
   "id": "passing-corps",
   "metadata": {},
   "source": [
    "### 8) 한국어 Word2Vec 임베딩 활용하여 성능개선"
   ]
  },
  {
   "cell_type": "code",
   "execution_count": 53,
   "id": "blond-region",
   "metadata": {},
   "outputs": [
    {
     "name": "stdout",
     "output_type": "stream",
     "text": [
      "Collecting gensim==3.8.1\n",
      "  Downloading gensim-3.8.1-cp37-cp37m-manylinux1_x86_64.whl (24.2 MB)\n",
      "\u001b[K     |████████████████████████████████| 24.2 MB 24.9 MB/s eta 0:00:01\n",
      "\u001b[?25hRequirement already satisfied: smart-open>=1.8.1 in /opt/conda/lib/python3.7/site-packages (from gensim==3.8.1) (4.1.2)\n",
      "Requirement already satisfied: six>=1.5.0 in /opt/conda/lib/python3.7/site-packages (from gensim==3.8.1) (1.15.0)\n",
      "Requirement already satisfied: scipy>=0.18.1 in /opt/conda/lib/python3.7/site-packages (from gensim==3.8.1) (1.4.1)\n",
      "Requirement already satisfied: numpy>=1.11.3 in /opt/conda/lib/python3.7/site-packages (from gensim==3.8.1) (1.19.5)\n",
      "Installing collected packages: gensim\n",
      "  Attempting uninstall: gensim\n",
      "    Found existing installation: gensim 4.0.1\n",
      "    Uninstalling gensim-4.0.1:\n",
      "      Successfully uninstalled gensim-4.0.1\n",
      "Successfully installed gensim-3.8.1\n",
      "\u001b[33mWARNING: You are using pip version 20.3.3; however, version 21.3.1 is available.\n",
      "You should consider upgrading via the '/opt/conda/bin/python -m pip install --upgrade pip' command.\u001b[0m\n",
      "Note: you may need to restart the kernel to use updated packages.\n"
     ]
    }
   ],
   "source": [
    "pip install gensim==3.8.1"
   ]
  },
  {
   "cell_type": "code",
   "execution_count": 53,
   "id": "silver-rachel",
   "metadata": {},
   "outputs": [
    {
     "data": {
      "text/plain": [
       "'3.8.1'"
      ]
     },
     "execution_count": 53,
     "metadata": {},
     "output_type": "execute_result"
    }
   ],
   "source": [
    "import gensim\n",
    "gensim.__version__"
   ]
  },
  {
   "cell_type": "code",
   "execution_count": 54,
   "id": "elder-harbor",
   "metadata": {},
   "outputs": [
    {
     "name": "stderr",
     "output_type": "stream",
     "text": [
      "/opt/conda/lib/python3.7/site-packages/ipykernel_launcher.py:5: DeprecationWarning: Call to deprecated `__getitem__` (Method will be removed in 4.0.0, use self.wv.__getitem__() instead).\n",
      "  \"\"\"\n"
     ]
    },
    {
     "data": {
      "text/plain": [
       "(200,)"
      ]
     },
     "execution_count": 54,
     "metadata": {},
     "output_type": "execute_result"
    }
   ],
   "source": [
    "import gensim\n",
    "from gensim.models.keyedvectors import Word2VecKeyedVectors\n",
    "word2vec_path = os.getenv('HOME')+'/aiffel/LMS/sentiment_classification/data/ko.bin'\n",
    "word2vec = gensim.models.Word2Vec.load(word2vec_path)\n",
    "vector = word2vec['사랑']\n",
    "vector.shape\n"
   ]
  },
  {
   "cell_type": "code",
   "execution_count": 55,
   "id": "returning-machinery",
   "metadata": {},
   "outputs": [
    {
     "name": "stderr",
     "output_type": "stream",
     "text": [
      "/opt/conda/lib/python3.7/site-packages/ipykernel_launcher.py:1: DeprecationWarning: Call to deprecated `similar_by_word` (Method will be removed in 4.0.0, use self.wv.similar_by_word() instead).\n",
      "  \"\"\"Entry point for launching an IPython kernel.\n"
     ]
    },
    {
     "data": {
      "text/plain": [
       "[('답답', 0.7367106676101685),\n",
       " ('편안', 0.7046725749969482),\n",
       " ('솔직', 0.689364492893219),\n",
       " ('쓸쓸', 0.6880695819854736),\n",
       " ('차분', 0.6868932247161865),\n",
       " ('조용', 0.6765609383583069),\n",
       " ('냉정', 0.6706622838973999),\n",
       " ('자유분방', 0.6680829524993896),\n",
       " ('피곤', 0.6597293019294739),\n",
       " ('느긋', 0.659047544002533)]"
      ]
     },
     "execution_count": 55,
     "metadata": {},
     "output_type": "execute_result"
    }
   ],
   "source": [
    "word2vec.similar_by_word(\"지루\")"
   ]
  },
  {
   "cell_type": "code",
   "execution_count": 56,
   "id": "romance-transmission",
   "metadata": {},
   "outputs": [
    {
     "name": "stderr",
     "output_type": "stream",
     "text": [
      "/opt/conda/lib/python3.7/site-packages/ipykernel_launcher.py:7: DeprecationWarning: Call to deprecated `__contains__` (Method will be removed in 4.0.0, use self.wv.__contains__() instead).\n",
      "  import sys\n",
      "/opt/conda/lib/python3.7/site-packages/ipykernel_launcher.py:8: DeprecationWarning: Call to deprecated `__getitem__` (Method will be removed in 4.0.0, use self.wv.__getitem__() instead).\n",
      "  \n"
     ]
    }
   ],
   "source": [
    "vocab_size = 10000    # 어휘 사전의 크기입니다(10,000개의 단어)\n",
    "word_vector_dim = 200  # 워드 벡터의 차원수\n",
    "embedding_matrix = np.random.rand(vocab_size, word_vector_dim)\n",
    "\n",
    "# embedding_matrix에 Word2Vec 워드 벡터를 단어 하나씩마다 차례차례 카피한다.\n",
    "for i in range(4,vocab_size):\n",
    "    if index_to_word[i] in word2vec:\n",
    "        embedding_matrix[i] = word2vec[index_to_word[i]]"
   ]
  },
  {
   "cell_type": "code",
   "execution_count": 57,
   "id": "described-timing",
   "metadata": {},
   "outputs": [
    {
     "name": "stdout",
     "output_type": "stream",
     "text": [
      "Model: \"sequential_6\"\n",
      "_________________________________________________________________\n",
      "Layer (type)                 Output Shape              Param #   \n",
      "=================================================================\n",
      "embedding_6 (Embedding)      (None, 41, 200)           2000000   \n",
      "_________________________________________________________________\n",
      "lstm_2 (LSTM)                (None, 128)               168448    \n",
      "_________________________________________________________________\n",
      "dense_12 (Dense)             (None, 8)                 1032      \n",
      "_________________________________________________________________\n",
      "dense_13 (Dense)             (None, 1)                 9         \n",
      "=================================================================\n",
      "Total params: 2,169,489\n",
      "Trainable params: 2,169,489\n",
      "Non-trainable params: 0\n",
      "_________________________________________________________________\n"
     ]
    }
   ],
   "source": [
    "from tensorflow.keras.initializers import Constant\n",
    "model_ko = keras.Sequential()\n",
    "\n",
    "model_ko.add(keras.layers.Embedding(vocab_size, \n",
    "                                 word_vector_dim, \n",
    "                                 embeddings_initializer=Constant(embedding_matrix),  # 카피한 임베딩을 여기서 활용\n",
    "                                 input_length=maxlen, \n",
    "                                 trainable=True)) \n",
    "model_ko.add(keras.layers.LSTM(128))   # 가장 널리 쓰이는 RNN인 LSTM 레이어를 사용하였습니다. 이때 LSTM state 벡터의 차원수는 8로 하였습니다. (변경 가능)\n",
    "model_ko.add(keras.layers.Dense(8, activation='relu'))\n",
    "model_ko.add(keras.layers.Dense(1, activation='sigmoid'))  # 최종 출력은 긍정/부정을 나타내는 1dim 입니다.\n",
    "\n",
    "model_ko.summary()"
   ]
  },
  {
   "cell_type": "code",
   "execution_count": 61,
   "id": "crucial-canyon",
   "metadata": {},
   "outputs": [
    {
     "name": "stdout",
     "output_type": "stream",
     "text": [
      "Epoch 1/20\n",
      "266/266 [==============================] - 15s 50ms/step - loss: 0.0488 - accuracy: 0.9831 - val_loss: 0.7120 - val_accuracy: 0.8485\n",
      "Epoch 2/20\n",
      "266/266 [==============================] - 13s 48ms/step - loss: 0.0427 - accuracy: 0.9852 - val_loss: 0.7508 - val_accuracy: 0.8477\n",
      "Epoch 3/20\n",
      "266/266 [==============================] - 13s 48ms/step - loss: 0.0382 - accuracy: 0.9868 - val_loss: 0.7670 - val_accuracy: 0.8507\n",
      "Epoch 4/20\n",
      "266/266 [==============================] - 13s 48ms/step - loss: 0.0353 - accuracy: 0.9872 - val_loss: 0.7487 - val_accuracy: 0.8479\n",
      "Epoch 5/20\n",
      "266/266 [==============================] - 13s 48ms/step - loss: 0.0344 - accuracy: 0.9876 - val_loss: 0.7737 - val_accuracy: 0.8485\n",
      "Epoch 6/20\n",
      "266/266 [==============================] - 13s 48ms/step - loss: 0.0308 - accuracy: 0.9888 - val_loss: 0.7570 - val_accuracy: 0.8497\n",
      "Epoch 7/20\n",
      "266/266 [==============================] - 13s 48ms/step - loss: 0.0306 - accuracy: 0.9889 - val_loss: 0.7989 - val_accuracy: 0.8473\n",
      "Epoch 8/20\n",
      "266/266 [==============================] - 13s 48ms/step - loss: 0.0298 - accuracy: 0.9892 - val_loss: 0.8156 - val_accuracy: 0.8469\n",
      "Epoch 9/20\n",
      "266/266 [==============================] - 13s 48ms/step - loss: 0.0285 - accuracy: 0.9900 - val_loss: 0.8368 - val_accuracy: 0.8437\n",
      "Epoch 10/20\n",
      "266/266 [==============================] - 13s 48ms/step - loss: 0.0265 - accuracy: 0.9906 - val_loss: 0.8559 - val_accuracy: 0.8446\n",
      "Epoch 11/20\n",
      "266/266 [==============================] - 13s 48ms/step - loss: 0.0233 - accuracy: 0.9917 - val_loss: 0.8725 - val_accuracy: 0.8476\n",
      "Epoch 12/20\n",
      "266/266 [==============================] - 13s 48ms/step - loss: 0.0211 - accuracy: 0.9925 - val_loss: 0.8879 - val_accuracy: 0.8465\n",
      "Epoch 13/20\n",
      "266/266 [==============================] - 13s 48ms/step - loss: 0.0230 - accuracy: 0.9916 - val_loss: 0.9632 - val_accuracy: 0.8457\n",
      "Epoch 14/20\n",
      "266/266 [==============================] - 13s 48ms/step - loss: 0.0215 - accuracy: 0.9923 - val_loss: 0.9226 - val_accuracy: 0.8494\n",
      "Epoch 15/20\n",
      "266/266 [==============================] - 13s 48ms/step - loss: 0.0211 - accuracy: 0.9921 - val_loss: 0.9612 - val_accuracy: 0.8433\n",
      "Epoch 16/20\n",
      "266/266 [==============================] - 13s 48ms/step - loss: 0.0191 - accuracy: 0.9930 - val_loss: 0.9286 - val_accuracy: 0.8454\n",
      "Epoch 17/20\n",
      "266/266 [==============================] - 13s 48ms/step - loss: 0.0208 - accuracy: 0.9924 - val_loss: 1.0676 - val_accuracy: 0.8443\n",
      "Epoch 18/20\n",
      "266/266 [==============================] - 13s 48ms/step - loss: 0.0193 - accuracy: 0.9931 - val_loss: 0.9855 - val_accuracy: 0.8489\n",
      "Epoch 19/20\n",
      "266/266 [==============================] - 13s 48ms/step - loss: 0.0185 - accuracy: 0.9934 - val_loss: 0.9645 - val_accuracy: 0.8469\n",
      "Epoch 20/20\n",
      "266/266 [==============================] - 13s 48ms/step - loss: 0.0180 - accuracy: 0.9932 - val_loss: 1.0033 - val_accuracy: 0.8473\n"
     ]
    }
   ],
   "source": [
    "# 학습의 진행\n",
    "model_ko.compile(optimizer='adam',\n",
    "              loss='binary_crossentropy',\n",
    "              metrics=['accuracy'])\n",
    "              \n",
    "epochs=20  # 몇 epoch를 훈련하면 좋을지 결과를 보면서 바꾸어 봅시다. \n",
    "\n",
    "history_ko = model_ko.fit(partial_x_train,\n",
    "                    partial_y_train,\n",
    "                    epochs=epochs,\n",
    "                    batch_size=512,\n",
    "                    validation_data=(x_val, y_val),\n",
    "                    verbose=1)"
   ]
  },
  {
   "cell_type": "markdown",
   "id": "geological-thriller",
   "metadata": {},
   "source": [
    "결과적으로...  \n",
    "Word2Vec를 사용하였을 때 기존의 임베딩에서 LSTM으로 동일한 학습을 진행했던 것 보다 정확도가 상승하였다.  \n",
    "LSTM의 Accuracy : 0.8406(기존의 임베딩) -> 0.8514(Word2Vec 사용 시)"
   ]
  },
  {
   "cell_type": "code",
   "execution_count": 62,
   "id": "sacred-green",
   "metadata": {},
   "outputs": [
    {
     "name": "stdout",
     "output_type": "stream",
     "text": [
      "1537/1537 - 6s - loss: 0.9812 - accuracy: 0.8493\n",
      "[0.9812068343162537, 0.8492991924285889]\n"
     ]
    }
   ],
   "source": [
    "# 테스트셋을 통한 모델 평가\n",
    "results_ko = model_ko.evaluate(X_test,  y_test, verbose=2)\n",
    "\n",
    "print(results_ko)"
   ]
  },
  {
   "cell_type": "markdown",
   "id": "soviet-analyst",
   "metadata": {},
   "source": [
    "# Step 3. 결과정리 "
   ]
  },
  {
   "cell_type": "markdown",
   "id": "suburban-tender",
   "metadata": {},
   "source": [
    "###  <Step 1. SentencePiece를 이용한 감정분석>의 과정 \n",
    "1. 네이버 영화리뷰 데이터를 다운 받아 전처리 과정을 거쳤습니다. 학습에 노이즈가 생기지 않게 중복 값을 제거 해주고  \n",
    "   작은 문장들 역시 학습에 방해되어 10~150 길이의 문장만 선택하였습니다.\n",
    "2. SentencePiece를 적용시킨 모델로 sp_tokenize() 메소드를 구현하여 모델을 학습\n",
    "3. 데이터를 validation과 train으로 분리해줍니다.\n",
    "4. LSTM,MaxPooling,1-D CNN 세가지 모델을 사용하여 학습한 후 가장 정확도가 좋은 모델을 결정\n",
    "5. 모델 테스트 결과 **1-D CNN이 약 0.85**로 가장 높은 정확도를 보였습니다.\n"
   ]
  },
  {
   "cell_type": "markdown",
   "id": "italic-nightmare",
   "metadata": {},
   "source": [
    "### <Step 2. 추가 분석 KoNLPy 형태소 분석기를 사용한 모델>의 과정"
   ]
  },
  {
   "cell_type": "markdown",
   "id": "figured-board",
   "metadata": {},
   "source": [
    "1. 위와 같은 데이터를 가져오고 데이터 로더 함수를 이용해 전처리를 해줍니다.\n",
    "2. tokenize 되어진 데이터의 길이 등을 분석한 뒤 train, test 데이터를 생성합니다.\n",
    "3. LSTM, MaxPooling, 1-D CNN 세가지 모델을 구성하여 모델을 훈련 합니다.\n",
    "4. Loss와 Accuracy 등을 시각화하여 보여주고 훈련 결과를 출력하였습니다.\n",
    "5. 학습된 Embedding 레이어를 성능을 확인하고 Word2Vec를 이용해 임베딩의 성능을 개선해줍니다."
   ]
  },
  {
   "cell_type": "markdown",
   "id": "economic-writing",
   "metadata": {},
   "source": [
    "### 결과 정리\n",
    "   * SentencePiece에서는 1-D CNN의 정확도가 가장 높았고, KoNLPy를 사용했을 때는 LSTM이 가장 정확도가 좋아서 이 모델에 Word2Vec을 적용하여 정확도를 구했다.\n",
    "   * 전체 결과는 아래와 같았고 Word2Vec과 같이 embedding을 건들지 않으면 **SentecePiece에 1-D CNN이 가장 성능이 좋았다**고 할 수 있겠다."
   ]
  },
  {
   "cell_type": "markdown",
   "id": "express-albany",
   "metadata": {},
   "source": [
    "||LSTM|MaxPooling|1-D CNN\n",
    "|------|-----|-----|----\n",
    "|SentencePiece|0.497|0.826|**0.851**\n",
    "|KoNLPy|**0.8406**|0.8264|0.8304\n",
    "|KoNLPy + Word2vec|**0.8493**|X|X"
   ]
  },
  {
   "cell_type": "markdown",
   "id": "careful-intelligence",
   "metadata": {},
   "source": [
    "#### Step 1...역경을 겪은 점\n",
    "1. LSTM 모델이 정확도가 너무 낮게 나와 parameter 수정을 하였지만 별 차이가 없어서 데이터부터 다시 확인하였었습니다. 결국엔 다른 모델을 도입하고서야 정확도가 정상적으로 (80% 이상) 나오게 되었는데 LSTM모델 연구를 더 해봐야 될 것 같습니다.\n",
    "2. label 있다는 점을 고려하지 않고 처음부터 분리하여 데이터 전처리 과정에서 다시 합쳐줬어야 했고,y 값을 array type으로 바꿔줘야 한다는 점을 고려 못했다는 점 역시 시간을 허비하게 하였었다."
   ]
  },
  {
   "cell_type": "markdown",
   "id": "classified-istanbul",
   "metadata": {},
   "source": [
    "#### Step 2...역경을 겪은 점\n",
    "\n",
    "1) 추가 분석에서는 지난 번에 해보지 못한 3가지 모델을 다 적용해 보며 최선의 모델을 찾아내려고 하였고 parameter 또한 몇몇 수정해보았습니다.  \n",
    "2) Word2Vec의 사용이 조금 헷갈리고 오류가 났었는데 gensim의 버전을 오히려 3.8로 낮춰주면서 라이브러리 사용에 오류를 제거 하였었다."
   ]
  }
 ],
 "metadata": {
  "kernelspec": {
   "display_name": "Python 3",
   "language": "python",
   "name": "python3"
  },
  "language_info": {
   "codemirror_mode": {
    "name": "ipython",
    "version": 3
   },
   "file_extension": ".py",
   "mimetype": "text/x-python",
   "name": "python",
   "nbconvert_exporter": "python",
   "pygments_lexer": "ipython3",
   "version": "3.7.9"
  }
 },
 "nbformat": 4,
 "nbformat_minor": 5
}
